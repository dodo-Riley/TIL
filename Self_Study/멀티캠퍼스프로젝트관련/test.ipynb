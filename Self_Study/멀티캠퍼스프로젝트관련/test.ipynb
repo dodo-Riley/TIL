{
 "cells": [
  {
   "cell_type": "code",
   "execution_count": 1,
   "id": "f8309362",
   "metadata": {
    "ExecuteTime": {
     "end_time": "2022-03-25T08:25:02.949418Z",
     "start_time": "2022-03-25T08:25:02.331115Z"
    }
   },
   "outputs": [],
   "source": [
    "import cv2\n",
    "import numpy as np"
   ]
  },
  {
   "cell_type": "code",
   "execution_count": 2,
   "id": "2845cb99",
   "metadata": {
    "ExecuteTime": {
     "end_time": "2022-03-25T08:25:26.245082Z",
     "start_time": "2022-03-25T08:25:24.394093Z"
    }
   },
   "outputs": [],
   "source": [
    "# Yolo 로드\n",
    "net = cv2.dnn.readNet(\"yolov3.weights\", \"yolov3.cfg\")\n",
    "classes = []\n",
    "with open(\"coco.names\", \"r\") as f:\n",
    "    classes = [line.strip() for line in f.readlines()]\n",
    "layer_names = net.getLayerNames()\n",
    "output_layers = [layer_names[i-1] for i in net.getUnconnectedOutLayers()]\n",
    "colors = np.random.uniform(0, 255, size=(len(classes), 3))"
   ]
  },
  {
   "cell_type": "code",
   "execution_count": 8,
   "id": "0aa646ae",
   "metadata": {
    "ExecuteTime": {
     "end_time": "2022-03-25T08:26:26.090161Z",
     "start_time": "2022-03-25T08:26:26.049186Z"
    }
   },
   "outputs": [],
   "source": [
    "# 이미지 가져오기\n",
    "img = cv2.imread(\"KakaoTalk_20210218_160143585_14.jpg\")\n",
    "# img = cv2.resize(img, None, fx=0.4, fy=0.4)\n",
    "height, width, channels = img.shape"
   ]
  },
  {
   "cell_type": "code",
   "execution_count": 9,
   "id": "cd316122",
   "metadata": {
    "ExecuteTime": {
     "end_time": "2022-03-25T08:26:29.385718Z",
     "start_time": "2022-03-25T08:26:28.024539Z"
    }
   },
   "outputs": [],
   "source": [
    "# Detecting objects\n",
    "blob = cv2.dnn.blobFromImage(img, 0.00392, (416, 416), (0, 0, 0), True, crop=False)\n",
    "net.setInput(blob)\n",
    "outs = net.forward(output_layers)"
   ]
  },
  {
   "cell_type": "code",
   "execution_count": 10,
   "id": "d92845d0",
   "metadata": {
    "ExecuteTime": {
     "end_time": "2022-03-25T08:26:29.526632Z",
     "start_time": "2022-03-25T08:26:29.419698Z"
    }
   },
   "outputs": [],
   "source": [
    "\n",
    "class_ids = []\n",
    "confidences = []\n",
    "boxes = []\n",
    "for out in outs:\n",
    "    for detection in out:\n",
    "        scores = detection[5:]\n",
    "        class_id = np.argmax(scores)\n",
    "        confidence = scores[class_id]\n",
    "        if confidence > 0.5:\n",
    "            # Object detected\n",
    "            center_x = int(detection[0] * width)\n",
    "            center_y = int(detection[1] * height)\n",
    "            w = int(detection[2] * width)\n",
    "            h = int(detection[3] * height)\n",
    "            # 좌표\n",
    "            x = int(center_x - w / 2)\n",
    "            y = int(center_y - h / 2)\n",
    "            boxes.append([x, y, w, h])\n",
    "            confidences.append(float(confidence))\n",
    "            class_ids.append(class_id)"
   ]
  },
  {
   "cell_type": "code",
   "execution_count": 11,
   "id": "2c4afffd",
   "metadata": {
    "ExecuteTime": {
     "end_time": "2022-03-25T08:26:29.573603Z",
     "start_time": "2022-03-25T08:26:29.559611Z"
    }
   },
   "outputs": [],
   "source": [
    "indexes = cv2.dnn.NMSBoxes(boxes, confidences, 0.5, 0.4)"
   ]
  },
  {
   "cell_type": "code",
   "execution_count": 12,
   "id": "f40be7ab",
   "metadata": {
    "ExecuteTime": {
     "end_time": "2022-03-25T08:26:34.855975Z",
     "start_time": "2022-03-25T08:26:29.608582Z"
    }
   },
   "outputs": [],
   "source": [
    "font = cv2.FONT_HERSHEY_PLAIN\n",
    "for i in range(len(boxes)):\n",
    "    if i in indexes:\n",
    "        x, y, w, h = boxes[i]\n",
    "        label = str(classes[class_ids[i]])\n",
    "        color = colors[i]\n",
    "        cv2.rectangle(img, (x, y), (x + w, y + h), color, 2)\n",
    "        cv2.putText(img, label, (x, y + 30), font, 3, color, 3)\n",
    "cv2.imshow(\"Image\", img)\n",
    "cv2.waitKey(0)\n",
    "cv2.destroyAllWindows()"
   ]
  },
  {
   "cell_type": "code",
   "execution_count": 13,
   "id": "d9680a0a",
   "metadata": {
    "ExecuteTime": {
     "end_time": "2022-03-25T08:26:39.294567Z",
     "start_time": "2022-03-25T08:26:39.281575Z"
    }
   },
   "outputs": [
    {
     "data": {
      "text/plain": [
       "[[517, 65, 612, 814],\n",
       " [462, 51, 728, 858],\n",
       " [511, 80, 626, 869],\n",
       " [451, 71, 762, 908]]"
      ]
     },
     "execution_count": 13,
     "metadata": {},
     "output_type": "execute_result"
    }
   ],
   "source": [
    "boxes\n",
    "# 좌표따서 나머지 어레이값 0으로 바꿔버리면 되겠는데...\n",
    "# 문제는 캔을 캔으로 인식 못시킴\n",
    "# 그럴려면 데이터 만들어서 학습다시 시켜야함\n",
    "# 바운딩박스+라벨 모든 데이터에 대해서 작업해줘야함\n",
    "# 이걸.....이제서야....하라고......라벨링하는프로그램도 resnet코드도 주신다고하고 안주시더니..."
   ]
  }
 ],
 "metadata": {
  "kernelspec": {
   "display_name": "Python 3 (ipykernel)",
   "language": "python",
   "name": "python3"
  },
  "language_info": {
   "codemirror_mode": {
    "name": "ipython",
    "version": 3
   },
   "file_extension": ".py",
   "mimetype": "text/x-python",
   "name": "python",
   "nbconvert_exporter": "python",
   "pygments_lexer": "ipython3",
   "version": "3.9.7"
  },
  "latex_envs": {
   "LaTeX_envs_menu_present": true,
   "autoclose": false,
   "autocomplete": true,
   "bibliofile": "biblio.bib",
   "cite_by": "apalike",
   "current_citInitial": 1,
   "eqLabelWithNumbers": true,
   "eqNumInitial": 1,
   "hotkeys": {
    "equation": "Ctrl-E",
    "itemize": "Ctrl-I"
   },
   "labels_anchors": false,
   "latex_user_defs": false,
   "report_style_numbering": false,
   "user_envs_cfg": false
  },
  "toc": {
   "base_numbering": 1,
   "nav_menu": {},
   "number_sections": true,
   "sideBar": true,
   "skip_h1_title": false,
   "title_cell": "Table of Contents",
   "title_sidebar": "Contents",
   "toc_cell": false,
   "toc_position": {},
   "toc_section_display": true,
   "toc_window_display": false
  },
  "varInspector": {
   "cols": {
    "lenName": 16,
    "lenType": 16,
    "lenVar": 40
   },
   "kernels_config": {
    "python": {
     "delete_cmd_postfix": "",
     "delete_cmd_prefix": "del ",
     "library": "var_list.py",
     "varRefreshCmd": "print(var_dic_list())"
    },
    "r": {
     "delete_cmd_postfix": ") ",
     "delete_cmd_prefix": "rm(",
     "library": "var_list.r",
     "varRefreshCmd": "cat(var_dic_list()) "
    }
   },
   "types_to_exclude": [
    "module",
    "function",
    "builtin_function_or_method",
    "instance",
    "_Feature"
   ],
   "window_display": false
  }
 },
 "nbformat": 4,
 "nbformat_minor": 5
}
