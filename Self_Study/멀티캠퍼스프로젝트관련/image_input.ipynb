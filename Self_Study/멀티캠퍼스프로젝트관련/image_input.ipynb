{
 "cells": [
  {
   "cell_type": "code",
   "execution_count": null,
   "id": "e6d477fc",
   "metadata": {
    "id": "e6d477fc"
   },
   "outputs": [],
   "source": [
    "import cv2\n",
    "import sys"
   ]
  },
  {
   "cell_type": "code",
   "execution_count": null,
   "id": "2894028f",
   "metadata": {
    "id": "2894028f"
   },
   "outputs": [],
   "source": [
    "cap = cv2.VideoCapture(0)\n",
    "# cap.set(cv2.CAP_PROP_FRAME_WIDTH, 256) # 가로\n",
    "# cap.set(cv2.CAP_PROP_FRAME_HEIGHT, 256) # 세로\n",
    "\n",
    "if not cap.isOpened():\n",
    "    print('video capture failed')\n",
    "    sys.exit()\n",
    "    \n",
    "while True: \n",
    "    ret, frame = cap.read()\n",
    "        \n",
    "    if not ret:\n",
    "        print('videos read failed')\n",
    "        break\n",
    "    \n",
    "    cv2.imshow(\"camera\",frame) #프레임 이미지 표시 \n",
    "    \n",
    "    if cv2.waitKey(20) == ord('s'):\n",
    "        cv2.imwrite(\"./photo.jpg\",frame) \n",
    "        break \n",
    "            \n",
    "cap.release()\n",
    "cv2.destroyAllWindows()\n",
    "\n",
    "# 아예 사이즈 지정해서 읽는건 안됨. 웹캠에 따라 비율이 고정된듯"
   ]
  },
  {
   "cell_type": "code",
   "execution_count": null,
   "id": "8eab782a",
   "metadata": {
    "id": "8eab782a"
   },
   "outputs": [],
   "source": [
    "# 따라서 저장하고나서 모델 인풋 사이즈에 맞게 리사이즈 시켜야함\n",
    "def input_making(img_path, input_size):\n",
    "  img = cv2.imread(img_path)\n",
    "  img = cv2.cvtColor(img, cv2.COLOR_BGR2RGB)\n",
    "  img = cv2.resize(img,input_size)/255.0\n",
    "  img = img.reshape((1,)+img.shape)\n",
    "  return img"
   ]
  },
  {
   "cell_type": "code",
   "execution_count": null,
   "id": "GO2d9rmrIVTj",
   "metadata": {
    "id": "GO2d9rmrIVTj"
   },
   "outputs": [],
   "source": [
    "# 모델 파일 불러와서 예측 수행\n",
    "from keras.models import load_model\n",
    "model = load_model('./송종호/VGG16_transfer.h5')\n",
    "pred = model.predict(img)"
   ]
  },
  {
   "cell_type": "code",
   "execution_count": 10,
   "id": "8_9arc3OLId2",
   "metadata": {
    "ExecuteTime": {
     "end_time": "2022-03-21T11:52:20.348570Z",
     "start_time": "2022-03-21T11:52:20.337576Z"
    },
    "executionInfo": {
     "elapsed": 5,
     "status": "ok",
     "timestamp": 1647844338664,
     "user": {
      "displayName": "송종호",
      "photoUrl": "https://lh3.googleusercontent.com/a-/AOh14Ggw9AtKSIFJsDxvVfGveri4440iMF0PN91N6_8RwA=s64",
      "userId": "03405166047213017267"
     },
     "user_tz": -540
    },
    "id": "8_9arc3OLId2"
   },
   "outputs": [
    {
     "data": {
      "text/plain": [
       "'스프라이트'"
      ]
     },
     "execution_count": 10,
     "metadata": {},
     "output_type": "execute_result"
    }
   ],
   "source": [
    "# 인덱스로 상품명 추출\n",
    "import numpy as np\n",
    "class_dict = {0:'갈아만든배',\n",
    "             1:'레쓰비',\n",
    "             2:'마운틴듀',\n",
    "             3:'밀키스',\n",
    "             4:'스프라이트',\n",
    "             5:'칠성사이다',\n",
    "             6:'코카콜라',\n",
    "             7:'트로피카나망고',\n",
    "             8:'펩시콜라',\n",
    "             9:'환타오렌지'}\n",
    "\n",
    "pred_class = class_dict[np.argmax(pred,axis=1)[0]]\n",
    "pred_class"
   ]
  },
  {
   "cell_type": "code",
   "execution_count": null,
   "id": "Ugc32BhtLQ2Q",
   "metadata": {
    "id": "Ugc32BhtLQ2Q"
   },
   "outputs": [],
   "source": [
    "# 상품명을 카카오 api로 전달"
   ]
  }
 ],
 "metadata": {
  "colab": {
   "collapsed_sections": [],
   "name": "image_input.ipynb",
   "provenance": []
  },
  "kernelspec": {
   "display_name": "Python 3 (ipykernel)",
   "language": "python",
   "name": "python3"
  },
  "language_info": {
   "codemirror_mode": {
    "name": "ipython",
    "version": 3
   },
   "file_extension": ".py",
   "mimetype": "text/x-python",
   "name": "python",
   "nbconvert_exporter": "python",
   "pygments_lexer": "ipython3",
   "version": "3.9.7"
  },
  "latex_envs": {
   "LaTeX_envs_menu_present": true,
   "autoclose": false,
   "autocomplete": true,
   "bibliofile": "biblio.bib",
   "cite_by": "apalike",
   "current_citInitial": 1,
   "eqLabelWithNumbers": true,
   "eqNumInitial": 1,
   "hotkeys": {
    "equation": "Ctrl-E",
    "itemize": "Ctrl-I"
   },
   "labels_anchors": false,
   "latex_user_defs": false,
   "report_style_numbering": false,
   "user_envs_cfg": false
  },
  "toc": {
   "base_numbering": 1,
   "nav_menu": {},
   "number_sections": true,
   "sideBar": true,
   "skip_h1_title": false,
   "title_cell": "Table of Contents",
   "title_sidebar": "Contents",
   "toc_cell": false,
   "toc_position": {},
   "toc_section_display": true,
   "toc_window_display": false
  },
  "varInspector": {
   "cols": {
    "lenName": 16,
    "lenType": 16,
    "lenVar": 40
   },
   "kernels_config": {
    "python": {
     "delete_cmd_postfix": "",
     "delete_cmd_prefix": "del ",
     "library": "var_list.py",
     "varRefreshCmd": "print(var_dic_list())"
    },
    "r": {
     "delete_cmd_postfix": ") ",
     "delete_cmd_prefix": "rm(",
     "library": "var_list.r",
     "varRefreshCmd": "cat(var_dic_list()) "
    }
   },
   "types_to_exclude": [
    "module",
    "function",
    "builtin_function_or_method",
    "instance",
    "_Feature"
   ],
   "window_display": false
  }
 },
 "nbformat": 4,
 "nbformat_minor": 5
}
