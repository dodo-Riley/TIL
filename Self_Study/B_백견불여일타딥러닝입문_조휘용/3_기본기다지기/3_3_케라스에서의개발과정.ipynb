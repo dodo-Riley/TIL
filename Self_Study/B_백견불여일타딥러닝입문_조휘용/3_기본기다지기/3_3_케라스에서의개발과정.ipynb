{
 "cells": [
  {
   "cell_type": "markdown",
   "id": "98cfca69",
   "metadata": {
    "ExecuteTime": {
     "end_time": "2022-03-10T13:46:01.737651Z",
     "start_time": "2022-03-10T13:46:01.724659Z"
    }
   },
   "source": [
    "# Sequential()을 이용한 모델 구성"
   ]
  },
  {
   "cell_type": "code",
   "execution_count": null,
   "id": "0dfbb7a2",
   "metadata": {},
   "outputs": [],
   "source": [
    "from tensorflow.keras.models import Sequential\n",
    "from tensorflow.keras.layers import Dense\n",
    "\n",
    "# 모델 구성\n",
    "model = Sequential() # 시퀀셜 객체 생성\n",
    "model.add(Dense(32, # 은닉층의 출력 노드 수\n",
    "               input_shape=(2,2), # 입력값의 형태, 가장 처음에만 입력함\n",
    "               activation = 'relu')) # 활성화 함수 지정\n",
    "model.add(Dense(1,activation='sigmoid'))"
   ]
  },
  {
   "cell_type": "markdown",
   "id": "1f9d88b5",
   "metadata": {
    "ExecuteTime": {
     "end_time": "2022-03-10T13:49:04.404309Z",
     "start_time": "2022-03-10T13:49:04.386320Z"
    }
   },
   "source": [
    "# 모델 컴파일"
   ]
  },
  {
   "cell_type": "code",
   "execution_count": null,
   "id": "4446dff2",
   "metadata": {},
   "outputs": [],
   "source": [
    "model.compile(loss='binary_crossentropy', # 오차함수\n",
    "             optimizer='adam', # 최적화함수\n",
    "             metrics=['accuracy']) # 평가지표\n",
    "\n",
    "# 오차함수는 mse, categorical_crossentropy 등, 문자열이나 함수로 지정\n",
    "# 최적화함수는 adam, sgd 등, 문자열이나 함수로 지정\n",
    "# 평가지표는 리스트로 지정해주어야함"
   ]
  },
  {
   "cell_type": "markdown",
   "id": "ea31edc0",
   "metadata": {
    "ExecuteTime": {
     "end_time": "2022-03-10T13:51:27.620524Z",
     "start_time": "2022-03-10T13:51:27.602537Z"
    }
   },
   "source": [
    "# 모델 학습"
   ]
  },
  {
   "cell_type": "code",
   "execution_count": null,
   "id": "c14d5958",
   "metadata": {},
   "outputs": [],
   "source": [
    "model.fit(data, # 학습 데이터\n",
    "          label, # 학습 타겟\n",
    "          epochs=100, # 반복 횟수\n",
    "          batch_size=10, # 배치 사이즈, 한번에 몇개의 데이터로 학습할지\n",
    "          validation_Data=(val_data, val_label)) # 검증 데이터 지정"
   ]
  },
  {
   "cell_type": "markdown",
   "id": "b24f7008",
   "metadata": {
    "ExecuteTime": {
     "end_time": "2022-03-10T13:53:15.367418Z",
     "start_time": "2022-03-10T13:53:15.353426Z"
    }
   },
   "source": [
    "# 모델 평가 및 예측"
   ]
  },
  {
   "cell_type": "code",
   "execution_count": null,
   "id": "5e64c174",
   "metadata": {},
   "outputs": [],
   "source": [
    "model.evaluate(data,label) # 평가\n",
    "model.predict(data) # 예측"
   ]
  }
 ],
 "metadata": {
  "kernelspec": {
   "display_name": "Python 3 (ipykernel)",
   "language": "python",
   "name": "python3"
  },
  "language_info": {
   "codemirror_mode": {
    "name": "ipython",
    "version": 3
   },
   "file_extension": ".py",
   "mimetype": "text/x-python",
   "name": "python",
   "nbconvert_exporter": "python",
   "pygments_lexer": "ipython3",
   "version": "3.9.7"
  },
  "latex_envs": {
   "LaTeX_envs_menu_present": true,
   "autoclose": false,
   "autocomplete": true,
   "bibliofile": "biblio.bib",
   "cite_by": "apalike",
   "current_citInitial": 1,
   "eqLabelWithNumbers": true,
   "eqNumInitial": 1,
   "hotkeys": {
    "equation": "Ctrl-E",
    "itemize": "Ctrl-I"
   },
   "labels_anchors": false,
   "latex_user_defs": false,
   "report_style_numbering": false,
   "user_envs_cfg": false
  },
  "toc": {
   "base_numbering": 1,
   "nav_menu": {},
   "number_sections": true,
   "sideBar": true,
   "skip_h1_title": false,
   "title_cell": "Table of Contents",
   "title_sidebar": "Contents",
   "toc_cell": false,
   "toc_position": {},
   "toc_section_display": true,
   "toc_window_display": false
  },
  "varInspector": {
   "cols": {
    "lenName": 16,
    "lenType": 16,
    "lenVar": 40
   },
   "kernels_config": {
    "python": {
     "delete_cmd_postfix": "",
     "delete_cmd_prefix": "del ",
     "library": "var_list.py",
     "varRefreshCmd": "print(var_dic_list())"
    },
    "r": {
     "delete_cmd_postfix": ") ",
     "delete_cmd_prefix": "rm(",
     "library": "var_list.r",
     "varRefreshCmd": "cat(var_dic_list()) "
    }
   },
   "types_to_exclude": [
    "module",
    "function",
    "builtin_function_or_method",
    "instance",
    "_Feature"
   ],
   "window_display": false
  }
 },
 "nbformat": 4,
 "nbformat_minor": 5
}
