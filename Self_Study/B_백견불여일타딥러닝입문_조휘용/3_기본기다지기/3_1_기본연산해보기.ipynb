{
 "cells": [
  {
   "cell_type": "markdown",
   "id": "f80db355",
   "metadata": {
    "ExecuteTime": {
     "end_time": "2022-03-10T12:41:29.379572Z",
     "start_time": "2022-03-10T12:41:29.363581Z"
    }
   },
   "source": [
    "# 텐서의 차원과 기본 연산"
   ]
  },
  {
   "cell_type": "code",
   "execution_count": 2,
   "id": "90787a8b",
   "metadata": {
    "ExecuteTime": {
     "end_time": "2022-03-10T12:42:30.866521Z",
     "start_time": "2022-03-10T12:42:17.585948Z"
    }
   },
   "outputs": [
    {
     "name": "stdout",
     "output_type": "stream",
     "text": [
      "tf.Tensor(0, shape=(), dtype=int32)\n"
     ]
    }
   ],
   "source": [
    "import tensorflow as tf\n",
    "\n",
    "a = tf.constant(2) \n",
    "print(tf.rank(a)) # 텐서의 랭크는 곧 넘바이 배열의 차원"
   ]
  },
  {
   "cell_type": "code",
   "execution_count": 3,
   "id": "db7cdb45",
   "metadata": {
    "ExecuteTime": {
     "end_time": "2022-03-10T12:43:35.328761Z",
     "start_time": "2022-03-10T12:43:35.313770Z"
    }
   },
   "outputs": [
    {
     "name": "stdout",
     "output_type": "stream",
     "text": [
      "tf.Tensor(1, shape=(), dtype=int32)\n"
     ]
    }
   ],
   "source": [
    "b = tf.constant([1,2])\n",
    "print(tf.rank(b))"
   ]
  },
  {
   "cell_type": "code",
   "execution_count": 4,
   "id": "0c5c0404",
   "metadata": {
    "ExecuteTime": {
     "end_time": "2022-03-10T12:43:58.194060Z",
     "start_time": "2022-03-10T12:43:58.178070Z"
    }
   },
   "outputs": [
    {
     "name": "stdout",
     "output_type": "stream",
     "text": [
      "tf.Tensor(2, shape=(), dtype=int32)\n"
     ]
    }
   ],
   "source": [
    "c = tf.constant([[1,2],[3,4]])\n",
    "print(tf.rank(c))"
   ]
  },
  {
   "cell_type": "markdown",
   "id": "8018ae9c",
   "metadata": {
    "ExecuteTime": {
     "end_time": "2022-03-10T12:44:21.158948Z",
     "start_time": "2022-03-10T12:44:21.155951Z"
    }
   },
   "source": [
    "# 즉시 실행 모드를 통한 연산"
   ]
  },
  {
   "cell_type": "code",
   "execution_count": 6,
   "id": "629ac01d",
   "metadata": {
    "ExecuteTime": {
     "end_time": "2022-03-10T12:47:10.115592Z",
     "start_time": "2022-03-10T12:47:10.083612Z"
    }
   },
   "outputs": [
    {
     "name": "stdout",
     "output_type": "stream",
     "text": [
      "tf.Tensor(5, shape=(), dtype=int32)\n",
      "tf.Tensor(1, shape=(), dtype=int32)\n",
      "6\n",
      "1.5\n"
     ]
    }
   ],
   "source": [
    "import tensorflow as tf\n",
    "import numpy as np\n",
    "\n",
    "# 0 랭크 텐서 생성\n",
    "a = tf.constant(3)\n",
    "b = tf.constant(2)\n",
    "\n",
    "# 사칙연산\n",
    "print(tf.add(a,b))  # 덧셈\n",
    "print(tf.subtract(a,b)) # 뺄셈\n",
    "print(tf.multiply(a,b).numpy()) # 곱셈, np.array 형태로 출력\n",
    "print(tf.divide(a,b).numpy()) # 나눗셈, np.array 형태로 출력"
   ]
  },
  {
   "cell_type": "markdown",
   "id": "0a5a4cab",
   "metadata": {
    "ExecuteTime": {
     "end_time": "2022-03-10T12:47:41.442570Z",
     "start_time": "2022-03-10T12:47:41.431576Z"
    }
   },
   "source": [
    "# 텐서/넘파이 배열 간 변환"
   ]
  },
  {
   "cell_type": "code",
   "execution_count": 9,
   "id": "940ec728",
   "metadata": {
    "ExecuteTime": {
     "end_time": "2022-03-10T12:49:58.603633Z",
     "start_time": "2022-03-10T12:49:58.590642Z"
    }
   },
   "outputs": [
    {
     "name": "stdout",
     "output_type": "stream",
     "text": [
      "numpy array : 5.0, applying square with numpy : 25.0, convert_to_tensor : 25.0\n"
     ]
    }
   ],
   "source": [
    "c = tf.add(a,b).numpy() # 텐서 > 넘파이 배열\n",
    "c_square = np.square(c, dtype=np.float32) # 넘파이 배열에 함수 적용\n",
    "c_tensor = tf.convert_to_tensor(c_square) # 넘파이 배열 > 텐서\n",
    "\n",
    "print('numpy array : %.1f, applying square with numpy : %.1f, convert_to_tensor : %.1f'\n",
    "     % (c,c_square,c_tensor))"
   ]
  },
  {
   "cell_type": "markdown",
   "id": "5598977a",
   "metadata": {
    "ExecuteTime": {
     "end_time": "2022-03-10T12:51:56.904991Z",
     "start_time": "2022-03-10T12:51:56.895997Z"
    }
   },
   "source": [
    "# 수학과 관련된 텐서플로우 모듈"
   ]
  },
  {
   "cell_type": "code",
   "execution_count": null,
   "id": "89feb403",
   "metadata": {},
   "outputs": [],
   "source": [
    "# 수학과 관련된 모듈\n",
    "from tensorflow.math import sin, cos, tanh\n",
    "# 선형대수학과 관련된 모듈\n",
    "from tensorflow.linalg import diag, svd, matrix_transpose"
   ]
  },
  {
   "cell_type": "markdown",
   "id": "dcbd3a1f",
   "metadata": {
    "ExecuteTime": {
     "end_time": "2022-03-10T12:53:55.435622Z",
     "start_time": "2022-03-10T12:53:55.421631Z"
    }
   },
   "source": [
    "# @tf.function"
   ]
  },
  {
   "cell_type": "code",
   "execution_count": 14,
   "id": "28b8b2e7",
   "metadata": {
    "ExecuteTime": {
     "end_time": "2022-03-10T12:56:38.051077Z",
     "start_time": "2022-03-10T12:56:38.028091Z"
    }
   },
   "outputs": [
    {
     "name": "stdout",
     "output_type": "stream",
     "text": [
      "tf.Tensor(4, shape=(), dtype=int32)\n"
     ]
    },
    {
     "data": {
      "text/plain": [
       "<function __main__.square_pos(x)>"
      ]
     },
     "execution_count": 14,
     "metadata": {},
     "output_type": "execute_result"
    }
   ],
   "source": [
    "# 일반적인 파이썬 함수 정의\n",
    "def square_pos(x):\n",
    "    if x >0:\n",
    "        x = x*x\n",
    "    else:\n",
    "        x = x*-1\n",
    "    return x\n",
    "\n",
    "print(square_pos(tf.constant(2)))\n",
    "square_pos"
   ]
  },
  {
   "cell_type": "code",
   "execution_count": 15,
   "id": "4fa3c312",
   "metadata": {
    "ExecuteTime": {
     "end_time": "2022-03-10T12:56:43.921646Z",
     "start_time": "2022-03-10T12:56:43.836350Z"
    }
   },
   "outputs": [
    {
     "name": "stdout",
     "output_type": "stream",
     "text": [
      "tf.Tensor(4, shape=(), dtype=int32)\n"
     ]
    },
    {
     "data": {
      "text/plain": [
       "<tensorflow.python.eager.def_function.Function at 0x1f13086dd30>"
      ]
     },
     "execution_count": 15,
     "metadata": {},
     "output_type": "execute_result"
    }
   ],
   "source": [
    "# @tf.function을 사용한 함수 정의\n",
    "@tf.function\n",
    "def square_pos(x):\n",
    "    if x >0:\n",
    "        x = x*x\n",
    "    else:\n",
    "        x = x*-1\n",
    "    return x\n",
    "\n",
    "print(square_pos(tf.constant(2)))\n",
    "square_pos"
   ]
  }
 ],
 "metadata": {
  "kernelspec": {
   "display_name": "Python 3 (ipykernel)",
   "language": "python",
   "name": "python3"
  },
  "language_info": {
   "codemirror_mode": {
    "name": "ipython",
    "version": 3
   },
   "file_extension": ".py",
   "mimetype": "text/x-python",
   "name": "python",
   "nbconvert_exporter": "python",
   "pygments_lexer": "ipython3",
   "version": "3.9.7"
  },
  "latex_envs": {
   "LaTeX_envs_menu_present": true,
   "autoclose": false,
   "autocomplete": true,
   "bibliofile": "biblio.bib",
   "cite_by": "apalike",
   "current_citInitial": 1,
   "eqLabelWithNumbers": true,
   "eqNumInitial": 1,
   "hotkeys": {
    "equation": "Ctrl-E",
    "itemize": "Ctrl-I"
   },
   "labels_anchors": false,
   "latex_user_defs": false,
   "report_style_numbering": false,
   "user_envs_cfg": false
  },
  "toc": {
   "base_numbering": 1,
   "nav_menu": {},
   "number_sections": true,
   "sideBar": true,
   "skip_h1_title": false,
   "title_cell": "Table of Contents",
   "title_sidebar": "Contents",
   "toc_cell": false,
   "toc_position": {},
   "toc_section_display": true,
   "toc_window_display": true
  },
  "varInspector": {
   "cols": {
    "lenName": 16,
    "lenType": 16,
    "lenVar": 40
   },
   "kernels_config": {
    "python": {
     "delete_cmd_postfix": "",
     "delete_cmd_prefix": "del ",
     "library": "var_list.py",
     "varRefreshCmd": "print(var_dic_list())"
    },
    "r": {
     "delete_cmd_postfix": ") ",
     "delete_cmd_prefix": "rm(",
     "library": "var_list.r",
     "varRefreshCmd": "cat(var_dic_list()) "
    }
   },
   "types_to_exclude": [
    "module",
    "function",
    "builtin_function_or_method",
    "instance",
    "_Feature"
   ],
   "window_display": false
  }
 },
 "nbformat": 4,
 "nbformat_minor": 5
}
