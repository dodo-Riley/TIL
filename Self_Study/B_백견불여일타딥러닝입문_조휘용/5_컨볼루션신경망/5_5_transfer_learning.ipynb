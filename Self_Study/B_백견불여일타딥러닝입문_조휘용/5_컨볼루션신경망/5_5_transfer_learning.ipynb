{
 "cells": [
  {
   "cell_type": "markdown",
   "id": "13eba685",
   "metadata": {},
   "source": [
    "# 라이브러리 및 모듈 호출"
   ]
  },
  {
   "cell_type": "code",
   "execution_count": 11,
   "id": "f49c7738",
   "metadata": {
    "ExecuteTime": {
     "end_time": "2022-04-04T14:09:09.069099Z",
     "start_time": "2022-04-04T14:09:07.121050Z"
    }
   },
   "outputs": [],
   "source": [
    "from tensorflow.keras.datasets import cifar10\n",
    "import numpy as np\n",
    "from sklearn.model_selection import train_test_split\n",
    "from tensorflow.keras.preprocessing.image import ImageDataGenerator\n",
    "from tensorflow.keras.models import Sequential\n",
    "from tensorflow.keras.layers import Conv2D, MaxPool2D, Dense, Flatten, BatchNormalization, Activation\n",
    "from tensorflow.keras.optimizers import Adam\n",
    "from tensorflow.keras.applications import VGG16\n",
    "import matplotlib.pyplot as plt"
   ]
  },
  {
   "cell_type": "markdown",
   "id": "0b3f0170",
   "metadata": {},
   "source": [
    "# 데이터 준비"
   ]
  },
  {
   "cell_type": "code",
   "execution_count": 2,
   "id": "dc83ebc2",
   "metadata": {
    "ExecuteTime": {
     "end_time": "2022-04-04T13:49:15.700475Z",
     "start_time": "2022-04-04T13:49:11.365684Z"
    }
   },
   "outputs": [],
   "source": [
    "(x_train, y_train), (x_test, y_test) = cifar10.load_data()\n",
    "\n",
    "x_mean = np.mean(x_train, axis = (0, 1, 2))\n",
    "x_std = np.std(x_train, axis = (0, 1, 2))\n",
    "\n",
    "x_train = (x_train - x_mean) / x_std\n",
    "x_test = (x_test - x_mean) / x_std\n",
    "\n",
    "x_train, x_val, y_train, y_val = train_test_split(x_train, y_train, test_size = 0.3, random_state = 777)\n",
    "\n",
    "# sparse_categorical_crossentropy를 사용하기 위해선 (batch_size, ) 형태를 가져야함\n",
    "y_train = np.squeeze(y_train)\n",
    "y_val = np.squeeze(y_val)"
   ]
  },
  {
   "cell_type": "markdown",
   "id": "16df85f4",
   "metadata": {},
   "source": [
    "# 이미지 제너레이터"
   ]
  },
  {
   "cell_type": "code",
   "execution_count": 4,
   "id": "65d4cf70",
   "metadata": {
    "ExecuteTime": {
     "end_time": "2022-04-04T13:49:58.676253Z",
     "start_time": "2022-04-04T13:49:58.426229Z"
    }
   },
   "outputs": [],
   "source": [
    "batch_size = 32\n",
    "\n",
    "train_datagen = ImageDataGenerator(horizontal_flip = True,\n",
    "                                   zoom_range = 0.2,\n",
    "                                   width_shift_range = 0.1,\n",
    "                                   height_shift_range = 0.1,\n",
    "                                   rotation_range = 30,\n",
    "                                   fill_mode = 'nearest')\n",
    "\n",
    "train_generator = train_datagen.flow(x_train, y_train, batch_size = batch_size)\n",
    "\n",
    "val_datagen = ImageDataGenerator()\n",
    "val_generator = val_datagen.flow(x_val, y_val,batch_size = batch_size)"
   ]
  },
  {
   "cell_type": "markdown",
   "id": "d1d23a2d",
   "metadata": {},
   "source": [
    "# VGG16 모델 구성 확인"
   ]
  },
  {
   "cell_type": "code",
   "execution_count": 6,
   "id": "65db3777",
   "metadata": {
    "ExecuteTime": {
     "end_time": "2022-04-04T13:50:54.396558Z",
     "start_time": "2022-04-04T13:50:49.098130Z"
    }
   },
   "outputs": [
    {
     "name": "stdout",
     "output_type": "stream",
     "text": [
      "Model: \"vgg16\"\n",
      "_________________________________________________________________\n",
      " Layer (type)                Output Shape              Param #   \n",
      "=================================================================\n",
      " input_1 (InputLayer)        [(None, 32, 32, 3)]       0         \n",
      "                                                                 \n",
      " block1_conv1 (Conv2D)       (None, 32, 32, 64)        1792      \n",
      "                                                                 \n",
      " block1_conv2 (Conv2D)       (None, 32, 32, 64)        36928     \n",
      "                                                                 \n",
      " block1_pool (MaxPooling2D)  (None, 16, 16, 64)        0         \n",
      "                                                                 \n",
      " block2_conv1 (Conv2D)       (None, 16, 16, 128)       73856     \n",
      "                                                                 \n",
      " block2_conv2 (Conv2D)       (None, 16, 16, 128)       147584    \n",
      "                                                                 \n",
      " block2_pool (MaxPooling2D)  (None, 8, 8, 128)         0         \n",
      "                                                                 \n",
      " block3_conv1 (Conv2D)       (None, 8, 8, 256)         295168    \n",
      "                                                                 \n",
      " block3_conv2 (Conv2D)       (None, 8, 8, 256)         590080    \n",
      "                                                                 \n",
      " block3_conv3 (Conv2D)       (None, 8, 8, 256)         590080    \n",
      "                                                                 \n",
      " block3_pool (MaxPooling2D)  (None, 4, 4, 256)         0         \n",
      "                                                                 \n",
      " block4_conv1 (Conv2D)       (None, 4, 4, 512)         1180160   \n",
      "                                                                 \n",
      " block4_conv2 (Conv2D)       (None, 4, 4, 512)         2359808   \n",
      "                                                                 \n",
      " block4_conv3 (Conv2D)       (None, 4, 4, 512)         2359808   \n",
      "                                                                 \n",
      " block4_pool (MaxPooling2D)  (None, 2, 2, 512)         0         \n",
      "                                                                 \n",
      " block5_conv1 (Conv2D)       (None, 2, 2, 512)         2359808   \n",
      "                                                                 \n",
      " block5_conv2 (Conv2D)       (None, 2, 2, 512)         2359808   \n",
      "                                                                 \n",
      " block5_conv3 (Conv2D)       (None, 2, 2, 512)         2359808   \n",
      "                                                                 \n",
      " block5_pool (MaxPooling2D)  (None, 1, 1, 512)         0         \n",
      "                                                                 \n",
      "=================================================================\n",
      "Total params: 14,714,688\n",
      "Trainable params: 14,714,688\n",
      "Non-trainable params: 0\n",
      "_________________________________________________________________\n"
     ]
    }
   ],
   "source": [
    "vgg16 = VGG16(weights = 'imagenet', input_shape = (32, 32, 3), include_top = False)\n",
    "vgg16.summary()"
   ]
  },
  {
   "cell_type": "markdown",
   "id": "c391d7a6",
   "metadata": {},
   "source": [
    "# 모델 구성"
   ]
  },
  {
   "cell_type": "code",
   "execution_count": 7,
   "id": "a34804d1",
   "metadata": {
    "ExecuteTime": {
     "end_time": "2022-04-04T13:52:51.598479Z",
     "start_time": "2022-04-04T13:52:51.473554Z"
    }
   },
   "outputs": [
    {
     "name": "stdout",
     "output_type": "stream",
     "text": [
      "Model: \"sequential\"\n",
      "_________________________________________________________________\n",
      " Layer (type)                Output Shape              Param #   \n",
      "=================================================================\n",
      " vgg16 (Functional)          (None, 1, 1, 512)         14714688  \n",
      "                                                                 \n",
      " flatten (Flatten)           (None, 512)               0         \n",
      "                                                                 \n",
      " dense (Dense)               (None, 256)               131328    \n",
      "                                                                 \n",
      " batch_normalization (BatchN  (None, 256)              1024      \n",
      " ormalization)                                                   \n",
      "                                                                 \n",
      " activation (Activation)     (None, 256)               0         \n",
      "                                                                 \n",
      " dense_1 (Dense)             (None, 10)                2570      \n",
      "                                                                 \n",
      "=================================================================\n",
      "Total params: 14,849,610\n",
      "Trainable params: 7,213,834\n",
      "Non-trainable params: 7,635,776\n",
      "_________________________________________________________________\n"
     ]
    }
   ],
   "source": [
    "# 끝의 4개의 층만 동결 해제\n",
    "for layer in vgg16.layers[:-4]:\n",
    "    layer.trainable = False\n",
    "    \n",
    "model = Sequential()\n",
    "model.add(vgg16)\n",
    "\n",
    "# 분류기 정의\n",
    "model.add(Flatten())\n",
    "model.add(Dense(256))\n",
    "model.add(BatchNormalization())\n",
    "model.add(Activation('relu'))\n",
    "model.add(Dense(10, activation = 'softmax'))\n",
    "model.summary()"
   ]
  },
  {
   "cell_type": "markdown",
   "id": "1d267c6e",
   "metadata": {},
   "source": [
    "# 모델 컴파일 및 학습"
   ]
  },
  {
   "cell_type": "code",
   "execution_count": 9,
   "id": "f1761e5c",
   "metadata": {
    "ExecuteTime": {
     "end_time": "2022-04-04T14:08:47.237598Z",
     "start_time": "2022-04-04T13:56:46.683786Z"
    }
   },
   "outputs": [
    {
     "name": "stdout",
     "output_type": "stream",
     "text": [
      "Epoch 1/20\n",
      "1094/1094 [==============================] - 37s 33ms/step - loss: 0.7199 - acc: 0.7470 - val_loss: 0.8113 - val_acc: 0.7300\n",
      "Epoch 2/20\n",
      "1094/1094 [==============================] - 36s 33ms/step - loss: 0.6993 - acc: 0.7552 - val_loss: 0.7023 - val_acc: 0.7567\n",
      "Epoch 3/20\n",
      "1094/1094 [==============================] - 36s 33ms/step - loss: 0.6745 - acc: 0.7629 - val_loss: 0.6847 - val_acc: 0.7692\n",
      "Epoch 4/20\n",
      "1094/1094 [==============================] - 36s 33ms/step - loss: 0.6411 - acc: 0.7750 - val_loss: 0.7321 - val_acc: 0.7521\n",
      "Epoch 5/20\n",
      "1094/1094 [==============================] - 36s 33ms/step - loss: 0.6222 - acc: 0.7816 - val_loss: 0.7143 - val_acc: 0.7631\n",
      "Epoch 6/20\n",
      "1094/1094 [==============================] - 36s 33ms/step - loss: 0.5966 - acc: 0.7914 - val_loss: 0.6572 - val_acc: 0.7743\n",
      "Epoch 7/20\n",
      "1094/1094 [==============================] - 37s 33ms/step - loss: 0.5726 - acc: 0.8010 - val_loss: 0.6657 - val_acc: 0.7783\n",
      "Epoch 8/20\n",
      "1094/1094 [==============================] - 36s 33ms/step - loss: 0.5668 - acc: 0.8011 - val_loss: 0.6699 - val_acc: 0.7725\n",
      "Epoch 9/20\n",
      "1094/1094 [==============================] - 36s 33ms/step - loss: 0.5409 - acc: 0.8095 - val_loss: 0.6896 - val_acc: 0.7739\n",
      "Epoch 10/20\n",
      "1094/1094 [==============================] - 36s 33ms/step - loss: 0.5248 - acc: 0.8156 - val_loss: 0.7032 - val_acc: 0.7684\n",
      "Epoch 11/20\n",
      "1094/1094 [==============================] - 36s 33ms/step - loss: 0.5047 - acc: 0.8213 - val_loss: 0.6696 - val_acc: 0.7819\n",
      "Epoch 12/20\n",
      "1094/1094 [==============================] - 36s 33ms/step - loss: 0.4856 - acc: 0.8296 - val_loss: 0.6522 - val_acc: 0.7815\n",
      "Epoch 13/20\n",
      "1094/1094 [==============================] - 36s 33ms/step - loss: 0.4714 - acc: 0.8322 - val_loss: 0.6650 - val_acc: 0.7831\n",
      "Epoch 14/20\n",
      "1094/1094 [==============================] - 36s 33ms/step - loss: 0.4517 - acc: 0.8410 - val_loss: 0.7018 - val_acc: 0.7783\n",
      "Epoch 15/20\n",
      "1094/1094 [==============================] - 36s 33ms/step - loss: 0.4383 - acc: 0.8454 - val_loss: 0.6593 - val_acc: 0.7868\n",
      "Epoch 16/20\n",
      "1094/1094 [==============================] - 36s 33ms/step - loss: 0.4277 - acc: 0.8492 - val_loss: 0.7536 - val_acc: 0.7687\n",
      "Epoch 17/20\n",
      "1094/1094 [==============================] - 36s 33ms/step - loss: 0.4105 - acc: 0.8562 - val_loss: 0.6379 - val_acc: 0.7939\n",
      "Epoch 18/20\n",
      "1094/1094 [==============================] - 36s 33ms/step - loss: 0.4007 - acc: 0.8577 - val_loss: 0.7108 - val_acc: 0.7798\n",
      "Epoch 19/20\n",
      "1094/1094 [==============================] - 36s 33ms/step - loss: 0.3823 - acc: 0.8650 - val_loss: 0.6662 - val_acc: 0.7931\n",
      "Epoch 20/20\n",
      "1094/1094 [==============================] - 36s 33ms/step - loss: 0.3628 - acc: 0.8702 - val_loss: 0.7519 - val_acc: 0.7757\n"
     ]
    }
   ],
   "source": [
    "model.compile(optimizer = Adam(0.0001),loss = 'sparse_categorical_crossentropy', metrics = ['acc'])\n",
    "\n",
    "def get_step(train_len, batch_size):\n",
    "    if(train_len % batch_size > 0):\n",
    "        return train_len // batch_size + 1\n",
    "    else:\n",
    "        return train_len // batch_size\n",
    "\n",
    "history = model.fit(train_generator,\n",
    "                    epochs = 20,\n",
    "                    steps_per_epoch = get_step(len(x_train), batch_size),\n",
    "                    validation_data = val_generator,\n",
    "                    validation_steps = get_step(len(x_val), batch_size))"
   ]
  },
  {
   "cell_type": "markdown",
   "id": "62b6710e",
   "metadata": {},
   "source": [
    "# 학습과정 시각화"
   ]
  },
  {
   "cell_type": "code",
   "execution_count": 12,
   "id": "2001f9e6",
   "metadata": {
    "ExecuteTime": {
     "end_time": "2022-04-04T14:09:12.406954Z",
     "start_time": "2022-04-04T14:09:12.001007Z"
    }
   },
   "outputs": [
    {
     "data": {
      "text/plain": [
       "<matplotlib.legend.Legend at 0x1a997f71d00>"
      ]
     },
     "execution_count": 12,
     "metadata": {},
     "output_type": "execute_result"
    },
    {
     "data": {
      "image/png": "[encoded data removed]",
      "text/plain": [
       "<Figure size 720x360 with 2 Axes>"
      ]
     },
     "metadata": {
      "needs_background": "light"
     },
     "output_type": "display_data"
    }
   ],
   "source": [
    "his_dict = history.history\n",
    "loss = his_dict['loss']\n",
    "val_loss = his_dict['val_loss']\n",
    "\n",
    "epochs = range(1,len(loss)+1)\n",
    "fig = plt.figure(figsize=(10,5))\n",
    "\n",
    "ax1 = fig.add_subplot(1,2,1)\n",
    "ax1.plot(epochs, loss, color='b', label='train_loss')\n",
    "ax1.plot(epochs, val_loss, color='orange', label='validation_loss')\n",
    "ax1.set_title('train and val loss')\n",
    "ax1.set_xlabel('epochs')\n",
    "ax1.set_ylabel('loss')\n",
    "ax1.legend()\n",
    "\n",
    "acc = his_dict['acc']\n",
    "val_acc = his_dict['val_acc']\n",
    "\n",
    "ax2 = fig.add_subplot(1,2,2)\n",
    "ax2.plot(epochs, acc, color='b', label='train_acc')\n",
    "ax2.plot(epochs, val_acc, color='orange', label='validation_acc')\n",
    "ax2.set_title('train and val acc')\n",
    "ax2.set_xlabel('epochs')\n",
    "ax2.set_ylabel('acc')\n",
    "ax2.legend()"
   ]
  },
  {
   "cell_type": "markdown",
   "id": "7e75e333",
   "metadata": {},
   "source": [
    "# 참고 : 가중치 전이하기\n",
    "- A 모델의 가중치를 B 모델에 전이\n",
    "    - A 모델: model\n",
    "    - B 모델: transfer_model\n",
    "    - A 모델과 B 모델의 구조가 같다는 가정 전제\n",
    "    - set_weights: 가중치 설정\n",
    "    - get_weights: 모델의 가중치를 가져옴"
   ]
  },
  {
   "cell_type": "code",
   "execution_count": null,
   "id": "93319460",
   "metadata": {},
   "outputs": [],
   "source": [
    "for i in range(len(model.layers) - 1):\n",
    "    transfer_model.layers[i].set_weights(model.layers[i].get_weights())"
   ]
  }
 ],
 "metadata": {
  "kernelspec": {
   "display_name": "Python 3 (ipykernel)",
   "language": "python",
   "name": "python3"
  },
  "language_info": {
   "codemirror_mode": {
    "name": "ipython",
    "version": 3
   },
   "file_extension": ".py",
   "mimetype": "text/x-python",
   "name": "python",
   "nbconvert_exporter": "python",
   "pygments_lexer": "ipython3",
   "version": "3.9.7"
  },
  "latex_envs": {
   "LaTeX_envs_menu_present": true,
   "autoclose": false,
   "autocomplete": true,
   "bibliofile": "biblio.bib",
   "cite_by": "apalike",
   "current_citInitial": 1,
   "eqLabelWithNumbers": true,
   "eqNumInitial": 1,
   "hotkeys": {
    "equation": "Ctrl-E",
    "itemize": "Ctrl-I"
   },
   "labels_anchors": false,
   "latex_user_defs": false,
   "report_style_numbering": false,
   "user_envs_cfg": false
  },
  "toc": {
   "base_numbering": 1,
   "nav_menu": {},
   "number_sections": true,
   "sideBar": true,
   "skip_h1_title": false,
   "title_cell": "Table of Contents",
   "title_sidebar": "Contents",
   "toc_cell": false,
   "toc_position": {},
   "toc_section_display": true,
   "toc_window_display": false
  },
  "varInspector": {
   "cols": {
    "lenName": 16,
    "lenType": 16,
    "lenVar": 40
   },
   "kernels_config": {
    "python": {
     "delete_cmd_postfix": "",
     "delete_cmd_prefix": "del ",
     "library": "var_list.py",
     "varRefreshCmd": "print(var_dic_list())"
    },
    "r": {
     "delete_cmd_postfix": ") ",
     "delete_cmd_prefix": "rm(",
     "library": "var_list.r",
     "varRefreshCmd": "cat(var_dic_list()) "
    }
   },
   "types_to_exclude": [
    "module",
    "function",
    "builtin_function_or_method",
    "instance",
    "_Feature"
   ],
   "window_display": false
  }
 },
 "nbformat": 4,
 "nbformat_minor": 5
}
