{
 "cells": [
  {
   "cell_type": "markdown",
   "id": "892fe128",
   "metadata": {},
   "source": [
    "# 라이브러리 및 모듈 호출"
   ]
  },
  {
   "cell_type": "code",
   "execution_count": 1,
   "id": "c26ea220",
   "metadata": {
    "ExecuteTime": {
     "end_time": "2022-03-31T10:28:19.640448Z",
     "start_time": "2022-03-31T10:28:09.900209Z"
    }
   },
   "outputs": [],
   "source": [
    "from tensorflow.keras.datasets import fashion_mnist\n",
    "import matplotlib.pyplot as plt\n",
    "import numpy as np\n",
    "import cv2\n",
    "from tensorflow.keras.utils import to_categorical\n",
    "from sklearn.model_selection import train_test_split\n",
    "from tensorflow.keras.models import Sequential\n",
    "from tensorflow.keras.layers import Conv2D, MaxPool2D, Dense, Flatten\n",
    "from tensorflow.keras.utils import plot_model"
   ]
  },
  {
   "cell_type": "markdown",
   "id": "25f76211",
   "metadata": {},
   "source": [
    "# 데이터 불러오기"
   ]
  },
  {
   "cell_type": "code",
   "execution_count": 2,
   "id": "f7340677",
   "metadata": {
    "ExecuteTime": {
     "end_time": "2022-03-31T10:28:20.289331Z",
     "start_time": "2022-03-31T10:28:19.690548Z"
    }
   },
   "outputs": [
    {
     "data": {
      "text/plain": [
       "<matplotlib.image.AxesImage at 0x20a216bd730>"
      ]
     },
     "execution_count": 2,
     "metadata": {},
     "output_type": "execute_result"
    },
    {
     "data": {
      "image/png": "[encoded data removed]",
      "text/plain": [
       "<Figure size 432x288 with 1 Axes>"
      ]
     },
     "metadata": {
      "needs_background": "light"
     },
     "output_type": "display_data"
    }
   ],
   "source": [
    "(x_train, y_train), (x_test, y_test) = fashion_mnist.load_data()\\\n",
    "# 데이터 확인\n",
    "plt.imshow(x_train[0])"
   ]
  },
  {
   "cell_type": "markdown",
   "id": "374cc751",
   "metadata": {
    "ExecuteTime": {
     "end_time": "2022-03-31T09:47:58.888396Z",
     "start_time": "2022-03-31T09:47:58.553997Z"
    }
   },
   "source": [
    "# 이미지 필터 정의"
   ]
  },
  {
   "cell_type": "code",
   "execution_count": 3,
   "id": "c14c9262",
   "metadata": {
    "ExecuteTime": {
     "end_time": "2022-03-31T10:28:20.352323Z",
     "start_time": "2022-03-31T10:28:20.337315Z"
    }
   },
   "outputs": [],
   "source": [
    "# 가로선을 추출하기 위한 가로선 필터\n",
    "horizontal_filter = np.array([[1.,2.,1.],\n",
    "                              [0.,0.,0.],\n",
    "                              [-1.,-2.,-1.]])\n",
    "# 세로선을 추출하기 위한 세로선 필터\n",
    "vertical_filter = np.array([[1.,0.,-1.],\n",
    "                            [2.,0.,-2.],\n",
    "                            [1.,0.,-1.]])"
   ]
  },
  {
   "cell_type": "markdown",
   "id": "99d60111",
   "metadata": {},
   "source": [
    "# 이미지 리사이즈"
   ]
  },
  {
   "cell_type": "code",
   "execution_count": 4,
   "id": "671fb768",
   "metadata": {
    "ExecuteTime": {
     "end_time": "2022-03-31T10:28:20.527788Z",
     "start_time": "2022-03-31T10:28:20.516794Z"
    }
   },
   "outputs": [
    {
     "name": "stdout",
     "output_type": "stream",
     "text": [
      "output의 크기 : 25\n"
     ]
    }
   ],
   "source": [
    "test_image = cv2.resize(x_train[0], (27,27))\n",
    "image_size = test_image.shape[0]\n",
    "output_size = int((image_size-3)/1+1)\n",
    "print(f'output의 크기 : {output_size}')"
   ]
  },
  {
   "cell_type": "markdown",
   "id": "bbd94b63",
   "metadata": {},
   "source": [
    "# 이미지 필터 적용"
   ]
  },
  {
   "cell_type": "code",
   "execution_count": 5,
   "id": "b6088781",
   "metadata": {
    "ExecuteTime": {
     "end_time": "2022-03-31T10:28:21.456819Z",
     "start_time": "2022-03-31T10:28:21.195953Z"
    }
   },
   "outputs": [
    {
     "data": {
      "image/png": "[encoded data removed]",
      "text/plain": [
       "<Figure size 432x288 with 2 Axes>"
      ]
     },
     "metadata": {
      "needs_background": "light"
     },
     "output_type": "display_data"
    }
   ],
   "source": [
    "filter_size = 3\n",
    "\n",
    "def get_filtered_image(filter): # 필터를 이미지에 적용하는 함수 정의\n",
    "    filtered_image = np.zeros((output_size, output_size)) # 바탕 생성\n",
    "    for i in range(output_size): # 가로, 세로 모든 픽셀에 대해 반복\n",
    "        for j in range(output_size):\n",
    "            indice_image = test_image[i:(i+filter_size),j:(j+filter_size)]*filter # 합성곱 연산\n",
    "            indice_sum = np.sum(indice_image) # 연산결과값 모두 더함\n",
    "            if(indice_sum>255):\n",
    "                indice_sum = 255 # 이미지데이터의 최대값은 255이므로 255를 넘으면 255로 변경\n",
    "            filtered_image[i,j] = indice_sum\n",
    "    return filtered_image\n",
    "\n",
    "# 필터 적용\n",
    "vertical_filtered_image = get_filtered_image(vertical_filter)\n",
    "horizontal_filtered_image = get_filtered_image(horizontal_filter)\n",
    "\n",
    "# 적용한 이미지 시각화\n",
    "plt.subplot(1,2,1)\n",
    "plt.title('vertical')\n",
    "plt.imshow(vertical_filtered_image)\n",
    "\n",
    "plt.subplot(1,2,2)\n",
    "plt.title('horizontal')\n",
    "plt.imshow(horizontal_filtered_image)\n",
    "\n",
    "plt.show()"
   ]
  },
  {
   "cell_type": "markdown",
   "id": "53dd4f54",
   "metadata": {},
   "source": [
    "# 최종 결과 확인"
   ]
  },
  {
   "cell_type": "code",
   "execution_count": 6,
   "id": "8a66680c",
   "metadata": {
    "ExecuteTime": {
     "end_time": "2022-03-31T10:28:22.038687Z",
     "start_time": "2022-03-31T10:28:21.907817Z"
    }
   },
   "outputs": [
    {
     "data": {
      "text/plain": [
       "<matplotlib.image.AxesImage at 0x20a2188d040>"
      ]
     },
     "execution_count": 6,
     "metadata": {},
     "output_type": "execute_result"
    },
    {
     "data": {
      "image/png": "[encoded data removed]",
      "text/plain": [
       "<Figure size 432x288 with 1 Axes>"
      ]
     },
     "metadata": {
      "needs_background": "light"
     },
     "output_type": "display_data"
    }
   ],
   "source": [
    "sobel_image = np.sqrt(np.square(horizontal_filtered_image)+np.square(vertical_filtered_image))\n",
    "plt.imshow(sobel_image)"
   ]
  },
  {
   "cell_type": "markdown",
   "id": "baca7a94",
   "metadata": {
    "ExecuteTime": {
     "end_time": "2022-03-31T10:09:33.487577Z",
     "start_time": "2022-03-31T10:09:33.468590Z"
    }
   },
   "source": [
    "# 풀링 연산 구현"
   ]
  },
  {
   "cell_type": "code",
   "execution_count": 7,
   "id": "c5020ac7",
   "metadata": {
    "ExecuteTime": {
     "end_time": "2022-03-31T10:28:22.842230Z",
     "start_time": "2022-03-31T10:28:22.693186Z"
    }
   },
   "outputs": [
    {
     "name": "stdout",
     "output_type": "stream",
     "text": [
      "original image shape : (28,28)\n",
      "pooled image shape : (14,14)\n"
     ]
    },
    {
     "data": {
      "text/plain": [
       "<matplotlib.image.AxesImage at 0x20a218e77c0>"
      ]
     },
     "execution_count": 7,
     "metadata": {},
     "output_type": "execute_result"
    },
    {
     "data": {
      "image/png": "[encoded data removed]",
      "text/plain": [
       "<Figure size 432x288 with 1 Axes>"
      ]
     },
     "metadata": {
      "needs_background": "light"
     },
     "output_type": "display_data"
    }
   ],
   "source": [
    "image = x_train[0]\n",
    "image_x = image.shape[0]\n",
    "image_y = image.shape[1]\n",
    "new_image_x = int(image_x/2)\n",
    "new_image_y = int(image_y/2)\n",
    "\n",
    "pooled_image = np.zeros((new_image_x,new_image_y))\n",
    "\n",
    "print(f'original image shape : ({image_x},{image_y})')\n",
    "print(f'pooled image shape : ({new_image_x},{new_image_y})')\n",
    "\n",
    "for x in range(0, image_x, 2):\n",
    "    for y in range(0, image_y,2):\n",
    "        pooled_image[int(x/2), int(y/2)] = np.max(image[x:x+2,y:y+2])\n",
    "plt.imshow(pooled_image)\n",
    "\n",
    "# 결국 strides=2, pool_size=2인 맥스풀링"
   ]
  },
  {
   "cell_type": "code",
   "execution_count": 8,
   "id": "e4169182",
   "metadata": {
    "ExecuteTime": {
     "end_time": "2022-03-31T10:28:24.395885Z",
     "start_time": "2022-03-31T10:28:23.436080Z"
    }
   },
   "outputs": [
    {
     "name": "stdout",
     "output_type": "stream",
     "text": [
      "Model: \"sequential\"\n",
      "_________________________________________________________________\n",
      " Layer (type)                Output Shape              Param #   \n",
      "=================================================================\n",
      " conv2d (Conv2D)             (None, 28, 28, 16)        160       \n",
      "                                                                 \n",
      " max_pooling2d (MaxPooling2D  (None, 14, 14, 16)       0         \n",
      " )                                                               \n",
      "                                                                 \n",
      " conv2d_1 (Conv2D)           (None, 14, 14, 32)        4640      \n",
      "                                                                 \n",
      " max_pooling2d_1 (MaxPooling  (None, 7, 7, 32)         0         \n",
      " 2D)                                                             \n",
      "                                                                 \n",
      " conv2d_2 (Conv2D)           (None, 7, 7, 64)          18496     \n",
      "                                                                 \n",
      " max_pooling2d_2 (MaxPooling  (None, 4, 4, 64)         0         \n",
      " 2D)                                                             \n",
      "                                                                 \n",
      " flatten (Flatten)           (None, 1024)              0         \n",
      "                                                                 \n",
      " dense (Dense)               (None, 64)                65600     \n",
      "                                                                 \n",
      " dense_1 (Dense)             (None, 10)                650       \n",
      "                                                                 \n",
      "=================================================================\n",
      "Total params: 89,546\n",
      "Trainable params: 89,546\n",
      "Non-trainable params: 0\n",
      "_________________________________________________________________\n"
     ]
    }
   ],
   "source": [
    "# 모델 구성 및 구조 확인하기\n",
    "model = Sequential()\n",
    "model.add(Conv2D(filters=16, \n",
    "                 kernel_size=3, \n",
    "                 strides=(1, 1), \n",
    "                 padding='same', \n",
    "                 activation='relu',\n",
    "                 input_shape=(28, 28, 1))) # 첫 층은 무조건 입력값 사이즈 필요\n",
    "model.add(MaxPool2D(pool_size=(2, 2), strides=2, padding='same'))\n",
    "model.add(Conv2D(filters=32, kernel_size=3, strides=(1, 1), padding='same', activation='relu'))\n",
    "model.add(MaxPool2D(pool_size=(2, 2), strides=2, padding='same'))\n",
    "model.add(Conv2D(filters=64, kernel_size=3, strides=(1, 1), padding='same', activation='relu'))\n",
    "model.add(MaxPool2D(pool_size=(2, 2), strides=2, padding='same'))\n",
    "model.add(Flatten())\n",
    "model.add(Dense(64,activation='relu'))\n",
    "model.add(Dense(10,activation='softmax'))\n",
    "model.summary()"
   ]
  }
 ],
 "metadata": {
  "kernelspec": {
   "display_name": "Python 3 (ipykernel)",
   "language": "python",
   "name": "python3"
  },
  "language_info": {
   "codemirror_mode": {
    "name": "ipython",
    "version": 3
   },
   "file_extension": ".py",
   "mimetype": "text/x-python",
   "name": "python",
   "nbconvert_exporter": "python",
   "pygments_lexer": "ipython3",
   "version": "3.9.7"
  },
  "latex_envs": {
   "LaTeX_envs_menu_present": true,
   "autoclose": false,
   "autocomplete": true,
   "bibliofile": "biblio.bib",
   "cite_by": "apalike",
   "current_citInitial": 1,
   "eqLabelWithNumbers": true,
   "eqNumInitial": 1,
   "hotkeys": {
    "equation": "Ctrl-E",
    "itemize": "Ctrl-I"
   },
   "labels_anchors": false,
   "latex_user_defs": false,
   "report_style_numbering": false,
   "user_envs_cfg": false
  },
  "toc": {
   "base_numbering": 1,
   "nav_menu": {},
   "number_sections": true,
   "sideBar": true,
   "skip_h1_title": false,
   "title_cell": "Table of Contents",
   "title_sidebar": "Contents",
   "toc_cell": false,
   "toc_position": {},
   "toc_section_display": true,
   "toc_window_display": true
  },
  "varInspector": {
   "cols": {
    "lenName": 16,
    "lenType": 16,
    "lenVar": 40
   },
   "kernels_config": {
    "python": {
     "delete_cmd_postfix": "",
     "delete_cmd_prefix": "del ",
     "library": "var_list.py",
     "varRefreshCmd": "print(var_dic_list())"
    },
    "r": {
     "delete_cmd_postfix": ") ",
     "delete_cmd_prefix": "rm(",
     "library": "var_list.r",
     "varRefreshCmd": "cat(var_dic_list()) "
    }
   },
   "types_to_exclude": [
    "module",
    "function",
    "builtin_function_or_method",
    "instance",
    "_Feature"
   ],
   "window_display": false
  }
 },
 "nbformat": 4,
 "nbformat_minor": 5
}
