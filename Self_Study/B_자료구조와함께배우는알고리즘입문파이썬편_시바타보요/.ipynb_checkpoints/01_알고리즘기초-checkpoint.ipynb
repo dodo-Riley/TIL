{
 "cells": [
  {
   "cell_type": "markdown",
   "id": "a59d5239",
   "metadata": {},
   "source": [
    "# 1) 알고리즘이란?"
   ]
  },
  {
   "cell_type": "code",
   "execution_count": 3,
   "id": "6c1a3de1",
   "metadata": {},
   "outputs": [
    {
     "name": "stdout",
     "output_type": "stream",
     "text": [
      "세 정수의 최댓값을 구합니다.\n",
      "정수 a의 값을 입력하세요. : 1\n",
      "정수 b의 값을 입력하세요. : 2\n",
      "정수 c의 값을 입력하세요. : 3\n",
      "최댓값은 3입니다.\n"
     ]
    }
   ],
   "source": [
    "# a,b,c에 정숫값을 입력받아 비교하고 maximum으로 최대값을 구하는 프로그램\n",
    "\n",
    "# 알고리즘\n",
    "# 1) 세 정수를 입력받음\n",
    "# 2) 가장 처음 입력한 정수를 maximum으로 지정\n",
    "# 3) 두번째로 입력한 수와 비교해서 두번째 입력한 수가 더 크다면 두번째 입력한 수를 maximum으로 변경\n",
    "# 4) 세번째로 입력한 수와 비교해서 세번째 입력한 수가 더 크다면 세번째 입력한 수를 maximum으로 변경\n",
    "# 5) 현재 maximum값을 출력\n",
    "\n",
    "\n",
    "# 프로그램 코드\n",
    "print('세 정수의 최댓값을 구합니다.')\n",
    "a = int(input('정수 a의 값을 입력하세요. : '))\n",
    "b = int(input('정수 b의 값을 입력하세요. : '))\n",
    "c = int(input('정수 c의 값을 입력하세요. : '))\n",
    "\n",
    "maximum = a\n",
    "\n",
    "if b > maximum :\n",
    "    maximum = b\n",
    "\n",
    "if c > maximum :\n",
    "    maximum = c\n",
    "    \n",
    "print(f'최댓값은 {maximum}입니다.')"
   ]
  },
  {
   "cell_type": "code",
   "execution_count": 4,
   "id": "d7737fd5",
   "metadata": {},
   "outputs": [
    {
     "name": "stdout",
     "output_type": "stream",
     "text": [
      "정수를 입력하세요. : 3\n",
      "정수 3은 양수입니다.\n"
     ]
    }
   ],
   "source": [
    "# 조건문 : 입력받은 정수값의 부호를 판단하여 출력하는 프로그램\n",
    "\n",
    "# 알고리즘\n",
    "# 1) 정수를 입력받아 새로운 변수에 지정\n",
    "# 2) 해당 변수가 0보다 크면 '양수' 출력\n",
    "# 3) 0보다 작다면 '음수' 출력\n",
    "# 4) 그 외(0이라면) '0' 출력\n",
    "\n",
    "# 프로그램 코드\n",
    "n = int(input('정수를 입력하세요. : '))\n",
    "\n",
    "if n > 0 : \n",
    "    print(f'정수 {n}은 양수입니다.')\n",
    "elif n < 0 : \n",
    "    print(f'정수 {n}은 음수입니다.')\n",
    "else : \n",
    "    print(f'정수 {n}은 0입니다.')"
   ]
  },
  {
   "cell_type": "code",
   "execution_count": 6,
   "id": "a14b515b",
   "metadata": {},
   "outputs": [
    {
     "name": "stdout",
     "output_type": "stream",
     "text": [
      "정수를 입력하세요. : 1\n",
      "A\n",
      "정수를 입력하세요. : 8\n"
     ]
    }
   ],
   "source": [
    "# 분기 : 아래 두 개의 코드는 입력한 정수값에 따라 알파벳을 출력하지만, 분기 개수가 다름\n",
    "\n",
    "# 분기 3개 - 1이냐, 2이냐, 둘 다 아니냐\n",
    "n = int(input('정수를 입력하세요. : '))\n",
    "\n",
    "if n == 1 : \n",
    "    print('A')\n",
    "elif n == 2 : \n",
    "    print('B')\n",
    "else : \n",
    "    print('C')\n",
    "\n",
    "# 분기 4개 - 1이냐, 2이냐, 3이냐, 셋 다 아니냐\n",
    "n = int(input('정수를 입력하세요. : '))\n",
    "\n",
    "if n == 1 : \n",
    "    print('A')\n",
    "elif n == 2 : \n",
    "    print('B')\n",
    "elif n== 3 : \n",
    "    print('C')\n",
    "else :\n",
    "    pass"
   ]
  },
  {
   "cell_type": "code",
   "execution_count": null,
   "id": "4eb75927",
   "metadata": {},
   "outputs": [],
   "source": []
  }
 ],
 "metadata": {
  "kernelspec": {
   "display_name": "Python 3 (ipykernel)",
   "language": "python",
   "name": "python3"
  },
  "language_info": {
   "codemirror_mode": {
    "name": "ipython",
    "version": 3
   },
   "file_extension": ".py",
   "mimetype": "text/x-python",
   "name": "python",
   "nbconvert_exporter": "python",
   "pygments_lexer": "ipython3",
   "version": "3.9.7"
  }
 },
 "nbformat": 4,
 "nbformat_minor": 5
}
