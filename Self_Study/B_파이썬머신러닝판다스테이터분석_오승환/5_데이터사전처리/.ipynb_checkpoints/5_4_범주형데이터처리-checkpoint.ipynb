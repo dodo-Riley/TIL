{
 "cells": [
  {
   "cell_type": "code",
   "execution_count": 1,
   "id": "066651fa",
   "metadata": {},
   "outputs": [],
   "source": [
    "import pandas as pd\n",
    "import numpy as np"
   ]
  },
  {
   "cell_type": "markdown",
   "id": "c27724ef",
   "metadata": {},
   "source": [
    "# 구간 분할"
   ]
  },
  {
   "cell_type": "code",
   "execution_count": 2,
   "id": "002aa81f",
   "metadata": {},
   "outputs": [
    {
     "name": "stdout",
     "output_type": "stream",
     "text": [
      "(array([257, 103,  32], dtype=int64), array([ 46.        , 107.33333333, 168.66666667, 230.        ])) \n",
      "\n",
      "[ 46.         107.33333333 168.66666667 230.        ] \n",
      "\n",
      "   horsepower hp_bin\n",
      "0       130.0   보통출력\n",
      "1       165.0   보통출력\n",
      "2       150.0   보통출력\n",
      "3       150.0   보통출력\n",
      "4       140.0   보통출력\n",
      "5       198.0    고출력\n",
      "6       220.0    고출력\n",
      "7       215.0    고출력\n",
      "8       225.0    고출력\n",
      "9       190.0    고출력 \n",
      "\n"
     ]
    }
   ],
   "source": [
    "df = pd.read_csv('e:/data_파이썬머신러닝판다스데이터분석/part5/auto-mpg.csv', header=None) # 데이터 불러오기\n",
    "df.columns=['mpg','cylinders','displacement','horsepower','weight','acceleration','model year','origin','name'] # 컬럼명 지정\n",
    "df['horsepower'].replace('?',np.nan,inplace=True) # ?문자를 NaN으로 치환\n",
    "df.dropna(subset=['horsepower'], axis=0, inplace=True) # horsepower 컬럼에 NaN이 포함된 행 제거\n",
    "df['horsepower'] = df['horsepower'].astype('float64') # 자료형을 실수형으로 변환\n",
    "\n",
    "count, bin_dividers = np.histogram(df['horsepower'], bins=3)\n",
    "# np.histogram()은 각 구간에 속하는 값의 개수(count)와 경계값 리스트(bin_dividers)를 반환\n",
    "print(np.histogram(df['horsepower'], bins=3), '\\n')\n",
    "print(bin_dividers, '\\n')\n",
    "\n",
    "bin_names = ['저출력','보통출력','고출력'] # 각 구간의 이름 설정\n",
    "\n",
    "df['hp_bin'] = pd.cut(x=df['horsepower'], # 사용할 데이터\n",
    "                     bins=bin_dividers, # 구간 경계 정보\n",
    "                     labels=bin_names, # 각 구간 이름\n",
    "                     include_lowest=True) # 첫 경계값 포함(이상,초과 설정)\n",
    "\n",
    "print(df[['horsepower','hp_bin']].head(10), '\\n')"
   ]
  },
  {
   "cell_type": "markdown",
   "id": "dd1f1313",
   "metadata": {},
   "source": [
    "# 더미 변수\n",
    "### 알고리즘에서 구간 분할을 통해 생성한 범주형데이터를 사용할 수 없는 경우가 존재\n",
    "### 컴퓨터가 인식 가능한 0,1로 표현되는 더미변수를 사용해야함\n",
    "### 특성이 존재하면 1 아니면 0으로 구분하는 개념\n",
    "### 숫자 0과 1로만 구성되는 원핫벡터로 변환한다고 해서 원핫인코딩(one-hot-encoding)이라고도 함"
   ]
  },
  {
   "cell_type": "code",
   "execution_count": 3,
   "id": "a960c5ca",
   "metadata": {},
   "outputs": [
    {
     "name": "stdout",
     "output_type": "stream",
     "text": [
      "   저출력  보통출력  고출력\n",
      "0    0     1    0\n",
      "1    0     1    0\n",
      "2    0     1    0\n",
      "3    0     1    0\n",
      "4    0     1    0\n",
      "5    0     0    1\n",
      "6    0     0    1\n",
      "7    0     0    1\n",
      "8    0     0    1\n",
      "9    0     0    1 \n",
      "\n"
     ]
    }
   ],
   "source": [
    "horsepower_dummies = pd.get_dummies(df['hp_bin'])\n",
    "print(horsepower_dummies.head(10), '\\n')"
   ]
  },
  {
   "cell_type": "markdown",
   "id": "b7315bc1",
   "metadata": {},
   "source": [
    "# 사이킷런 라이브러리 이용, 원핫인코딩 처리"
   ]
  },
  {
   "cell_type": "code",
   "execution_count": 4,
   "id": "0d1bf4d4",
   "metadata": {},
   "outputs": [
    {
     "name": "stdout",
     "output_type": "stream",
     "text": [
      "[1 1 1 1 1 0 0 0 0 0 0 1 1 0 2 2 2 2 2 2] \n",
      "\n",
      "<class 'numpy.ndarray'> \n",
      "\n",
      "[[1]\n",
      " [1]\n",
      " [1]\n",
      " [1]\n",
      " [1]\n",
      " [0]\n",
      " [0]\n",
      " [0]\n",
      " [0]\n",
      " [0]\n",
      " [0]\n",
      " [1]\n",
      " [1]\n",
      " [0]\n",
      " [2]\n",
      " [2]\n",
      " [2]\n",
      " [2]\n",
      " [2]\n",
      " [2]] \n",
      "\n",
      "<class 'numpy.ndarray'> \n",
      "\n",
      "  (0, 1)\t1.0\n",
      "  (1, 1)\t1.0\n",
      "  (2, 1)\t1.0\n",
      "  (3, 1)\t1.0\n",
      "  (4, 1)\t1.0\n",
      "  (5, 0)\t1.0\n",
      "  (6, 0)\t1.0\n",
      "  (7, 0)\t1.0\n",
      "  (8, 0)\t1.0\n",
      "  (9, 0)\t1.0\n",
      "  (10, 0)\t1.0\n",
      "  (11, 1)\t1.0\n",
      "  (12, 1)\t1.0\n",
      "  (13, 0)\t1.0\n",
      "  (14, 2)\t1.0\n",
      "  (15, 2)\t1.0\n",
      "  (16, 2)\t1.0\n",
      "  (17, 2)\t1.0\n",
      "  (18, 2)\t1.0\n",
      "  (19, 2)\t1.0 \n",
      "\n",
      "<class 'scipy.sparse.csr.csr_matrix'> \n",
      "\n"
     ]
    }
   ],
   "source": [
    "from sklearn import preprocessing # 라이브러리 호출\n",
    "\n",
    "label_encoder = preprocessing.LabelEncoder() # LabelEncoder 객체 생성\n",
    "onehot_encoder = preprocessing.OneHotEncoder() # OneHotEncoder 객체 생성\n",
    "\n",
    "onehot_labeled = label_encoder.fit_transform(df['hp_bin'].head(20)) # LabelEncoder로 hp_bin컬럼의 범주형 데이터를 문자에서 숫자로 변경\n",
    "print(onehot_labeled, '\\n')\n",
    "print(type(onehot_labeled), '\\n')\n",
    "\n",
    "onehot_reshaped = onehot_labeled.reshape(len(onehot_labeled),1) # 변경된 데이터를 데이터개수X1 행렬(2차원 행렬) 형태로 변환\n",
    "print(onehot_reshaped, '\\n')\n",
    "print(type(onehot_reshaped), '\\n')\n",
    "\n",
    "onehot_fitted = onehot_encoder.fit_transform(onehot_reshaped) # 희소행렬로 변환\n",
    "print(onehot_fitted, '\\n')\n",
    "print(type(onehot_fitted), '\\n')\n",
    "# 희소행렬이란 행렬의 값이 대부분 0인 행렬\n",
    "# 단순히 모든 값을 행렬형태로 저장한다면 메모리상의 불이익\n",
    "# 따라서 해당 값이 존재하는 (행,열) 정보와 해당 값을 따로 저장함"
   ]
  }
 ],
 "metadata": {
  "kernelspec": {
   "display_name": "Python 3 (ipykernel)",
   "language": "python",
   "name": "python3"
  },
  "language_info": {
   "codemirror_mode": {
    "name": "ipython",
    "version": 3
   },
   "file_extension": ".py",
   "mimetype": "text/x-python",
   "name": "python",
   "nbconvert_exporter": "python",
   "pygments_lexer": "ipython3",
   "version": "3.9.7"
  }
 },
 "nbformat": 4,
 "nbformat_minor": 5
}
