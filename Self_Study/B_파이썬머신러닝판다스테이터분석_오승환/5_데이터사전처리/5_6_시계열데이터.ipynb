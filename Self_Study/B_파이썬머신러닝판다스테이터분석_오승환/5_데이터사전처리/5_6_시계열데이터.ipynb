{
 "cells": [
  {
   "cell_type": "code",
   "execution_count": 1,
   "id": "c6d94f3e",
   "metadata": {},
   "outputs": [],
   "source": [
    "import pandas as pd\n",
    "import numpy as np"
   ]
  },
  {
   "cell_type": "markdown",
   "id": "2d8a2a06",
   "metadata": {},
   "source": [
    "# 다른 자료형을 시계열 객체로 변환"
   ]
  },
  {
   "cell_type": "code",
   "execution_count": 13,
   "id": "4a0e2092",
   "metadata": {},
   "outputs": [
    {
     "name": "stdout",
     "output_type": "stream",
     "text": [
      "         Date  Close  Start   High    Low  Volume\n",
      "0  2018-07-02  10100  10850  10900  10000  137977\n",
      "1  2018-06-29  10700  10550  10900   9990  170253\n",
      "2  2018-06-28  10400  10900  10950  10150  155769\n",
      "3  2018-06-27  10900  10800  11050  10500  133548\n",
      "4  2018-06-26  10800  10900  11000  10700   63039 \n",
      "\n",
      "<class 'pandas.core.frame.DataFrame'>\n",
      "RangeIndex: 20 entries, 0 to 19\n",
      "Data columns (total 6 columns):\n",
      " #   Column  Non-Null Count  Dtype \n",
      "---  ------  --------------  ----- \n",
      " 0   Date    20 non-null     object\n",
      " 1   Close   20 non-null     int64 \n",
      " 2   Start   20 non-null     int64 \n",
      " 3   High    20 non-null     int64 \n",
      " 4   Low     20 non-null     int64 \n",
      " 5   Volume  20 non-null     int64 \n",
      "dtypes: int64(5), object(1)\n",
      "memory usage: 1.1+ KB\n",
      "None \n",
      "\n"
     ]
    }
   ],
   "source": [
    "df = pd.read_csv('e:/data_파이썬머신러닝판다스데이터분석/part5/stock-data.csv')\n",
    "\n",
    "print(df.head(), '\\n')\n",
    "print(df.info(), '\\n')"
   ]
  },
  {
   "cell_type": "code",
   "execution_count": 14,
   "id": "f561debd",
   "metadata": {},
   "outputs": [
    {
     "name": "stdout",
     "output_type": "stream",
     "text": [
      "         Date  Close  Start   High    Low  Volume   new_Date\n",
      "0  2018-07-02  10100  10850  10900  10000  137977 2018-07-02\n",
      "1  2018-06-29  10700  10550  10900   9990  170253 2018-06-29\n",
      "2  2018-06-28  10400  10900  10950  10150  155769 2018-06-28\n",
      "3  2018-06-27  10900  10800  11050  10500  133548 2018-06-27\n",
      "4  2018-06-26  10800  10900  11000  10700   63039 2018-06-26 \n",
      "\n",
      "<class 'pandas.core.frame.DataFrame'>\n",
      "RangeIndex: 20 entries, 0 to 19\n",
      "Data columns (total 7 columns):\n",
      " #   Column    Non-Null Count  Dtype         \n",
      "---  ------    --------------  -----         \n",
      " 0   Date      20 non-null     object        \n",
      " 1   Close     20 non-null     int64         \n",
      " 2   Start     20 non-null     int64         \n",
      " 3   High      20 non-null     int64         \n",
      " 4   Low       20 non-null     int64         \n",
      " 5   Volume    20 non-null     int64         \n",
      " 6   new_Date  20 non-null     datetime64[ns]\n",
      "dtypes: datetime64[ns](1), int64(5), object(1)\n",
      "memory usage: 1.2+ KB\n",
      "None \n",
      "\n",
      "<class 'pandas._libs.tslibs.timestamps.Timestamp'> \n",
      "\n",
      "            Close  Start   High    Low  Volume\n",
      "new_Date                                      \n",
      "2018-07-02  10100  10850  10900  10000  137977\n",
      "2018-06-29  10700  10550  10900   9990  170253\n",
      "2018-06-28  10400  10900  10950  10150  155769\n",
      "2018-06-27  10900  10800  11050  10500  133548\n",
      "2018-06-26  10800  10900  11000  10700   63039 \n",
      "\n",
      "<class 'pandas.core.frame.DataFrame'>\n",
      "DatetimeIndex: 20 entries, 2018-07-02 to 2018-06-01\n",
      "Data columns (total 5 columns):\n",
      " #   Column  Non-Null Count  Dtype\n",
      "---  ------  --------------  -----\n",
      " 0   Close   20 non-null     int64\n",
      " 1   Start   20 non-null     int64\n",
      " 2   High    20 non-null     int64\n",
      " 3   Low     20 non-null     int64\n",
      " 4   Volume  20 non-null     int64\n",
      "dtypes: int64(5)\n",
      "memory usage: 960.0 bytes\n",
      "None \n",
      "\n"
     ]
    }
   ],
   "source": [
    "df['new_Date'] = pd.to_datetime(df.Date) # 날짜형태의 문자열을 datetime 자료형으로 변환해 새로운 열 생성\n",
    "\n",
    "print(df.head(), '\\n')\n",
    "print(df.info(), '\\n')\n",
    "print(type(df.new_Date[0]), '\\n') # new_Date 컬럼의 value들은 Timestamp 객체임을 확인\n",
    "\n",
    "df.set_index('new_Date', inplace=True) # new_Date 컬럼을 인덱스로 지정\n",
    "df.drop('Date', axis=1, inplace=True) # Date 컬럼 삭제\n",
    "print(df.head(), '\\n')\n",
    "print(df.info(), '\\n') # 인덱스의 유형이 rangeindex에서 datetimeindex로 변경됨"
   ]
  },
  {
   "cell_type": "code",
   "execution_count": 16,
   "id": "6edc8e2d",
   "metadata": {},
   "outputs": [
    {
     "name": "stdout",
     "output_type": "stream",
     "text": [
      "DatetimeIndex(['2019-01-01', '2020-03-01', '2021-06-01', '2022-09-01',\n",
      "               '2023-12-01'],\n",
      "              dtype='datetime64[ns]', freq=None) \n",
      "\n",
      "PeriodIndex(['2019-01-01', '2020-03-01', '2021-06-01', '2022-09-01',\n",
      "             '2023-12-01'],\n",
      "            dtype='period[D]') \n",
      "\n",
      "PeriodIndex(['2019-01', '2020-03', '2021-06', '2022-09', '2023-12'], dtype='period[M]') \n",
      "\n",
      "PeriodIndex(['2019', '2020', '2021', '2022', '2023'], dtype='period[A-DEC]') \n",
      "\n"
     ]
    }
   ],
   "source": [
    "# Timestamp를 Period로 변환\n",
    "dates = ['2019-01-01','2020-03-01','2021-06-01','2022-09-01','2023-12-01']\n",
    "\n",
    "ts_dates = pd.to_datetime(dates)\n",
    "print(ts_dates, '\\n')\n",
    "\n",
    "pr_day = ts_dates.to_period(freq='D') # 일을 기준으로 period객체로 변환\n",
    "print(pr_day, '\\n')\n",
    "pr_month = ts_dates.to_period(freq='M') # 월을 기준으로 period객체로 변환\n",
    "print(pr_month, '\\n')\n",
    "pr_year = ts_dates.to_period(freq='A') # 년을 기준으로(1년이 끝나는 12월이 기준) period객체로 변환\n",
    "print(pr_year, '\\n')"
   ]
  },
  {
   "cell_type": "markdown",
   "id": "ecb0166c",
   "metadata": {},
   "source": [
    "# 시계열 데이터 만들기"
   ]
  },
  {
   "cell_type": "code",
   "execution_count": 20,
   "id": "b0b8335c",
   "metadata": {},
   "outputs": [
    {
     "name": "stdout",
     "output_type": "stream",
     "text": [
      "DatetimeIndex(['2019-01-01 00:00:00+09:00', '2019-02-01 00:00:00+09:00',\n",
      "               '2019-03-01 00:00:00+09:00', '2019-04-01 00:00:00+09:00',\n",
      "               '2019-05-01 00:00:00+09:00', '2019-06-01 00:00:00+09:00'],\n",
      "              dtype='datetime64[ns, Asia/Seoul]', freq='MS') \n",
      "\n",
      "DatetimeIndex(['2019-01-31 00:00:00+09:00', '2019-02-28 00:00:00+09:00',\n",
      "               '2019-03-31 00:00:00+09:00', '2019-04-30 00:00:00+09:00',\n",
      "               '2019-05-31 00:00:00+09:00', '2019-06-30 00:00:00+09:00'],\n",
      "              dtype='datetime64[ns, Asia/Seoul]', freq='M') \n",
      "\n",
      "DatetimeIndex(['2019-01-31 00:00:00+09:00', '2019-04-30 00:00:00+09:00',\n",
      "               '2019-07-31 00:00:00+09:00', '2019-10-31 00:00:00+09:00',\n",
      "               '2020-01-31 00:00:00+09:00', '2020-04-30 00:00:00+09:00'],\n",
      "              dtype='datetime64[ns, Asia/Seoul]', freq='3M') \n",
      "\n"
     ]
    }
   ],
   "source": [
    "# timestamp 배열\n",
    "ts_ms = pd.date_range(start='2019-01-01', # 시작 날짜\n",
    "                     end=None, # 마지막 날짜\n",
    "                     periods=6, # 생성할 timestamp 수\n",
    "                     freq='MS', # 시간 간격(MS=월 초)\n",
    "                     tz='Asia/Seoul') # 시간대(timezone)\n",
    "print(ts_ms, '\\n')\n",
    "\n",
    "ts_me = pd.date_range(start='2019-01-01', periods=6, freq='M', tz='Asia/Seoul') # 월 말을 기준으로 생성\n",
    "print(ts_me, '\\n')\n",
    "\n",
    "ts_3m = pd.date_range(start='2019-01-01', periods=6, freq='3M', tz='Asia/Seoul') # 3개월 간격으로 월말을 기준으로 생성\n",
    "print(ts_3m, '\\n')"
   ]
  },
  {
   "cell_type": "code",
   "execution_count": 22,
   "id": "ee2e4820",
   "metadata": {},
   "outputs": [
    {
     "name": "stdout",
     "output_type": "stream",
     "text": [
      "PeriodIndex(['2019-01', '2019-02', '2019-03'], dtype='period[M]') \n",
      "\n",
      "PeriodIndex(['2019-01-01 00:00', '2019-01-01 01:00', '2019-01-01 02:00'], dtype='period[H]') \n",
      "\n",
      "PeriodIndex(['2019-01-01 00:00', '2019-01-01 02:00', '2019-01-01 04:00'], dtype='period[2H]') \n",
      "\n"
     ]
    }
   ],
   "source": [
    "# period 배열\n",
    "pr_m = pd.period_range(start='2019-01-01', # 시작 날짜\n",
    "                     end=None, # 마지막 날짜\n",
    "                     periods=3, # 생성할 period 수\n",
    "                     freq='M') # 시간의 길이\n",
    "                     \n",
    "print(pr_m, '\\n')\n",
    "\n",
    "pr_h = pd.period_range(start='2019-01-01', periods=3, freq='H') # 시간을 기준으로 생성\n",
    "print(pr_h, '\\n')\n",
    "\n",
    "pr_2h = pd.period_range(start='2019-01-01', periods=3, freq='2H') # 2시간을 기준으로 생성\n",
    "print(pr_2h, '\\n')"
   ]
  },
  {
   "cell_type": "markdown",
   "id": "770cc555",
   "metadata": {},
   "source": [
    "# 시계열 데이터 활용"
   ]
  },
  {
   "cell_type": "code",
   "execution_count": 28,
   "id": "2f462007",
   "metadata": {},
   "outputs": [
    {
     "name": "stdout",
     "output_type": "stream",
     "text": [
      "         Date  Close  Start   High    Low  Volume   new_Date\n",
      "0  2018-07-02  10100  10850  10900  10000  137977 2018-07-02\n",
      "1  2018-06-29  10700  10550  10900   9990  170253 2018-06-29\n",
      "2  2018-06-28  10400  10900  10950  10150  155769 2018-06-28\n",
      "3  2018-06-27  10900  10800  11050  10500  133548 2018-06-27\n",
      "4  2018-06-26  10800  10900  11000  10700   63039 2018-06-26 \n",
      "\n",
      "         Date  Close  Start   High    Low  Volume   new_Date  Year  Month  Day\n",
      "0  2018-07-02  10100  10850  10900  10000  137977 2018-07-02  2018      7    2\n",
      "1  2018-06-29  10700  10550  10900   9990  170253 2018-06-29  2018      6   29\n",
      "2  2018-06-28  10400  10900  10950  10150  155769 2018-06-28  2018      6   28\n",
      "3  2018-06-27  10900  10800  11050  10500  133548 2018-06-27  2018      6   27\n",
      "4  2018-06-26  10800  10900  11000  10700   63039 2018-06-26  2018      6   26 \n",
      "\n",
      "         Date  Close  Start   High    Low  Volume   new_Date  Year  Month  \\\n",
      "0  2018-07-02  10100  10850  10900  10000  137977 2018-07-02  2018      7   \n",
      "1  2018-06-29  10700  10550  10900   9990  170253 2018-06-29  2018      6   \n",
      "2  2018-06-28  10400  10900  10950  10150  155769 2018-06-28  2018      6   \n",
      "3  2018-06-27  10900  10800  11050  10500  133548 2018-06-27  2018      6   \n",
      "4  2018-06-26  10800  10900  11000  10700   63039 2018-06-26  2018      6   \n",
      "\n",
      "   Day Date_yr   Date_m  \n",
      "0    2    2018  2018-07  \n",
      "1   29    2018  2018-06  \n",
      "2   28    2018  2018-06  \n",
      "3   27    2018  2018-06  \n",
      "4   26    2018  2018-06   \n",
      "\n",
      "               Date  Close  Start   High    Low  Volume   new_Date  Year  \\\n",
      "Date_m                                                                     \n",
      "2018-07  2018-07-02  10100  10850  10900  10000  137977 2018-07-02  2018   \n",
      "2018-06  2018-06-29  10700  10550  10900   9990  170253 2018-06-29  2018   \n",
      "2018-06  2018-06-28  10400  10900  10950  10150  155769 2018-06-28  2018   \n",
      "2018-06  2018-06-27  10900  10800  11050  10500  133548 2018-06-27  2018   \n",
      "2018-06  2018-06-26  10800  10900  11000  10700   63039 2018-06-26  2018   \n",
      "\n",
      "         Month  Day Date_yr  \n",
      "Date_m                       \n",
      "2018-07      7    2    2018  \n",
      "2018-06      6   29    2018  \n",
      "2018-06      6   28    2018  \n",
      "2018-06      6   27    2018  \n",
      "2018-06      6   26    2018   \n",
      "\n"
     ]
    }
   ],
   "source": [
    "# 날짜 데이터 분리\n",
    "df = pd.read_csv('e:/data_파이썬머신러닝판다스데이터분석/part5/stock-data.csv')\n",
    "\n",
    "df['new_Date'] = pd.to_datetime(df.Date) # 문자열을 datetime 자료형으로 변환\n",
    "print(df.head(), '\\n')\n",
    "\n",
    "df['Year'] = df['new_Date'].dt.year # 년도만 추출\n",
    "df['Month'] = df['new_Date'].dt.month # 월만 추출\n",
    "df['Day'] = df['new_Date'].dt.day # 일만 추출\n",
    "print(df.head(), '\\n')\n",
    "\n",
    "df['Date_yr'] = df['new_Date'].dt.to_period(freq='A') # 년도 추출\n",
    "df['Date_m'] = df['new_Date'].dt.to_period(freq='M') # 년-월 추출\n",
    "print(df.head(), '\\n')\n",
    "\n",
    "df.set_index('Date_m', inplace=True)\n",
    "print(df.head(), '\\n')"
   ]
  },
  {
   "cell_type": "code",
   "execution_count": 41,
   "id": "e8158d72",
   "metadata": {},
   "outputs": [
    {
     "name": "stdout",
     "output_type": "stream",
     "text": [
      "                  Date  Close  Start   High    Low  Volume\n",
      "new_Date                                                  \n",
      "2018-07-02  2018-07-02  10100  10850  10900  10000  137977\n",
      "2018-06-29  2018-06-29  10700  10550  10900   9990  170253\n",
      "2018-06-28  2018-06-28  10400  10900  10950  10150  155769\n",
      "2018-06-27  2018-06-27  10900  10800  11050  10500  133548\n",
      "2018-06-26  2018-06-26  10800  10900  11000  10700   63039 \n",
      "\n",
      "DatetimeIndex(['2018-07-02', '2018-06-29', '2018-06-28', '2018-06-27',\n",
      "               '2018-06-26', '2018-06-25', '2018-06-22', '2018-06-21',\n",
      "               '2018-06-20', '2018-06-19', '2018-06-18', '2018-06-15',\n",
      "               '2018-06-14', '2018-06-12', '2018-06-11', '2018-06-08',\n",
      "               '2018-06-07', '2018-06-05', '2018-06-04', '2018-06-01'],\n",
      "              dtype='datetime64[ns]', name='new_Date', freq=None) \n",
      "\n",
      "                  Date  Close  Start   High    Low  Volume\n",
      "new_Date                                                  \n",
      "2018-07-02  2018-07-02  10100  10850  10900  10000  137977\n",
      "2018-06-29  2018-06-29  10700  10550  10900   9990  170253\n",
      "2018-06-28  2018-06-28  10400  10900  10950  10150  155769\n",
      "2018-06-27  2018-06-27  10900  10800  11050  10500  133548\n",
      "2018-06-26  2018-06-26  10800  10900  11000  10700   63039 \n",
      "\n",
      "                  Date  Close  Start   High    Low  Volume\n",
      "new_Date                                                  \n",
      "2018-06-29  2018-06-29  10700  10550  10900   9990  170253\n",
      "2018-06-28  2018-06-28  10400  10900  10950  10150  155769\n",
      "2018-06-27  2018-06-27  10900  10800  11050  10500  133548\n",
      "2018-06-26  2018-06-26  10800  10900  11000  10700   63039\n",
      "2018-06-25  2018-06-25  11150  11400  11450  11000   55519 \n",
      "\n",
      "            Start   High    Low\n",
      "new_Date                       \n",
      "2018-06-29  10550  10900   9990\n",
      "2018-06-28  10900  10950  10150\n",
      "2018-06-27  10800  11050  10500\n",
      "2018-06-26  10900  11000  10700\n",
      "2018-06-25  11400  11450  11000 \n",
      "\n",
      "                  Date  Close  Start   High    Low  Volume\n",
      "new_Date                                                  \n",
      "2018-07-02  2018-07-02  10100  10850  10900  10000  137977 \n",
      "\n",
      "                  Date  Close  Start   High    Low  Volume\n",
      "new_Date                                                  \n",
      "2018-06-25  2018-06-25  11150  11400  11450  11000   55519\n",
      "2018-06-22  2018-06-22  11300  11250  11450  10750  134805\n",
      "2018-06-21  2018-06-21  11200  11350  11750  11200  133002\n",
      "2018-06-20  2018-06-20  11550  11200  11600  10900  308596\n",
      "2018-06-19  2018-06-19  11300  11850  11950  11300  180656 \n",
      "\n",
      "                  Date  Close  Start   High    Low  Volume\n",
      "time_delta                                                \n",
      "1320 days   2018-06-26  10800  10900  11000  10700   63039\n",
      "1321 days   2018-06-25  11150  11400  11450  11000   55519\n",
      "1324 days   2018-06-22  11300  11250  11450  10750  134805\n",
      "1325 days   2018-06-21  11200  11350  11750  11200  133002\n",
      "1326 days   2018-06-20  11550  11200  11600  10900  308596\n",
      "1327 days   2018-06-19  11300  11850  11950  11300  180656\n",
      "1328 days   2018-06-18  12000  13400  13400  12000  309787 \n",
      "\n",
      "<class 'pandas.core.indexes.timedeltas.TimedeltaIndex'>\n"
     ]
    }
   ],
   "source": [
    "# 날짜 인덱스 활용\n",
    "df = pd.read_csv('e:/data_파이썬머신러닝판다스데이터분석/part5/stock-data.csv')\n",
    "\n",
    "df['new_Date'] = pd.to_datetime(df.Date) # 문자열을 datetime 자료형으로 변환\n",
    "df.set_index('new_Date', inplace=True) # 인덱스 지정\n",
    "print(df.head(), '\\n')\n",
    "print(df.index, '\\n')\n",
    "\n",
    "df_y = df.loc['2018'] # 2018년도 인덱스 추출\n",
    "print(df_y.head(), '\\n')\n",
    "\n",
    "df_ym = df.loc['2018-06'] # 2019년도 6월 인덱스 추출\n",
    "print(df_ym.head(), '\\n')\n",
    "\n",
    "df_ym_cols = df.loc['2018-06', 'Start':'Low'] # 2018년도 6월 인덱스, Start컬럼부터 Low컬럼까지 추출\n",
    "print(df_ym_cols.head(), '\\n')\n",
    "\n",
    "df_ymd = df.loc['2018-07-02'] # 2018년 7월 2일 인덱스 추출\n",
    "print(df_ymd.head(), '\\n')\n",
    "\n",
    "df_ymd_range = df.loc['2018-06-16':'2018-06-25'] # 2018년 6월 16일에서 25일까지 인덱스 추출\n",
    "print(df_ymd_range.head(), '\\n')\n",
    "\n",
    "today = pd.to_datetime('2022-02-05')\n",
    "df['time_delta'] = today - df.index # 날짜 사이 일자 구하기\n",
    "df.set_index('time_delta', inplace=True) # 구한 일자를 인덱스로 지정\n",
    "df_1320 = df['1320 days':'1330 days'] # 일자로 슬라이싱\n",
    "print(df_1320, '\\n')\n",
    "print(type(df.index))"
   ]
  }
 ],
 "metadata": {
  "kernelspec": {
   "display_name": "Python 3 (ipykernel)",
   "language": "python",
   "name": "python3"
  },
  "language_info": {
   "codemirror_mode": {
    "name": "ipython",
    "version": 3
   },
   "file_extension": ".py",
   "mimetype": "text/x-python",
   "name": "python",
   "nbconvert_exporter": "python",
   "pygments_lexer": "ipython3",
   "version": "3.9.7"
  }
 },
 "nbformat": 4,
 "nbformat_minor": 5
}
