{
 "cells": [
  {
   "cell_type": "code",
   "execution_count": 2,
   "id": "c3b5b717",
   "metadata": {},
   "outputs": [],
   "source": [
    "import pandas as pd\n",
    "import numpy as np"
   ]
  },
  {
   "cell_type": "markdown",
   "id": "6d9e17ba",
   "metadata": {},
   "source": [
    "# 누락 데이터 확인"
   ]
  },
  {
   "cell_type": "code",
   "execution_count": 5,
   "id": "c39d24e8",
   "metadata": {},
   "outputs": [
    {
     "data": {
      "text/html": [
       "<div>\n",
       "<style scoped>\n",
       "    .dataframe tbody tr th:only-of-type {\n",
       "        vertical-align: middle;\n",
       "    }\n",
       "\n",
       "    .dataframe tbody tr th {\n",
       "        vertical-align: top;\n",
       "    }\n",
       "\n",
       "    .dataframe thead th {\n",
       "        text-align: right;\n",
       "    }\n",
       "</style>\n",
       "<table border=\"1\" class=\"dataframe\">\n",
       "  <thead>\n",
       "    <tr style=\"text-align: right;\">\n",
       "      <th></th>\n",
       "      <th>survived</th>\n",
       "      <th>pclass</th>\n",
       "      <th>sex</th>\n",
       "      <th>age</th>\n",
       "      <th>sibsp</th>\n",
       "      <th>parch</th>\n",
       "      <th>fare</th>\n",
       "      <th>embarked</th>\n",
       "      <th>class</th>\n",
       "      <th>who</th>\n",
       "      <th>adult_male</th>\n",
       "      <th>deck</th>\n",
       "      <th>embark_town</th>\n",
       "      <th>alive</th>\n",
       "      <th>alone</th>\n",
       "    </tr>\n",
       "  </thead>\n",
       "  <tbody>\n",
       "    <tr>\n",
       "      <th>0</th>\n",
       "      <td>0</td>\n",
       "      <td>3</td>\n",
       "      <td>male</td>\n",
       "      <td>22.0</td>\n",
       "      <td>1</td>\n",
       "      <td>0</td>\n",
       "      <td>7.2500</td>\n",
       "      <td>S</td>\n",
       "      <td>Third</td>\n",
       "      <td>man</td>\n",
       "      <td>True</td>\n",
       "      <td>NaN</td>\n",
       "      <td>Southampton</td>\n",
       "      <td>no</td>\n",
       "      <td>False</td>\n",
       "    </tr>\n",
       "    <tr>\n",
       "      <th>1</th>\n",
       "      <td>1</td>\n",
       "      <td>1</td>\n",
       "      <td>female</td>\n",
       "      <td>38.0</td>\n",
       "      <td>1</td>\n",
       "      <td>0</td>\n",
       "      <td>71.2833</td>\n",
       "      <td>C</td>\n",
       "      <td>First</td>\n",
       "      <td>woman</td>\n",
       "      <td>False</td>\n",
       "      <td>C</td>\n",
       "      <td>Cherbourg</td>\n",
       "      <td>yes</td>\n",
       "      <td>False</td>\n",
       "    </tr>\n",
       "    <tr>\n",
       "      <th>2</th>\n",
       "      <td>1</td>\n",
       "      <td>3</td>\n",
       "      <td>female</td>\n",
       "      <td>26.0</td>\n",
       "      <td>0</td>\n",
       "      <td>0</td>\n",
       "      <td>7.9250</td>\n",
       "      <td>S</td>\n",
       "      <td>Third</td>\n",
       "      <td>woman</td>\n",
       "      <td>False</td>\n",
       "      <td>NaN</td>\n",
       "      <td>Southampton</td>\n",
       "      <td>yes</td>\n",
       "      <td>True</td>\n",
       "    </tr>\n",
       "    <tr>\n",
       "      <th>3</th>\n",
       "      <td>1</td>\n",
       "      <td>1</td>\n",
       "      <td>female</td>\n",
       "      <td>35.0</td>\n",
       "      <td>1</td>\n",
       "      <td>0</td>\n",
       "      <td>53.1000</td>\n",
       "      <td>S</td>\n",
       "      <td>First</td>\n",
       "      <td>woman</td>\n",
       "      <td>False</td>\n",
       "      <td>C</td>\n",
       "      <td>Southampton</td>\n",
       "      <td>yes</td>\n",
       "      <td>False</td>\n",
       "    </tr>\n",
       "    <tr>\n",
       "      <th>4</th>\n",
       "      <td>0</td>\n",
       "      <td>3</td>\n",
       "      <td>male</td>\n",
       "      <td>35.0</td>\n",
       "      <td>0</td>\n",
       "      <td>0</td>\n",
       "      <td>8.0500</td>\n",
       "      <td>S</td>\n",
       "      <td>Third</td>\n",
       "      <td>man</td>\n",
       "      <td>True</td>\n",
       "      <td>NaN</td>\n",
       "      <td>Southampton</td>\n",
       "      <td>no</td>\n",
       "      <td>True</td>\n",
       "    </tr>\n",
       "  </tbody>\n",
       "</table>\n",
       "</div>"
      ],
      "text/plain": [
       "   survived  pclass     sex   age  sibsp  parch     fare embarked  class  \\\n",
       "0         0       3    male  22.0      1      0   7.2500        S  Third   \n",
       "1         1       1  female  38.0      1      0  71.2833        C  First   \n",
       "2         1       3  female  26.0      0      0   7.9250        S  Third   \n",
       "3         1       1  female  35.0      1      0  53.1000        S  First   \n",
       "4         0       3    male  35.0      0      0   8.0500        S  Third   \n",
       "\n",
       "     who  adult_male deck  embark_town alive  alone  \n",
       "0    man        True  NaN  Southampton    no  False  \n",
       "1  woman       False    C    Cherbourg   yes  False  \n",
       "2  woman       False  NaN  Southampton   yes   True  \n",
       "3  woman       False    C  Southampton   yes  False  \n",
       "4    man        True  NaN  Southampton    no   True  "
      ]
     },
     "execution_count": 5,
     "metadata": {},
     "output_type": "execute_result"
    }
   ],
   "source": [
    "df = sns.load_dataset('titanic') # 데이터 로드\n",
    "df.head() # df 첫 5줄 확인"
   ]
  },
  {
   "cell_type": "code",
   "execution_count": 6,
   "id": "782f5e2f",
   "metadata": {},
   "outputs": [
    {
     "name": "stdout",
     "output_type": "stream",
     "text": [
      "<class 'pandas.core.frame.DataFrame'>\n",
      "RangeIndex: 891 entries, 0 to 890\n",
      "Data columns (total 15 columns):\n",
      " #   Column       Non-Null Count  Dtype   \n",
      "---  ------       --------------  -----   \n",
      " 0   survived     891 non-null    int64   \n",
      " 1   pclass       891 non-null    int64   \n",
      " 2   sex          891 non-null    object  \n",
      " 3   age          714 non-null    float64 \n",
      " 4   sibsp        891 non-null    int64   \n",
      " 5   parch        891 non-null    int64   \n",
      " 6   fare         891 non-null    float64 \n",
      " 7   embarked     889 non-null    object  \n",
      " 8   class        891 non-null    category\n",
      " 9   who          891 non-null    object  \n",
      " 10  adult_male   891 non-null    bool    \n",
      " 11  deck         203 non-null    category\n",
      " 12  embark_town  889 non-null    object  \n",
      " 13  alive        891 non-null    object  \n",
      " 14  alone        891 non-null    bool    \n",
      "dtypes: bool(2), category(2), float64(2), int64(4), object(5)\n",
      "memory usage: 80.7+ KB\n"
     ]
    }
   ],
   "source": [
    "df.info() # df 요약정보 확인"
   ]
  },
  {
   "cell_type": "code",
   "execution_count": 8,
   "id": "49ecfedc",
   "metadata": {},
   "outputs": [
    {
     "data": {
      "text/plain": [
       "NaN    688\n",
       "C       59\n",
       "B       47\n",
       "D       33\n",
       "E       32\n",
       "A       15\n",
       "F       13\n",
       "G        4\n",
       "Name: deck, dtype: int64"
      ]
     },
     "execution_count": 8,
     "metadata": {},
     "output_type": "execute_result"
    }
   ],
   "source": [
    "nan_deck = df['deck'].value_counts(dropna=False) # NaN을 포함하여 value의 개수 확인\n",
    "nan_deck"
   ]
  },
  {
   "cell_type": "code",
   "execution_count": 10,
   "id": "d8e34ef6",
   "metadata": {},
   "outputs": [
    {
     "name": "stdout",
     "output_type": "stream",
     "text": [
      "     survived  pclass    sex    age  sibsp  parch   fare  embarked  class  \\\n",
      "0       False   False  False  False  False  False  False     False  False   \n",
      "1       False   False  False  False  False  False  False     False  False   \n",
      "2       False   False  False  False  False  False  False     False  False   \n",
      "3       False   False  False  False  False  False  False     False  False   \n",
      "4       False   False  False  False  False  False  False     False  False   \n",
      "..        ...     ...    ...    ...    ...    ...    ...       ...    ...   \n",
      "886     False   False  False  False  False  False  False     False  False   \n",
      "887     False   False  False  False  False  False  False     False  False   \n",
      "888     False   False  False   True  False  False  False     False  False   \n",
      "889     False   False  False  False  False  False  False     False  False   \n",
      "890     False   False  False  False  False  False  False     False  False   \n",
      "\n",
      "       who  adult_male   deck  embark_town  alive  alone  \n",
      "0    False       False   True        False  False  False  \n",
      "1    False       False  False        False  False  False  \n",
      "2    False       False   True        False  False  False  \n",
      "3    False       False  False        False  False  False  \n",
      "4    False       False   True        False  False  False  \n",
      "..     ...         ...    ...          ...    ...    ...  \n",
      "886  False       False   True        False  False  False  \n",
      "887  False       False  False        False  False  False  \n",
      "888  False       False   True        False  False  False  \n",
      "889  False       False  False        False  False  False  \n",
      "890  False       False   True        False  False  False  \n",
      "\n",
      "[891 rows x 15 columns] \n",
      "\n",
      "survived         0\n",
      "pclass           0\n",
      "sex              0\n",
      "age            177\n",
      "sibsp            0\n",
      "parch            0\n",
      "fare             0\n",
      "embarked         2\n",
      "class            0\n",
      "who              0\n",
      "adult_male       0\n",
      "deck           688\n",
      "embark_town      2\n",
      "alive            0\n",
      "alone            0\n",
      "dtype: int64 \n",
      "\n",
      "     survived  pclass   sex    age  sibsp  parch  fare  embarked  class   who  \\\n",
      "0        True    True  True   True   True   True  True      True   True  True   \n",
      "1        True    True  True   True   True   True  True      True   True  True   \n",
      "2        True    True  True   True   True   True  True      True   True  True   \n",
      "3        True    True  True   True   True   True  True      True   True  True   \n",
      "4        True    True  True   True   True   True  True      True   True  True   \n",
      "..        ...     ...   ...    ...    ...    ...   ...       ...    ...   ...   \n",
      "886      True    True  True   True   True   True  True      True   True  True   \n",
      "887      True    True  True   True   True   True  True      True   True  True   \n",
      "888      True    True  True  False   True   True  True      True   True  True   \n",
      "889      True    True  True   True   True   True  True      True   True  True   \n",
      "890      True    True  True   True   True   True  True      True   True  True   \n",
      "\n",
      "     adult_male   deck  embark_town  alive  alone  \n",
      "0          True  False         True   True   True  \n",
      "1          True   True         True   True   True  \n",
      "2          True  False         True   True   True  \n",
      "3          True   True         True   True   True  \n",
      "4          True  False         True   True   True  \n",
      "..          ...    ...          ...    ...    ...  \n",
      "886        True  False         True   True   True  \n",
      "887        True   True         True   True   True  \n",
      "888        True  False         True   True   True  \n",
      "889        True   True         True   True   True  \n",
      "890        True  False         True   True   True  \n",
      "\n",
      "[891 rows x 15 columns] \n",
      "\n",
      "survived       891\n",
      "pclass         891\n",
      "sex            891\n",
      "age            714\n",
      "sibsp          891\n",
      "parch          891\n",
      "fare           891\n",
      "embarked       889\n",
      "class          891\n",
      "who            891\n",
      "adult_male     891\n",
      "deck           203\n",
      "embark_town    889\n",
      "alive          891\n",
      "alone          891\n",
      "dtype: int64 \n",
      "\n"
     ]
    }
   ],
   "source": [
    "print(df.isnull(), '\\n') # df의 각 컬럼의 값이 NaN이면 True, 아니면 False 반환\n",
    "print(df.isnull().sum(axis=0), '\\n') # df.sinull()의 각 컬럼의 값의 행 기준(세로방향)으로 합계를 출력,True는 1, False는 0이므로 개수와 동일\n",
    "print(df.notnull(),'\\n') # isnull()과 반대\n",
    "print(df.notnull().sum(axis=0),'\\n')"
   ]
  },
  {
   "cell_type": "markdown",
   "id": "605f1e2a",
   "metadata": {},
   "source": [
    "# 누락 데이터 제거"
   ]
  },
  {
   "cell_type": "code",
   "execution_count": 13,
   "id": "6309d06a",
   "metadata": {},
   "outputs": [
    {
     "name": "stdout",
     "output_type": "stream",
     "text": [
      "survived : 0\n",
      "pclass : 0\n",
      "sex : 0\n",
      "age : 177\n",
      "sibsp : 0\n",
      "parch : 0\n",
      "fare : 0\n",
      "embarked : 2\n",
      "class : 0\n",
      "who : 0\n",
      "adult_male : 0\n",
      "deck : 688\n",
      "embark_town : 2\n",
      "alive : 0\n",
      "alone : 0\n"
     ]
    }
   ],
   "source": [
    "missing_df = df.isnull() # df의 각 컬럼의 값에 대해 NaN인경우 True, 아니면 False 반환하여 그 값을 가지는 새로운 데이터프레임 생성\n",
    "\n",
    "for col in missing_df.columns: # missing_df의 모든 컬럼에 대해 반복\n",
    "    missing_count = missing_df[col].value_counts() # 해당 컬럼의 True와 False값의 개수를 센 결과를 저장\n",
    "    try:\n",
    "        print(f'{col} : {missing_count[True]}') # missing_count가 생긴 컬럼에 대해서 해당 문자열 출력\n",
    "    except:\n",
    "        print(f'{col} : 0') # missing_count가 생기지 않은 컬럼에 대해 해당 문자열 출력"
   ]
  },
  {
   "cell_type": "code",
   "execution_count": 14,
   "id": "a6313ff1",
   "metadata": {},
   "outputs": [
    {
     "name": "stdout",
     "output_type": "stream",
     "text": [
      "Index(['survived', 'pclass', 'sex', 'age', 'sibsp', 'parch', 'fare',\n",
      "       'embarked', 'class', 'who', 'adult_male', 'embark_town', 'alive',\n",
      "       'alone'],\n",
      "      dtype='object')\n"
     ]
    }
   ],
   "source": [
    "df_thresh = df.dropna(axis=1, # 열 기준(세로방향)\n",
    "                      thresh=500) # threshold 설정, NaN이 500개 이상이면 삭제\n",
    "\n",
    "print(df_thresh.columns) # deck 컬럼만 688개이므로 삭제된 결과 확인 가능"
   ]
  },
  {
   "cell_type": "code",
   "execution_count": 15,
   "id": "d4ca3a29",
   "metadata": {},
   "outputs": [
    {
     "data": {
      "text/plain": [
       "714"
      ]
     },
     "execution_count": 15,
     "metadata": {},
     "output_type": "execute_result"
    }
   ],
   "source": [
    "df_age = df.dropna(subset=['age'], # 값을 확인하여 판단할 열\n",
    "                   how='any', # 제거 방법, any이면 하나라도 NaN이면 삭제 all이면 모두 NaN일때 삭제\n",
    "                   axis=0) # 행 기준(가로방향)\n",
    "\n",
    "len(df_age) # 총 891개의 행에서 age가 NaN인 177개 행이 삭제된 714개 행만 남음"
   ]
  },
  {
   "cell_type": "markdown",
   "id": "c8d82191",
   "metadata": {},
   "source": [
    "# 누락 데이터 치환"
   ]
  },
  {
   "cell_type": "code",
   "execution_count": 53,
   "id": "891c4eaf",
   "metadata": {},
   "outputs": [
    {
     "name": "stdout",
     "output_type": "stream",
     "text": [
      "0    22.0\n",
      "1    38.0\n",
      "2    26.0\n",
      "3    35.0\n",
      "4    35.0\n",
      "5     NaN\n",
      "6    54.0\n",
      "7     2.0\n",
      "8    27.0\n",
      "9    14.0\n",
      "Name: age, dtype: float64 \n",
      "\n",
      "0    22.000000\n",
      "1    38.000000\n",
      "2    26.000000\n",
      "3    35.000000\n",
      "4    35.000000\n",
      "5    29.699118\n",
      "6    54.000000\n",
      "7     2.000000\n",
      "8    27.000000\n",
      "9    14.000000\n",
      "Name: age, dtype: float64 \n",
      "\n"
     ]
    }
   ],
   "source": [
    "# 평균값으로 치환\n",
    "df = sns.load_dataset('titanic') # 데이터 로드\n",
    "\n",
    "print(df['age'].head(10), '\\n') # df에서'age' 컬럼의 첫 10줄 확인\n",
    "\n",
    "mean_age = df['age'].mean() # age 컬럼의 평균값을 새로운 변수에 저장\n",
    "df['age'].fillna(mean_age, # NaN을 채울 값\n",
    "                inplace=True) # 원본데이터 변경 여부\n",
    "\n",
    "print(df['age'].head(10), '\\n')"
   ]
  },
  {
   "cell_type": "code",
   "execution_count": 55,
   "id": "112bb5ab",
   "metadata": {},
   "outputs": [
    {
     "name": "stdout",
     "output_type": "stream",
     "text": [
      "825     Queenstown\n",
      "826    Southampton\n",
      "827      Cherbourg\n",
      "828     Queenstown\n",
      "829            NaN\n",
      "Name: embark_town, dtype: object \n",
      "\n",
      "Southampton \n",
      "\n",
      "825     Queenstown\n",
      "826    Southampton\n",
      "827      Cherbourg\n",
      "828     Queenstown\n",
      "829    Southampton\n",
      "Name: embark_town, dtype: object \n",
      "\n"
     ]
    }
   ],
   "source": [
    "# 최빈값으로 치환\n",
    "df = sns.load_dataset('titanic') # 데이터 로드\n",
    "\n",
    "print(df['embark_town'][825:830], '\\n') # df에서 embark_town 컬럼의 인덱스번호 825부터 829까지의 행을 출력\n",
    "\n",
    "most_freq = df['embark_town'].value_counts(dropna=True).idxmax() # embark_town 컬럼의 NaN값을 제외하고 value의 개수를 세어최대값의 인덱스를 저장\n",
    "\n",
    "print(most_freq, '\\n')\n",
    "\n",
    "df['embark_town'].fillna(most_freq, inplace=True)\n",
    "\n",
    "print(df['embark_town'][825:830], '\\n')"
   ]
  },
  {
   "cell_type": "code",
   "execution_count": 56,
   "id": "48fe60ba",
   "metadata": {},
   "outputs": [
    {
     "name": "stdout",
     "output_type": "stream",
     "text": [
      "825     Queenstown\n",
      "826    Southampton\n",
      "827      Cherbourg\n",
      "828     Queenstown\n",
      "829            NaN\n",
      "Name: embark_town, dtype: object \n",
      "\n",
      "825     Queenstown\n",
      "826    Southampton\n",
      "827      Cherbourg\n",
      "828     Queenstown\n",
      "829     Queenstown\n",
      "Name: embark_town, dtype: object \n",
      "\n"
     ]
    }
   ],
   "source": [
    "# 이웃 값으로 치환\n",
    "df = sns.load_dataset('titanic') # 데이터 로드\n",
    "\n",
    "print(df['embark_town'][825:830], '\\n') # df에서 embark_town 컬럼의 인덱스번호 825부터 829까지의 행을 출력\n",
    "\n",
    "df['embark_town'].fillna(method='ffill', # 이전 행의 값으로 채우기 (bfill의 경우 다음행의 값으로 채움)\n",
    "                         inplace=True)\n",
    "\n",
    "print(df['embark_town'][825:830], '\\n')"
   ]
  },
  {
   "cell_type": "markdown",
   "id": "0e894e92",
   "metadata": {},
   "source": [
    "# 참고 : 누락 데이터가 NaN이 아닌 경우"
   ]
  },
  {
   "cell_type": "code",
   "execution_count": 51,
   "id": "b7bc42d1",
   "metadata": {},
   "outputs": [
    {
     "name": "stdout",
     "output_type": "stream",
     "text": [
      "   a  b  c    d  e\n",
      "0  1  1  1  1.0  1\n",
      "1  2  .  2  2.0  2\n",
      "2  3  3  -  3.0  3\n",
      "3  4  4  4  NaN  4\n",
      "4  5  5  5  5.0  ? \n",
      "\n",
      "a  b  c  d    e\n",
      "1  1  1  1.0  1    1\n",
      "2  .  2  2.0  2    1\n",
      "3  3  -  3.0  3    1\n",
      "5  5  5  5.0  ?    1\n",
      "dtype: int64 \n",
      "\n",
      "   a    b    c    d    e\n",
      "0  1  1.0  1.0  1.0  1.0\n",
      "1  2  NaN  2.0  2.0  2.0\n",
      "2  3  3.0  NaN  3.0  3.0\n",
      "3  4  4.0  4.0  NaN  4.0\n",
      "4  5  5.0  5.0  5.0  NaN \n",
      "\n",
      "   a     b    c     d    e\n",
      "0  1  1.00  1.0  1.00  1.0\n",
      "1  2  3.25  2.0  2.00  2.0\n",
      "2  3  3.00  3.0  3.00  3.0\n",
      "3  4  4.00  4.0  2.75  4.0\n",
      "4  5  5.00  5.0  5.00  2.5 \n",
      "\n"
     ]
    }
   ],
   "source": [
    "df_cf=pd.DataFrame({'a':[1,2,3,4,5],\n",
    "                   'b':[1,'.',3,4,5],\n",
    "                   'c':[1,2,'-',4,5],\n",
    "                   'd':[1,2,3,np.nan,5],\n",
    "                   'e':[1,2,3,4,'?']})\n",
    "\n",
    "# df_cf에는 NaN을 제외한 다른 누락 데이터들이 존재\n",
    "# 따라서 isnull(), dropna(), fillna() 등을 바로 사용할 수 없음\n",
    "# replace()를 통해 먼저 누락 데이터들을 NaN으로 통일 시킨 뒤 해당 함수 사용 진행\n",
    "print(df_cf, '\\n')\n",
    "df_cf.replace(['.','-','?'], np.nan, inplace=True) # 단, 데이터프레임에 replace()메소드는 바꿀 데이터의 값이 입력값과 완전히 같을 경우에만 치환이 수행됨\n",
    "print(df_cf, '\\n')\n",
    "df_cf.fillna(df_cf.mean(), inplace=True)\n",
    "print(df_cf, '\\n')"
   ]
  }
 ],
 "metadata": {
  "kernelspec": {
   "display_name": "Python 3 (ipykernel)",
   "language": "python",
   "name": "python3"
  },
  "language_info": {
   "codemirror_mode": {
    "name": "ipython",
    "version": 3
   },
   "file_extension": ".py",
   "mimetype": "text/x-python",
   "name": "python",
   "nbconvert_exporter": "python",
   "pygments_lexer": "ipython3",
   "version": "3.9.7"
  }
 },
 "nbformat": 4,
 "nbformat_minor": 5
}
