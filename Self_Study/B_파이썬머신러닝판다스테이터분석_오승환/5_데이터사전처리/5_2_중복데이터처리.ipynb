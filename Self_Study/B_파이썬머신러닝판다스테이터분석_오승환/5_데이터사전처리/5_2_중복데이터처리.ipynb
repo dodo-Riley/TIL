{
 "cells": [
  {
   "cell_type": "code",
   "execution_count": 1,
   "id": "68116808",
   "metadata": {},
   "outputs": [],
   "source": [
    "import pandas as pd\n",
    "import numpy as np"
   ]
  },
  {
   "cell_type": "markdown",
   "id": "9463d9c2",
   "metadata": {},
   "source": [
    "# 중복 데이터 확인"
   ]
  },
  {
   "cell_type": "code",
   "execution_count": 8,
   "id": "ceb9ad1b",
   "metadata": {},
   "outputs": [
    {
     "name": "stdout",
     "output_type": "stream",
     "text": [
      "  c1  c2  c3\n",
      "0  a   1   1\n",
      "1  a   1   1\n",
      "2  b   1   2\n",
      "3  a   2   2\n",
      "4  b   2   2 \n",
      "\n",
      "0    False\n",
      "1     True\n",
      "2    False\n",
      "3    False\n",
      "4    False\n",
      "dtype: bool \n",
      "\n",
      "0    False\n",
      "1     True\n",
      "2     True\n",
      "3    False\n",
      "4     True\n",
      "Name: c2, dtype: bool \n",
      "\n"
     ]
    }
   ],
   "source": [
    "df=pd.DataFrame({'c1':['a','a','b','a','b'],'c2':[1,1,1,2,2],'c3':[1,1,2,2,2]})\n",
    "print(df, '\\n')\n",
    "\n",
    "df_dup = df.duplicated() # 행을 기준으로 값이 중복되는이 여부를 참/거짓으로 반환, 행 전체를 비교\n",
    "print(df_dup, '\\n')\n",
    "\n",
    "col_dup = df['c2'].duplicated() # 행을 기준으로 값이 중복되는이 여부를 참/거짓으로 반환, c2 컬럼만 비교\n",
    "print(col_dup, '\\n')"
   ]
  },
  {
   "cell_type": "markdown",
   "id": "8d910f2d",
   "metadata": {},
   "source": [
    "# 중복 데이터 제거"
   ]
  },
  {
   "cell_type": "code",
   "execution_count": 12,
   "id": "749a1186",
   "metadata": {},
   "outputs": [
    {
     "name": "stdout",
     "output_type": "stream",
     "text": [
      "  c1  c2  c3\n",
      "0  a   1   1\n",
      "1  a   1   1\n",
      "2  b   1   2\n",
      "3  a   2   2\n",
      "4  b   2   2 \n",
      "\n",
      "  c1  c2  c3\n",
      "0  a   1   1\n",
      "2  b   1   2\n",
      "3  a   2   2\n",
      "4  b   2   2 \n",
      "\n",
      "  c1  c2  c3\n",
      "0  a   1   1\n",
      "2  b   1   2\n",
      "3  a   2   2 \n",
      "\n"
     ]
    }
   ],
   "source": [
    "df=pd.DataFrame({'c1':['a','a','b','a','b'],'c2':[1,1,1,2,2],'c3':[1,1,2,2,2]})\n",
    "print(df, '\\n')\n",
    "\n",
    "df.drop_duplicates(inplace=True) # 값이 중복되는 행 제거\n",
    "print(df, '\\n')\n",
    "\n",
    "df.drop_duplicates(subset=['c2','c3'],inplace=True) # subset에 지정해준 컬럼값에 대해 중복 행 제거\n",
    "print(df, '\\n')"
   ]
  }
 ],
 "metadata": {
  "kernelspec": {
   "display_name": "Python 3 (ipykernel)",
   "language": "python",
   "name": "python3"
  },
  "language_info": {
   "codemirror_mode": {
    "name": "ipython",
    "version": 3
   },
   "file_extension": ".py",
   "mimetype": "text/x-python",
   "name": "python",
   "nbconvert_exporter": "python",
   "pygments_lexer": "ipython3",
   "version": "3.9.7"
  }
 },
 "nbformat": 4,
 "nbformat_minor": 5
}
