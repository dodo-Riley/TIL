{
 "cells": [
  {
   "cell_type": "code",
   "execution_count": 1,
   "id": "58230368",
   "metadata": {},
   "outputs": [],
   "source": [
    "import pandas as pd\n",
    "import numpy as np"
   ]
  },
  {
   "cell_type": "markdown",
   "id": "5da98b40",
   "metadata": {},
   "source": [
    "# 단위 환산"
   ]
  },
  {
   "cell_type": "code",
   "execution_count": 8,
   "id": "aa2412a9",
   "metadata": {},
   "outputs": [
    {
     "name": "stdout",
     "output_type": "stream",
     "text": [
      "    mpg  cylinders  displacement horsepower  weight  acceleration  model year  \\\n",
      "0  18.0          8         307.0      130.0  3504.0          12.0          70   \n",
      "1  15.0          8         350.0      165.0  3693.0          11.5          70   \n",
      "2  18.0          8         318.0      150.0  3436.0          11.0          70   \n",
      "3  16.0          8         304.0      150.0  3433.0          12.0          70   \n",
      "4  17.0          8         302.0      140.0  3449.0          10.5          70   \n",
      "\n",
      "   origin                       name  \n",
      "0       1  chevrolet chevelle malibu  \n",
      "1       1          buick skylark 320  \n",
      "2       1         plymouth satellite  \n",
      "3       1              amc rebel sst  \n",
      "4       1                ford torino   \n",
      "\n",
      "    mpg  cylinders  displacement horsepower  weight  acceleration  model year  \\\n",
      "0  18.0          8         307.0      130.0  3504.0          12.0          70   \n",
      "1  15.0          8         350.0      165.0  3693.0          11.5          70   \n",
      "2  18.0          8         318.0      150.0  3436.0          11.0          70   \n",
      "3  16.0          8         304.0      150.0  3433.0          12.0          70   \n",
      "4  17.0          8         302.0      140.0  3449.0          10.5          70   \n",
      "\n",
      "   origin                       name       kpl  \n",
      "0       1  chevrolet chevelle malibu  7.652571  \n",
      "1       1          buick skylark 320  6.377143  \n",
      "2       1         plymouth satellite  7.652571  \n",
      "3       1              amc rebel sst  6.802286  \n",
      "4       1                ford torino  7.227428   \n",
      "\n",
      "    mpg  cylinders  displacement horsepower  weight  acceleration  model year  \\\n",
      "0  18.0          8         307.0      130.0  3504.0          12.0          70   \n",
      "1  15.0          8         350.0      165.0  3693.0          11.5          70   \n",
      "2  18.0          8         318.0      150.0  3436.0          11.0          70   \n",
      "3  16.0          8         304.0      150.0  3433.0          12.0          70   \n",
      "4  17.0          8         302.0      140.0  3449.0          10.5          70   \n",
      "\n",
      "   origin                       name   kpl  \n",
      "0       1  chevrolet chevelle malibu  7.65  \n",
      "1       1          buick skylark 320  6.38  \n",
      "2       1         plymouth satellite  7.65  \n",
      "3       1              amc rebel sst  6.80  \n",
      "4       1                ford torino  7.23   \n",
      "\n"
     ]
    }
   ],
   "source": [
    "df = pd.read_csv('e:/data_파이썬머신러닝판다스데이터분석/part5/auto-mpg.csv', header=None) # 데이터 불러오기\n",
    "df.columns=['mpg','cylinders','displacement','horsepower','weight','acceleration','model year','origin','name'] # 컬럼명 지정\n",
    "print(df.head(), '\\n')\n",
    "\n",
    "mpg_to_kpl = 1.60934/3.78541 # mile per gallon 단위를 kilometer per liter로 변환하는 식\n",
    "\n",
    "df['kpl'] = df['mpg'] * mpg_to_kpl # 단위환산 후 해당 값으로 kpl열 생성\n",
    "print(df.head(), '\\n')\n",
    "\n",
    "df['kpl'] = df['kpl'].round(2) # kpl열의 값들을 소수점 2째자리까지 반올림\n",
    "print(df.head(), '\\n')"
   ]
  },
  {
   "cell_type": "markdown",
   "id": "0031c995",
   "metadata": {},
   "source": [
    "# 자료형 변환"
   ]
  },
  {
   "cell_type": "code",
   "execution_count": 21,
   "id": "b8187bec",
   "metadata": {},
   "outputs": [
    {
     "name": "stdout",
     "output_type": "stream",
     "text": [
      "mpg             float64\n",
      "cylinders         int64\n",
      "displacement    float64\n",
      "horsepower       object\n",
      "weight          float64\n",
      "acceleration    float64\n",
      "model year        int64\n",
      "origin            int64\n",
      "name             object\n",
      "dtype: object \n",
      "\n",
      "['130.0' '165.0' '150.0' '140.0' '198.0' '220.0' '215.0' '225.0' '190.0'\n",
      " '170.0' '160.0' '95.00' '97.00' '85.00' '88.00' '46.00' '87.00' '90.00'\n",
      " '113.0' '200.0' '210.0' '193.0' '?' '100.0' '105.0' '175.0' '153.0'\n",
      " '180.0' '110.0' '72.00' '86.00' '70.00' '76.00' '65.00' '69.00' '60.00'\n",
      " '80.00' '54.00' '208.0' '155.0' '112.0' '92.00' '145.0' '137.0' '158.0'\n",
      " '167.0' '94.00' '107.0' '230.0' '49.00' '75.00' '91.00' '122.0' '67.00'\n",
      " '83.00' '78.00' '52.00' '61.00' '93.00' '148.0' '129.0' '96.00' '71.00'\n",
      " '98.00' '115.0' '53.00' '81.00' '79.00' '120.0' '152.0' '102.0' '108.0'\n",
      " '68.00' '58.00' '149.0' '89.00' '63.00' '48.00' '66.00' '139.0' '103.0'\n",
      " '125.0' '133.0' '138.0' '135.0' '142.0' '77.00' '62.00' '132.0' '84.00'\n",
      " '64.00' '74.00' '116.0' '82.00'] \n",
      "\n",
      "float64 \n",
      "\n",
      "[1 3 2] \n",
      "\n",
      "['USA' 'JPN' 'EU'] \n",
      "\n",
      "object \n",
      "\n",
      "category \n",
      "\n",
      "object \n",
      "\n",
      "370    82\n",
      "380    82\n",
      "253    78\n",
      "Name: model year, dtype: int64 \n",
      "\n",
      "308    79\n",
      "1      70\n",
      "211    76\n",
      "Name: model year, dtype: category\n",
      "Categories (13, int64): [70, 71, 72, 73, ..., 79, 80, 81, 82] \n",
      "\n"
     ]
    }
   ],
   "source": [
    "df = pd.read_csv('e:/data_파이썬머신러닝판다스데이터분석/part5/auto-mpg.csv', header=None) # 데이터 불러오기\n",
    "df.columns=['mpg','cylinders','displacement','horsepower','weight','acceleration','model year','origin','name'] # 컬럼명 지정\n",
    "print(df.dtypes, '\\n')\n",
    "\n",
    "print(df['horsepower'].unique(), '\\n') # horsepower 컬럼의 자료형이 object인 이유 확인(unique()를 통해 고유값 출력) -> ?가 존재\n",
    "df['horsepower'].replace('?',np.nan,inplace=True) # ?문자를 NaN으로 치환\n",
    "df.dropna(subset=['horsepower'], axis=0, inplace=True) # horsepower 컬럼에 NaN이 포함된 행 제거\n",
    "df['horsepower'] = df['horsepower'].astype('float64') # 자료형을 실수형으로 변환\n",
    "print(df['horsepower'].dtypes, '\\n')\n",
    "\n",
    "print(df['origin'].unique(), '\\n')\n",
    "df['origin'].replace({1:'USA',2:'EU',3:'JPN'},inplace=True) # 숫자로 나타난 데이터를 국가로 치환\n",
    "print(df['origin'].unique(), '\\n')\n",
    "print(df['origin'].dtypes, '\\n')\n",
    "df['origin'] = df['origin'].astype('category') # 자료형을 범주형으로 변환\n",
    "print(df['origin'].dtypes, '\\n')\n",
    "df['origin'] = df['origin'].astype('str') # 자료형을 문자로 변환\n",
    "print(df['origin'].dtypes, '\\n')\n",
    "\n",
    "print(df['model year'].sample(3), '\\n') # sample()은 랜덤하게 값을 선택\n",
    "df['model year'] = df['model year'].astype('category') # 년도의 경우 숫자라도 상관없지만, 숫자의 상대적인 크기는 별 의미가 없으므로 범주형으로 변환\n",
    "print(df['model year'].sample(3), '\\n')"
   ]
  }
 ],
 "metadata": {
  "kernelspec": {
   "display_name": "Python 3 (ipykernel)",
   "language": "python",
   "name": "python3"
  },
  "language_info": {
   "codemirror_mode": {
    "name": "ipython",
    "version": 3
   },
   "file_extension": ".py",
   "mimetype": "text/x-python",
   "name": "python",
   "nbconvert_exporter": "python",
   "pygments_lexer": "ipython3",
   "version": "3.9.7"
  }
 },
 "nbformat": 4,
 "nbformat_minor": 5
}
