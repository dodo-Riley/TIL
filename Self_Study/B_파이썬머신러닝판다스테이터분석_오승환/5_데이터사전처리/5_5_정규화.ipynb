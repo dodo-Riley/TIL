{
 "cells": [
  {
   "cell_type": "code",
   "execution_count": 1,
   "id": "133ff9f8",
   "metadata": {},
   "outputs": [],
   "source": [
    "import pandas as pd\n",
    "import numpy as np"
   ]
  },
  {
   "cell_type": "markdown",
   "id": "ffdd405d",
   "metadata": {},
   "source": [
    "# 정규화\n",
    "### 숫자 데이터의 상대적인 크기 차이를 제거\n",
    "### 각 컬럼에 속하는 데이터 값을 동일한 크기 기준으로 나눈 비율로 나타내는 것을 정규화라고 함"
   ]
  },
  {
   "cell_type": "code",
   "execution_count": 4,
   "id": "261b7fff",
   "metadata": {},
   "outputs": [
    {
     "name": "stdout",
     "output_type": "stream",
     "text": [
      "count    392.000000\n",
      "mean     104.469388\n",
      "std       38.491160\n",
      "min       46.000000\n",
      "25%       75.000000\n",
      "50%       93.500000\n",
      "75%      126.000000\n",
      "max      230.000000\n",
      "Name: horsepower, dtype: float64 \n",
      "\n",
      "0    0.565217\n",
      "1    0.717391\n",
      "2    0.652174\n",
      "3    0.652174\n",
      "4    0.608696\n",
      "Name: horsepower, dtype: float64 \n",
      "\n",
      "count    392.000000\n",
      "mean       0.454215\n",
      "std        0.167353\n",
      "min        0.200000\n",
      "25%        0.326087\n",
      "50%        0.406522\n",
      "75%        0.547826\n",
      "max        1.000000\n",
      "Name: horsepower, dtype: float64 \n",
      "\n"
     ]
    }
   ],
   "source": [
    "# 최대값을 1로하고 그에 대한 비율로 데이터들을 변경하는 방법\n",
    "df = pd.read_csv('e:/data_파이썬머신러닝판다스데이터분석/part5/auto-mpg.csv', header=None)\n",
    "df.columns=['mpg','cylinders','displacement','horsepower','weight','acceleration','model year','origin','name'] \n",
    "df['horsepower'].replace('?',np.nan,inplace=True) \n",
    "df.dropna(subset=['horsepower'], axis=0, inplace=True) \n",
    "df['horsepower'] = df['horsepower'].astype('float64')\n",
    "\n",
    "print(df.horsepower.describe(), '\\n')\n",
    "\n",
    "df.horsepower = df.horsepower/abs(df.horsepower.max())\n",
    "print(df.horsepower.head(), '\\n')\n",
    "print(df.horsepower.describe(), '\\n')"
   ]
  },
  {
   "cell_type": "code",
   "execution_count": 5,
   "id": "1146ea94",
   "metadata": {},
   "outputs": [
    {
     "name": "stdout",
     "output_type": "stream",
     "text": [
      "count    392.000000\n",
      "mean       0.454215\n",
      "std        0.167353\n",
      "min        0.200000\n",
      "25%        0.326087\n",
      "50%        0.406522\n",
      "75%        0.547826\n",
      "max        1.000000\n",
      "Name: horsepower, dtype: float64 \n",
      "\n",
      "0    0.456522\n",
      "1    0.646739\n",
      "2    0.565217\n",
      "3    0.565217\n",
      "4    0.510870\n",
      "Name: horsepower, dtype: float64 \n",
      "\n",
      "count    392.000000\n",
      "mean       0.317768\n",
      "std        0.209191\n",
      "min        0.000000\n",
      "25%        0.157609\n",
      "50%        0.258152\n",
      "75%        0.434783\n",
      "max        1.000000\n",
      "Name: horsepower, dtype: float64 \n",
      "\n"
     ]
    }
   ],
   "source": [
    "# 최대값을 1로하고 최소값을 0으로 하는 방법\n",
    "print(df.horsepower.describe(), '\\n')\n",
    "\n",
    "a = df.horsepower\n",
    "df.horsepower = (a-a.min())/(a.max()-a.min())\n",
    "print(df.horsepower.head(), '\\n')\n",
    "print(df.horsepower.describe(), '\\n')"
   ]
  }
 ],
 "metadata": {
  "kernelspec": {
   "display_name": "Python 3 (ipykernel)",
   "language": "python",
   "name": "python3"
  },
  "language_info": {
   "codemirror_mode": {
    "name": "ipython",
    "version": 3
   },
   "file_extension": ".py",
   "mimetype": "text/x-python",
   "name": "python",
   "nbconvert_exporter": "python",
   "pygments_lexer": "ipython3",
   "version": "3.9.7"
  }
 },
 "nbformat": 4,
 "nbformat_minor": 5
}
