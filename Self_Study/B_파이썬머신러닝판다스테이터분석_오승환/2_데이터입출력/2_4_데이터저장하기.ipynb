{
 "cells": [
  {
   "cell_type": "code",
   "execution_count": 6,
   "id": "ec9c2906",
   "metadata": {},
   "outputs": [],
   "source": [
    "import pandas as pd"
   ]
  },
  {
   "cell_type": "code",
   "execution_count": 8,
   "id": "884e9283",
   "metadata": {},
   "outputs": [
    {
     "name": "stdout",
     "output_type": "stream",
     "text": [
      "      algol basic C++\n",
      "name                 \n",
      "jerry     A     C  B+\n",
      "riah     A+     B   C\n",
      "paul      B    B+  C+ \n",
      "\n"
     ]
    }
   ],
   "source": [
    "data = {'name':['jerry','riah','paul'],\n",
    "       'algol':['A','A+','B'],\n",
    "       'basic':['C','B','B+'],\n",
    "       'C++':['B+','C','C+']}\n",
    "\n",
    "df = pd.DataFrame(data)\n",
    "df.set_index('name',inplace=True)\n",
    "print(df, '\\n')\n",
    "\n",
    "# csv 파일로 저장\n",
    "df.to_csv('./tocsv.csv')\n",
    "\n",
    "# json 파일로 저장\n",
    "df.to_json('./tojson.json')\n",
    "\n",
    "# excel 파일로 저장\n",
    "df.to_excel('./toexcel.xlsx', index=False) # index=False는 기존 인덱스를 빼고 저장한다"
   ]
  },
  {
   "cell_type": "code",
   "execution_count": 9,
   "id": "1261cf8d",
   "metadata": {},
   "outputs": [
    {
     "name": "stdout",
     "output_type": "stream",
     "text": [
      "      algol basic C++\n",
      "name                 \n",
      "jerry     A     C  B+\n",
      "riah     A+     B   C\n",
      "paul      B    B+  C+ \n",
      "\n",
      "      algol basic C++\n",
      "name                 \n",
      "jerry     A     C  B+\n",
      "riah     A+     B   C\n",
      "paul      B    B+  C+ \n",
      "\n"
     ]
    }
   ],
   "source": [
    "data1 = {'name':['jerry','riah','paul'],\n",
    "       'algol':['A','A+','B'],\n",
    "       'basic':['C','B','B+'],\n",
    "       'C++':['B+','C','C+']}\n",
    "\n",
    "data2 = {'c0':[1,2,3],\n",
    "       'c1':[4,5,6],\n",
    "       'c2':[7,8,9],\n",
    "       'c3':[10,11,12]}\n",
    "\n",
    "df1 = pd.DataFrame(data1)\n",
    "df1.set_index('name',inplace=True)\n",
    "print(df, '\\n')\n",
    "\n",
    "df2 = pd.DataFrame(data2)\n",
    "df2.set_index('c0',inplace=True)\n",
    "print(df, '\\n')\n",
    "\n",
    "# 하나의 엑셀파일, 여러개의 시트로 저장하기\n",
    "writer = pd.ExcelWriter('./excelwriter.xlsx')\n",
    "df1.to_excel(writer, sheet_name='number1')\n",
    "df2.to_excel(writer, sheet_name='number2')\n",
    "writer.save()"
   ]
  }
 ],
 "metadata": {
  "kernelspec": {
   "display_name": "Python 3 (ipykernel)",
   "language": "python",
   "name": "python3"
  },
  "language_info": {
   "codemirror_mode": {
    "name": "ipython",
    "version": 3
   },
   "file_extension": ".py",
   "mimetype": "text/x-python",
   "name": "python",
   "nbconvert_exporter": "python",
   "pygments_lexer": "ipython3",
   "version": "3.9.7"
  }
 },
 "nbformat": 4,
 "nbformat_minor": 5
}
