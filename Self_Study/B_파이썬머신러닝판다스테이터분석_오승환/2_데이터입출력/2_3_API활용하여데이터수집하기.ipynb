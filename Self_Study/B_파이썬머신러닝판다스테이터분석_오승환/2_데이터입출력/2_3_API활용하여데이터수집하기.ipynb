{
 "cells": [
  {
   "cell_type": "code",
   "execution_count": 3,
   "id": "8c088444",
   "metadata": {},
   "outputs": [],
   "source": [
    "# 라이브러리 호출\n",
    "import pandas as pd\n",
    "import googlemaps"
   ]
  },
  {
   "cell_type": "code",
   "execution_count": 4,
   "id": "1a9f4685",
   "metadata": {},
   "outputs": [
    {
     "name": "stdout",
     "output_type": "stream",
     "text": [
      "1 서울시청\n",
      "2 국립국악원\n",
      "3 해운대해수욕장\n"
     ]
    }
   ],
   "source": [
    "# API 키 \n",
    "my_key = '------------api key---------------' # 사용 후 보안을 위해 삭제\n",
    "\n",
    "maps = googlemaps.Client(key=my_key) # 구글맵스 객체 생성\n",
    "\n",
    "lat = [] # 위도값이 들어갈 리스트\n",
    "lng = [] # 경도값이 들어갈 리스트\n",
    "\n",
    "places = ['서울시청','국립국악원','해운대해수욕장'] # 위치정보를 가져올 지명\n",
    "\n",
    "i = 0 # 순서를 표시할 변수 지정\n",
    "for place in places:\n",
    "    i += 1 # 반복마다 1 씩 순서번호 증가\n",
    "    try:\n",
    "        print(i, place)\n",
    "        geo_location = maps.geocode(place)[0].get('geometry') # 위경도 정보 저장\n",
    "        lat.append(geo_location['location']['lat']) # 생성한 리스트에 위도 추가\n",
    "        lng.append(geo_location['location']['lng']) # 생성한 리스트에 경도 추가\n",
    "    \n",
    "    except:  # 해당지명에 대한 정보다 없다면 아래 수행\n",
    "        lat.append('')\n",
    "        lng.append('')\n",
    "        print(i)"
   ]
  },
  {
   "cell_type": "code",
   "execution_count": 6,
   "id": "f47270c1",
   "metadata": {},
   "outputs": [
    {
     "data": {
      "text/plain": [
       "[{'address_components': [{'long_name': 'Seoul',\n",
       "    'short_name': 'Seoul',\n",
       "    'types': ['administrative_area_level_1', 'political']},\n",
       "   {'long_name': 'South Korea',\n",
       "    'short_name': 'KR',\n",
       "    'types': ['country', 'political']}],\n",
       "  'formatted_address': 'Seoul, South Korea',\n",
       "  'geometry': {'bounds': {'northeast': {'lat': 37.7017495, 'lng': 127.1835899},\n",
       "    'southwest': {'lat': 37.4259627, 'lng': 126.7645827}},\n",
       "   'location': {'lat': 37.566535, 'lng': 126.9779692},\n",
       "   'location_type': 'APPROXIMATE',\n",
       "   'viewport': {'northeast': {'lat': 37.7017495, 'lng': 127.1835899},\n",
       "    'southwest': {'lat': 37.4259627, 'lng': 126.7645827}}},\n",
       "  'partial_match': True,\n",
       "  'place_id': 'ChIJzzlcLQGifDURm_JbQKHsEX4',\n",
       "  'types': ['administrative_area_level_1', 'political']}]"
      ]
     },
     "execution_count": 6,
     "metadata": {},
     "output_type": "execute_result"
    }
   ],
   "source": [
    "maps.geocode('서울시청') # 서울시청에 대한 정보가 딕셔너리 형식으로 불러와짐"
   ]
  },
  {
   "cell_type": "code",
   "execution_count": 7,
   "id": "2756f0e5",
   "metadata": {},
   "outputs": [
    {
     "data": {
      "text/html": [
       "<div>\n",
       "<style scoped>\n",
       "    .dataframe tbody tr th:only-of-type {\n",
       "        vertical-align: middle;\n",
       "    }\n",
       "\n",
       "    .dataframe tbody tr th {\n",
       "        vertical-align: top;\n",
       "    }\n",
       "\n",
       "    .dataframe thead th {\n",
       "        text-align: right;\n",
       "    }\n",
       "</style>\n",
       "<table border=\"1\" class=\"dataframe\">\n",
       "  <thead>\n",
       "    <tr style=\"text-align: right;\">\n",
       "      <th></th>\n",
       "      <th>위도</th>\n",
       "      <th>경도</th>\n",
       "    </tr>\n",
       "  </thead>\n",
       "  <tbody>\n",
       "    <tr>\n",
       "      <th>서울시청</th>\n",
       "      <td>37.566535</td>\n",
       "      <td>126.977969</td>\n",
       "    </tr>\n",
       "    <tr>\n",
       "      <th>국립국악원</th>\n",
       "      <td>37.477759</td>\n",
       "      <td>127.008304</td>\n",
       "    </tr>\n",
       "    <tr>\n",
       "      <th>해운대해수욕장</th>\n",
       "      <td>35.158698</td>\n",
       "      <td>129.160384</td>\n",
       "    </tr>\n",
       "  </tbody>\n",
       "</table>\n",
       "</div>"
      ],
      "text/plain": [
       "                위도          경도\n",
       "서울시청     37.566535  126.977969\n",
       "국립국악원    37.477759  127.008304\n",
       "해운대해수욕장  35.158698  129.160384"
      ]
     },
     "execution_count": 7,
     "metadata": {},
     "output_type": "execute_result"
    }
   ],
   "source": [
    "# 추출한 정보를 데이터프레임으로 변환\n",
    "df = pd.DataFrame({'위도':lat, '경도':lng}, index=places) # 인덱스는 지명\n",
    "df.head()"
   ]
  }
 ],
 "metadata": {
  "kernelspec": {
   "display_name": "Python 3 (ipykernel)",
   "language": "python",
   "name": "python3"
  },
  "language_info": {
   "codemirror_mode": {
    "name": "ipython",
    "version": 3
   },
   "file_extension": ".py",
   "mimetype": "text/x-python",
   "name": "python",
   "nbconvert_exporter": "python",
   "pygments_lexer": "ipython3",
   "version": "3.9.7"
  }
 },
 "nbformat": 4,
 "nbformat_minor": 5
}
