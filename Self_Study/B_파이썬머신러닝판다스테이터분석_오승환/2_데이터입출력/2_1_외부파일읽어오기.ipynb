{
 "cells": [
  {
   "cell_type": "code",
   "execution_count": 1,
   "id": "5b4faccf",
   "metadata": {},
   "outputs": [],
   "source": [
    "import pandas as pd"
   ]
  },
  {
   "cell_type": "markdown",
   "id": "a829f487",
   "metadata": {},
   "source": [
    "# cvs 파일"
   ]
  },
  {
   "cell_type": "code",
   "execution_count": 11,
   "id": "1fcfb033",
   "metadata": {},
   "outputs": [
    {
     "name": "stdout",
     "output_type": "stream",
     "text": [
      "   c0  c1  c2  c3\n",
      "0   0   1   4   7\n",
      "1   1   2   5   8\n",
      "2   2   3   6   9 \n",
      "\n",
      "    0   1   2   3\n",
      "0  c0  c1  c2  c3\n",
      "1   0   1   4   7\n",
      "2   1   2   5   8\n",
      "3   2   3   6   9 \n",
      "\n",
      "   c0  c1  c2  c3\n",
      "0   0   1   4   7\n",
      "1   1   2   5   8\n",
      "2   2   3   6   9 \n",
      "\n",
      "    c1  c2  c3\n",
      "c0            \n",
      "0    1   4   7\n",
      "1    2   5   8\n",
      "2    3   6   9 \n",
      "\n",
      "   a  b  c  d\n",
      "0  0  1  4  7\n",
      "1  1  2  5  8 \n",
      "\n"
     ]
    },
    {
     "name": "stderr",
     "output_type": "stream",
     "text": [
      "C:\\ProgramData\\Anaconda3\\lib\\site-packages\\pandas\\util\\_decorators.py:311: ParserWarning: Falling back to the 'python' engine because the 'c' engine does not support skipfooter; you can avoid this warning by specifying engine='python'.\n",
      "  return func(*args, **kwargs)\n"
     ]
    }
   ],
   "source": [
    "file_path = 'e:/data_파이썬머신러닝판다스데이터분석/part2/read_csv_sample.csv'\n",
    "\n",
    "df1 = pd.read_csv(file_path)\n",
    "print(df1, '\\n')\n",
    "\n",
    "df2 = pd.read_csv(file_path, header=None)\n",
    "print(df2, '\\n')\n",
    "\n",
    "df3 = pd.read_csv(file_path, index_col=None)\n",
    "print(df3, '\\n')\n",
    "\n",
    "df4 = pd.read_csv(file_path, index_col='c0')\n",
    "print(df4, '\\n')\n",
    "\n",
    "df5 = pd.read_csv(file_path, # 읽어올 파일 경로\n",
    "                 sep=',', # 데이터 구분 문자\n",
    "                 header=0, # 컬럼명으로 사용할 컬럼 인덱스 번호\n",
    "                 index_col=None, # 인덱스로 사용할 컬럼\n",
    "                 names=['a','b','c','d'], # 컬럼명으로 지정할 문자열 리스트\n",
    "                 skiprows=0, # 불러올때, 처음부터 몇줄을 무시할 것인지\n",
    "                 parse_dates=False, # 날짜형식데이터를 datetime 형식으로 바꿀것인지\n",
    "                 skipfooter=1, # 마지막에서 몇줄을 무시할 것인지\n",
    "                 encoding='utf-8') # 인코딩 형식 지정\n",
    "print(df5, '\\n')"
   ]
  },
  {
   "cell_type": "markdown",
   "id": "ff77624a",
   "metadata": {},
   "source": [
    "# excel 파일"
   ]
  },
  {
   "cell_type": "code",
   "execution_count": 14,
   "id": "b519bb5f",
   "metadata": {},
   "outputs": [
    {
     "name": "stdout",
     "output_type": "stream",
     "text": [
      "  전력량 (억㎾h) 발전 전력별  1990  1991  1992  1993  1994  1995  1996  1997  ...  2007  \\\n",
      "0        남한     합계  1077  1186  1310  1444  1650  1847  2055  2244  ...  4031   \n",
      "1       NaN     수력    64    51    49    60    41    55    52    54  ...    50   \n",
      "2       NaN     화력   484   573   696   803  1022  1122  1264  1420  ...  2551   \n",
      "3       NaN    원자력   529   563   565   581   587   670   739   771  ...  1429   \n",
      "4       NaN    신재생     -     -     -     -     -     -     -     -  ...     -   \n",
      "5        북한     합계   277   263   247   221   231   230   213   193  ...   236   \n",
      "6       NaN     수력   156   150   142   133   138   142   125   107  ...   133   \n",
      "7       NaN     화력   121   113   105    88    93    88    88    86  ...   103   \n",
      "8       NaN    원자력     -     -     -     -     -     -     -     -  ...     -   \n",
      "\n",
      "   2008  2009  2010  2011  2012  2013  2014  2015  2016  \n",
      "0  4224  4336  4747  4969  5096  5171  5220  5281  5404  \n",
      "1    56    56    65    78    77    84    78    58    66  \n",
      "2  2658  2802  3196  3343  3430  3581  3427  3402  3523  \n",
      "3  1510  1478  1486  1547  1503  1388  1564  1648  1620  \n",
      "4     -     -     -     -    86   118   151   173   195  \n",
      "5   255   235   237   211   215   221   216   190   239  \n",
      "6   141   125   134   132   135   139   130   100   128  \n",
      "7   114   110   103    79    80    82    86    90   111  \n",
      "8     -     -     -     -     -     -     -     -     -  \n",
      "\n",
      "[9 rows x 29 columns] \n",
      "\n",
      "  전력량 (억㎾h) 발전 전력별  1990  1991  1992  1993  1994  1995  1996  1997  ...  2007  \\\n",
      "0        남한     합계  1077  1186  1310  1444  1650  1847  2055  2244  ...  4031   \n",
      "1       NaN     수력    64    51    49    60    41    55    52    54  ...    50   \n",
      "2       NaN     화력   484   573   696   803  1022  1122  1264  1420  ...  2551   \n",
      "3       NaN    원자력   529   563   565   581   587   670   739   771  ...  1429   \n",
      "4       NaN    신재생     -     -     -     -     -     -     -     -  ...     -   \n",
      "5        북한     합계   277   263   247   221   231   230   213   193  ...   236   \n",
      "6       NaN     수력   156   150   142   133   138   142   125   107  ...   133   \n",
      "7       NaN     화력   121   113   105    88    93    88    88    86  ...   103   \n",
      "8       NaN    원자력     -     -     -     -     -     -     -     -  ...     -   \n",
      "\n",
      "   2008  2009  2010  2011  2012  2013  2014  2015  2016  \n",
      "0  4224  4336  4747  4969  5096  5171  5220  5281  5404  \n",
      "1    56    56    65    78    77    84    78    58    66  \n",
      "2  2658  2802  3196  3343  3430  3581  3427  3402  3523  \n",
      "3  1510  1478  1486  1547  1503  1388  1564  1648  1620  \n",
      "4     -     -     -     -    86   118   151   173   195  \n",
      "5   255   235   237   211   215   221   216   190   239  \n",
      "6   141   125   134   132   135   139   130   100   128  \n",
      "7   114   110   103    79    80    82    86    90   111  \n",
      "8     -     -     -     -     -     -     -     -     -  \n",
      "\n",
      "[9 rows x 29 columns] \n",
      "\n"
     ]
    }
   ],
   "source": [
    "file_path = 'e:/data_파이썬머신러닝판다스데이터분석/part2/남북한발전전력량.xlsx'\n",
    "\n",
    "df1 = pd.read_excel(file_path)\n",
    "print(df1, '\\n')\n",
    "\n",
    "df2 = pd.read_excel(file_path,\n",
    "                    engine='openpyxl', # xls확장자의 경우 engine='xlrd' 입력\n",
    "                   header=0,\n",
    "                   index_col=None)\n",
    "print(df2, '\\n')"
   ]
  },
  {
   "cell_type": "markdown",
   "id": "89247344",
   "metadata": {},
   "source": [
    "# json 파일"
   ]
  },
  {
   "cell_type": "code",
   "execution_count": 17,
   "id": "0b59e9ea",
   "metadata": {},
   "outputs": [
    {
     "name": "stdout",
     "output_type": "stream",
     "text": [
      "           name  year        developer opensource\n",
      "pandas           2008    Wes Mckinneye       True\n",
      "NumPy            2006  Travis Oliphant       True\n",
      "matplotlib       2003   John D. Hunter       True \n",
      "\n"
     ]
    }
   ],
   "source": [
    "file_path = 'e:/data_파이썬머신러닝판다스데이터분석/part2/read_json_sample.json'\n",
    "\n",
    "df1 = pd.read_json(file_path)\n",
    "print(df1, '\\n')"
   ]
  }
 ],
 "metadata": {
  "kernelspec": {
   "display_name": "Python 3 (ipykernel)",
   "language": "python",
   "name": "python3"
  },
  "language_info": {
   "codemirror_mode": {
    "name": "ipython",
    "version": 3
   },
   "file_extension": ".py",
   "mimetype": "text/x-python",
   "name": "python",
   "nbconvert_exporter": "python",
   "pygments_lexer": "ipython3",
   "version": "3.9.7"
  }
 },
 "nbformat": 4,
 "nbformat_minor": 5
}
