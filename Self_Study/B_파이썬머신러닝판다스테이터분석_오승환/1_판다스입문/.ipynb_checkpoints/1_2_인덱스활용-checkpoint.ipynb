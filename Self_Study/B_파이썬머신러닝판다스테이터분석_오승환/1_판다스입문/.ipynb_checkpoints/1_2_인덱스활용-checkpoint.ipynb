{
 "cells": [
  {
   "cell_type": "code",
   "execution_count": 1,
   "id": "1264a0b5",
   "metadata": {},
   "outputs": [],
   "source": [
    "import pandas as pd"
   ]
  },
  {
   "cell_type": "code",
   "execution_count": 2,
   "id": "85af5347",
   "metadata": {},
   "outputs": [
    {
     "name": "stdout",
     "output_type": "stream",
     "text": [
      "   이름  수학  영어   음악   체육\n",
      "0  서준  90  98   85  100\n",
      "1  우현  80  89   95   90\n",
      "2  인아  70  95  100   90 \n",
      "\n",
      "    수학  영어   음악   체육\n",
      "이름                  \n",
      "서준  90  98   85  100\n",
      "우현  80  89   95   90\n",
      "인아  70  95  100   90 \n",
      "\n",
      "     이름  수학  영어   체육\n",
      "음악                  \n",
      "85   서준  90  98  100\n",
      "95   우현  80  89   90\n",
      "100  인아  70  95   90 \n",
      "\n",
      "        이름  영어   체육\n",
      "수학 음악              \n",
      "90 85   서준  98  100\n",
      "80 95   우현  89   90\n",
      "70 100  인아  95   90 \n",
      "\n"
     ]
    }
   ],
   "source": [
    "exam_data = {'이름':['서준','우현','인아'],'수학':[90,80,70],'영어':[98, 89, 95],'음악':[85,95,100],'체육':[100,90,90]}\n",
    "df = pd.DataFrame(exam_data)\n",
    "print(df, '\\n')\n",
    "\n",
    "# 특정 컬럼을 인덱스로 지정하기\n",
    "ndf1 = df.set_index('이름')\n",
    "print(ndf1, '\\n')\n",
    "\n",
    "ndf2 = df.set_index('음악')\n",
    "print(ndf2, '\\n')\n",
    "\n",
    "ndf3 = df.set_index(['수학','음악'])\n",
    "print(ndf3, '\\n')"
   ]
  },
  {
   "cell_type": "code",
   "execution_count": 5,
   "id": "d78d315d",
   "metadata": {},
   "outputs": [
    {
     "name": "stdout",
     "output_type": "stream",
     "text": [
      "    c0  c1  c2  c3  c4\n",
      "r0   1   4   7  10  13\n",
      "r1   2   5   8  11  14\n",
      "r2   3   6   9  12  15 \n",
      "\n",
      "     c0   c1   c2    c3    c4\n",
      "r0  1.0  4.0  7.0  10.0  13.0\n",
      "r1  2.0  5.0  8.0  11.0  14.0\n",
      "r2  3.0  6.0  9.0  12.0  15.0\n",
      "r3  NaN  NaN  NaN   NaN   NaN\n",
      "r4  NaN  NaN  NaN   NaN   NaN \n",
      "\n",
      "    c0  c1  c2  c3  c4\n",
      "r0   1   4   7  10  13\n",
      "r1   2   5   8  11  14\n",
      "r2   3   6   9  12  15\n",
      "r3   0   0   0   0   0\n",
      "r4   0   0   0   0   0 \n",
      "\n",
      "   c0  c1  c2  c3  c4\n",
      "a NaN NaN NaN NaN NaN\n",
      "b NaN NaN NaN NaN NaN \n",
      "\n"
     ]
    }
   ],
   "source": [
    "dict_data = {'c0':[1,2,3],'c1':[4,5,6],'c2':[7,8,9],'c3':[10,11,12],'c4':[13,14,15]} # 딕셔너리를 활용해 생성\n",
    "df = pd.DataFrame(dict_data, index=['r0','r1','r2'])\n",
    "print(df,'\\n')\n",
    "\n",
    "# 행 인덱스 재배열하기\n",
    "new_idx1 = ['r0','r1','r2','r3','r4']\n",
    "new_idx2 = ['a','b']\n",
    "ndf = df.reindex(new_idx1) # 기존 인덱스보다 많을 경우 새로운 행이 NaN으로 채워짐\n",
    "print(ndf,'\\n')\n",
    "ndf2 = df.reindex(new_idx1, fill_value=0) # 기존 인덱스보다 많을 경우 새로운 행이 0으로 채워짐\n",
    "print(ndf2,'\\n')\n",
    "ndf3 = df.reindex(new_idx2) # 기존 인덱스보다 적을 경우 행이 모두 NaN으로 채워짐\n",
    "print(ndf3,'\\n')"
   ]
  },
  {
   "cell_type": "code",
   "execution_count": 10,
   "id": "0183ad29",
   "metadata": {},
   "outputs": [
    {
     "name": "stdout",
     "output_type": "stream",
     "text": [
      "    c0  c1  c2  c3  c4\n",
      "r0   1   4   7  10  13\n",
      "r1   2   5   8  11  14\n",
      "r2   3   6   9  12  15 \n",
      "\n",
      "  index  c0  c1  c2  c3  c4\n",
      "0    r0   1   4   7  10  13\n",
      "1    r1   2   5   8  11  14\n",
      "2    r2   3   6   9  12  15 \n",
      "\n",
      "   c0  c1  c2  c3  c4\n",
      "0   1   4   7  10  13\n",
      "1   2   5   8  11  14\n",
      "2   3   6   9  12  15 \n",
      "\n",
      "   c0  c1  c2  c3  c4\n",
      "0   1   4   7  10  13\n",
      "1   2   5   8  11  14\n",
      "2   3   6   9  12  15 \n",
      "\n"
     ]
    }
   ],
   "source": [
    "dict_data = {'c0':[1,2,3],'c1':[4,5,6],'c2':[7,8,9],'c3':[10,11,12],'c4':[13,14,15]} # 딕셔너리를 활용해 생성\n",
    "df = pd.DataFrame(dict_data, index=['r0','r1','r2'])\n",
    "print(df,'\\n')\n",
    "\n",
    "ndf = df.reset_index() # 기존 인덱스를 무시하고 새 인덱스 지정\n",
    "print(ndf,'\\n')\n",
    "\n",
    "ndf2 = df.reset_index(drop=True) # 기존 인덱스 삭제\n",
    "print(ndf2,'\\n')\n",
    "\n",
    "df.reset_index(inplace=True, drop=True) # 기존 인덱스 삭제, 기존 데이터 갱신\n",
    "print(df,'\\n')\n"
   ]
  },
  {
   "cell_type": "code",
   "execution_count": 14,
   "id": "50a81e2a",
   "metadata": {},
   "outputs": [
    {
     "name": "stdout",
     "output_type": "stream",
     "text": [
      "   c0  c1  c2  c3  c4\n",
      "0   1   4   7  10  13\n",
      "1   2   5   8  11  14\n",
      "2   3   6   9  12  15 \n",
      "\n",
      "   c0  c1  c2  c3  c4\n",
      "0   1   4   7  10  13\n",
      "1   2   5   8  11  14\n",
      "2   3   6   9  12  15 \n",
      "\n",
      "   c0  c1  c2  c3  c4\n",
      "2   3   6   9  12  15\n",
      "1   2   5   8  11  14\n",
      "0   1   4   7  10  13 \n",
      "\n",
      "   c0  c1  c2  c3  c4\n",
      "2   3   6   9  12  15\n",
      "1   2   5   8  11  14\n",
      "0   1   4   7  10  13 \n",
      "\n",
      "0    1\n",
      "1    2\n",
      "2    3\n",
      "Name: c0, dtype: int64 \n",
      "\n"
     ]
    }
   ],
   "source": [
    "dict_data = {'c0':[1,2,3],'c1':[4,5,6],'c2':[7,8,9],'c3':[10,11,12],'c4':[13,14,15]} # 딕셔너리를 활용해 생성\n",
    "df = pd.DataFrame(dict_data)\n",
    "print(df,'\\n')\n",
    "\n",
    "ndf = df.sort_index() # 인덱스의 값을 기준으로 오름차순 정렬\n",
    "print(ndf,'\\n')\n",
    "\n",
    "ndf2 = df.sort_index(ascending=False) # 인덱스 값을 기준으로 내림차순 정렬\n",
    "print(ndf2,'\\n')\n",
    "\n",
    "ndf3 = df.sort_values(by='c0',ascending=False) # 'c0' 컬럼의 값을기준으로 내림차순 정렬\n",
    "print(ndf3,'\\n')\n",
    "\n",
    "ndf4 = df['c0'].sort_values() # 'c0' 컬럼만 값을 기준으로 오름차순 정렬\n",
    "print(ndf4,'\\n')\n"
   ]
  }
 ],
 "metadata": {
  "kernelspec": {
   "display_name": "Python 3 (ipykernel)",
   "language": "python",
   "name": "python3"
  },
  "language_info": {
   "codemirror_mode": {
    "name": "ipython",
    "version": 3
   },
   "file_extension": ".py",
   "mimetype": "text/x-python",
   "name": "python",
   "nbconvert_exporter": "python",
   "pygments_lexer": "ipython3",
   "version": "3.9.7"
  }
 },
 "nbformat": 4,
 "nbformat_minor": 5
}
