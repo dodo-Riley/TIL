{
 "cells": [
  {
   "cell_type": "code",
   "execution_count": 1,
   "id": "1fe5f560",
   "metadata": {},
   "outputs": [],
   "source": [
    "import pandas as pd\n",
    "import numpy as np\n",
    "import seaborn as sns"
   ]
  },
  {
   "cell_type": "markdown",
   "id": "b578b6ec",
   "metadata": {},
   "source": [
    "# 그룹 객체 만들기(분할)"
   ]
  },
  {
   "cell_type": "code",
   "execution_count": 4,
   "id": "a4d665db",
   "metadata": {},
   "outputs": [
    {
     "name": "stdout",
     "output_type": "stream",
     "text": [
      "승객 수 : 891 \n",
      "\n",
      "    age     sex  class     fare  survived\n",
      "0  22.0    male  Third   7.2500         0\n",
      "1  38.0  female  First  71.2833         1\n",
      "2  26.0  female  Third   7.9250         1\n",
      "3  35.0  female  First  53.1000         1\n",
      "4  35.0    male  Third   8.0500         0 \n",
      "\n"
     ]
    }
   ],
   "source": [
    "# 데이터 불러오기\n",
    "titanic = sns.load_dataset('titanic')\n",
    "df = titanic.loc[:,['age','sex','class','fare','survived']]\n",
    "\n",
    "print(f'승객 수 : {len(df)}', '\\n')\n",
    "print(df.head(), '\\n')"
   ]
  },
  {
   "cell_type": "code",
   "execution_count": 6,
   "id": "82432b47",
   "metadata": {},
   "outputs": [
    {
     "data": {
      "text/plain": [
       "<pandas.core.groupby.generic.DataFrameGroupBy object at 0x000002EA9B7E5400>"
      ]
     },
     "execution_count": 6,
     "metadata": {},
     "output_type": "execute_result"
    }
   ],
   "source": [
    "# 데이터 분할\n",
    "grouped = df.groupby(['class']) # class 컬럼을 기준으로 분할\n",
    "grouped"
   ]
  },
  {
   "cell_type": "code",
   "execution_count": 10,
   "id": "0ec2ce76",
   "metadata": {},
   "outputs": [
    {
     "name": "stdout",
     "output_type": "stream",
     "text": [
      "First, 데이터 개수 : 216\n",
      "First에 해당하는 데이터 head() 결과 : \n",
      "      age     sex  class     fare  survived\n",
      "1   38.0  female  First  71.2833         1\n",
      "3   35.0  female  First  53.1000         1\n",
      "6   54.0    male  First  51.8625         0\n",
      "11  58.0  female  First  26.5500         1\n",
      "23  28.0    male  First  35.5000         1 \n",
      "\n",
      "Second, 데이터 개수 : 184\n",
      "Second에 해당하는 데이터 head() 결과 : \n",
      "      age     sex   class     fare  survived\n",
      "9   14.0  female  Second  30.0708         1\n",
      "15  55.0  female  Second  16.0000         1\n",
      "17   NaN    male  Second  13.0000         1\n",
      "20  35.0    male  Second  26.0000         0\n",
      "21  34.0    male  Second  13.0000         1 \n",
      "\n",
      "Third, 데이터 개수 : 491\n",
      "Third에 해당하는 데이터 head() 결과 : \n",
      "     age     sex  class     fare  survived\n",
      "0  22.0    male  Third   7.2500         0\n",
      "2  26.0  female  Third   7.9250         1\n",
      "4  35.0    male  Third   8.0500         0\n",
      "5   NaN    male  Third   8.4583         0\n",
      "7   2.0    male  Third  21.0750         0 \n",
      "\n"
     ]
    }
   ],
   "source": [
    "# 그룹 객체 출력\n",
    "for key,group in grouped:\n",
    "    print(f'{key}, 데이터 개수 : {len(group)}')\n",
    "    print(f'{key}에 해당하는 데이터 head() 결과 : \\n {group.head()}','\\n')"
   ]
  },
  {
   "cell_type": "code",
   "execution_count": 26,
   "id": "8b9a4410",
   "metadata": {},
   "outputs": [
    {
     "name": "stdout",
     "output_type": "stream",
     "text": [
      "              age       fare  survived\n",
      "class                                 \n",
      "First   38.233441  84.154687  0.629630\n",
      "Second  29.877630  20.662183  0.472826\n",
      "Third   25.140620  13.675550  0.242363 \n",
      "\n",
      "            age        fare  survived\n",
      "class                                \n",
      "First   7111.42  18177.4125       136\n",
      "Second  5168.83   3801.8417        87\n",
      "Third   8924.92   6714.6951       119 \n",
      "\n"
     ]
    }
   ],
   "source": [
    "# 그룹 객체에 연산 메소드 적용\n",
    "average = grouped.mean() # grouped의 각 그룹의 컬럼별 평균값 계산(문자열 데이터 컬럼 제외)\n",
    "print(average, '\\n')\n",
    "\n",
    "sum = grouped.sum() # grouped의 각 그룹의 컬럼별 합 계산(문자열 데이터 컬럼 제외)\n",
    "print(sum, '\\n')"
   ]
  },
  {
   "cell_type": "code",
   "execution_count": 27,
   "id": "73177715",
   "metadata": {},
   "outputs": [
    {
     "name": "stdout",
     "output_type": "stream",
     "text": [
      "      age     sex  class     fare  survived\n",
      "0    22.0    male  Third   7.2500         0\n",
      "2    26.0  female  Third   7.9250         1\n",
      "4    35.0    male  Third   8.0500         0\n",
      "5     NaN    male  Third   8.4583         0\n",
      "7     2.0    male  Third  21.0750         0\n",
      "..    ...     ...    ...      ...       ...\n",
      "882  22.0  female  Third  10.5167         0\n",
      "884  25.0    male  Third   7.0500         0\n",
      "885  39.0  female  Third  29.1250         0\n",
      "888   NaN  female  Third  23.4500         0\n",
      "890  32.0    male  Third   7.7500         0\n",
      "\n",
      "[491 rows x 5 columns]\n"
     ]
    }
   ],
   "source": [
    "# 그룹 객체에서 특정 그룹만 선택\n",
    "group3 = grouped.get_group('Third') # Third 클래스만 선택\n",
    "print(group3)"
   ]
  },
  {
   "cell_type": "code",
   "execution_count": 29,
   "id": "c682a7f7",
   "metadata": {},
   "outputs": [
    {
     "name": "stdout",
     "output_type": "stream",
     "text": [
      "('First', 'female'), 데이터 개수 : 94\n",
      "('First', 'female')에 해당하는 데이터 head() 결과 : \n",
      "      age     sex  class      fare  survived\n",
      "1   38.0  female  First   71.2833         1\n",
      "3   35.0  female  First   53.1000         1\n",
      "11  58.0  female  First   26.5500         1\n",
      "31   NaN  female  First  146.5208         1\n",
      "52  49.0  female  First   76.7292         1 \n",
      "\n",
      "('First', 'male'), 데이터 개수 : 122\n",
      "('First', 'male')에 해당하는 데이터 head() 결과 : \n",
      "      age   sex  class      fare  survived\n",
      "6   54.0  male  First   51.8625         0\n",
      "23  28.0  male  First   35.5000         1\n",
      "27  19.0  male  First  263.0000         0\n",
      "30  40.0  male  First   27.7208         0\n",
      "34  28.0  male  First   82.1708         0 \n",
      "\n",
      "('Second', 'female'), 데이터 개수 : 76\n",
      "('Second', 'female')에 해당하는 데이터 head() 결과 : \n",
      "      age     sex   class     fare  survived\n",
      "9   14.0  female  Second  30.0708         1\n",
      "15  55.0  female  Second  16.0000         1\n",
      "41  27.0  female  Second  21.0000         0\n",
      "43   3.0  female  Second  41.5792         1\n",
      "53  29.0  female  Second  26.0000         1 \n",
      "\n",
      "('Second', 'male'), 데이터 개수 : 108\n",
      "('Second', 'male')에 해당하는 데이터 head() 결과 : \n",
      "      age   sex   class  fare  survived\n",
      "17   NaN  male  Second  13.0         1\n",
      "20  35.0  male  Second  26.0         0\n",
      "21  34.0  male  Second  13.0         1\n",
      "33  66.0  male  Second  10.5         0\n",
      "70  32.0  male  Second  10.5         0 \n",
      "\n",
      "('Third', 'female'), 데이터 개수 : 144\n",
      "('Third', 'female')에 해당하는 데이터 head() 결과 : \n",
      "      age     sex  class     fare  survived\n",
      "2   26.0  female  Third   7.9250         1\n",
      "8   27.0  female  Third  11.1333         1\n",
      "10   4.0  female  Third  16.7000         1\n",
      "14  14.0  female  Third   7.8542         0\n",
      "18  31.0  female  Third  18.0000         0 \n",
      "\n",
      "('Third', 'male'), 데이터 개수 : 347\n",
      "('Third', 'male')에 해당하는 데이터 head() 결과 : \n",
      "      age   sex  class     fare  survived\n",
      "0   22.0  male  Third   7.2500         0\n",
      "4   35.0  male  Third   8.0500         0\n",
      "5    NaN  male  Third   8.4583         0\n",
      "7    2.0  male  Third  21.0750         0\n",
      "12  20.0  male  Third   8.0500         0 \n",
      "\n"
     ]
    }
   ],
   "source": [
    "# 여러 컬럼을 기준으로 그룹화\n",
    "grouped_2 = df.groupby(['class','sex'])\n",
    "\n",
    "for key,group in grouped_2:\n",
    "    print(f'{key}, 데이터 개수 : {len(group)}')\n",
    "    print(f'{key}에 해당하는 데이터 head() 결과 : \\n {group.head()}','\\n')"
   ]
  },
  {
   "cell_type": "code",
   "execution_count": 34,
   "id": "06618af3",
   "metadata": {},
   "outputs": [
    {
     "name": "stdout",
     "output_type": "stream",
     "text": [
      "                     age        fare  survived\n",
      "class  sex                                    \n",
      "First  female  34.611765  106.125798  0.968085\n",
      "       male    41.281386   67.226127  0.368852\n",
      "Second female  28.722973   21.970121  0.921053\n",
      "       male    30.740707   19.741782  0.157407\n",
      "Third  female  21.750000   16.118810  0.500000\n",
      "       male    26.507589   12.661633  0.135447 \n",
      "\n",
      "MultiIndex([( 'First', 'female'),\n",
      "            ( 'First',   'male'),\n",
      "            ('Second', 'female'),\n",
      "            ('Second',   'male'),\n",
      "            ( 'Third', 'female'),\n",
      "            ( 'Third',   'male')],\n",
      "           names=['class', 'sex']) \n",
      "\n"
     ]
    }
   ],
   "source": [
    "# 여러 열을 기준으로 생성한 그룹 객체 연산 적용\n",
    "average_2 = grouped_2.mean() # grouped의 각 그룹의 컬럼별 평균값 계산(문자열 데이터 컬럼 제외)\n",
    "print(average_2, '\\n') \n",
    "print(average_2.index, '\\n') # 멀티 인덱스 임을 확인할 수 있음"
   ]
  },
  {
   "cell_type": "code",
   "execution_count": 36,
   "id": "afb2be64",
   "metadata": {},
   "outputs": [
    {
     "name": "stdout",
     "output_type": "stream",
     "text": [
      "      age     sex  class     fare  survived\n",
      "2    26.0  female  Third   7.9250         1\n",
      "8    27.0  female  Third  11.1333         1\n",
      "10    4.0  female  Third  16.7000         1\n",
      "14   14.0  female  Third   7.8542         0\n",
      "18   31.0  female  Third  18.0000         0\n",
      "..    ...     ...    ...      ...       ...\n",
      "863   NaN  female  Third  69.5500         0\n",
      "875  15.0  female  Third   7.2250         1\n",
      "882  22.0  female  Third  10.5167         0\n",
      "885  39.0  female  Third  29.1250         0\n",
      "888   NaN  female  Third  23.4500         0\n",
      "\n",
      "[144 rows x 5 columns]\n"
     ]
    }
   ],
   "source": [
    "# 그룹 객체에서 특정 그룹만 선택\n",
    "group3f = grouped_2.get_group(('Third','female')) # key= (Third, female)인 그룹만 선택, 전달되는 키는 튜플형태여야함\n",
    "print(group3f)"
   ]
  },
  {
   "cell_type": "markdown",
   "id": "72338161",
   "metadata": {},
   "source": [
    "# 그룹 연산 메소드(적용, 결합)"
   ]
  },
  {
   "cell_type": "code",
   "execution_count": 42,
   "id": "d55bf5b8",
   "metadata": {},
   "outputs": [
    {
     "name": "stdout",
     "output_type": "stream",
     "text": [
      "              age       fare  survived\n",
      "class                                 \n",
      "First   14.802856  78.380373  0.484026\n",
      "Second  14.001077  13.417399  0.500623\n",
      "Third   12.495398  11.778142  0.428949 \n",
      "\n",
      "<class 'pandas.core.frame.DataFrame'> \n",
      "\n",
      "class\n",
      "First     78.380373\n",
      "Second    13.417399\n",
      "Third     11.778142\n",
      "Name: fare, dtype: float64 \n",
      "\n",
      "<class 'pandas.core.series.Series'> \n",
      "\n",
      "        age  sex  fare  survived\n",
      "class                           \n",
      "First   186  216   216       216\n",
      "Second  173  184   184       184\n",
      "Third   355  491   491       491 \n",
      "\n",
      "<class 'pandas.core.frame.DataFrame'> \n",
      "\n"
     ]
    }
   ],
   "source": [
    "## 데이터 집계(aggreagation)\n",
    "\n",
    "# 판다스 기본 내장함수 사용(mean,man,min,sum,count,size,var,std,describe,info,first,last 등)\n",
    "titanic = sns.load_dataset('titanic')\n",
    "df = titanic.loc[:,['age','sex','class','fare','survived']]\n",
    "\n",
    "grouped = df.groupby(by=['class']) # 그룹 객체 생성\n",
    "\n",
    "std_all = grouped.std() # 그룹의 모든 연산 가능한 컬럼에 대해 표준편차 계산\n",
    "print(std_all, '\\n')\n",
    "print(type(std_all), '\\n')\n",
    "\n",
    "std_fare = grouped.fare.std() # 그룹의 fare 컬럼에 대해 표준편자 계산\n",
    "print(std_fare, '\\n')\n",
    "print(type(std_fare), '\\n')\n",
    "\n",
    "count_all = grouped.count() # 그룹의 모든 연산 가능한 컬럼에 대해 표준편차 계산\n",
    "print(count_all, '\\n')\n",
    "print(type(count_all), '\\n')"
   ]
  },
  {
   "cell_type": "code",
   "execution_count": 47,
   "id": "b1015f4d",
   "metadata": {},
   "outputs": [
    {
     "name": "stdout",
     "output_type": "stream",
     "text": [
      "          age      fare  survived\n",
      "class                            \n",
      "First   79.08  512.3292         1\n",
      "Second  69.33   73.5000         1\n",
      "Third   73.58   69.5500         1 \n",
      "\n",
      "         age           sex       fare           survived    \n",
      "         min   max     min   max  min       max      min max\n",
      "class                                                       \n",
      "First   0.92  80.0  female  male  0.0  512.3292        0   1\n",
      "Second  0.67  70.0  female  male  0.0   73.5000        0   1\n",
      "Third   0.42  74.0  female  male  0.0   69.5500        0   1 \n",
      "\n",
      "       fare                  age\n",
      "        min       max       mean\n",
      "class                           \n",
      "First   0.0  512.3292  38.233441\n",
      "Second  0.0   73.5000  29.877630\n",
      "Third   0.0   69.5500  25.140620 \n",
      "\n"
     ]
    },
    {
     "name": "stderr",
     "output_type": "stream",
     "text": [
      "C:\\ProgramData\\Anaconda3\\lib\\site-packages\\pandas\\core\\groupby\\generic.py:303: FutureWarning: Dropping invalid columns in SeriesGroupBy.agg is deprecated. In a future version, a TypeError will be raised. Before calling .agg, select only columns which should be valid for the aggregating function.\n",
      "  results[key] = self.aggregate(func)\n"
     ]
    }
   ],
   "source": [
    "## agg() 메소드 사용\n",
    "def min_max(x): # 입력한 데이터의 최대값과 최소값의 차이를 반환하는 함수 정의\n",
    "    return x.max()-x.min()\n",
    "\n",
    "agg_minmax = grouped.agg(min_max) # grouped의 각 그룹별 가능한 컬럼에 min_max함수를 적용\n",
    "print(agg_minmax, '\\n')\n",
    "\n",
    "agg_all = grouped.agg(['min','max']) # 적용할 함수를 여러개 전달\n",
    "print(agg_all, '\\n')\n",
    "\n",
    "agg_sep = grouped.agg({'fare':['min','max'],'age':'mean'}) # fare 컬럼은 min과 max 함수 적용, age 컬럼은 mean 함수 적용\n",
    "print(agg_sep, '\\n')"
   ]
  },
  {
   "cell_type": "code",
   "execution_count": 49,
   "id": "61812e42",
   "metadata": {},
   "outputs": [
    {
     "name": "stdout",
     "output_type": "stream",
     "text": [
      "class\n",
      "First     38.233441\n",
      "Second    29.877630\n",
      "Third     25.140620\n",
      "Name: age, dtype: float64 \n",
      "\n",
      "class\n",
      "First     14.802856\n",
      "Second    14.001077\n",
      "Third     12.495398\n",
      "Name: age, dtype: float64 \n",
      "\n",
      "* origin : First \n",
      " 1     -0.015770\n",
      "3     -0.218434\n",
      "6      1.065103\n",
      "11     1.335321\n",
      "23    -0.691315\n",
      "         ...   \n",
      "871    0.592221\n",
      "872   -0.353543\n",
      "879    1.200212\n",
      "887   -1.299306\n",
      "889   -0.826424\n",
      "Name: age, Length: 216, dtype: float64 \n",
      "\n",
      "* origin : Second \n",
      " 9     -1.134029\n",
      "15     1.794317\n",
      "17          NaN\n",
      "20     0.365855\n",
      "21     0.294432\n",
      "         ...   \n",
      "866   -0.205529\n",
      "874   -0.134106\n",
      "880   -0.348375\n",
      "883   -0.134106\n",
      "886   -0.205529\n",
      "Name: age, Length: 184, dtype: float64 \n",
      "\n",
      "* origin : Third \n",
      " 0     -0.251342\n",
      "2      0.068776\n",
      "4      0.789041\n",
      "5           NaN\n",
      "7     -1.851931\n",
      "         ...   \n",
      "882   -0.251342\n",
      "884   -0.011254\n",
      "885    1.109159\n",
      "888         NaN\n",
      "890    0.548953\n",
      "Name: age, Length: 491, dtype: float64 \n",
      "\n"
     ]
    }
   ],
   "source": [
    "# 그룹연산 데이터 변환\n",
    "age_mean = grouped.age.mean() # age 컬럼의 평균을 각 그룹별로 반환\n",
    "print(age_mean, '\\n')\n",
    "\n",
    "age_std = grouped.age.std() # age 컬럼의 표준편자를 각 그룹별로 반환\n",
    "print(age_std, '\\n')\n",
    "\n",
    "for key,group in grouped.age: # group의 모든 age 컬럼에 대해 반복\n",
    "    group_zscore = (group - age_mean.loc[key])/age_std.loc[key] # z-score=(값-평균)/표준편차 계산(단, 전체가아닌 그룹별로 따로 계산됨)\n",
    "    print(f'* origin : {key} \\n {group_zscore}', '\\n')"
   ]
  },
  {
   "cell_type": "code",
   "execution_count": 50,
   "id": "428902e5",
   "metadata": {},
   "outputs": [
    {
     "name": "stdout",
     "output_type": "stream",
     "text": [
      "1     -0.015770\n",
      "889   -0.826424\n",
      "9     -1.134029\n",
      "886   -0.205529\n",
      "0     -0.251342\n",
      "890    0.548953\n",
      "Name: age, dtype: float64 \n",
      "\n",
      "891 \n",
      "\n",
      "0   -0.251342\n",
      "1   -0.015770\n",
      "2    0.068776\n",
      "3   -0.218434\n",
      "4    0.789041\n",
      "5         NaN\n",
      "6    1.065103\n",
      "7   -1.851931\n",
      "8    0.148805\n",
      "9   -1.134029\n",
      "Name: age, dtype: float64 \n",
      "\n",
      "<class 'pandas.core.series.Series'> \n",
      "\n"
     ]
    }
   ],
   "source": [
    "# transform() 메소드 사용\n",
    "# 그룹별로 구분하여 각 원소에 함수를 적용하지만, 반환 결과는 각 원소의 본래 인덱스와 컬럼명을 가지고 반환됨\n",
    "# 다시 말해, 그룹 연산의 결과를 원본 데이터프레임과 같은 형태로 변형하여 정리하는 것\n",
    "\n",
    "def z_score(x):\n",
    "    return (x-x.mean())/x.std()\n",
    "\n",
    "age_zscore = grouped.age.transform(z_score)\n",
    "print(age_zscore.loc[[1,889,9,886,0,890]], '\\n') # 반복문을 통해 진행한 그룹연산의 결과와 인덱스, 값이 동일함을 확인\n",
    "print(len(age_zscore), '\\n')\n",
    "print(age_zscore.loc[0:9], '\\n')\n",
    "print(type(age_zscore), '\\n')"
   ]
  },
  {
   "cell_type": "code",
   "execution_count": 52,
   "id": "b69547cc",
   "metadata": {},
   "outputs": [
    {
     "name": "stdout",
     "output_type": "stream",
     "text": [
      "      age     sex  class     fare  survived\n",
      "0    22.0    male  Third   7.2500         0\n",
      "1    38.0  female  First  71.2833         1\n",
      "2    26.0  female  Third   7.9250         1\n",
      "3    35.0  female  First  53.1000         1\n",
      "4    35.0    male  Third   8.0500         0\n",
      "..    ...     ...    ...      ...       ...\n",
      "885  39.0  female  Third  29.1250         0\n",
      "887  19.0  female  First  30.0000         1\n",
      "888   NaN  female  Third  23.4500         0\n",
      "889  26.0    male  First  30.0000         1\n",
      "890  32.0    male  Third   7.7500         0\n",
      "\n",
      "[707 rows x 5 columns] \n",
      "\n",
      "<class 'pandas.core.frame.DataFrame'> \n",
      "\n",
      "      age     sex   class     fare  survived\n",
      "0    22.0    male   Third   7.2500         0\n",
      "2    26.0  female   Third   7.9250         1\n",
      "4    35.0    male   Third   8.0500         0\n",
      "5     NaN    male   Third   8.4583         0\n",
      "7     2.0    male   Third  21.0750         0\n",
      "..    ...     ...     ...      ...       ...\n",
      "884  25.0    male   Third   7.0500         0\n",
      "885  39.0  female   Third  29.1250         0\n",
      "886  27.0    male  Second  13.0000         0\n",
      "888   NaN  female   Third  23.4500         0\n",
      "890  32.0    male   Third   7.7500         0\n",
      "\n",
      "[675 rows x 5 columns] \n",
      "\n",
      "<class 'pandas.core.frame.DataFrame'> \n",
      "\n"
     ]
    }
   ],
   "source": [
    "# 그룹 객체 필터링\n",
    "\n",
    "grouped_filter = grouped.filter(lambda x: len(x) >= 200) # 데이터의 개수가 200개 이상인 그룹만 추출\n",
    "print(grouped_filter, '\\n')\n",
    "print(type(grouped_filter), '\\n')\n",
    "\n",
    "age_filter = grouped.filter(lambda x: x.age.mean() < 30) # age 컬럼 값들의 평균이 30 미만인 그룹만 추출\n",
    "print(age_filter, '\\n')\n",
    "print(type(age_filter), '\\n')"
   ]
  },
  {
   "cell_type": "code",
   "execution_count": 59,
   "id": "86086cb8",
   "metadata": {},
   "outputs": [
    {
     "name": "stdout",
     "output_type": "stream",
     "text": [
      "                     age        fare    survived\n",
      "class                                           \n",
      "First  count  186.000000  216.000000  216.000000\n",
      "       mean    38.233441   84.154687    0.629630\n",
      "       std     14.802856   78.380373    0.484026\n",
      "       min      0.920000    0.000000    0.000000\n",
      "       25%     27.000000   30.923950    0.000000\n",
      "       50%     37.000000   60.287500    1.000000\n",
      "       75%     49.000000   93.500000    1.000000\n",
      "       max     80.000000  512.329200    1.000000\n",
      "Second count  173.000000  184.000000  184.000000\n",
      "       mean    29.877630   20.662183    0.472826\n",
      "       std     14.001077   13.417399    0.500623\n",
      "       min      0.670000    0.000000    0.000000\n",
      "       25%     23.000000   13.000000    0.000000\n",
      "       50%     29.000000   14.250000    0.000000\n",
      "       75%     36.000000   26.000000    1.000000\n",
      "       max     70.000000   73.500000    1.000000\n",
      "Third  count  355.000000  491.000000  491.000000\n",
      "       mean    25.140620   13.675550    0.242363\n",
      "       std     12.495398   11.778142    0.428949\n",
      "       min      0.420000    0.000000    0.000000\n",
      "       25%     18.000000    7.750000    0.000000\n",
      "       50%     24.000000    8.050000    0.000000\n",
      "       75%     32.000000   15.500000    0.000000\n",
      "       max     74.000000   69.550000    1.000000 \n",
      "\n",
      "0     -0.251342\n",
      "1     -0.015770\n",
      "2      0.068776\n",
      "3     -0.218434\n",
      "4      0.789041\n",
      "         ...   \n",
      "886   -0.205529\n",
      "887   -1.299306\n",
      "888         NaN\n",
      "889   -0.826424\n",
      "890    0.548953\n",
      "Name: age, Length: 891, dtype: float64 \n",
      "\n"
     ]
    }
   ],
   "source": [
    "# 그룹 객체에 함수 매핑\n",
    "agg_grouped = grouped.apply(lambda x: x.describe()) # apply() 메소드는 원래 시리즈의 각 원소나 데이터프레임의 각 행또는 열에 함수를 매핑, 그룹객체에도 가능\n",
    "print(agg_grouped, '\\n')\n",
    "\n",
    "def z_score(x):\n",
    "    return (x-x.mean())/x.std()\n",
    "\n",
    "age_zscore = grouped.age.apply(z_score) # 그룹별 z score 계산, axis=0이 디폴트\n",
    "print(age_zscore,'\\n')"
   ]
  },
  {
   "cell_type": "code",
   "execution_count": 61,
   "id": "86ccff53",
   "metadata": {},
   "outputs": [
    {
     "name": "stdout",
     "output_type": "stream",
     "text": [
      "class\n",
      "First     False\n",
      "Second     True\n",
      "Third      True\n",
      "dtype: bool \n",
      "\n",
      "     age     sex   class     fare  survived\n",
      "9   14.0  female  Second  30.0708         1\n",
      "15  55.0  female  Second  16.0000         1\n",
      "17   NaN    male  Second  13.0000         1\n",
      "20  35.0    male  Second  26.0000         0\n",
      "21  34.0    male  Second  13.0000         1 \n",
      "\n",
      "    age     sex  class     fare  survived\n",
      "0  22.0    male  Third   7.2500         0\n",
      "2  26.0  female  Third   7.9250         1\n",
      "4  35.0    male  Third   8.0500         0\n",
      "5   NaN    male  Third   8.4583         0\n",
      "7   2.0    male  Third  21.0750         0 \n",
      "\n"
     ]
    }
   ],
   "source": [
    "age_filter = grouped.apply(lambda x: x.age.mean() < 30) # 각 그룹에서 age컬럼의 평균이 30미만인 그룹만 True 반환/나머지 False반환 \n",
    "print(age_filter,'\\n')\n",
    "\n",
    "for x in age_filter.index:\n",
    "    if age_filter[x]==True: # 위에서 True값을 가지는 행에 대해서\n",
    "        age_filter_df = grouped.get_group(x) # grouped 객체에서 해당 행 인덱스와 동일한 key의 그룹만 추출\n",
    "        print(age_filter_df.head(),'\\n')"
   ]
  }
 ],
 "metadata": {
  "kernelspec": {
   "display_name": "Python 3 (ipykernel)",
   "language": "python",
   "name": "python3"
  },
  "language_info": {
   "codemirror_mode": {
    "name": "ipython",
    "version": 3
   },
   "file_extension": ".py",
   "mimetype": "text/x-python",
   "name": "python",
   "nbconvert_exporter": "python",
   "pygments_lexer": "ipython3",
   "version": "3.9.7"
  }
 },
 "nbformat": 4,
 "nbformat_minor": 5
}
