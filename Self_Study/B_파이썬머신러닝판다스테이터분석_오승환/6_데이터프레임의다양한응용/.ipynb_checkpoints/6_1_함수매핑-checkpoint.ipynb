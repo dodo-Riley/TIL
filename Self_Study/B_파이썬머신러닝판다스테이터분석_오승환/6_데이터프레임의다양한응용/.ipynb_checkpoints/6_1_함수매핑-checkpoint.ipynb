{
 "cells": [
  {
   "cell_type": "code",
   "execution_count": 1,
   "id": "8011e74b",
   "metadata": {},
   "outputs": [],
   "source": [
    "import pandas as pd\n",
    "import numpy as np\n",
    "import seaborn as sns\n",
    "import matplotlib.pyplot as plt"
   ]
  },
  {
   "cell_type": "markdown",
   "id": "938401f7",
   "metadata": {},
   "source": [
    "# 개별 원소에 함수 매핑"
   ]
  },
  {
   "cell_type": "code",
   "execution_count": 4,
   "id": "a17b9a05",
   "metadata": {},
   "outputs": [
    {
     "name": "stdout",
     "output_type": "stream",
     "text": [
      "    age     fare  ten\n",
      "0  22.0   7.2500   10\n",
      "1  38.0  71.2833   10\n",
      "2  26.0   7.9250   10\n",
      "3  35.0  53.1000   10\n",
      "4  35.0   8.0500   10 \n",
      "\n"
     ]
    }
   ],
   "source": [
    "titanic = sns.load_dataset('titanic') # seaborn 라이브러리의 titanic 데이터셋 불러오기\n",
    "df = titanic.loc[:,['age','fare']] # titanic 데이터셋의 모든 행,  age,fare 컬럼을 데이터프레임으로 생성\n",
    "df['ten'] = 10 # ten 컬럼을 모든 값을 10으로 생성\n",
    "print(df.head(), '\\n')"
   ]
  },
  {
   "cell_type": "code",
   "execution_count": 5,
   "id": "c7834f4d",
   "metadata": {},
   "outputs": [
    {
     "name": "stdout",
     "output_type": "stream",
     "text": [
      "20 \n",
      "\n",
      "20 \n",
      "\n"
     ]
    }
   ],
   "source": [
    "def add_10(n): # 값에 10을 더하는 함수 정의\n",
    "    return n+10\n",
    "\n",
    "def add_two_obj(a,b): # 인자를 더하는 함수 정의\n",
    "    return a+b\n",
    "\n",
    "print(add_10(10), '\\n')\n",
    "print(add_two_obj(10,10), '\\n')"
   ]
  },
  {
   "cell_type": "code",
   "execution_count": 7,
   "id": "a0ef1223",
   "metadata": {},
   "outputs": [
    {
     "name": "stdout",
     "output_type": "stream",
     "text": [
      "0    32.0\n",
      "1    48.0\n",
      "2    36.0\n",
      "3    45.0\n",
      "4    45.0\n",
      "Name: age, dtype: float64 \n",
      "\n",
      "0    32.0\n",
      "1    48.0\n",
      "2    36.0\n",
      "3    45.0\n",
      "4    45.0\n",
      "Name: age, dtype: float64 \n",
      "\n",
      "0    32.0\n",
      "1    48.0\n",
      "2    36.0\n",
      "3    45.0\n",
      "4    45.0\n",
      "Name: age, dtype: float64 \n",
      "\n"
     ]
    }
   ],
   "source": [
    "# 시리즈 원소에 함수 매핑\n",
    "sr1 = df['age'].apply(add_10) # df의 age컬럼의 각 값에 대해서 add_10()함수를 적용한 뒤 시리즈로 반환\n",
    "print(sr1.head(), '\\n')\n",
    "\n",
    "sr2 = df['age'].apply(add_two_obj, b=10)  # df의 age컬럼의 각 값에 대해서 add_two_obj() 함수를 적용한 뒤 시리즈로 반환, b=10으로 고정\n",
    "print(sr2.head(), '\\n')\n",
    "\n",
    "sr3 = df['age'].apply(lambda x: add_10(x)) # lambda를 이용해 적용할 함수를 생성하고, 해당 함수를 age컬럼의 각 값에 적용 후 시리즈로 반환\n",
    "print(sr3.head(), '\\n')"
   ]
  },
  {
   "cell_type": "code",
   "execution_count": 8,
   "id": "00273022",
   "metadata": {},
   "outputs": [
    {
     "name": "stdout",
     "output_type": "stream",
     "text": [
      "    age     fare\n",
      "0  22.0   7.2500\n",
      "1  38.0  71.2833\n",
      "2  26.0   7.9250\n",
      "3  35.0  53.1000\n",
      "4  35.0   8.0500 \n",
      "\n",
      "      age     fare\n",
      "0    32.0  17.2500\n",
      "1    48.0  81.2833\n",
      "2    36.0  17.9250\n",
      "3    45.0  63.1000\n",
      "4    45.0  18.0500\n",
      "..    ...      ...\n",
      "886  37.0  23.0000\n",
      "887  29.0  40.0000\n",
      "888   NaN  33.4500\n",
      "889  36.0  40.0000\n",
      "890  42.0  17.7500\n",
      "\n",
      "[891 rows x 2 columns] \n",
      "\n"
     ]
    }
   ],
   "source": [
    "# 데이터프레임 원소에 함수 매핑\n",
    "titanic = sns.load_dataset('titanic')\n",
    "df = titanic.loc[:,['age','fare']] \n",
    "print(df.head(), '\\n')\n",
    "\n",
    "def add_10(n): \n",
    "    return n+10\n",
    "\n",
    "df_map = df.applymap(add_10) # 데이터프레임 df의 모든 값에 대해 각각 add_10함수를 적용한 결과를 데이터프레임으로 반환\n",
    "print(df_map, '\\n')"
   ]
  },
  {
   "cell_type": "code",
   "execution_count": 12,
   "id": "c025c44f",
   "metadata": {},
   "outputs": [
    {
     "name": "stdout",
     "output_type": "stream",
     "text": [
      "    age     fare\n",
      "0  22.0   7.2500\n",
      "1  38.0  71.2833\n",
      "2  26.0   7.9250\n",
      "3  35.0  53.1000\n",
      "4  35.0   8.0500 \n",
      "\n",
      "       age   fare\n",
      "0    False  False\n",
      "1    False  False\n",
      "2    False  False\n",
      "3    False  False\n",
      "4    False  False\n",
      "..     ...    ...\n",
      "886  False  False\n",
      "887  False  False\n",
      "888   True  False\n",
      "889  False  False\n",
      "890  False  False\n",
      "\n",
      "[891 rows x 2 columns] \n",
      "\n",
      "<class 'pandas.core.frame.DataFrame'> \n",
      "\n",
      "age      79.5800\n",
      "fare    512.3292\n",
      "dtype: float64 \n",
      "\n",
      "<class 'pandas.core.series.Series'> \n",
      "\n"
     ]
    }
   ],
   "source": [
    "# 시리즈 객체에 함수 매핑\n",
    "titanic = sns.load_dataset('titanic')\n",
    "df = titanic.loc[:,['age','fare']] \n",
    "print(df.head(), '\\n')\n",
    "\n",
    "def missing_value(series): # 시리즈 객체를 입력받아 isnull() 함수(해당 시리즈의 값이 NaN이면 True, 아니면 False를 반환)를 적용한 결과를 반환하는 함수 정의\n",
    "    return series.isnull()\n",
    "\n",
    "result = df.apply(missing_value, axis=0) # axis=0을 통해 행 기준(세로방향)으로 df의 각 요소에 missing_value함수를 적용한 결과를 반환\n",
    "print(result, '\\n')\n",
    "print(type(result), '\\n')\n",
    "\n",
    "def min_max(x): # 입력한 데이터의 최대값과 최소값의 뺄셈 결과를 반환하는 함수 정의\n",
    "    return x.max() - x.min()\n",
    "\n",
    "result2 = df.apply(min_max) # axis=0이 default, 세로방향이므로 각 컬럼에 대해 최대값-최소값의 결과를 반환함\n",
    "print(result2, '\\n')\n",
    "print(type(result2), '\\n')"
   ]
  },
  {
   "cell_type": "code",
   "execution_count": 13,
   "id": "f77b35d1",
   "metadata": {},
   "outputs": [
    {
     "name": "stdout",
     "output_type": "stream",
     "text": [
      "    age     fare  ten\n",
      "0  22.0   7.2500   10\n",
      "1  38.0  71.2833   10\n",
      "2  26.0   7.9250   10\n",
      "3  35.0  53.1000   10\n",
      "4  35.0   8.0500   10 \n",
      "\n",
      "    age     fare  ten   add\n",
      "0  22.0   7.2500   10  32.0\n",
      "1  38.0  71.2833   10  48.0\n",
      "2  26.0   7.9250   10  36.0\n",
      "3  35.0  53.1000   10  45.0\n",
      "4  35.0   8.0500   10  45.0 \n",
      "\n"
     ]
    }
   ],
   "source": [
    "# 데이터프레임의 각 행에 함수 매핑\n",
    "titanic = sns.load_dataset('titanic')\n",
    "df = titanic.loc[:,['age','fare']] \n",
    "df['ten'] = 10 \n",
    "print(df.head(), '\\n')\n",
    "\n",
    "def add_two_obj(a,b): # 인자를 더하는 함수 정의\n",
    "    return a+b\n",
    "\n",
    "df['add'] = df.apply(lambda x: add_two_obj(x['age'], x['ten']), axis =1)\n",
    "# add_two_obj함수를 해당 데이터프레임의 age열과 ten열의 값을 인자로 사용해 수행,axis=1이므로 가로방향(열 기준) 진행\n",
    "print(df.head(), '\\n')"
   ]
  },
  {
   "cell_type": "code",
   "execution_count": 18,
   "id": "3c0bd9da",
   "metadata": {},
   "outputs": [
    {
     "name": "stdout",
     "output_type": "stream",
     "text": [
      "    age     fare\n",
      "0  22.0   7.2500\n",
      "1  38.0  71.2833\n",
      "2  26.0   7.9250\n",
      "3  35.0  53.1000\n",
      "4  35.0   8.0500 \n",
      "\n",
      "       age   fare\n",
      "0    False  False\n",
      "1    False  False\n",
      "2    False  False\n",
      "3    False  False\n",
      "4    False  False\n",
      "..     ...    ...\n",
      "886  False  False\n",
      "887  False  False\n",
      "888   True  False\n",
      "889  False  False\n",
      "890  False  False\n",
      "\n",
      "[891 rows x 2 columns] \n",
      "\n",
      "<class 'pandas.core.frame.DataFrame'> \n",
      "\n",
      "age     177\n",
      "fare      0\n",
      "dtype: int64 \n",
      "\n",
      "<class 'pandas.core.series.Series'> \n",
      "\n",
      "177 \n",
      "\n",
      "<class 'numpy.int64'> \n",
      "\n"
     ]
    }
   ],
   "source": [
    "# 데이터프레임 객체에 함수 매핑\n",
    "titanic = sns.load_dataset('titanic')\n",
    "df = titanic.loc[:,['age','fare']] \n",
    "print(df.head(), '\\n')\n",
    "\n",
    "def missing_value(x): # 입력한 데이터에서 NaN이 존재하면 True, 아니면 False 반환\n",
    "    return x.isnull()\n",
    "\n",
    "def missing_count(x): # 입력 데이터에서 NaN의 개수를 컬럼별로 반환\n",
    "    return missing_value(x).sum()\n",
    "\n",
    "def total_number_missing(x): # 입력 데이터에서 총 NaN 개수를 반환\n",
    "    return missing_count(x).sum()\n",
    "\n",
    "result_df = df.pipe(missing_value)\n",
    "print(result_df, '\\n')\n",
    "print(type(result_df), '\\n')\n",
    "\n",
    "result_df2 = df.pipe(missing_count)\n",
    "print(result_df2, '\\n')\n",
    "print(type(result_df2), '\\n')\n",
    "\n",
    "result_df3 = df.pipe(total_number_missing)\n",
    "print(result_df3, '\\n')\n",
    "print(type(result_df3), '\\n')"
   ]
  }
 ],
 "metadata": {
  "kernelspec": {
   "display_name": "Python 3 (ipykernel)",
   "language": "python",
   "name": "python3"
  },
  "language_info": {
   "codemirror_mode": {
    "name": "ipython",
    "version": 3
   },
   "file_extension": ".py",
   "mimetype": "text/x-python",
   "name": "python",
   "nbconvert_exporter": "python",
   "pygments_lexer": "ipython3",
   "version": "3.9.7"
  }
 },
 "nbformat": 4,
 "nbformat_minor": 5
}
