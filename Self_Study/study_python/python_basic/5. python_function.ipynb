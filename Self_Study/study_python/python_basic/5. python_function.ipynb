{
 "cells": [
  {
   "cell_type": "markdown",
   "id": "c957abc8",
   "metadata": {},
   "source": [
    "# 함수 정의 및 호출"
   ]
  },
  {
   "cell_type": "code",
   "execution_count": 7,
   "id": "28888993",
   "metadata": {},
   "outputs": [
    {
     "name": "stdout",
     "output_type": "stream",
     "text": [
      "안녕하세요!\n",
      "저의 이름은 파이썬입니다.\n",
      "안녕하세요!\n",
      "저의 이름은, 송종호입니다.\n",
      "안녕하세요!\n",
      "저의 이름은, 송종호입니다.\n",
      "나이는, 31살입니다.\n",
      "이름과 나이를 공백으로 구분해 입력하세요 : 송종호 31\n",
      "송종호님의 31번째 생일을 축하합니다\n"
     ]
    }
   ],
   "source": [
    "def introduce(): # 함수 정의\n",
    "    print('안녕하세요!')\n",
    "    print('저의 이름은 파이썬입니다.')\n",
    "introduce() # 함수 호출\n",
    "\n",
    "# introduce()\n",
    "# def introduce():\n",
    "#    print('안녕하세요!')\n",
    "#    print('저의 이름은 파이썬입니다.')\n",
    "# 위와 같은 순서로 함수를 정의하지 않고 호출하면 오류가 발생한다\n",
    "\n",
    "def introduce2(name): # 함수에 전달될 매개변수를 지정\n",
    "    print('안녕하세요!')\n",
    "    print('저의 이름은, '+name+'입니다.')\n",
    "introduce2('송종호')\n",
    "\n",
    "def introduce3(name, age): # 매개변수는 2개 이상이 될 수 있다\n",
    "    print('안녕하세요!')\n",
    "    print('저의 이름은, '+name+'입니다.')\n",
    "    print('나이는, '+str(age)+'살입니다.')\n",
    "introduce3('송종호',31)\n",
    "\n",
    "# 연습문제 : 이름과 나이를 입력받아 아래 메시지를 출력\n",
    "# 메시지 : ''님의 ''번째 생일을 축하합니다\n",
    "\n",
    "def congrat(name,age):\n",
    "    print(f'{name}님의 {age}번째 생일을 축하합니다')\n",
    "name, age = input('이름과 나이를 공백으로 구분해 입력하세요 : ').split()\n",
    "congrat(name,age)"
   ]
  },
  {
   "cell_type": "markdown",
   "id": "147c7641",
   "metadata": {},
   "source": [
    "# 함수의 return"
   ]
  },
  {
   "cell_type": "code",
   "execution_count": 17,
   "id": "51f77e1a",
   "metadata": {},
   "outputs": [
    {
     "name": "stdout",
     "output_type": "stream",
     "text": [
      "plus: 3\n",
      "3 -1\n",
      "홀수\n"
     ]
    },
    {
     "data": {
      "text/plain": [
       "True"
      ]
     },
     "execution_count": 17,
     "metadata": {},
     "output_type": "execute_result"
    }
   ],
   "source": [
    "def get_plus(n1,n2): # 두 수를 입력받아 덧셈 후 결과를 반환(반환값1개)\n",
    "    return n1+n2 # 함수는 return을 만나면 종료된다\n",
    "plus = get_plus(1,2)\n",
    "print('plus:',plus)\n",
    "\n",
    "def get_plus_minus(n1,n2): # 두 수를 입력받아 덧셈과 뺄셈 후 결과를 반환(반환값2개)\n",
    "    return n1+n2, n1-n2\n",
    "plus,minus = get_plus_minus(1,2)\n",
    "print(plus,minus)\n",
    "\n",
    "def is_odd_even(n): # 숫자를 입력받아 홀/짝을 판별하고 그 결과를 반환\n",
    "    if n == 0:\n",
    "        result=0\n",
    "    elif n%2==0:\n",
    "        result='짝수'\n",
    "    else:\n",
    "        result='홀수' \n",
    "    return result\n",
    "print(is_odd_even(55))\n",
    "\n",
    "# 연습문제 : 숫자를 입력받고 해당 수가 소수이면 True, 아니면 False를 반환하는 함수 정의\n",
    "def prime(number):\n",
    "    if number <= 1:\n",
    "        print('1 이하의 수는 판별할 수 없습니다.')\n",
    "    count = 0\n",
    "    for i in range(2, number+1):\n",
    "        if number%i == 0:\n",
    "            count += 1\n",
    "    if count > 1 :\n",
    "        return False\n",
    "    else:\n",
    "        return True\n",
    "prime(17)"
   ]
  },
  {
   "cell_type": "markdown",
   "id": "7d692102",
   "metadata": {},
   "source": [
    "# 함수의 인수전달"
   ]
  },
  {
   "cell_type": "code",
   "execution_count": 28,
   "id": "da0a2a4e",
   "metadata": {},
   "outputs": [
    {
     "name": "stdout",
     "output_type": "stream",
     "text": [
      "안녕! 친구 오랜만이야\n",
      "안녕! 친구 오랜만이야\n",
      "안녕! 친구 반가워\n",
      "-20\n",
      "-20\n",
      "2.0\n",
      "3.0\n",
      "(1, 2, 3)\n",
      "2.0\n",
      "1@2@3\n",
      "4 5\n"
     ]
    }
   ],
   "source": [
    "def greet(name, msg): # 함수에 전달되는 인수는 정의 시 정한 매개변수의 순서와 동일하게 전달된다\n",
    "    print('안녕!',name,msg)\n",
    "greet('친구','오랜만이야')\n",
    "\n",
    "def greet(name, msg='오랜만이야'): # 함수 정의 시 매개변수의 default 값을 지정할 수 있다\n",
    "    print('안녕!',name,msg)\n",
    "greet('친구') # 인수를 생략할 경우, default 값으로 함수가 수행된 결과가 나온다\n",
    "greet('친구', '반가워')\n",
    "\n",
    "# def greet(name='친구', msg): # 오류발생, default 값을 지정할 매개변수는 마지막에 위치해야한다\n",
    "#     print('안녕!',name,msg)\n",
    "\n",
    "def get_minus(x,y,z):\n",
    "    return x-y-z\n",
    "print(get_minus(5,10,15))\n",
    "print(get_minus(5,z=15,y=10)) # 인수의 이름을 지정해 전달 할 수 있다, 이때 해당 인수는 인수 중 뒤에 위치해야한다\n",
    "# print(get_minus(z=15,10,x=5))와 같이 인수의 이름을 명시한 경우가 앞에 존재하면 오류가 발생한다\n",
    "\n",
    "def average(args):\n",
    "    return sum(args)/len(args)\n",
    "print(average([1,2,3])) # 인수를 리스트나 튜플로 전달할 수 있다\n",
    "print(average((1,2,3,4,5)))\n",
    "\n",
    "def average(*args): # 입력할 인수의 개수를 특정 값으로 지정하지 않을 수 있다\n",
    "    print(args) # 여러 개의 인수를 입력받아 튜플로 받는다\n",
    "    return sum(args)/len(args)\n",
    "print(average(1,2,3))\n",
    "\n",
    "print(1,2,3,sep='@') # print()의 인수로 sep='기호'를 입력하면 해당 기호로 값을 구분하여 출력한다\n",
    "print(4,5)"
   ]
  },
  {
   "cell_type": "markdown",
   "id": "ad4ec1c2",
   "metadata": {},
   "source": [
    "# 전역변수와 지역변수"
   ]
  },
  {
   "cell_type": "code",
   "execution_count": 32,
   "id": "823cca7b",
   "metadata": {},
   "outputs": [
    {
     "name": "stdout",
     "output_type": "stream",
     "text": [
      "hello\n",
      "goodbye\n",
      "(12, -8)\n",
      "1\n"
     ]
    }
   ],
   "source": [
    "say1 = 'hello'\n",
    "def sayhello(): # 전역변수 : 함수 밖에서 선언된 변수, 함수 내에서도 사용 가능\n",
    "    print(say1)\n",
    "sayhello()\n",
    "\n",
    "def saygoodbye():\n",
    "    say2 = 'goodbye' #지역변수 : 함수 내에서 선언되고 함수 내애서만 사용 가능함\n",
    "    print(say2)\n",
    "saygoodbye()\n",
    "# print(say2)의 경우 say2가 지역변수이므로 오류 발생\n",
    "\n",
    "n1 = 1   \n",
    "n2 = 10\n",
    "def get_plus_minus():\n",
    "    n1 = 2\n",
    "    plus = n1+n2\n",
    "    minus = n1-n2\n",
    "    return plus, minus\n",
    "print(get_plus_minus()) \n",
    "print(n1)               # 전역변수 n1과 지역변수 n1은 따로 취급된다\n",
    "\n",
    "n1 = 1\n",
    "n2 = 10\n",
    "def get_plus_minus():\n",
    "    global n1          # global을 통해 전역변수를 함수 내에서도 사용할 수 있다\n",
    "    n1 = 2              \n",
    "    plus = n1+n2\n",
    "    minus = n1-n2\n",
    "    return plus, minus\n",
    "print(get_plus_minus())\n",
    "print(n1)              # 전역변수 n1과 함수 내의 n1은 동일하게 취급된다"
   ]
  },
  {
   "cell_type": "markdown",
   "id": "d3390e86",
   "metadata": {},
   "source": [
    "# lambda와 map"
   ]
  },
  {
   "cell_type": "code",
   "execution_count": 40,
   "id": "9cca59a1",
   "metadata": {},
   "outputs": [
    {
     "name": "stdout",
     "output_type": "stream",
     "text": [
      "3\n",
      "3\n",
      "8\n",
      "['1', '2', '3', '4']\n",
      "[1, 2, 3, 4]\n",
      "[1, 2, 3, 4, 5]\n",
      "[2, 3, 4, 5, 6]\n",
      "['1', 2.0, '3', 4.0, '5', 6.0, '7', 8.0, '9', 10.0]\n"
     ]
    }
   ],
   "source": [
    "# lambda expression : 일회용 함수라고 볼 수 있다\n",
    "# lambda 매개변수:수행할문장 으로 사용한다\n",
    "print((lambda n1,n2:n1+n2)(1,2))\n",
    "\n",
    "lambda_plus = lambda n1,n2:n1+n2 # 변수에 선언해 사용 가능\n",
    "print(lambda_plus(1,2))\n",
    "print(lambda_plus(3,5))\n",
    "\n",
    "# map() : 반복가능한 자료의 각 요소에 지정된 함수를 각각 수행하고 결과를 반환\n",
    "a = ['1', '2', '3', '4']\n",
    "b = list(map(int,a)) # 리스트 a의 각 요소를 정수로 바꾸고 리스트로 묶어 반환\n",
    "print(a)\n",
    "print(b)\n",
    "\n",
    "l1 = [1,2,3,4,5]\n",
    "l2 = list(map((lambda x:x+1),l1)) # l1의 각 요소에 1을 더한 값을 리스트로 묶어 반환\n",
    "print(l1)\n",
    "print(l2)\n",
    "\n",
    "l1 = [1,2,3,4,5,6,7,8,9,10]\n",
    "a = list(map((lambda x:float(x) if x%2==0 else str(x)),l1)) \n",
    "# l1의 각 요소가 짝수이면 실수형으로 바꾸고 홀수이면 문자열로 바꾸어 리스트로 묶은 뒤 반환\n",
    "print(a)"
   ]
  }
 ],
 "metadata": {
  "kernelspec": {
   "display_name": "Python 3 (ipykernel)",
   "language": "python",
   "name": "python3"
  },
  "language_info": {
   "codemirror_mode": {
    "name": "ipython",
    "version": 3
   },
   "file_extension": ".py",
   "mimetype": "text/x-python",
   "name": "python",
   "nbconvert_exporter": "python",
   "pygments_lexer": "ipython3",
   "version": "3.9.7"
  }
 },
 "nbformat": 4,
 "nbformat_minor": 5
}
