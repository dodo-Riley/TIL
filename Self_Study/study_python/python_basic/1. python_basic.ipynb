{
 "cells": [
  {
   "cell_type": "markdown",
   "id": "1ddbb671",
   "metadata": {},
   "source": [
    "# 출력"
   ]
  },
  {
   "cell_type": "code",
   "execution_count": 3,
   "id": "a357d207",
   "metadata": {},
   "outputs": [
    {
     "name": "stdout",
     "output_type": "stream",
     "text": [
      "hello\n",
      "hello\n",
      "hello python\n",
      "1+1= 2\n",
      "hello,python\n",
      "1+1=2\n",
      "안녕하세요 반갑습니다\n",
      "안녕하세요!!반갑습니다!!\n",
      "자세히 보아야 예쁘다.\n",
      "오래 보아야 사랑스럽다.\n",
      "너도 그렇다.\n",
      "\n"
     ]
    }
   ],
   "source": [
    "print('hello') # 파이썬에서 주석 기호는 #\n",
    "print(\"hello\") # 문자열을 나타내는 기호는 '', \"\" 모두 가능\n",
    "\n",
    "print('hello','python') # ,로 구분해 입력하면 공백을 두고 출력\n",
    "print('1+1=',1+1)\n",
    "\n",
    "print('hello','python',sep=',') # 구분기호 ,\n",
    "print('1+1=',1+1,sep='') # 구분기호 없음 > 붙여서 출력\n",
    "\n",
    "print('안녕하세요', end=' ') # 문자열 출력 후 마지막은 공백(설정안하면 \\n)\n",
    "print('반갑습니다')\n",
    "\n",
    "print('안녕하세요', end='!!')\n",
    "print('반갑습니다', end='!!')\n",
    "\n",
    "print('''\n",
    "자세히 보아야 예쁘다.\n",
    "오래 보아야 사랑스럽다.\n",
    "너도 그렇다.\n",
    "''') # 여러줄로 출력하기"
   ]
  },
  {
   "cell_type": "markdown",
   "id": "0266b63a",
   "metadata": {},
   "source": [
    "# 오류"
   ]
  },
  {
   "cell_type": "code",
   "execution_count": 6,
   "id": "7f49a3ef",
   "metadata": {},
   "outputs": [
    {
     "ename": "IndentationError",
     "evalue": "unexpected indent (Temp/ipykernel_13720/3743938161.py, line 2)",
     "output_type": "error",
     "traceback": [
      "\u001b[1;36m  File \u001b[1;32m\"C:\\Users\\sjh73\\AppData\\Local\\Temp/ipykernel_13720/3743938161.py\"\u001b[1;36m, line \u001b[1;32m2\u001b[0m\n\u001b[1;33m    print('hello') # 들여쓰기 오류\u001b[0m\n\u001b[1;37m    ^\u001b[0m\n\u001b[1;31mIndentationError\u001b[0m\u001b[1;31m:\u001b[0m unexpected indent\n"
     ]
    }
   ],
   "source": [
    "print('hello')\n",
    "    print('hello') # 들여쓰기 오류 : 틀여쓰기 자체가 문법"
   ]
  },
  {
   "cell_type": "code",
   "execution_count": 8,
   "id": "65a5df51",
   "metadata": {},
   "outputs": [
    {
     "ename": "NameError",
     "evalue": "name 'Print' is not defined",
     "output_type": "error",
     "traceback": [
      "\u001b[1;31m---------------------------------------------------------------------------\u001b[0m",
      "\u001b[1;31mNameError\u001b[0m                                 Traceback (most recent call last)",
      "\u001b[1;32m~\\AppData\\Local\\Temp/ipykernel_13720/1339186358.py\u001b[0m in \u001b[0;36m<module>\u001b[1;34m\u001b[0m\n\u001b[1;32m----> 1\u001b[1;33m \u001b[0mPrint\u001b[0m\u001b[1;33m(\u001b[0m\u001b[1;34m'hello'\u001b[0m\u001b[1;33m)\u001b[0m \u001b[1;31m# 대소문자 오류\u001b[0m\u001b[1;33m\u001b[0m\u001b[1;33m\u001b[0m\u001b[0m\n\u001b[0m",
      "\u001b[1;31mNameError\u001b[0m: name 'Print' is not defined"
     ]
    }
   ],
   "source": [
    "Print('hello') # 대소문자 오류 : 대소문자는 구별됨"
   ]
  },
  {
   "cell_type": "code",
   "execution_count": 9,
   "id": "2dea700c",
   "metadata": {},
   "outputs": [
    {
     "ename": "SyntaxError",
     "evalue": "EOL while scanning string literal (Temp/ipykernel_13720/4188053457.py, line 1)",
     "output_type": "error",
     "traceback": [
      "\u001b[1;36m  File \u001b[1;32m\"C:\\Users\\sjh73\\AppData\\Local\\Temp/ipykernel_13720/4188053457.py\"\u001b[1;36m, line \u001b[1;32m1\u001b[0m\n\u001b[1;33m    print('hello\")\u001b[0m\n\u001b[1;37m                   ^\u001b[0m\n\u001b[1;31mSyntaxError\u001b[0m\u001b[1;31m:\u001b[0m EOL while scanning string literal\n"
     ]
    }
   ],
   "source": [
    "print('hello\")\n",
    "# 따옴표 오류 : 따옴표의 짝이 맞아야함"
   ]
  },
  {
   "cell_type": "code",
   "execution_count": 10,
   "id": "7f98574c",
   "metadata": {},
   "outputs": [
    {
     "ename": "SyntaxError",
     "evalue": "closing parenthesis ']' does not match opening parenthesis '(' (Temp/ipykernel_13720/3544684091.py, line 1)",
     "output_type": "error",
     "traceback": [
      "\u001b[1;36m  File \u001b[1;32m\"C:\\Users\\sjh73\\AppData\\Local\\Temp/ipykernel_13720/3544684091.py\"\u001b[1;36m, line \u001b[1;32m1\u001b[0m\n\u001b[1;33m    print('hello']\u001b[0m\n\u001b[1;37m                 ^\u001b[0m\n\u001b[1;31mSyntaxError\u001b[0m\u001b[1;31m:\u001b[0m closing parenthesis ']' does not match opening parenthesis '('\n"
     ]
    }
   ],
   "source": [
    "print('hello']\n",
    "# 괄호 오류 : 괄호의 짝이 맞아야함"
   ]
  },
  {
   "cell_type": "markdown",
   "id": "bba860ca",
   "metadata": {},
   "source": [
    "# 변수"
   ]
  },
  {
   "cell_type": "code",
   "execution_count": 12,
   "id": "c81d081c",
   "metadata": {},
   "outputs": [],
   "source": [
    "name = 'james'\n",
    "age = 20\n",
    "height = 175.0\n",
    "ischild = age<20"
   ]
  },
  {
   "cell_type": "code",
   "execution_count": 13,
   "id": "9afff694",
   "metadata": {},
   "outputs": [
    {
     "name": "stdout",
     "output_type": "stream",
     "text": [
      "james\n",
      "<class 'str'>\n",
      "20\n",
      "<class 'int'>\n",
      "175.0\n",
      "<class 'float'>\n",
      "False\n",
      "<class 'bool'>\n"
     ]
    }
   ],
   "source": [
    "print(name)          # 해당 변수에 저장된 값 출력\n",
    "print(type(name))    # 해당 변수에 저장된 값의 자료형 출력\n",
    "\n",
    "print(age)\n",
    "print(type(age))\n",
    "\n",
    "print(height)\n",
    "print(type(height))\n",
    "\n",
    "print(ischild)\n",
    "print(type(ischild))"
   ]
  },
  {
   "cell_type": "code",
   "execution_count": 14,
   "id": "2659a50d",
   "metadata": {},
   "outputs": [
    {
     "name": "stdout",
     "output_type": "stream",
     "text": [
      "'낮말'은 새가 듣고 '밤말'은 쥐가 듣는다.\n",
      "\"시간은 금\"이라는 말이 있다.\n"
     ]
    }
   ],
   "source": [
    "a = \"'낮말'은 새가 듣고 '밤말'은 쥐가 듣는다.\"\n",
    "print(a)\n",
    "\n",
    "b = '\"시간은 금\"이라는 말이 있다.'\n",
    "print(b)\n",
    "\n",
    "# 문자열 내에서 따옴표를 사용하고자 할때는 나머지 따옴표로 전체 문자열을 감싼다."
   ]
  },
  {
   "cell_type": "code",
   "execution_count": 15,
   "id": "1754cb8b",
   "metadata": {},
   "outputs": [
    {
     "name": "stdout",
     "output_type": "stream",
     "text": [
      "나이:20\n"
     ]
    },
    {
     "data": {
      "text/plain": [
       "str"
      ]
     },
     "execution_count": 15,
     "metadata": {},
     "output_type": "execute_result"
    }
   ],
   "source": [
    "a = input('나이:') # 사용자 입력값을 변수로 저장\n",
    "type(a)"
   ]
  },
  {
   "cell_type": "markdown",
   "id": "7dafaf37",
   "metadata": {},
   "source": [
    "# 자료형 변환"
   ]
  },
  {
   "cell_type": "code",
   "execution_count": 16,
   "id": "5ab929c4",
   "metadata": {},
   "outputs": [
    {
     "name": "stdout",
     "output_type": "stream",
     "text": [
      "<class 'int'>\n",
      "<class 'str'>\n",
      "20.0 <class 'float'>\n",
      "나이:20\n",
      "<class 'int'>\n"
     ]
    }
   ],
   "source": [
    "age = int('20') # 문자열 > 정수형\n",
    "print(type(age))\n",
    "\n",
    "age = str(20)   # 정수형 > 문자열\n",
    "print(type(age))\n",
    "\n",
    "age = float(20)  # 정수형 > 실수형\n",
    "print(age, type(age))\n",
    "\n",
    "a = int(input('나이:')) # 사용자 입력값을 정수형으로\n",
    "print(type(a))"
   ]
  },
  {
   "cell_type": "markdown",
   "id": "e58d17b2",
   "metadata": {},
   "source": [
    "# 연산"
   ]
  },
  {
   "cell_type": "code",
   "execution_count": 17,
   "id": "f4fe8617",
   "metadata": {},
   "outputs": [
    {
     "name": "stdout",
     "output_type": "stream",
     "text": [
      "a+b= 7\n",
      "a-b= -1\n",
      "a*b= 12\n",
      "a/b= 0.75\n",
      "a//b= 0\n",
      "a%b= 3\n",
      "a**b= 81\n"
     ]
    }
   ],
   "source": [
    "# 산술연산\n",
    "a, b = 3,4\n",
    "print('a+b=',a+b) # 덧셈\n",
    "print('a-b=',a-b) # 뺄셈\n",
    "print('a*b=',a*b) # 곱셈\n",
    "print('a/b=',a/b) # 나눗셈\n",
    "print('a//b=',a//b) # 나눈 몫\n",
    "print('a%b=',a%b) # 나눈 나머지\n",
    "print('a**b=',a**b) # 거듭제곱"
   ]
  },
  {
   "cell_type": "code",
   "execution_count": 18,
   "id": "edc1e1b6",
   "metadata": {},
   "outputs": [
    {
     "name": "stdout",
     "output_type": "stream",
     "text": [
      "goodmorning\n",
      "hahaha\n",
      "영어점수80\n"
     ]
    }
   ],
   "source": [
    "# 문자열연산\n",
    "a = 'good'\n",
    "b = 'morning'\n",
    "print(a+b) # 문자열 덧셈 = 문자열 붙이기\n",
    "\n",
    "s = 'ha'\n",
    "print(s * 3) # 문자열 곱셈 = 문자열 반복\n",
    "\n",
    "english = 80\n",
    "result = '영어점수'+ str(english)\n",
    "print(result)"
   ]
  },
  {
   "cell_type": "code",
   "execution_count": 19,
   "id": "2df55fef",
   "metadata": {},
   "outputs": [
    {
     "name": "stdout",
     "output_type": "stream",
     "text": [
      "1 1 1\n",
      "1 2 3\n",
      "30\n",
      "24\n"
     ]
    }
   ],
   "source": [
    "# 할당연산\n",
    "a = 1\n",
    "\n",
    "a = b = c = 1\n",
    "print(a,b,c)\n",
    "\n",
    "a,b,c = 1,2,3\n",
    "print(a,b,c)\n",
    "\n",
    "x = 10\n",
    "x += 20  # +=는 해당 변수에 주어진 값을 더하고 갱신\n",
    "print(x)\n",
    "\n",
    "x = 3\n",
    "y = 5\n",
    "x *= x+y  # *=는 해당 변수에 주어진 값을 곱하고 갱신\n",
    "print(x)"
   ]
  },
  {
   "cell_type": "markdown",
   "id": "82b59257",
   "metadata": {},
   "source": [
    "# f스트링 출력"
   ]
  },
  {
   "cell_type": "code",
   "execution_count": 21,
   "id": "b60170fe",
   "metadata": {},
   "outputs": [
    {
     "name": "stdout",
     "output_type": "stream",
     "text": [
      "이름:dodo\n",
      "dodo 님, 안녕하세요?\n",
      "dodo님 안녕하세요\n",
      "나이:30\n",
      "나이는 30 살이시군요. 내년이면 31 살이 되시겠네요\n",
      "나이는 30살이시군요. 내년이면 31살이 되시겠네요\n",
      "첫번째숫자:1\n",
      "두번째숫자:2\n",
      "1 + 2 = 3\n",
      "1+2=3\n"
     ]
    }
   ],
   "source": [
    "name = input('이름:')\n",
    "print(name,'님, 안녕하세요?')\n",
    "print(f'{name}님 안녕하세요')\n",
    "\n",
    "age = int(input('나이:'))\n",
    "print('나이는',age,'살이시군요. 내년이면',age+1,'살이 되시겠네요')\n",
    "print(f'나이는 {age}살이시군요. 내년이면 {age+1}살이 되시겠네요')\n",
    "\n",
    "a = int(input('첫번째숫자:'))\n",
    "b = int(input('두번째숫자:'))\n",
    "print(a,'+',b,'=',a+b)\n",
    "print(f'{a}+{b}={a+b}')\n"
   ]
  },
  {
   "cell_type": "markdown",
   "id": "a94810cf",
   "metadata": {},
   "source": [
    "# 연습문제 : 화씨온도를 입력받아 섭씨 온도로 변환하여 출력"
   ]
  },
  {
   "cell_type": "code",
   "execution_count": 24,
   "id": "23c77b5b",
   "metadata": {},
   "outputs": [
    {
     "name": "stdout",
     "output_type": "stream",
     "text": [
      "화씨온도를 입력하세요 : 23.6\n",
      "화씨 23.6도는 섭씨 -4.666666666666666도 입니다.\n"
     ]
    }
   ],
   "source": [
    "f = float(input('화씨온도를 입력하세요 : '))\n",
    "c = (f-32)*(5/9)\n",
    "print(f'화씨 {f}도는 섭씨 {c}도 입니다.')"
   ]
  },
  {
   "cell_type": "markdown",
   "id": "ba513a65",
   "metadata": {},
   "source": [
    "# 문자열"
   ]
  },
  {
   "cell_type": "code",
   "execution_count": 27,
   "id": "0045f08c",
   "metadata": {},
   "outputs": [
    {
     "name": "stdout",
     "output_type": "stream",
     "text": [
      "H\n",
      "W\n",
      "d\n",
      "H\n",
      "W\n",
      "d\n",
      "Hello\n",
      "World\n",
      "Hello\n",
      "World\n",
      "Hello\n",
      "World\n",
      "Hello World\n",
      "HloWrd\n",
      "dlroW olleH\n",
      "나는 딸기우유 좋아. 딸기우유 최고\n",
      "1\n",
      "2\n",
      "hello, python!!!\n",
      "HELLO, PYTHON!!!\n"
     ]
    },
    {
     "data": {
      "text/plain": [
       "['010', '123', '4567']"
      ]
     },
     "execution_count": 27,
     "metadata": {},
     "output_type": "execute_result"
    }
   ],
   "source": [
    "a = 'Hello World'\n",
    "\n",
    "#  인덱싱\n",
    "print(a[0])\n",
    "print(a[6])\n",
    "print(a[10])\n",
    "print(a[-11])\n",
    "print(a[-5])\n",
    "print(a[-1])\n",
    "# 파이썬의 인덱스는 0부터 시작, 역순은 -1부터 시작\n",
    "# 범위 밖의 인덱스는 오류발생\n",
    "\n",
    "# 슬라이싱\n",
    "print(a[0:5])\n",
    "print(a[6:11])\n",
    "print(a[-11:-6])\n",
    "print(a[-5:])\n",
    "print(a[:5])\n",
    "print(a[6:])\n",
    "print(a[:]) # 슬라이싱 시 처음과 마지막을 생략하면 해당 방향으로 끝까지 진행\n",
    "\n",
    "print(a[::2])  # 전체 문자를 간격을 2씩 출력\n",
    "print(a[::-1]) # 전체 문자를 역순 출력\n",
    "\n",
    "\n",
    "a = '나는 초코우유 좋아. 초코우유 최고'\n",
    "print(a.replace('초코','딸기')) # 문자열 변경\n",
    "\n",
    "a = 'Hello, Python!!!'\n",
    "print(a.find('e')) # 문자열 인덱스 찾기\n",
    "print(a.find('l'))\n",
    "print(a.lower()) # 소문자로 변경\n",
    "print(a.upper()) # 대문자로 변경\n",
    "\n",
    "phone = '010-123-4567'\n",
    "phone.split('-') # 해당 기호를 기준으로 문자열 구분 후 리스트로 반환\n"
   ]
  },
  {
   "cell_type": "markdown",
   "id": "478086ee",
   "metadata": {},
   "source": [
    "# 연습문제 : 영문이름을 입력받아 성과 이름 순서를 바꾸어 출력, 구분기호는 공백"
   ]
  },
  {
   "cell_type": "code",
   "execution_count": 30,
   "id": "680fc967",
   "metadata": {},
   "outputs": [
    {
     "name": "stdout",
     "output_type": "stream",
     "text": [
      "띄어쓰기로 성,이름 순서로 영문 이름을 입력하세요 : Song Jong-ho\n",
      "Jong-ho Song\n"
     ]
    }
   ],
   "source": [
    "last_name, first_name = input('띄어쓰기로 성,이름 순서로 영문 이름을 입력하세요 : ').split()\n",
    "print(first_name, last_name, sep=' ')"
   ]
  },
  {
   "cell_type": "code",
   "execution_count": 32,
   "id": "c952c0d1",
   "metadata": {},
   "outputs": [
    {
     "name": "stdout",
     "output_type": "stream",
     "text": [
      "영문이름(성과 이름은 공백으로 구분)을 입력 : Song Jong-ho\n",
      "Jong-ho Song\n"
     ]
    }
   ],
   "source": [
    "name = input('영문이름(성과 이름은 공백으로 구분)을 입력 : ')\n",
    "\n",
    "first_name = name.split(' ')[1] # 이름\n",
    "last_name = name.split(' ')[0] # 성\n",
    "\n",
    "print(first_name, last_name)"
   ]
  }
 ],
 "metadata": {
  "kernelspec": {
   "display_name": "Python 3 (ipykernel)",
   "language": "python",
   "name": "python3"
  },
  "language_info": {
   "codemirror_mode": {
    "name": "ipython",
    "version": 3
   },
   "file_extension": ".py",
   "mimetype": "text/x-python",
   "name": "python",
   "nbconvert_exporter": "python",
   "pygments_lexer": "ipython3",
   "version": "3.9.7"
  }
 },
 "nbformat": 4,
 "nbformat_minor": 5
}
