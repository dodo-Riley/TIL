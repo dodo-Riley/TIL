{
 "cells": [
  {
   "cell_type": "markdown",
   "id": "00f9ab30",
   "metadata": {},
   "source": [
    "# 리스트와 튜플"
   ]
  },
  {
   "cell_type": "code",
   "execution_count": 9,
   "id": "327cd512",
   "metadata": {},
   "outputs": [
    {
     "name": "stdout",
     "output_type": "stream",
     "text": [
      "['사과', '딸기', '포도', '포도', '수박']\n",
      "('빨', '주', '노', '초', '파', '남', '보')\n",
      "['먹고', '자고', '먹고', '자고', '먹고', '자고']\n",
      "('놀고', '먹고', '자고', '놀고', '먹고', '자고')\n",
      "True\n",
      "False\n",
      "False\n",
      "True\n",
      "True\n",
      "False\n",
      "False\n",
      "True\n",
      "14\n",
      "2\n"
     ]
    }
   ],
   "source": [
    "# 생성\n",
    "l1 = [] # 빈 리스트 생성\n",
    "l2 = list() # 빈 리스트 생성\n",
    "l3 = [1,3,5,7,9] # 값이 있는 리스트 생성\n",
    "l4 = list(range(1,100,2)) # 값이 있는 리스트 생성\n",
    "\n",
    "t1 = () # 빈 튜플 생성\n",
    "t2 = tuple() # 빈 튜플 생성\n",
    "t3 = (1,3,5,7,9) # 값이 있는 튜플 생성\n",
    "t4 = tuple(range(1,100,2)) # 값이 있는 튜플 생성\n",
    "t5 = 1,3,5,7,9 # 튜플 생성시 괄호 생략 가능\n",
    "t6 = (1,) # 튜플 내 요소가 1개일때, 쉼표 필수\n",
    "t7 = 1, # 튜플 내 요소가 1개일때, 쉼표 필수\n",
    "\n",
    "# 리스트와 튜플은 모든 자료형을 요소로 가질 수 있음\n",
    "l = ['amy', 20, 165.5, ['독서','코딩']]\n",
    "t = ['amy', 20, 165.5, ['독서','코딩']]\n",
    "\n",
    "# 리스트와 튜플의 연산\n",
    "# 덧셈은 두 개의 리스트나 튜플을 하나로 만듬\n",
    "a = ['사과','딸기','포도']\n",
    "b = ['포도','수박']\n",
    "print(a + b)\n",
    "c = ('빨','주')\n",
    "d = ('노','초','파','남','보')\n",
    "print(c + d)\n",
    "\n",
    "# 곱셈은 해당 리스트나 튜플을 횟수만큼 반복\n",
    "a1 = ['먹고','자고']\n",
    "print(a1 * 3)\n",
    "b1 = ('놀고','먹고','자고')\n",
    "print(b1 * 2)\n",
    "\n",
    "# 해당 리스트나 튜플 내에 특정 요소가 존재하는지 참/거짓 반환\n",
    "a2 = [1,2,3,4,5]\n",
    "print(5 in a2)\n",
    "print(10 in a2)\n",
    "print(5 not in a2)\n",
    "print(10 not in a2)\n",
    "\n",
    "b2 = (1,2,3,4,5)\n",
    "print(5 in b2)\n",
    "print(10 in b2)\n",
    "print(5 not in b2)\n",
    "print(10 not in b2)\n",
    "\n",
    "# 리스트와 튜플 내 요소 개수 구하기\n",
    "a3 = [1,3,2,4,3,5,7,8,77.7,88.8,'a','b','c',[10,20,30]]\n",
    "print(len(a3))\n",
    "\n",
    "b3 = ((1,2),[3,4])\n",
    "print(len(b3))"
   ]
  },
  {
   "cell_type": "markdown",
   "id": "6b552f66",
   "metadata": {},
   "source": [
    "# 인덱싱과 슬라이싱"
   ]
  },
  {
   "cell_type": "code",
   "execution_count": 11,
   "id": "1ea4e06f",
   "metadata": {},
   "outputs": [
    {
     "name": "stdout",
     "output_type": "stream",
     "text": [
      "7\n",
      "축구\n",
      "축구\n",
      "배구\n",
      "배구\n",
      "피구\n",
      "피구\n",
      "6\n",
      "스키\n",
      "스키\n",
      "웨이크보드\n",
      "웨이크보드\n",
      "수박\n",
      "Life\n",
      "['농구', '배구']\n",
      "['축구', '농구', '배구']\n",
      "['축구', '농구', '배구']\n",
      "['족구', '발야구']\n",
      "['족구', '발야구', '피구']\n",
      "['축구', '농구', '배구', '야구', '족구', '발야구', '피구']\n",
      "['피구', '발야구', '족구', '야구', '배구', '농구', '축구']\n",
      "['발야구', '족구', '야구']\n",
      "[1, 3, 5, 7, 9, 11, 13, 15, 17, 19]\n",
      "2\n"
     ]
    },
    {
     "ename": "ValueError",
     "evalue": "tuple.index(x): x not in tuple",
     "output_type": "error",
     "traceback": [
      "\u001b[1;31m---------------------------------------------------------------------------\u001b[0m",
      "\u001b[1;31mValueError\u001b[0m                                Traceback (most recent call last)",
      "\u001b[1;32m~\\AppData\\Local\\Temp/ipykernel_22180/377098553.py\u001b[0m in \u001b[0;36m<module>\u001b[1;34m\u001b[0m\n\u001b[0;32m     36\u001b[0m \u001b[0mt1\u001b[0m \u001b[1;33m=\u001b[0m \u001b[1;33m(\u001b[0m\u001b[1;34m'스키'\u001b[0m\u001b[1;33m,\u001b[0m\u001b[1;34m'보드'\u001b[0m\u001b[1;33m,\u001b[0m\u001b[1;34m'스케이트'\u001b[0m\u001b[1;33m,\u001b[0m\u001b[1;34m'스케이트보드'\u001b[0m\u001b[1;33m,\u001b[0m\u001b[1;34m'수상스키'\u001b[0m\u001b[1;33m,\u001b[0m\u001b[1;34m'웨이크보드'\u001b[0m\u001b[1;33m)\u001b[0m\u001b[1;33m\u001b[0m\u001b[1;33m\u001b[0m\u001b[0m\n\u001b[0;32m     37\u001b[0m \u001b[0mprint\u001b[0m\u001b[1;33m(\u001b[0m\u001b[0mt1\u001b[0m\u001b[1;33m.\u001b[0m\u001b[0mindex\u001b[0m\u001b[1;33m(\u001b[0m\u001b[1;34m'스케이트'\u001b[0m\u001b[1;33m)\u001b[0m\u001b[1;33m)\u001b[0m\u001b[1;33m\u001b[0m\u001b[1;33m\u001b[0m\u001b[0m\n\u001b[1;32m---> 38\u001b[1;33m \u001b[0mprint\u001b[0m\u001b[1;33m(\u001b[0m\u001b[0mt1\u001b[0m\u001b[1;33m.\u001b[0m\u001b[0mindex\u001b[0m\u001b[1;33m(\u001b[0m\u001b[1;34m'오토바이'\u001b[0m\u001b[1;33m)\u001b[0m\u001b[1;33m)\u001b[0m\u001b[1;33m\u001b[0m\u001b[1;33m\u001b[0m\u001b[0m\n\u001b[0m\u001b[0;32m     39\u001b[0m \u001b[1;33m\u001b[0m\u001b[0m\n\u001b[0;32m     40\u001b[0m \u001b[1;32mif\u001b[0m \u001b[1;34m'오토바이'\u001b[0m \u001b[1;32min\u001b[0m \u001b[0mt1\u001b[0m\u001b[1;33m:\u001b[0m\u001b[1;33m\u001b[0m\u001b[1;33m\u001b[0m\u001b[0m\n",
      "\u001b[1;31mValueError\u001b[0m: tuple.index(x): x not in tuple"
     ]
    }
   ],
   "source": [
    "# 인덱싱\n",
    "l1 = ['축구','농구','배구','야구','족구','발야구','피구']\n",
    "print(len(l1))\n",
    "print(l1[0]) # 파이썬은 가장 처음이 0\n",
    "print(l1[-7]) # 가장 뒤는 -1부터\n",
    "print(l1[2])\n",
    "print(l1[-5])\n",
    "print(l1[6])\n",
    "print(l1[-1]) # 가장 뒤는 -1부터\n",
    "\n",
    "t1 = ('스키','보드','스케이트','스케이트보드','수상스키','웨이크보드')\n",
    "print(len(t1))\n",
    "print(t1[0])\n",
    "print(t1[-6])\n",
    "print(t1[5])\n",
    "print(t1[-1])\n",
    "\n",
    "l2 = ['사과','오렌지','포도',['수박','바나나']]\n",
    "print(l2[3][0]) # 처음 인덱싱으로 뽑은 요소가 리스트이므로 해당 리스트에서 다시 인덱싱\n",
    "t2 = (1,2,('a','b',('Life','is')))\n",
    "print(t2[2][2][0]) # 첫 요소 튜플, 두번째 튜플, 세번째 문자열, 문자열은 문자하나당 인덱스 하나 해당\n",
    "\n",
    "l1 = ['축구','농구','배구','야구','족구','발야구','피구'] \n",
    "print(l1[1:3]) # 두번째부터 인덱스 3-1까지\n",
    "print(l1[0:3])\n",
    "print(l1[:3]) # 3-1 인덱스까지 전부\n",
    "print(l1[-3:-1])\n",
    "print(l1[-3:]) # -3인덱스부터 전부\n",
    "print(l1[:]) # 전부\n",
    "print(l1[::-1]) # 전부를 뽑되, step이 -1, 즉 뒤에서부터 순서대로 전부\n",
    "print(l1[-2:-5:-1]) # -2부터 -5까지 \n",
    "\n",
    "l3 = list(range(1,21))\n",
    "print(l3[::2]) # 전부를 뽑되, step이 2\n",
    "\n",
    "t1 = ('스키','보드','스케이트','스케이트보드','수상스키','웨이크보드')\n",
    "print(t1.index('스케이트')) # 해당 요소의 인덱스 출력\n",
    "print(t1.index('오토바이')) # 해당 요소가 없으면 오류\n",
    "\n",
    "if '오토바이' in t1:\n",
    "    print(t1.index('오토바이'))\n",
    "else:\n",
    "    print('존재하지 않음') # 해당 튜플에 요소가 없으므로 존재하지 않음 출력"
   ]
  },
  {
   "cell_type": "markdown",
   "id": "76724076",
   "metadata": {},
   "source": [
    "# 리스트 편집"
   ]
  },
  {
   "cell_type": "code",
   "execution_count": 19,
   "id": "8d0f9f79",
   "metadata": {},
   "outputs": [
    {
     "name": "stdout",
     "output_type": "stream",
     "text": [
      "['양치', '물마시기', '아침운동']\n",
      "['양치', '물마시기', '아침식사', '아침운동']\n",
      "['양치', '물마시기', '아침식사', '아침운동', '샤워', '드라이', '공부']\n",
      "['양치', '물마시기', '아침식사', '산책', '샤워', '드라이', '공부']\n",
      "['양치', '물마시기', '독서', '산책', '아침식사', '샤워', '드라이', '공부']\n",
      "['양치', '물마시기', '독서', '산책', '아침식사', '샤워', '드라이']\n",
      "['물마시기', '독서', '산책', '아침식사', '샤워', '드라이']\n",
      "드라이\n",
      "['물마시기', '독서', '산책', '아침식사', '샤워']\n",
      "['가방']\n",
      "['시계', '신발']\n"
     ]
    }
   ],
   "source": [
    "todolist = ['양치','물마시기']\n",
    "todolist.append('아침운동') # 한 가지 요소만 기존 리스트 가장 뒤에 추가\n",
    "print(todolist)\n",
    "\n",
    "todolist.insert(2,'아침식사') # 특정 인덱스에 해당 요소를 추가\n",
    "print(todolist)\n",
    "\n",
    "todolist.extend(['샤워','드라이','공부']) # 여러 요소를 리스트 마지막에 추가\n",
    "print(todolist)\n",
    "\n",
    "todolist[3]='산책' # 해당 인덱스의 요소를 특정 값으로 대체\n",
    "print(todolist)\n",
    "\n",
    "todolist[2:4] = ['독서','산책','아침식사'] # 해당 슬라이싱된 부분을 특정 요소로 대체\n",
    "print(todolist)\n",
    "\n",
    "del todolist[-1] # 리스트의 가장 마지막 요소 제거\n",
    "print(todolist)\n",
    "\n",
    "todolist.remove('양치') # 리스트 내 특정 요소 제거\n",
    "print(todolist)\n",
    "\n",
    "a = todolist.pop() # 리스트의 가장 마지막 요소를 반환하고 삭제\n",
    "print(a)\n",
    "print(todolist)\n",
    "\n",
    "# 연습문제 : 아래 리스트의'시계','신발'을 다른 리스트로 옮기기\n",
    "\n",
    "wishlist = ['가방','시계','신발']\n",
    "mycart = []\n",
    "\n",
    "mycart.extend(wishlist[1:3])\n",
    "del wishlist[-1:-3:-1]\n",
    "print(wishlist)\n",
    "print(mycart)\n"
   ]
  },
  {
   "cell_type": "markdown",
   "id": "34aebbba",
   "metadata": {},
   "source": [
    "# 리스트 내 요소들의 통계값 구하기"
   ]
  },
  {
   "cell_type": "code",
   "execution_count": 22,
   "id": "ad0ab70f",
   "metadata": {},
   "outputs": [
    {
     "name": "stdout",
     "output_type": "stream",
     "text": [
      "항목수: 8\n",
      "합계: 27\n",
      "최소값: 1\n",
      "최대값: 5\n",
      "평균: 3.375\n",
      "항목5의 갯수: 2\n"
     ]
    }
   ],
   "source": [
    "l = [1,2,3,4,5,3,4,5]\n",
    "\n",
    "print('항목수:',len(l))\n",
    "print('합계:',sum(l))\n",
    "print('최소값:',min(l))\n",
    "print('최대값:',max(l))\n",
    "print('평균:',sum(l)/len(l))     \n",
    "print('항목5의 갯수:',l.count(5)) "
   ]
  },
  {
   "cell_type": "markdown",
   "id": "8532090d",
   "metadata": {},
   "source": [
    "# 리스트 정렬"
   ]
  },
  {
   "cell_type": "code",
   "execution_count": 27,
   "id": "c59c811e",
   "metadata": {},
   "outputs": [
    {
     "name": "stdout",
     "output_type": "stream",
     "text": [
      "['범준', '수지', '수현', '지은', '찬혁']\n",
      "['찬혁', '지은', '수현', '수지', '범준']\n",
      "['범준', '수지', '수현', '지은', '찬혁']\n",
      "['찬혁', '지은', '수현', '수지', '범준']\n",
      "['범준', '수지', '수현', '지은', '찬혁']\n"
     ]
    }
   ],
   "source": [
    "friends = ['수지','지은','찬혁','수현','범준'] # 한글은 가나다순이 정렬순\n",
    "friends.sort() # 기존 리스트를 정렬하여 대체\n",
    "print(friends)\n",
    "friends.sort(reverse=True) # 역순으로 정렬하여 대체\n",
    "print(friends)\n",
    "sorted_friends = sorted(friends) # 기존 리스트는 그대로, 정렬된 리스트 생성\n",
    "print(sorted_friends)\n",
    "print(friends)\n",
    "friends.reverse() # 기존 리스트를 단순히 뒤집음\n",
    "print(friends)"
   ]
  },
  {
   "cell_type": "markdown",
   "id": "7d2835f1",
   "metadata": {},
   "source": [
    "# 2차원 리스트 다루기"
   ]
  },
  {
   "cell_type": "code",
   "execution_count": 30,
   "id": "4f8f6a25",
   "metadata": {},
   "outputs": [
    {
     "name": "stdout",
     "output_type": "stream",
     "text": [
      "30\n",
      "60\n",
      "[['file1', 'py'], ['file2', 'txt'], ['file3', 'pptx']]\n"
     ]
    }
   ],
   "source": [
    "l2 = [[10,20,30],[40,50,60]]\n",
    "print(l2[0][2])\n",
    "print(l2[1][2])\n",
    "\n",
    "# 연습문제 : 파일리스트에서 파일명과 확장자를 분리하여 2차원 리스트로 저장\n",
    "file_list = ['file1.py','file2.txt','file3.pptx']\n",
    "name_extension = []\n",
    "\n",
    "for file in file_list:\n",
    "    a,b = file.split('.')[0],file.split('.')[1]\n",
    "    name_extension.append([a,b])\n",
    "print(name_extension)"
   ]
  },
  {
   "cell_type": "markdown",
   "id": "b00359ce",
   "metadata": {},
   "source": [
    "# 연습하기"
   ]
  },
  {
   "cell_type": "code",
   "execution_count": 52,
   "id": "dca639d4",
   "metadata": {},
   "outputs": [
    {
     "name": "stdout",
     "output_type": "stream",
     "text": [
      "[[260, 86.7], [258, 86.0], [254, 84.7], [254, 84.7], [257, 85.7]]\n",
      "국어 점수=[96, 96, 76, 89, 90]\n",
      "영어 점수=[84, 86, 95, 96, 76]\n",
      "수학 점수=[80, 76, 83, 69, 91]\n",
      "국어 평균=89.4/영어 평균=87.4/수학 평균=79.8\n",
      "메뉴를 입력하세요(공백 입력시 메뉴 리스트 생성 종료) : 한식\n",
      "메뉴를 입력하세요(공백 입력시 메뉴 리스트 생성 종료) : 중식\n",
      "메뉴를 입력하세요(공백 입력시 메뉴 리스트 생성 종료) : 일식\n",
      "메뉴를 입력하세요(공백 입력시 메뉴 리스트 생성 종료) : \n",
      "메뉴 리스트 생성 종료\n",
      "결과는 중식입니다.\n"
     ]
    }
   ],
   "source": [
    "# 연습문제 : 아래 점수 리스트의 각 총점, 평균을 계산해 새로운 리스트에 저장, 평균은 소수점 2째에서 반올림\n",
    "score_list = [[96,84,80],[96,86,76],[76,95,83],[89,96,69],[90,76,91]]\n",
    "stu_scores = []\n",
    "\n",
    "for score in score_list:\n",
    "    total = sum(score)\n",
    "    mean = round(total/len(score),1)\n",
    "    stu_scores.append([total,mean])\n",
    "print(stu_scores)\n",
    "\n",
    "# 연습문제 : 각 학생의 점수를 과목별로 분리해 과목별 점수 리스트를 생성하고 과목별 평균을 소수점 1쨰자리까지 출력\n",
    "kor = []\n",
    "eng = []\n",
    "math = []\n",
    "\n",
    "for i in score_list:\n",
    "    kor.append(i[0])\n",
    "    eng.append(i[1])\n",
    "    math.append(i[2])\n",
    "\n",
    "avg_kor = round(sum(kor)/len(kor),1)\n",
    "avg_eng = round(sum(eng)/len(eng),1)\n",
    "avg_math = round(sum(math)/len(math),1)\n",
    "\n",
    "print(f'국어 점수={kor}',f'영어 점수={eng}',f'수학 점수={math}', sep='\\n')\n",
    "print(f'국어 평균={avg_kor}',f'영어 평균={avg_eng}',f'수학 평균={avg_math}', sep='/')\n",
    "\n",
    "# 연습문제 : 메뉴를 입력받아 그 중 하나를 랜덤으로 출력\n",
    "import random\n",
    "list = []\n",
    "while True:\n",
    "    menu = input('메뉴를 입력하세요(공백 입력시 메뉴 리스트 생성 종료) : ')\n",
    "    if menu == '':\n",
    "        print('메뉴 리스트 생성 종료')\n",
    "        break\n",
    "    list.append(menu)\n",
    "print(f'결과는 {random.choice(list)}입니다.')\n",
    "\n"
   ]
  }
 ],
 "metadata": {
  "kernelspec": {
   "display_name": "Python 3 (ipykernel)",
   "language": "python",
   "name": "python3"
  },
  "language_info": {
   "codemirror_mode": {
    "name": "ipython",
    "version": 3
   },
   "file_extension": ".py",
   "mimetype": "text/x-python",
   "name": "python",
   "nbconvert_exporter": "python",
   "pygments_lexer": "ipython3",
   "version": "3.9.7"
  }
 },
 "nbformat": 4,
 "nbformat_minor": 5
}
