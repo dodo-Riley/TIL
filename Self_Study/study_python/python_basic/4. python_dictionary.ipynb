{
 "cells": [
  {
   "cell_type": "markdown",
   "id": "e0136d6d",
   "metadata": {},
   "source": [
    "# 딕셔너리 생성"
   ]
  },
  {
   "cell_type": "code",
   "execution_count": 5,
   "id": "b672a5b2",
   "metadata": {},
   "outputs": [
    {
     "name": "stdout",
     "output_type": "stream",
     "text": [
      "{'김밥': 2000, '떡볶이': 2500, '어묵': 2000, '튀김': 3000}\n",
      "{'김밥': 2000, '떡볶이': 2500, '어묵': 2000, '튀김': 3000}\n",
      "{'김밥': 2000, '떡볶이': 2500, '어묵': 2000, '튀김': 3000}\n",
      "{'김밥': 2000, '떡볶이': 2500, '어묵': 2000, '튀김': 3000}\n",
      "{'김밥': 2000, '떡볶이': 2500, '어묵': 2000, '튀김': 3000}\n",
      "{'name': 'james', '나이': 25, '키': 175.5, '시력': (1.0, 1.0), '취미': ['운동', '독서']}\n",
      "{100: 'hundred', True: '참', False: '거짓', (1, 3): '학년,반', 7: '번호'}\n",
      "{'name': 'james', '나이': 30, '키': 175.5, '시력': (1.0, 1.0), '취미': ['운동', '독서']}\n"
     ]
    }
   ],
   "source": [
    "menu = {'김밥':2000, '떡볶이':2500, '어묵':2000, '튀김':3000} # {key:value} 형태\n",
    "print(menu)\n",
    "\n",
    "menu1 = dict(김밥=2000, 떡볶이=2500, 어묵=2000, 튀김=3000) # dict() 활용\n",
    "print(menu1)\n",
    "\n",
    "key_list = ['김밥','떡볶이','어묵','튀김']\n",
    "value_list = [2000,2500,2000,3000]\n",
    "menu2 = dict(zip(key_list,value_list)) # zip합수는 동일한 자료형을 가진 데이터를 묶어줌\n",
    "print(menu2)\n",
    "\n",
    "[('김밥',2000),('떡볶이',2500),('어묵',2000),('튀김',3000)] # 위의 zip()을 사용한 것과 같은 맥락\n",
    "menu3 = dict([('김밥',2000),('떡볶이',2500),('어묵',2000),('튀김',3000)])\n",
    "print(menu3)\n",
    "\n",
    "menu4 = dict({'김밥':2000, '떡볶이':2500, '어묵':2000, '튀김':3000})\n",
    "print(menu4)\n",
    "\n",
    "person = {'name':'james', '나이':25, '키':175.5, '시력':(1.0,1.0), '취미':['운동','독서']}\n",
    "print(person) # 딕셔너리의 value는 모든 자료형을 혼용 가능\n",
    "\n",
    "number=7\n",
    "dict1 = {100:'hundred',True:'참',False:'거짓',(1,3):'학년,반',number:'번호'}\n",
    "print(dict1) # 딕셔너리의 key는 숫자, 불, 튜플, 문자열 가능\n",
    "\n",
    "person = {'name':'james', '나이':25, '나이':30, '키':175.5, '시력':(1.0,1.0), '취미':['운동','독서']}\n",
    "print(person) # 동일한 key에 대해 다른 value를 사용하면 하나만 입력됨"
   ]
  },
  {
   "cell_type": "markdown",
   "id": "7f3f412e",
   "metadata": {},
   "source": [
    "# 딕셔너리 값 추출"
   ]
  },
  {
   "cell_type": "code",
   "execution_count": 14,
   "id": "8f3d767a",
   "metadata": {},
   "outputs": [
    {
     "name": "stdout",
     "output_type": "stream",
     "text": [
      "30\n",
      "존재하지 않음\n",
      "30\n",
      "존재하지않음\n"
     ]
    }
   ],
   "source": [
    "print(person['나이']) # 리스트나 튜플과는 달리 key값으로 추출\n",
    "# person['몸무게'] # 존재하지 않는 key에 대해서 오류 발생\n",
    "\n",
    "if '몸무게' in person:\n",
    "    print(person['몸무게'])\n",
    "else:\n",
    "    print('존재하지 않음')\n",
    "    \n",
    "print(person.get('나이')) # 딕셔너리명.get(key,해당키가없을때 출력할 문자)\n",
    "print(person.get('몸무게','존재하지않음'))"
   ]
  },
  {
   "cell_type": "markdown",
   "id": "0b931a53",
   "metadata": {},
   "source": [
    "# 딕셔너리 수정"
   ]
  },
  {
   "cell_type": "code",
   "execution_count": 33,
   "id": "e3d4cfb0",
   "metadata": {},
   "outputs": [
    {
     "name": "stdout",
     "output_type": "stream",
     "text": [
      "{'kor': 100, 'eng': 90, 'math': 85, 'music': 95}\n",
      "{'kor': 100, 'eng': 90, 'math': 80, 'music': None}\n",
      "{'kor': 100, 'eng': 90, 'math': 80, 'music': None}\n",
      "{'kor': 100, 'eng': 90, 'math': 90, 'music': 90}\n",
      "{'kor': 100, 'eng': 90, 'math': 90, 'music': 90}\n",
      "{'kor': 100, 'eng': 90, 'math': 90, 'music': 90}\n",
      "{'eng': 90, 'math': 80}\n",
      "100\n",
      "{'eng': 90, 'math': 80}\n",
      "x\n",
      "{'kor': 100, 'eng': 90, 'math': 80}\n",
      "{}\n"
     ]
    }
   ],
   "source": [
    "scores = {'kor':100, 'eng':90, 'math':80}\n",
    "scores['math']=85 # 존재하는 key에 대해서는 value가 수정\n",
    "scores['music']=95 # 존재하지 않는 key에 대해서는 항목 추가\n",
    "print(scores)\n",
    "\n",
    "scores = {'kor':100, 'eng':90, 'math':80}\n",
    "scores.setdefault('music') # setdefault(key,value)로 요소 추가, value값을 비워두면 None으로 추가\n",
    "print(scores)\n",
    "scores.setdefault('music',85) # 이미 존재하는 key에 대해서는 수행되지 않음\n",
    "print(scores)\n",
    "\n",
    "scores = {'kor':100, 'eng':90, 'math':80}\n",
    "scores.update(math=90, music=90) \n",
    "# update(key1=value1, key2=value2, ...)을 통해 여러 항목 추가\n",
    "# 기존 키는 수정, 새로운 키는 추가\n",
    "# 키로 문자열만 입력 가능\n",
    "print(scores)\n",
    "\n",
    "scores = {'kor':100, 'eng':90, 'math':80}\n",
    "scores.update(zip(['math','music'],[90,90]))\n",
    "print(scores) # 위와 동일한 결과\n",
    "\n",
    "scores = {'kor':100, 'eng':90, 'math':80}\n",
    "scores.update([('math',90),('music',90)]) # 키=값 대신 튜플로 묶어도 가능\n",
    "print(scores) # 위와 동일한 결과\n",
    "\n",
    "scores = {'kor':100, 'eng':90, 'math':80}\n",
    "del scores['kor'] # 해당 키를 가지는 항목 삭제\n",
    "print(scores)\n",
    "\n",
    "scores = {'kor':100, 'eng':90, 'math':80}\n",
    "kor = scores.pop('kor') # 해당 키에 해당하는 값을 반환하고 딕셔너리에서 삭제\n",
    "print(kor)\n",
    "print(scores)\n",
    "\n",
    "scores = {'kor':100, 'eng':90, 'math':80}\n",
    "music = scores.pop('music','x') # 해당 키가 존재하지 않을경우, 지정한 값을 반환\n",
    "print(music)\n",
    "print(scores)  # 기본값 반환 \n",
    "\n",
    "scores = {'kor':100, 'eng':90, 'math':80}\n",
    "scores.clear() # 딕셔너리 항목 전체 삭제\n",
    "print(scores)"
   ]
  },
  {
   "cell_type": "markdown",
   "id": "4afbf431",
   "metadata": {},
   "source": [
    "# 딕셔너리 요소 가져오기"
   ]
  },
  {
   "cell_type": "code",
   "execution_count": 39,
   "id": "829af887",
   "metadata": {},
   "outputs": [
    {
     "name": "stdout",
     "output_type": "stream",
     "text": [
      "dict_keys(['kor', 'eng', 'math'])\n",
      "dict_values([100, 90, 80])\n",
      "dict_items([('kor', 100), ('eng', 90), ('math', 80)])\n",
      "kor/eng/math/100/90/80/('kor', 100)/('eng', 90)/('math', 80)/kor 100/eng 90/math 80/"
     ]
    }
   ],
   "source": [
    "scores = {'kor':100, 'eng':90, 'math':80}\n",
    "print(scores.keys()) # 딕셔너리의 키만 리스트형태로 추출\n",
    "print(scores.values()) # 딕셔너리의 값만 리스트 형태로 추출\n",
    "print(scores.items()) # 딕셔너리의 키와 값을 튜플로 묶어 리스트 형태로 추출\n",
    "# 각자 리스트 형태이지만 리스트는 아님\n",
    "# 따라서 리스트의 함수 sort, pop, append 등을 사용 불가\n",
    "# list(scores.keys())로 묶어 리스트로 변환시키면 가능\n",
    "\n",
    "# 반복문으로 모든 키와 값을 출력\n",
    "scores = {'kor':100, 'eng':90, 'math':80}\n",
    "\n",
    "for i in scores.keys():\n",
    "    print(i, end='/')\n",
    "    \n",
    "for i in scores.values():\n",
    "    print(i, end='/')\n",
    "    \n",
    "for i in scores.items():\n",
    "    print(i, end='/')\n",
    "    \n",
    "for k,v in scores.items():\n",
    "    print(k,v, end='/')\n",
    "    "
   ]
  },
  {
   "cell_type": "markdown",
   "id": "a0a76dc7",
   "metadata": {},
   "source": [
    "# 딕셔너리 정렬"
   ]
  },
  {
   "cell_type": "code",
   "execution_count": 45,
   "id": "5577d518",
   "metadata": {},
   "outputs": [
    {
     "name": "stdout",
     "output_type": "stream",
     "text": [
      "['eng', 'kor', 'math']\n",
      "[80, 90, 100]\n",
      "[('eng', 90), ('kor', 100), ('math', 80)]\n"
     ]
    }
   ],
   "source": [
    "scores = {'kor':100, 'eng':90, 'math':80}\n",
    "print(sorted(scores.keys())) # 키만 뽑아 정렬\n",
    "print(sorted(scores.values())) # 값만 뽑아 정렬\n",
    "print(sorted(scores.items())) # (키,값)으로 정렬(키 우선)"
   ]
  },
  {
   "cell_type": "code",
   "execution_count": 8,
   "id": "9f79e9a3",
   "metadata": {},
   "outputs": [
    {
     "name": "stdout",
     "output_type": "stream",
     "text": [
      "단어와 뜻을 공백을 구분해 입력하세요(원하는 입력이 끝나면 \"입력 완료\"를 입력하세요) : food 음식\n",
      "단어와 뜻을 공백을 구분해 입력하세요(원하는 입력이 끝나면 \"입력 완료\"를 입력하세요) : glass 유리\n",
      "단어와 뜻을 공백을 구분해 입력하세요(원하는 입력이 끝나면 \"입력 완료\"를 입력하세요) : door 문\n",
      "단어와 뜻을 공백을 구분해 입력하세요(원하는 입력이 끝나면 \"입력 완료\"를 입력하세요) : window 창문\n",
      "단어와 뜻을 공백을 구분해 입력하세요(원하는 입력이 끝나면 \"입력 완료\"를 입력하세요) : paper 종이\n",
      "단어와 뜻을 공백을 구분해 입력하세요(원하는 입력이 끝나면 \"입력 완료\"를 입력하세요) : 입력 완료\n",
      "단어장 입력 완료, 테스트(10문제, 중복가능)를 시작합니다.\n",
      "glass\n",
      "뜻을 입력하세요(그만하고 싶으면 \"끝\"을 입력하세요) : 유리\n",
      "food\n",
      "뜻을 입력하세요(그만하고 싶으면 \"끝\"을 입력하세요) : 음식\n",
      "door\n",
      "뜻을 입력하세요(그만하고 싶으면 \"끝\"을 입력하세요) : 문\n",
      "food\n",
      "뜻을 입력하세요(그만하고 싶으면 \"끝\"을 입력하세요) : 음식\n",
      "glass\n",
      "뜻을 입력하세요(그만하고 싶으면 \"끝\"을 입력하세요) : 유리\n",
      "door\n",
      "뜻을 입력하세요(그만하고 싶으면 \"끝\"을 입력하세요) : 창문\n",
      "glass\n",
      "뜻을 입력하세요(그만하고 싶으면 \"끝\"을 입력하세요) : 창문\n",
      "glass\n",
      "뜻을 입력하세요(그만하고 싶으면 \"끝\"을 입력하세요) : 창문\n",
      "food\n",
      "뜻을 입력하세요(그만하고 싶으면 \"끝\"을 입력하세요) : 끝\n",
      "총 8개 문제 중 5개를 맞추었으며, 100점 만점 기준 62.5점입니다.\n"
     ]
    }
   ],
   "source": [
    "# 연습문제 :영어단어장 만들기\n",
    "# 공백을 입력할 때까지 영어단어,뜻을 입력받아 단어장을 만들고, 단어 테스트를 실시하는 프로그램\n",
    "# 1) 단어장을 만듬\n",
    "# 2) 단어테스트를 실시하고 맞은 갯수를 계산\n",
    "# 3) 테스트가 끝나면 맞은갯수/전체단어수/점수 형태로 결과를 출력\n",
    "import random\n",
    "\n",
    "word_list = {}\n",
    "while True:\n",
    "    word,mean = input('단어와 뜻을 공백을 구분해 입력하세요(원하는 입력이 끝나면 \"입력 완료\"를 입력하세요) : ').split()\n",
    "    \n",
    "    if word == '입력' or mean == '완료':\n",
    "        break\n",
    "    else:\n",
    "        word_list[word]=mean\n",
    "        \n",
    "print('단어장 입력 완료, 테스트(10문제, 중복가능)를 시작합니다.')\n",
    "\n",
    "answer_count = 0\n",
    "count = 0\n",
    "\n",
    "while True:\n",
    "    count += 1\n",
    "    if count > 10:\n",
    "        break\n",
    "        \n",
    "    problem = random.choice(list(word_list.keys()))\n",
    "    print(problem)\n",
    "    answer = input('뜻을 입력하세요(그만하고 싶으면 \"끝\"을 입력하세요) : ')\n",
    "    \n",
    "    if answer == word_list[problem]:\n",
    "        answer_count += 1\n",
    "    elif answer == '끝':\n",
    "        break\n",
    "\n",
    "print(f'총 {count-1}개 문제 중 {answer_count}개를 맞추었으며, 100점 만점 기준 {100*answer_count/(count-1)}점입니다.')"
   ]
  }
 ],
 "metadata": {
  "kernelspec": {
   "display_name": "Python 3 (ipykernel)",
   "language": "python",
   "name": "python3"
  },
  "language_info": {
   "codemirror_mode": {
    "name": "ipython",
    "version": 3
   },
   "file_extension": ".py",
   "mimetype": "text/x-python",
   "name": "python",
   "nbconvert_exporter": "python",
   "pygments_lexer": "ipython3",
   "version": "3.9.7"
  }
 },
 "nbformat": 4,
 "nbformat_minor": 5
}
