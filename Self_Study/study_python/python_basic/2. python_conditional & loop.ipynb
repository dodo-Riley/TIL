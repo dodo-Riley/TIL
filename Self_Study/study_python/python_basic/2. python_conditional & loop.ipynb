{
 "cells": [
  {
   "cell_type": "markdown",
   "id": "d7d8bbc0",
   "metadata": {},
   "source": [
    "# 조건문"
   ]
  },
  {
   "cell_type": "code",
   "execution_count": 2,
   "id": "3e528b76",
   "metadata": {},
   "outputs": [
    {
     "name": "stdout",
     "output_type": "stream",
     "text": [
      "점수:60\n",
      "합격\n",
      "축하합니다.\n",
      "수고하셨습니다.\n"
     ]
    }
   ],
   "source": [
    "# if문\n",
    "\n",
    "score = int(input('점수:'))\n",
    "\n",
    "if score>=60: # score가 60 이상이면 아래 문장 수행\n",
    "    print('합격')\n",
    "    print('축하합니다.')\n",
    "print('수고하셨습니다.')"
   ]
  },
  {
   "cell_type": "code",
   "execution_count": 3,
   "id": "3c3a9a59",
   "metadata": {},
   "outputs": [
    {
     "name": "stdout",
     "output_type": "stream",
     "text": [
      "점수:55\n",
      "불합격\n"
     ]
    }
   ],
   "source": [
    "# if/else문\n",
    "\n",
    "score = int(input('점수:'))\n",
    "\n",
    "if score>=60: # score가 60이상이면 아래 문장 수행\n",
    "    print('합격')\n",
    "else: # 그 외의 경우(60미만이면) 아래 문장 수행\n",
    "    print('불합격')"
   ]
  },
  {
   "cell_type": "code",
   "execution_count": 4,
   "id": "e600da93",
   "metadata": {},
   "outputs": [
    {
     "name": "stdout",
     "output_type": "stream",
     "text": [
      "점수:65\n",
      "grade: D\n"
     ]
    }
   ],
   "source": [
    "# if/elif문\n",
    "\n",
    "score = int(input('점수:'))\n",
    "\n",
    "if score>=90: # score가 80이상이면 아래 문장 수행\n",
    "    grade='A'\n",
    "elif score>=80: # score가 90이상이면 아래 문장 수행\n",
    "    grade='B'\n",
    "elif score>=70: # score가 70이상 80미만이면 아래 문장 수행\n",
    "    grade='C'\n",
    "elif score>=60: # score가 60이상 70미만이면 아래 문장 수행\n",
    "    grade='D'\n",
    "else:  # score가 60미만이면 아래 문장 수행\n",
    "    grade='F'\n",
    "\n",
    "print('grade:',grade)"
   ]
  },
  {
   "cell_type": "code",
   "execution_count": 8,
   "id": "16988345",
   "metadata": {},
   "outputs": [
    {
     "name": "stdout",
     "output_type": "stream",
     "text": [
      "숫자(정수)를 입력해주세요 : 1\n",
      "홀수입니다.\n"
     ]
    }
   ],
   "source": [
    "# 연습문제 : 정수를 입력받아 짝/홀 판별 결과 출력\n",
    "\n",
    "i = int(input('숫자(정수)를 입력해주세요 : '))\n",
    "\n",
    "if i == 0:\n",
    "    print('0은 판별할 수 없습니다.')\n",
    "elif i%2 == 0:\n",
    "    print('짝수입니다.')\n",
    "else:\n",
    "    print('홀수입니다.')"
   ]
  },
  {
   "cell_type": "markdown",
   "id": "8f143ee0",
   "metadata": {},
   "source": [
    "# 반복문"
   ]
  },
  {
   "cell_type": "code",
   "execution_count": 14,
   "id": "1692468e",
   "metadata": {},
   "outputs": [
    {
     "name": "stdout",
     "output_type": "stream",
     "text": [
      "1/2/3/4/5/\n",
      "\n",
      "p/y/t/h/o/n/\n",
      "\n",
      "0/1/2/3/4/\n",
      "\n",
      "hello/hello/hello/hello/hello/hello/hello/hello/hello/hello/"
     ]
    }
   ],
   "source": [
    "# for문\n",
    "\n",
    "for i in [1,2,3,4,5]: # 반복가능한 자료구조에서 각 요소마다 아래 문장 수행\n",
    "    print(i, end='/')\n",
    "print('\\n')\n",
    "for i in 'python':\n",
    "    print(i, end='/')\n",
    "print('\\n')\n",
    "for i in range(5):\n",
    "    print(i, end='/')\n",
    "print('\\n')\n",
    "for i in range(10):\n",
    "    print('hello', end='/')"
   ]
  },
  {
   "cell_type": "code",
   "execution_count": 16,
   "id": "5380d1ce",
   "metadata": {},
   "outputs": [
    {
     "name": "stdout",
     "output_type": "stream",
     "text": [
      "0 0,0 1,0 2,0 3,1 0,1 1,1 2,1 3,2 0,2 1,2 2,2 3,\n",
      "\n",
      "2*1=2\t2*2=4\t2*3=6\t2*4=8\t2*5=10\t2*6=12\t2*7=14\t2*8=16\t2*9=18\t\n",
      "3*1=3\t3*2=6\t3*3=9\t3*4=12\t3*5=15\t3*6=18\t3*7=21\t3*8=24\t3*9=27\t\n",
      "4*1=4\t4*2=8\t4*3=12\t4*4=16\t4*5=20\t4*6=24\t4*7=28\t4*8=32\t4*9=36\t\n",
      "5*1=5\t5*2=10\t5*3=15\t5*4=20\t5*5=25\t5*6=30\t5*7=35\t5*8=40\t5*9=45\t\n",
      "6*1=6\t6*2=12\t6*3=18\t6*4=24\t6*5=30\t6*6=36\t6*7=42\t6*8=48\t6*9=54\t\n",
      "7*1=7\t7*2=14\t7*3=21\t7*4=28\t7*5=35\t7*6=42\t7*7=49\t7*8=56\t7*9=63\t\n",
      "8*1=8\t8*2=16\t8*3=24\t8*4=32\t8*5=40\t8*6=48\t8*7=56\t8*8=64\t8*9=72\t\n",
      "9*1=9\t9*2=18\t9*3=27\t9*4=36\t9*5=45\t9*6=54\t9*7=63\t9*8=72\t9*9=81\t\n",
      "\n",
      "\n",
      "2*1=2\t3*1=3\t4*1=4\t5*1=5\t6*1=6\t7*1=7\t8*1=8\t9*1=9\t\n",
      "2*2=4\t3*2=6\t4*2=8\t5*2=10\t6*2=12\t7*2=14\t8*2=16\t9*2=18\t\n",
      "2*3=6\t3*3=9\t4*3=12\t5*3=15\t6*3=18\t7*3=21\t8*3=24\t9*3=27\t\n",
      "2*4=8\t3*4=12\t4*4=16\t5*4=20\t6*4=24\t7*4=28\t8*4=32\t9*4=36\t\n",
      "2*5=10\t3*5=15\t4*5=20\t5*5=25\t6*5=30\t7*5=35\t8*5=40\t9*5=45\t\n",
      "2*6=12\t3*6=18\t4*6=24\t5*6=30\t6*6=36\t7*6=42\t8*6=48\t9*6=54\t\n",
      "2*7=14\t3*7=21\t4*7=28\t5*7=35\t6*7=42\t7*7=49\t8*7=56\t9*7=63\t\n",
      "2*8=16\t3*8=24\t4*8=32\t5*8=40\t6*8=48\t7*8=56\t8*8=64\t9*8=72\t\n",
      "2*9=18\t3*9=27\t4*9=36\t5*9=45\t6*9=54\t7*9=63\t8*9=72\t9*9=81\t\n"
     ]
    }
   ],
   "source": [
    "# for문 중첩\n",
    "for i in range(3):\n",
    "    for j in range(4):\n",
    "        print(i,j, end=',')\n",
    "print('\\n')\n",
    "for i in range(2,10):\n",
    "    for j in range(1,10):\n",
    "        print(f'{i}*{j}={i*j}', end='\\t')\n",
    "    print()\n",
    "print('\\n')\n",
    "for i in range(1,10):\n",
    "    for j in range(2,10):\n",
    "        print(f'{j}*{i}={j*i}', end='\\t')\n",
    "    print()"
   ]
  },
  {
   "cell_type": "code",
   "execution_count": 18,
   "id": "17d37fb3",
   "metadata": {},
   "outputs": [
    {
     "name": "stdout",
     "output_type": "stream",
     "text": [
      "55\n"
     ]
    }
   ],
   "source": [
    "# 연습문제 : 1부터 10까지 정수의 합 출력\n",
    "sum = 0\n",
    "for i in range(1,11):\n",
    "    sum += i\n",
    "print(sum)"
   ]
  },
  {
   "cell_type": "code",
   "execution_count": 19,
   "id": "94e18dbb",
   "metadata": {},
   "outputs": [
    {
     "name": "stdout",
     "output_type": "stream",
     "text": [
      "2500\n"
     ]
    }
   ],
   "source": [
    "# 연습문제 : 1부터 100까지 홀수의 합 출력\n",
    "sum = 0\n",
    "for i in range(1,101):\n",
    "    if i%2 == 1:\n",
    "        sum += i\n",
    "print(sum)"
   ]
  },
  {
   "cell_type": "code",
   "execution_count": 20,
   "id": "72a8f5d7",
   "metadata": {},
   "outputs": [
    {
     "name": "stdout",
     "output_type": "stream",
     "text": [
      "1\n",
      "2\n",
      "3\n",
      "4\n",
      "5\n"
     ]
    }
   ],
   "source": [
    "# while문\n",
    "    \n",
    "n = 1\n",
    "while n<=5:  # 조건을 만족하는 한 무한 반복\n",
    "    print(n)\n",
    "    n+=1 "
   ]
  },
  {
   "cell_type": "code",
   "execution_count": 21,
   "id": "a71b5975",
   "metadata": {},
   "outputs": [
    {
     "name": "stdout",
     "output_type": "stream",
     "text": [
      "55\n",
      "55\n"
     ]
    }
   ],
   "source": [
    "# 1부터 10까지의 합을 출력하는 프로그램을 for문과 while문으로 구현\n",
    "sum_for=0\n",
    "for i in range(1,11):\n",
    "    sum_for += i\n",
    "print(sum_for)\n",
    "\n",
    "n = 1\n",
    "sum_while = 0\n",
    "while n<=10:\n",
    "    sum_while += n\n",
    "    n+=1\n",
    "print(sum_while)"
   ]
  },
  {
   "cell_type": "code",
   "execution_count": 23,
   "id": "a2c4517b",
   "metadata": {},
   "outputs": [
    {
     "name": "stdout",
     "output_type": "stream",
     "text": [
      "이름:ㅇㅇ\n",
      "이름:ㅇㅇ\n",
      "이름:ㅇㅇ\n",
      "이름:ㅇㅇ\n",
      "이름:quit\n",
      "이름:ㅁㅁ\n",
      "이름:ㅁㅁ\n",
      "이름:ㅁㅁ\n",
      "이름:ㅁㅁ\n",
      "이름:quit\n"
     ]
    }
   ],
   "source": [
    "name = input('이름:')\n",
    "while name != 'quit':   \n",
    "    name = input('이름:')\n",
    "    \n",
    "while True: # 무한 반복\n",
    "    name = input('이름:')\n",
    "    if name=='quit':\n",
    "        break  # 정지조건을 만나면 종료"
   ]
  },
  {
   "cell_type": "code",
   "execution_count": 26,
   "id": "197733ba",
   "metadata": {},
   "outputs": [
    {
     "name": "stdout",
     "output_type": "stream",
     "text": [
      "아이디와 패스워드를 입력하세요(공백구분) : dodo 1324\n",
      "패스워드가 일치하지 않습니다.\n",
      "아이디와 패스워드를 입력하세요(공백구분) : dodo 1234\n",
      "로그인에 성공했습니다.\n"
     ]
    }
   ],
   "source": [
    "# 연습문제 : 올바른 아이디와 비밀번호를 입력할 때까지 입력받기\n",
    "\n",
    "id, password = ('dodo', '1234')\n",
    "\n",
    "while True:\n",
    "    input_id, input_password = input('아이디와 패스워드를 입력하세요(공백구분) : ').split()\n",
    "    if input_id==id and input_password==password:\n",
    "        print('로그인에 성공했습니다.')\n",
    "        break\n",
    "    if input_id != id:\n",
    "        print('아이디가 존재하지 않습니다.')\n",
    "    if input_password != password:\n",
    "        print('패스워드가 일치하지 않습니다.')\n",
    "        "
   ]
  },
  {
   "cell_type": "code",
   "execution_count": 27,
   "id": "27af5f40",
   "metadata": {},
   "outputs": [
    {
     "name": "stdout",
     "output_type": "stream",
     "text": [
      "숫자를 입력하세요 : 1\n",
      "숫자를 입력하세요 : 2\n",
      "숫자를 입력하세요 : 3\n",
      "숫자를 입력하세요 : 0\n",
      "6\n"
     ]
    }
   ],
   "source": [
    "# 연습문제 : 0을 입력할때까지 숫자를 계속 입력받고, 이들의 합을 출력\n",
    "sum = 0\n",
    "while i != 0 :\n",
    "    i = int(input('숫자를 입력하세요 : '))\n",
    "    sum += i\n",
    "print(sum)"
   ]
  },
  {
   "cell_type": "code",
   "execution_count": 32,
   "id": "8b04dc24",
   "metadata": {},
   "outputs": [
    {
     "name": "stdout",
     "output_type": "stream",
     "text": [
      "숫자를 입력하세요 : 2\n",
      "up\n",
      "숫자를 입력하세요 : 10\n",
      "up\n",
      "숫자를 입력하세요 : 50\n",
      "up\n",
      "숫자를 입력하세요 : 80\n",
      "down\n",
      "숫자를 입력하세요 : 70\n",
      "down\n",
      "숫자를 입력하세요 : 60\n",
      "down\n",
      "숫자를 입력하세요 : 55\n",
      "up\n",
      "숫자를 입력하세요 : 58\n",
      "up\n",
      "숫자를 입력하세요 : 59\n",
      "정답\n"
     ]
    }
   ],
   "source": [
    "# 연습문제 : 1~100 사이의 숫자 중 하나를 랜덤으로 지정하고, 숫자를 입력받아 up & down & 정답을 출력\n",
    "import random\n",
    "answer = random.randint(1,100)\n",
    "while True:\n",
    "    a = int(input('숫자를 입력하세요 : '))\n",
    "    if a == answer:\n",
    "        print('정답')\n",
    "        break\n",
    "    if a > answer:\n",
    "        print('down')\n",
    "    if a < answer:\n",
    "        print('up')"
   ]
  },
  {
   "cell_type": "code",
   "execution_count": 37,
   "id": "fd07cd39",
   "metadata": {},
   "outputs": [
    {
     "name": "stdout",
     "output_type": "stream",
     "text": [
      "숫자를 입력하세요 : 50\n",
      "down\n",
      "숫자를 입력하세요 : 25\n",
      "up\n",
      "숫자를 입력하세요 : 37\n",
      "down\n",
      "숫자를 입력하세요 : 30\n",
      "up\n",
      "숫자를 입력하세요 : 32\n",
      "up\n",
      "숫자를 입력하세요 : 34\n",
      "5회 실패 정답은 35입니다.\n"
     ]
    }
   ],
   "source": [
    "# 연습문제 : 1~100 사이의 숫자 중 하나를 랜덤으로 지정하고, 숫자를 입력받아 up & down & 정답을 출력\n",
    "# 단, 5회 초과 입력시 실패메시지와 정답 출력\n",
    "# 정답 입력 시 입력횟수 동시 출력\n",
    "import random\n",
    "answer = random.randint(1,100)\n",
    "i = 0\n",
    "while True:\n",
    "    a = int(input('숫자를 입력하세요 : '))\n",
    "    i += 1\n",
    "    if i > 5:\n",
    "        print('5회 실패',f'정답은 {answer}입니다.')\n",
    "        break\n",
    "    if a == answer:\n",
    "        print('정답!',f'시도횟수 : {i}')\n",
    "        break\n",
    "    if a > answer:\n",
    "        print('down')\n",
    "    if a < answer:\n",
    "        print('up')\n",
    "    "
   ]
  },
  {
   "cell_type": "code",
   "execution_count": 39,
   "id": "5825bdcb",
   "metadata": {},
   "outputs": [
    {
     "name": "stdout",
     "output_type": "stream",
     "text": [
      "숫자 두 개를(공백 구분) 입력하세요 : 2 3\n",
      "연산 기호를 입력하세요 : -\n",
      "결과는 1입니다.\n"
     ]
    }
   ],
   "source": [
    "# 연습문제 : 숫자 두 개와 연산 기호를 입력받아 결과를 출력하기\n",
    "# 단 숫자가 아니거나 연산기호가 아닌 경우, 오류 메시지 출력\n",
    "while True:\n",
    "    a,b=map(int, input('숫자 두 개를(공백 구분) 입력하세요 : ').split())\n",
    "    c=input('연산 기호를 입력하세요 : ')\n",
    "    if c=='+':\n",
    "        print(f'결과는 {a+b}입니다.')\n",
    "        break\n",
    "    elif c=='-':\n",
    "        print(f'결과는 {abs(a-b)}입니다.')\n",
    "        break\n",
    "    elif c=='*':\n",
    "        print(f'결과는 {a*b}입니다.')\n",
    "        break\n",
    "    elif c=='/':\n",
    "        print(f'결과는 {a/b}입니다.')\n",
    "        break\n",
    "    else:\n",
    "        print('유효한 입력이 아닙니다.')"
   ]
  },
  {
   "cell_type": "code",
   "execution_count": 41,
   "id": "436c5aa1",
   "metadata": {},
   "outputs": [
    {
     "name": "stdout",
     "output_type": "stream",
     "text": [
      "가격을 입력하세요(원 단위) : 30000\n",
      "가격 : 30000, 할인율 : 5.0%, 할인금액 : 1500.0, 지불해야할 금액 : 28500.0\n"
     ]
    }
   ],
   "source": [
    "# 연습문제 : 가격을 입력받아 금액에 따른 할인율을 계산해 가격, 할인율, 할인금액, 지불해야할 금액을 출력\n",
    "# 할인율은 1만원이상 5만원미만은 5%, 5만원이상 10만원 미만은 7%, 10만원 이상은 10%\n",
    "price = int(input('가격을 입력하세요(원 단위) : '))\n",
    "if price >= 100000:\n",
    "    a = 0.1\n",
    "elif price>=50000:\n",
    "    a = 0.07\n",
    "else:\n",
    "    a= 0.05\n",
    "    \n",
    "print(f'가격 : {price}, 할인율 : {a*100}%, 할인금액 : {price*a}, 지불해야할 금액 : {price*(1-a)}')"
   ]
  }
 ],
 "metadata": {
  "kernelspec": {
   "display_name": "Python 3 (ipykernel)",
   "language": "python",
   "name": "python3"
  },
  "language_info": {
   "codemirror_mode": {
    "name": "ipython",
    "version": 3
   },
   "file_extension": ".py",
   "mimetype": "text/x-python",
   "name": "python",
   "nbconvert_exporter": "python",
   "pygments_lexer": "ipython3",
   "version": "3.9.7"
  }
 },
 "nbformat": 4,
 "nbformat_minor": 5
}
