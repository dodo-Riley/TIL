{
 "cells": [
  {
   "cell_type": "markdown",
   "id": "88d1adc9",
   "metadata": {},
   "source": [
    "# 의사결정나무"
   ]
  },
  {
   "cell_type": "code",
   "execution_count": 1,
   "id": "f0fad53c",
   "metadata": {},
   "outputs": [],
   "source": [
    "import pandas as pd\n",
    "import numpy as np\n",
    "import matplotlib.pyplot as plt"
   ]
  },
  {
   "cell_type": "code",
   "execution_count": 4,
   "id": "cd16f49b",
   "metadata": {},
   "outputs": [],
   "source": [
    "# 풍속을 threshol값을 기준으로 분류하는 의사결정나무\n",
    "\n",
    "# 풍속에 따른 항공지연 데이터 생성\n",
    "Wind = [1, 1.5, 2.5, 5, 5.5, 6.5]\n",
    "Delay  = ['No', 'No', 'No', 'Yes', 'Yes', 'Yes']\n",
    "data = pd.DataFrame({'풍속':Wind, '지연 여부':Delay})\n",
    "\n",
    "# 함수 정의\n",
    "def binary_tree(data,threshold):\n",
    "    # 변수 초기화\n",
    "    yes = []\n",
    "    no = []\n",
    "    \n",
    "    # data의 모든 풍속 값에 대해 반복\n",
    "    for wind in data['풍속']:\n",
    "        # threshold값과 비교해 분류 저장\n",
    "        if wind > threshold:\n",
    "            yes.append(wind)\n",
    "        else:\n",
    "            no.append(wind)\n",
    "    # 결과를 데이터프레임으로 저장\n",
    "    df_yes = pd.DataFrame({'풍속':yes, '예상 지연 여부':['Yes']*len(yes)})\n",
    "    df_no = pd.DataFrame({'풍속':no, '예상 지연 여부':['No']*len(no)})\n",
    "    # 반환값(df_no와 df_yes를 세로방향으로 결합) 설정\n",
    "    return df_no.append(df_yes, ignore_index=True)"
   ]
  },
  {
   "cell_type": "code",
   "execution_count": 7,
   "id": "4c3ea85e",
   "metadata": {},
   "outputs": [
    {
     "name": "stdout",
     "output_type": "stream",
     "text": [
      "    풍속 예상 지연 여부\n",
      "0  1.0       No\n",
      "1  1.5       No\n",
      "2  2.5       No\n",
      "3  5.0      Yes\n",
      "4  5.5      Yes\n",
      "5  6.5      Yes \n",
      "\n"
     ]
    }
   ],
   "source": [
    "# binary_tree 모델을 사용하여 항공 지연 여부를 예측\n",
    "\n",
    "data_pred = binary_tree(data, threshold = 4)\n",
    "print(data_pred,'\\n')"
   ]
  },
  {
   "cell_type": "code",
   "execution_count": 14,
   "id": "c14c4071",
   "metadata": {},
   "outputs": [
    {
     "data": {
      "text/html": [
       "<div>\n",
       "<style scoped>\n",
       "    .dataframe tbody tr th:only-of-type {\n",
       "        vertical-align: middle;\n",
       "    }\n",
       "\n",
       "    .dataframe tbody tr th {\n",
       "        vertical-align: top;\n",
       "    }\n",
       "\n",
       "    .dataframe thead th {\n",
       "        text-align: right;\n",
       "    }\n",
       "</style>\n",
       "<table border=\"1\" class=\"dataframe\">\n",
       "  <thead>\n",
       "    <tr style=\"text-align: right;\">\n",
       "      <th></th>\n",
       "      <th>꽃받침 길이</th>\n",
       "      <th>꽃받침 넓이</th>\n",
       "      <th>꽃잎 길이</th>\n",
       "      <th>꽃잎 넓이</th>\n",
       "      <th>클래스(품종)</th>\n",
       "    </tr>\n",
       "  </thead>\n",
       "  <tbody>\n",
       "    <tr>\n",
       "      <th>0</th>\n",
       "      <td>5.1</td>\n",
       "      <td>3.5</td>\n",
       "      <td>1.4</td>\n",
       "      <td>0.2</td>\n",
       "      <td>0</td>\n",
       "    </tr>\n",
       "    <tr>\n",
       "      <th>1</th>\n",
       "      <td>4.9</td>\n",
       "      <td>3.0</td>\n",
       "      <td>1.4</td>\n",
       "      <td>0.2</td>\n",
       "      <td>0</td>\n",
       "    </tr>\n",
       "    <tr>\n",
       "      <th>2</th>\n",
       "      <td>4.7</td>\n",
       "      <td>3.2</td>\n",
       "      <td>1.3</td>\n",
       "      <td>0.2</td>\n",
       "      <td>0</td>\n",
       "    </tr>\n",
       "    <tr>\n",
       "      <th>3</th>\n",
       "      <td>4.6</td>\n",
       "      <td>3.1</td>\n",
       "      <td>1.5</td>\n",
       "      <td>0.2</td>\n",
       "      <td>0</td>\n",
       "    </tr>\n",
       "    <tr>\n",
       "      <th>4</th>\n",
       "      <td>5.0</td>\n",
       "      <td>3.6</td>\n",
       "      <td>1.4</td>\n",
       "      <td>0.2</td>\n",
       "      <td>0</td>\n",
       "    </tr>\n",
       "    <tr>\n",
       "      <th>...</th>\n",
       "      <td>...</td>\n",
       "      <td>...</td>\n",
       "      <td>...</td>\n",
       "      <td>...</td>\n",
       "      <td>...</td>\n",
       "    </tr>\n",
       "    <tr>\n",
       "      <th>145</th>\n",
       "      <td>6.7</td>\n",
       "      <td>3.0</td>\n",
       "      <td>5.2</td>\n",
       "      <td>2.3</td>\n",
       "      <td>2</td>\n",
       "    </tr>\n",
       "    <tr>\n",
       "      <th>146</th>\n",
       "      <td>6.3</td>\n",
       "      <td>2.5</td>\n",
       "      <td>5.0</td>\n",
       "      <td>1.9</td>\n",
       "      <td>2</td>\n",
       "    </tr>\n",
       "    <tr>\n",
       "      <th>147</th>\n",
       "      <td>6.5</td>\n",
       "      <td>3.0</td>\n",
       "      <td>5.2</td>\n",
       "      <td>2.0</td>\n",
       "      <td>2</td>\n",
       "    </tr>\n",
       "    <tr>\n",
       "      <th>148</th>\n",
       "      <td>6.2</td>\n",
       "      <td>3.4</td>\n",
       "      <td>5.4</td>\n",
       "      <td>2.3</td>\n",
       "      <td>2</td>\n",
       "    </tr>\n",
       "    <tr>\n",
       "      <th>149</th>\n",
       "      <td>5.9</td>\n",
       "      <td>3.0</td>\n",
       "      <td>5.1</td>\n",
       "      <td>1.8</td>\n",
       "      <td>2</td>\n",
       "    </tr>\n",
       "  </tbody>\n",
       "</table>\n",
       "<p>150 rows × 5 columns</p>\n",
       "</div>"
      ],
      "text/plain": [
       "     꽃받침 길이  꽃받침 넓이  꽃잎 길이  꽃잎 넓이  클래스(품종)\n",
       "0       5.1     3.5    1.4    0.2        0\n",
       "1       4.9     3.0    1.4    0.2        0\n",
       "2       4.7     3.2    1.3    0.2        0\n",
       "3       4.6     3.1    1.5    0.2        0\n",
       "4       5.0     3.6    1.4    0.2        0\n",
       "..      ...     ...    ...    ...      ...\n",
       "145     6.7     3.0    5.2    2.3        2\n",
       "146     6.3     2.5    5.0    1.9        2\n",
       "147     6.5     3.0    5.2    2.0        2\n",
       "148     6.2     3.4    5.4    2.3        2\n",
       "149     5.9     3.0    5.1    1.8        2\n",
       "\n",
       "[150 rows x 5 columns]"
      ]
     },
     "execution_count": 14,
     "metadata": {},
     "output_type": "execute_result"
    }
   ],
   "source": [
    "# sklearn 의사결정나무_ 데이터 전처리\n",
    "\n",
    "from sklearn.datasets import load_iris\n",
    "from sklearn.tree import DecisionTreeClassifier\n",
    "from sklearn.model_selection import train_test_split\n",
    "from sklearn.metrics import accuracy_score\n",
    "\n",
    "# 데이터 불러오기\n",
    "X, Y = load_iris(return_X_y=True)\n",
    "\n",
    "# 데이터프레임으로 변환\n",
    "df = pd.DataFrame(X,columns=['꽃받침 길이','꽃받침 넓이','꽃잎 길이','꽃잎 넓이'])\n",
    "df['클래스(품종)'] = Y\n",
    "df"
   ]
  },
  {
   "cell_type": "code",
   "execution_count": 16,
   "id": "0e39c7f4",
   "metadata": {},
   "outputs": [
    {
     "name": "stdout",
     "output_type": "stream",
     "text": [
      "   꽃받침 길이  꽃받침 넓이  꽃잎 길이  꽃잎 넓이  클래스(품종)\n",
      "0     5.1     3.5    1.4    0.2        0\n",
      "1     4.9     3.0    1.4    0.2        0\n",
      "2     4.7     3.2    1.3    0.2        0\n",
      "3     4.6     3.1    1.5    0.2        0\n",
      "4     5.0     3.6    1.4    0.2        0 \n",
      "\n",
      "[[4.6 3.6 1.  0.2]\n",
      " [5.7 4.4 1.5 0.4]\n",
      " [6.7 3.1 4.4 1.4]\n",
      " [4.8 3.4 1.6 0.2]\n",
      " [4.4 3.2 1.3 0.2]] \n",
      "\n",
      "[[6.1 2.8 4.7 1.2]\n",
      " [5.7 3.8 1.7 0.3]\n",
      " [7.7 2.6 6.9 2.3]\n",
      " [6.  2.9 4.5 1.5]\n",
      " [6.8 2.8 4.8 1.4]] \n",
      "\n",
      "[0 0 1 0 0] \n",
      "\n",
      "[1 0 2 1 1] \n",
      "\n"
     ]
    }
   ],
   "source": [
    "# 학습용, 평가용 데이터 분리\n",
    "train_X, test_X, train_Y, test_Y = train_test_split(X,Y, test_size=0.2, random_state=42)\n",
    "\n",
    "# 데이터 확인\n",
    "print(df.head(), '\\n')\n",
    "print(train_X[:5], '\\n')\n",
    "print(test_X[:5], '\\n')\n",
    "print(train_Y[:5], '\\n')\n",
    "print(test_Y[:5], '\\n')"
   ]
  },
  {
   "cell_type": "code",
   "execution_count": 18,
   "id": "4aaaa3a6",
   "metadata": {},
   "outputs": [],
   "source": [
    "import matplotlib.pyplot as plt\n",
    "from sklearn import tree"
   ]
  },
  {
   "cell_type": "code",
   "execution_count": 19,
   "id": "fc3ea2bd",
   "metadata": {},
   "outputs": [
    {
     "data": {
      "text/plain": [
       "DecisionTreeClassifier(max_depth=2)"
      ]
     },
     "execution_count": 19,
     "metadata": {},
     "output_type": "execute_result"
    }
   ],
   "source": [
    "# 의사결정나무 모델 초기화, 학습\n",
    "\n",
    "DTmodel = DecisionTreeClassifier(max_depth=2) # 최대 깊이 2로 객체 생성\n",
    "DTmodel.fit(train_X, train_Y)"
   ]
  },
  {
   "cell_type": "code",
   "execution_count": 24,
   "id": "eed3be7b",
   "metadata": {},
   "outputs": [
    {
     "data": {
      "image/png": "[encoded data removed]",
      "text/plain": [
       "<Figure size 720x720 with 1 Axes>"
      ]
     },
     "metadata": {
      "needs_background": "light"
     },
     "output_type": "display_data"
    }
   ],
   "source": [
    "# 학습 결과 출력\n",
    "plt.rc('font', family='Malgun Gothic')\n",
    "fig = plt.figure(figsize=(10,10))\n",
    "tree.plot_tree(DTmodel,\n",
    "              feature_names=['꽃받침 길이','꽃받침 넓이','꽃잎 길이','꽃잎 넓이'],\n",
    "              class_names = ['setosa', 'versicolor', 'virginica'],\n",
    "              filled=True)\n",
    "plt.show()"
   ]
  },
  {
   "cell_type": "code",
   "execution_count": 25,
   "id": "cc8aa4dc",
   "metadata": {},
   "outputs": [
    {
     "data": {
      "text/plain": [
       "array([1, 0, 2, 1, 2, 0, 1, 2, 1, 1, 2, 0, 0, 0, 0, 1, 2, 1, 1, 2, 0, 2,\n",
       "       0, 2, 2, 2, 2, 2, 0, 0])"
      ]
     },
     "execution_count": 25,
     "metadata": {},
     "output_type": "execute_result"
    }
   ],
   "source": [
    "# test data로 예측\n",
    "pred_X = DTmodel.predict(test_X)\n",
    "pred_X"
   ]
  },
  {
   "cell_type": "code",
   "execution_count": 26,
   "id": "039879c0",
   "metadata": {},
   "outputs": [],
   "source": [
    "import numpy as np\n",
    "import pandas as pd\n",
    "import seaborn as sns\n",
    "import matplotlib.pyplot as plt\n",
    "from sklearn.datasets import load_breast_cancer\n",
    "from sklearn.tree import DecisionTreeClassifier\n",
    "from sklearn.model_selection import train_test_split\n",
    "from sklearn.metrics import accuracy_score\n",
    "from sklearn.metrics import precision_score\n",
    "from sklearn.metrics import recall_score\n",
    "from sklearn import tree\n",
    "from sklearn.metrics import confusion_matrix\n",
    "from sklearn.utils.multiclass import unique_labels"
   ]
  },
  {
   "cell_type": "code",
   "execution_count": 29,
   "id": "1d5fc075",
   "metadata": {},
   "outputs": [
    {
     "name": "stdout",
     "output_type": "stream",
     "text": [
      "(569, 30) \n",
      " (569,) \n",
      "\n"
     ]
    }
   ],
   "source": [
    "# 데이터 불러오기\n",
    "X,Y=load_breast_cancer(return_X_y=True)\n",
    "X = np.array(X)\n",
    "Y = np.array(Y)\n",
    "print(X.shape, '\\n', Y.shape, '\\n')"
   ]
  },
  {
   "cell_type": "code",
   "execution_count": 31,
   "id": "c4b23a09",
   "metadata": {},
   "outputs": [
    {
     "name": "stdout",
     "output_type": "stream",
     "text": [
      "(455, 30) \n",
      " (114, 30) \n",
      "\n"
     ]
    }
   ],
   "source": [
    "# 학습용 데이터, 평가용 데이터 분리\n",
    "train_X,test_X,train_Y,test_Y = train_test_split(X,Y, test_size=0.2, random_state=42)\n",
    "print(train_X.shape, '\\n', test_X.shape, '\\n')"
   ]
  },
  {
   "cell_type": "code",
   "execution_count": 32,
   "id": "0af81e9f",
   "metadata": {},
   "outputs": [
    {
     "data": {
      "text/plain": [
       "43"
      ]
     },
     "execution_count": 32,
     "metadata": {},
     "output_type": "execute_result"
    }
   ],
   "source": [
    "len(test_Y)-sum(test_Y) # class가 0인 데이터 개수"
   ]
  },
  {
   "cell_type": "code",
   "execution_count": 35,
   "id": "06f7b0a3",
   "metadata": {},
   "outputs": [
    {
     "data": {
      "text/plain": [
       "DecisionTreeClassifier()"
      ]
     },
     "execution_count": 35,
     "metadata": {},
     "output_type": "execute_result"
    }
   ],
   "source": [
    "# 의사결정나무 모델 학습\n",
    "DTmodel = DecisionTreeClassifier() # 객체 생성\n",
    "DTmodel.fit(train_X, train_Y) # 학습"
   ]
  },
  {
   "cell_type": "code",
   "execution_count": 37,
   "id": "37dbd992",
   "metadata": {},
   "outputs": [],
   "source": [
    "# 예측\n",
    "pred_Y = DTmodel.predict(test_X)"
   ]
  },
  {
   "cell_type": "code",
   "execution_count": 38,
   "id": "7098d8bd",
   "metadata": {},
   "outputs": [
    {
     "name": "stdout",
     "output_type": "stream",
     "text": [
      "Confusion Matrix : \n",
      " [[40  3]\n",
      " [ 4 67]]\n"
     ]
    },
    {
     "data": {
      "text/plain": [
       "[Text(0.5, 1.0, 'Confusion Matrix'),\n",
       " Text(25.0, 0.5, 'True label'),\n",
       " Text(0.5, 25.0, 'Predicted label')]"
      ]
     },
     "execution_count": 38,
     "metadata": {},
     "output_type": "execute_result"
    },
    {
     "data": {
      "image/png": "[encoded data removed]",
      "text/plain": [
       "<Figure size 360x360 with 2 Axes>"
      ]
     },
     "metadata": {
      "needs_background": "light"
     },
     "output_type": "display_data"
    }
   ],
   "source": [
    "# 혼동행렬\n",
    "cm = confusion_matrix(test_Y, pred_Y)\n",
    "print('Confusion Matrix : \\n {}'.format(cm))\n",
    "\n",
    "fig = plt.figure(figsize=(5,5))\n",
    "ax = sns.heatmap(cm, annot=True) # 데이터 표시하여 히트맵 그림\n",
    "ax.set(title='Confusion Matrix',\n",
    "            ylabel='True label',\n",
    "            xlabel='Predicted label')"
   ]
  },
  {
   "cell_type": "code",
   "execution_count": 41,
   "id": "27dd837c",
   "metadata": {},
   "outputs": [
    {
     "name": "stdout",
     "output_type": "stream",
     "text": [
      "train_X confusion_matrix : \n",
      " [[169   0]\n",
      " [  0 286]]\n",
      "test_X confusion_matrix : \n",
      " [[40  3]\n",
      " [ 4 67]]\n",
      "train_X Accuracy: 1.000000\n",
      "test_X Accuracy: 0.938596\n",
      "train_X Accuracy: 1.000000\n",
      "test_X Accuracy: 0.938596\n"
     ]
    }
   ],
   "source": [
    "# accuracy\n",
    "y_pred_train = DTmodel.predict(train_X)\n",
    "y_pred_test = DTmodel.predict(test_X)\n",
    "\n",
    "cm_train = confusion_matrix(train_Y, y_pred_train)\n",
    "cm_test = confusion_matrix(test_Y, y_pred_test)\n",
    "\n",
    "print('train_X confusion_matrix : \\n {}'.format(cm_train))\n",
    "print('test_X confusion_matrix : \\n {}'.format(cm_test))\n",
    "\n",
    "acc_train = DTmodel.score(train_X, train_Y)\n",
    "acc_test = DTmodel.score(test_X, test_Y)\n",
    "acc_train2 = accuracy_score(train_Y, y_pred_train)\n",
    "acc_test2 = accuracy_score(test_Y, y_pred_test)\n",
    "\n",
    "print('train_X Accuracy: %f' % (acc_train))\n",
    "print('test_X Accuracy: %f' % (acc_test))\n",
    "print('train_X Accuracy: %f' % (acc_train2))\n",
    "print('test_X Accuracy: %f' % (acc_test2))"
   ]
  },
  {
   "cell_type": "code",
   "execution_count": 44,
   "id": "eedc5281",
   "metadata": {},
   "outputs": [
    {
     "name": "stdout",
     "output_type": "stream",
     "text": [
      "train_X precision: 1.000000\n",
      "test_X precision: 0.957143\n"
     ]
    }
   ],
   "source": [
    "# precision\n",
    "precision_train = precision_score(train_Y, y_pred_train)\n",
    "precision_test = precision_score(test_Y, y_pred_test)\n",
    "\n",
    "print('train_X precision: %f' % (precision_train))\n",
    "print('test_X precision: %f' % (precision_test))"
   ]
  },
  {
   "cell_type": "code",
   "execution_count": 43,
   "id": "b2d555f6",
   "metadata": {},
   "outputs": [
    {
     "name": "stdout",
     "output_type": "stream",
     "text": [
      "train_X recall: 1.000000\n",
      "test_X recall: 0.943662\n"
     ]
    }
   ],
   "source": [
    "# recall\n",
    "recall_train = recall_score(train_Y, y_pred_train)\n",
    "recall_test = recall_score(test_Y, y_pred_test)\n",
    "\n",
    "print('train_X recall: %f' % (recall_train))\n",
    "print('test_X recall: %f' % (recall_test))"
   ]
  }
 ],
 "metadata": {
  "kernelspec": {
   "display_name": "Python 3 (ipykernel)",
   "language": "python",
   "name": "python3"
  },
  "language_info": {
   "codemirror_mode": {
    "name": "ipython",
    "version": 3
   },
   "file_extension": ".py",
   "mimetype": "text/x-python",
   "name": "python",
   "nbconvert_exporter": "python",
   "pygments_lexer": "ipython3",
   "version": "3.9.7"
  }
 },
 "nbformat": 4,
 "nbformat_minor": 5
}
