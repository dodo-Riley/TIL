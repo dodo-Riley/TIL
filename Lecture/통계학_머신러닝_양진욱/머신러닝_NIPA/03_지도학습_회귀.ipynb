{
 "cells": [
  {
   "cell_type": "markdown",
   "id": "d44f5eae",
   "metadata": {},
   "source": [
    "# 단순 선형 회귀"
   ]
  },
  {
   "cell_type": "code",
   "execution_count": 35,
   "id": "337f1081",
   "metadata": {},
   "outputs": [],
   "source": [
    "import matplotlib.pyplot as plt\n",
    "import pandas as pd\n",
    "import numpy as np\n",
    "from sklearn.linear_model import LinearRegression"
   ]
  },
  {
   "cell_type": "code",
   "execution_count": 3,
   "id": "1cc20b28",
   "metadata": {},
   "outputs": [],
   "source": [
    "# 데이터 생성\n",
    "X = [8.70153760, 3.90825773, 1.89362433, 3.28730045, 7.39333004, 2.98984649, 2.25757240, 9.84450732, 9.94589513, 5.48321616]\n",
    "Y = [5.64413093, 3.75876583, 3.87233310, 4.40990425, 6.43845020, 4.02827829, 2.26105955, 7.15768995, 6.29097441, 5.19692852]"
   ]
  },
  {
   "cell_type": "code",
   "execution_count": 4,
   "id": "af946814",
   "metadata": {},
   "outputs": [
    {
     "name": "stdout",
     "output_type": "stream",
     "text": [
      "전 처리한 X 데이터: \n",
      "           X\n",
      "0  8.701538\n",
      "1  3.908258\n",
      "2  1.893624\n",
      "3  3.287300\n",
      "4  7.393330\n",
      "5  2.989846\n",
      "6  2.257572\n",
      "7  9.844507\n",
      "8  9.945895\n",
      "9  5.483216\n",
      "전 처리한 X 데이터 shape: (10, 1)\n",
      "\n",
      "전 처리한 Y 데이터: \n",
      " 0    5.644131\n",
      "1    3.758766\n",
      "2    3.872333\n",
      "3    4.409904\n",
      "4    6.438450\n",
      "5    4.028278\n",
      "6    2.261060\n",
      "7    7.157690\n",
      "8    6.290974\n",
      "9    5.196929\n",
      "dtype: float64\n",
      "전 처리한 Y 데이터 shape: (10,)\n"
     ]
    }
   ],
   "source": [
    "# X의 형태를 변환하여 train_X에 저장\n",
    "train_X = pd.DataFrame(X, columns=['X'])\n",
    "\n",
    "# Y의 형태를 변환하여 train_Y에 저장\n",
    "train_Y = pd.Series(Y)\n",
    "\n",
    "# 변환된 데이터를 출력\n",
    "print('전 처리한 X 데이터: \\n {}'.format(train_X))\n",
    "print('전 처리한 X 데이터 shape: {}\\n'.format(train_X.shape))\n",
    "\n",
    "print('전 처리한 Y 데이터: \\n {}'.format(train_Y))\n",
    "print('전 처리한 Y 데이터 shape: {}'.format(train_Y.shape))"
   ]
  },
  {
   "cell_type": "code",
   "execution_count": 6,
   "id": "69225ad9",
   "metadata": {},
   "outputs": [
    {
     "data": {
      "text/plain": [
       "LinearRegression()"
      ]
     },
     "execution_count": 6,
     "metadata": {},
     "output_type": "execute_result"
    }
   ],
   "source": [
    "# 모델 초기화\n",
    "lrmodel = LinearRegression()\n",
    "\n",
    "# train data로 학습\n",
    "lrmodel.fit(train_X, train_Y)"
   ]
  },
  {
   "cell_type": "code",
   "execution_count": 12,
   "id": "b7c20186",
   "metadata": {},
   "outputs": [
    {
     "data": {
      "image/png": "[encoded data removed]",
      "text/plain": [
       "<Figure size 432x288 with 1 Axes>"
      ]
     },
     "metadata": {
      "needs_background": "light"
     },
     "output_type": "display_data"
    }
   ],
   "source": [
    "# 학습 결과 시각화\n",
    "plt.scatter(X,Y)\n",
    "plt.plot([0,10], [lrmodel.intercept_, 10*lrmodel.coef_[0]+lrmodel.intercept_], c='r')\n",
    "plt.xlim(0,10)\n",
    "plt.ylim(0,10)\n",
    "plt.title('학습 결과')\n",
    "plt.show()"
   ]
  },
  {
   "cell_type": "code",
   "execution_count": 14,
   "id": "2a1106a5",
   "metadata": {},
   "outputs": [
    {
     "name": "stdout",
     "output_type": "stream",
     "text": [
      "2.5061811708934925 \n",
      "\n"
     ]
    }
   ],
   "source": [
    "print(lrmodel.intercept_, '\\n')\n",
    "beta_0 = lrmodel.intercept_ # beta0, 상수 값(bias)"
   ]
  },
  {
   "cell_type": "code",
   "execution_count": 13,
   "id": "6b46d277",
   "metadata": {},
   "outputs": [
    {
     "name": "stdout",
     "output_type": "stream",
     "text": [
      "[0.43078118] \n",
      "\n"
     ]
    }
   ],
   "source": [
    "print(lrmodel.coef_, '\\n')\n",
    "beta_1 = lrmodel.coef_[0] # beta1, 계수 값(weight)"
   ]
  },
  {
   "cell_type": "code",
   "execution_count": 16,
   "id": "03b0f47c",
   "metadata": {},
   "outputs": [
    {
     "name": "stdout",
     "output_type": "stream",
     "text": [
      "train_X 예측값 : \n",
      " [6.2546398  4.18978504 3.32191889 3.92228833 5.6910886  3.79415077\n",
      " 3.47870087 6.74700964 6.7906856  4.86824749] \n",
      "\n",
      "train_Y 실제값 : \n",
      " 0    5.644131\n",
      "1    3.758766\n",
      "2    3.872333\n",
      "3    4.409904\n",
      "4    6.438450\n",
      "5    4.028278\n",
      "6    2.261060\n",
      "7    7.157690\n",
      "8    6.290974\n",
      "9    5.196929\n",
      "dtype: float64 \n",
      "\n"
     ]
    }
   ],
   "source": [
    "# 단순선형회귀 예측\n",
    "pred_X = lrmodel.predict(train_X) # 테스트 데이터가 없으므로 학습데이터 사용(원래 이러면 안됨)\n",
    "\n",
    "print(f'train_X 예측값 : \\n {pred_X} \\n')\n",
    "print(f'train_Y 실제값 : \\n {train_Y} \\n')"
   ]
  },
  {
   "cell_type": "markdown",
   "id": "a52b710d",
   "metadata": {},
   "source": [
    "# 다중 선형 회귀"
   ]
  },
  {
   "cell_type": "code",
   "execution_count": 5,
   "id": "1250759a",
   "metadata": {},
   "outputs": [],
   "source": [
    "import matplotlib.pyplot as plt\n",
    "import pandas as pd\n",
    "import numpy as np\n",
    "from sklearn.linear_model import LinearRegression\n",
    "from sklearn.metrics import r2_score\n",
    "from sklearn.model_selection import train_test_split"
   ]
  },
  {
   "cell_type": "code",
   "execution_count": 6,
   "id": "4b7f1567",
   "metadata": {},
   "outputs": [],
   "source": [
    "df = pd.read_csv('e:/Git_private_dodo_Riley/laptop_desktop/Code_SJH/통계학 머신러닝_양진욱/data/Advertising.csv')"
   ]
  },
  {
   "cell_type": "code",
   "execution_count": 9,
   "id": "f1328548",
   "metadata": {},
   "outputs": [
    {
     "data": {
      "text/html": [
       "<div>\n",
       "<style scoped>\n",
       "    .dataframe tbody tr th:only-of-type {\n",
       "        vertical-align: middle;\n",
       "    }\n",
       "\n",
       "    .dataframe tbody tr th {\n",
       "        vertical-align: top;\n",
       "    }\n",
       "\n",
       "    .dataframe thead th {\n",
       "        text-align: right;\n",
       "    }\n",
       "</style>\n",
       "<table border=\"1\" class=\"dataframe\">\n",
       "  <thead>\n",
       "    <tr style=\"text-align: right;\">\n",
       "      <th></th>\n",
       "      <th>FB</th>\n",
       "      <th>TV</th>\n",
       "      <th>Newspaper</th>\n",
       "      <th>Sales</th>\n",
       "    </tr>\n",
       "  </thead>\n",
       "  <tbody>\n",
       "    <tr>\n",
       "      <th>0</th>\n",
       "      <td>230.1</td>\n",
       "      <td>37.8</td>\n",
       "      <td>69.2</td>\n",
       "      <td>22.1</td>\n",
       "    </tr>\n",
       "    <tr>\n",
       "      <th>1</th>\n",
       "      <td>44.5</td>\n",
       "      <td>39.3</td>\n",
       "      <td>45.1</td>\n",
       "      <td>10.4</td>\n",
       "    </tr>\n",
       "    <tr>\n",
       "      <th>2</th>\n",
       "      <td>17.2</td>\n",
       "      <td>45.9</td>\n",
       "      <td>69.3</td>\n",
       "      <td>9.3</td>\n",
       "    </tr>\n",
       "    <tr>\n",
       "      <th>3</th>\n",
       "      <td>151.5</td>\n",
       "      <td>41.3</td>\n",
       "      <td>58.5</td>\n",
       "      <td>18.5</td>\n",
       "    </tr>\n",
       "    <tr>\n",
       "      <th>4</th>\n",
       "      <td>180.8</td>\n",
       "      <td>10.8</td>\n",
       "      <td>58.4</td>\n",
       "      <td>12.9</td>\n",
       "    </tr>\n",
       "  </tbody>\n",
       "</table>\n",
       "</div>"
      ],
      "text/plain": [
       "      FB    TV  Newspaper  Sales\n",
       "0  230.1  37.8       69.2   22.1\n",
       "1   44.5  39.3       45.1   10.4\n",
       "2   17.2  45.9       69.3    9.3\n",
       "3  151.5  41.3       58.5   18.5\n",
       "4  180.8  10.8       58.4   12.9"
      ]
     },
     "execution_count": 9,
     "metadata": {},
     "output_type": "execute_result"
    }
   ],
   "source": [
    "df.drop(columns=['Unnamed: 0'], inplace=True)\n",
    "df.head()"
   ]
  },
  {
   "cell_type": "code",
   "execution_count": 10,
   "id": "a4da04b9",
   "metadata": {},
   "outputs": [
    {
     "name": "stdout",
     "output_type": "stream",
     "text": [
      "<class 'pandas.core.frame.DataFrame'>\n",
      "RangeIndex: 200 entries, 0 to 199\n",
      "Data columns (total 4 columns):\n",
      " #   Column     Non-Null Count  Dtype  \n",
      "---  ------     --------------  -----  \n",
      " 0   FB         200 non-null    float64\n",
      " 1   TV         200 non-null    float64\n",
      " 2   Newspaper  200 non-null    float64\n",
      " 3   Sales      200 non-null    float64\n",
      "dtypes: float64(4)\n",
      "memory usage: 6.4 KB\n"
     ]
    }
   ],
   "source": [
    "df.info()"
   ]
  },
  {
   "cell_type": "code",
   "execution_count": 24,
   "id": "351c3507",
   "metadata": {},
   "outputs": [
    {
     "name": "stdout",
     "output_type": "stream",
     "text": [
      "X의 데이터 개수:200\n",
      "Y의 데이터 개수:200\n",
      "학습한 데이터 개수 : 160\n",
      "검증 데이터 개수 : 40\n"
     ]
    }
   ],
   "source": [
    "# Sales 변수는 label 데이터로 Y에 저장하고 나머진 X에 저장\n",
    "\n",
    "X = df.drop(columns=['Sales'])\n",
    "Y = df['Sales']\n",
    "\n",
    "print('X의 데이터 개수:%d'%(len(X)))\n",
    "print('Y의 데이터 개수:%d'%(len(Y)))\n",
    "\n",
    "# train/test 데이터 분리\n",
    "\n",
    "train_X, test_X, train_Y, test_Y = train_test_split(X,Y,test_size=0.2, random_state=42)\n",
    "\n",
    "print('학습한 데이터 개수 : %d' % len(train_X))\n",
    "print('검증 데이터 개수 : %d' % len(test_X))"
   ]
  },
  {
   "cell_type": "code",
   "execution_count": 25,
   "id": "3ee629bd",
   "metadata": {},
   "outputs": [
    {
     "name": "stdout",
     "output_type": "stream",
     "text": [
      "2.979067338122629 \n",
      "\n",
      "[0.04472952 0.18919505 0.00276111] \n",
      "\n"
     ]
    }
   ],
   "source": [
    "# 모델 학습\n",
    "lrmodel = LinearRegression() # 선형회귀 객체 생성\n",
    "lrmodel.fit(train_X, train_Y) # 훈련데이터로 학습 진행\n",
    "\n",
    "# 학습 결과 intercept와 coefficient 출력\n",
    "print(lrmodel.intercept_, '\\n')\n",
    "beta_0 = lrmodel.intercept_ # 상수 값(bias)\n",
    "print(lrmodel.coef_, '\\n')\n",
    "beta_1 = lrmodel.coef_[0] # 계수 값(weight)\n",
    "beta_2 = lrmodel.coef_[1] \n",
    "beta_3 = lrmodel.coef_[2]\n",
    "# 따라서 도출된 회귀식은 sales=0.04473*FB+0.1892*TV+0.0028Newpaper+2.9791"
   ]
  },
  {
   "cell_type": "code",
   "execution_count": 14,
   "id": "9ec32067",
   "metadata": {},
   "outputs": [
    {
     "name": "stdout",
     "output_type": "stream",
     "text": [
      "test_X 예측값 : \n",
      " [16.4080242  20.88988209 21.55384318 10.60850256 22.11237326 13.10559172\n",
      " 21.05719192  7.46101034 13.60634581 15.15506967  9.04831992  6.65328312\n",
      " 14.34554487  8.90349333  9.68959028 12.16494386  8.73628397 16.26507258\n",
      " 10.27759582 18.83109103 19.56036653 13.25103464 12.33620695 21.30695132\n",
      "  7.82740305  5.80957448 20.75753231 11.98138077  9.18349576  8.5066991\n",
      " 12.46646769 10.00337695 21.3876709  12.24966368 18.26661538 20.13766267\n",
      " 14.05514005 20.85411186 11.0174441   4.56899622] \n",
      "\n",
      "test_Y 실제값 : \n",
      " 95     16.9\n",
      "15     22.4\n",
      "30     21.4\n",
      "158     7.3\n",
      "128    24.7\n",
      "115    12.6\n",
      "69     22.3\n",
      "170     8.4\n",
      "174    11.5\n",
      "45     14.9\n",
      "66      9.5\n",
      "182     8.7\n",
      "165    11.9\n",
      "78      5.3\n",
      "186    10.3\n",
      "177    11.7\n",
      "56      5.5\n",
      "152    16.6\n",
      "82     11.3\n",
      "68     18.9\n",
      "124    19.7\n",
      "16     12.5\n",
      "148    10.9\n",
      "93     22.2\n",
      "65      9.3\n",
      "60      8.1\n",
      "84     21.7\n",
      "67     13.4\n",
      "125    10.6\n",
      "132     5.7\n",
      "9      10.6\n",
      "18     11.3\n",
      "55     23.7\n",
      "75      8.7\n",
      "150    16.1\n",
      "104    20.7\n",
      "135    11.6\n",
      "137    20.8\n",
      "164    11.9\n",
      "76      6.9\n",
      "Name: Sales, dtype: float64 \n",
      "\n"
     ]
    }
   ],
   "source": [
    "# 예측\n",
    "pred_X = lrmodel.predict(test_X) \n",
    "\n",
    "print(f'test_X 예측값 : \\n {pred_X} \\n')\n",
    "print(f'test_Y 실제값 : \\n {test_Y} \\n')"
   ]
  },
  {
   "cell_type": "code",
   "execution_count": 16,
   "id": "f31d0a9c",
   "metadata": {},
   "outputs": [
    {
     "name": "stdout",
     "output_type": "stream",
     "text": [
      "df1 예측값 : \n",
      " [2.97906734 3.02379686 3.16826239 2.98182845 3.21575302] \n",
      "\n"
     ]
    }
   ],
   "source": [
    "df1 = pd.DataFrame(np.array([[0,0,0],[1,0,0],[0,1,0],[0,0,1],[1,1,1]]), columns=['FB','TV','Newspaper'])\n",
    "pred_df1 = lrmodel.predict(df1) \n",
    "print(f'df1 예측값 : \\n {pred_df1} \\n')"
   ]
  },
  {
   "cell_type": "code",
   "execution_count": 26,
   "id": "3128a0c1",
   "metadata": {},
   "outputs": [
    {
     "name": "stdout",
     "output_type": "stream",
     "text": [
      "MSE_train : 2.705129\n",
      "MAE_train : 1.198468\n"
     ]
    }
   ],
   "source": [
    "# 회귀 알고리즘 평가지표_MSE,MAE\n",
    "from sklearn.metrics import mean_absolute_error, mean_squared_error\n",
    "\n",
    "# train_X data의 MSE,MAE 계산\n",
    "pred_train = lrmodel.predict(train_X)\n",
    "\n",
    "MAE_train = mean_absolute_error(train_Y, pred_train)\n",
    "MSE_train = mean_squared_error(train_Y, pred_train)\n",
    "print('MSE_train : %f' % MSE_train)\n",
    "print('MAE_train : %f' % MAE_train)"
   ]
  },
  {
   "cell_type": "code",
   "execution_count": 32,
   "id": "03d94133",
   "metadata": {},
   "outputs": [
    {
     "name": "stdout",
     "output_type": "stream",
     "text": [
      "MSE_test : 3.174097\n",
      "MAE_test : 1.460757\n"
     ]
    }
   ],
   "source": [
    "pred_test = lrmodel.predict(test_X)\n",
    "MAE_test = mean_absolute_error(test_Y, pred_test)\n",
    "MSE_test = mean_squared_error(test_Y, pred_test)\n",
    "print('MSE_test : %f' % MSE_test)\n",
    "print('MAE_test : %f' % MAE_test)"
   ]
  },
  {
   "cell_type": "code",
   "execution_count": 29,
   "id": "748d632c",
   "metadata": {},
   "outputs": [
    {
     "name": "stdout",
     "output_type": "stream",
     "text": [
      "R2_train : 0.895701\n"
     ]
    }
   ],
   "source": [
    "# train_X 결정계수(R2 score)\n",
    "\n",
    "R2_train = r2_score(train_Y, pred_train)\n",
    "print('R2_train : %f' % R2_train)"
   ]
  },
  {
   "cell_type": "code",
   "execution_count": 30,
   "id": "249870fe",
   "metadata": {},
   "outputs": [
    {
     "name": "stdout",
     "output_type": "stream",
     "text": [
      "R2_test : 0.899438\n"
     ]
    }
   ],
   "source": [
    "# test_X 결정계수\n",
    "\n",
    "pred_test = lrmodel.predict(test_X)\n",
    "R2_test = r2_score(test_Y,pred_test)\n",
    "print('R2_test : %f' % R2_test)"
   ]
  }
 ],
 "metadata": {
  "kernelspec": {
   "display_name": "Python 3 (ipykernel)",
   "language": "python",
   "name": "python3"
  },
  "language_info": {
   "codemirror_mode": {
    "name": "ipython",
    "version": 3
   },
   "file_extension": ".py",
   "mimetype": "text/x-python",
   "name": "python",
   "nbconvert_exporter": "python",
   "pygments_lexer": "ipython3",
   "version": "3.9.7"
  }
 },
 "nbformat": 4,
 "nbformat_minor": 5
}
