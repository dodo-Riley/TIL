{
 "cells": [
  {
   "cell_type": "markdown",
   "id": "f9095c1a",
   "metadata": {},
   "source": [
    "# KNN\n",
    "## 선호도 data 활용"
   ]
  },
  {
   "cell_type": "code",
   "execution_count": 15,
   "id": "69388f4b",
   "metadata": {},
   "outputs": [],
   "source": [
    "import pandas as pd\n",
    "import numpy as np\n",
    "import matplotlib.pyplot as plt\n",
    "from sklearn.preprocessing import StandardScaler\n",
    "from sklearn.neighbors import KNeighborsClassifier\n",
    "from sklearn.metrics import classification_report, confusion_matrix"
   ]
  },
  {
   "cell_type": "code",
   "execution_count": 3,
   "id": "9725a99f",
   "metadata": {},
   "outputs": [
    {
     "name": "stdout",
     "output_type": "stream",
     "text": [
      "<class 'pandas.core.frame.DataFrame'>\n",
      "RangeIndex: 14 entries, 0 to 13\n",
      "Data columns (total 8 columns):\n",
      " #   Column      Non-Null Count  Dtype \n",
      "---  ------      --------------  ----- \n",
      " 0   talk        14 non-null     int64 \n",
      " 1   book        14 non-null     int64 \n",
      " 2   travel      14 non-null     int64 \n",
      " 3   school      14 non-null     int64 \n",
      " 4   tall        14 non-null     int64 \n",
      " 5   skin        14 non-null     int64 \n",
      " 6   muscle      14 non-null     int64 \n",
      " 7   like_level  14 non-null     object\n",
      "dtypes: int64(7), object(1)\n",
      "memory usage: 1.0+ KB\n"
     ]
    }
   ],
   "source": [
    "# 데이터 불러오기\n",
    "like = pd.read_csv('e:/Git_private_dodo_Riley/laptop_desktop/Code_SJH/통계학머신러닝_양진욱/data/like.csv')\n",
    "like.columns = ['talk','book','travel','school','tall','skin','muscle','like_level']\n",
    "like.info()"
   ]
  },
  {
   "cell_type": "code",
   "execution_count": 7,
   "id": "5c0e9b58",
   "metadata": {},
   "outputs": [
    {
     "data": {
      "text/plain": [
       "((14, 7), (14,))"
      ]
     },
     "execution_count": 7,
     "metadata": {},
     "output_type": "execute_result"
    }
   ],
   "source": [
    "# feature와 label 지정\n",
    "X = np.array(like.drop('like_level', axis=1))\n",
    "y = np.array(like.like_level)\n",
    "\n",
    "X.shape,y.shape"
   ]
  },
  {
   "cell_type": "code",
   "execution_count": 9,
   "id": "02fcc9bd",
   "metadata": {},
   "outputs": [
    {
     "data": {
      "text/plain": [
       "array([[-1.26962211,  1.34164079, -0.8461218 , -0.98782916,  2.06644812,\n",
       "         1.29927838, -0.59160798],\n",
       "       [ 0.21160368, -0.36590203,  0.57536283, -0.3592106 ,  0.04805693,\n",
       "        -0.09994449,  1.77482393],\n",
       "       [-0.28213825, -0.93508297,  1.04919104,  0.26940795, -0.62474013,\n",
       "         0.36646313,  1.18321596],\n",
       "       [ 1.69282948, -0.36590203,  0.10153462, -1.61644772, -1.29753719,\n",
       "        -1.96557498, -1.77482393],\n",
       "       [-0.28213825,  0.77245985, -1.31995001,  0.89802651,  0.720854  ,\n",
       "         0.83287076,  0.        ],\n",
       "       [ 0.70534562, -1.50426391,  0.10153462, -0.98782916, -1.29753719,\n",
       "        -1.03275974, -1.77482393],\n",
       "       [-0.77588018,  1.91082173,  0.10153462,  0.26940795,  0.04805693,\n",
       "         0.83287076,  0.        ],\n",
       "       [-1.26962211,  0.20327891,  1.52301925,  0.26940795, -1.29753719,\n",
       "         0.36646313,  0.59160798],\n",
       "       [ 1.19908755, -0.93508297, -1.79377823,  1.52664507,  0.04805693,\n",
       "        -1.03275974, -0.59160798],\n",
       "       [-0.28213825,  0.77245985,  0.57536283, -0.3592106 ,  0.720854  ,\n",
       "         1.29927838, -0.59160798],\n",
       "       [ 1.19908755, -0.36590203,  0.10153462, -0.98782916, -0.62474013,\n",
       "        -1.03275974,  0.59160798],\n",
       "       [-1.26962211,  0.77245985, -1.31995001,  2.15526362,  0.720854  ,\n",
       "         0.83287076,  0.        ],\n",
       "       [-0.77588018,  0.20327891,  1.52301925,  0.26940795, -0.62474013,\n",
       "         0.36646313,  1.18321596],\n",
       "       [ 1.19908755, -1.50426391, -0.37229359, -0.3592106 ,  1.39365106,\n",
       "        -1.03275974,  0.        ]])"
      ]
     },
     "execution_count": 9,
     "metadata": {},
     "output_type": "execute_result"
    }
   ],
   "source": [
    "# 정규화\n",
    "scaler = StandardScaler()\n",
    "X = scaler.fit(X).transform(X)\n",
    "X"
   ]
  },
  {
   "cell_type": "code",
   "execution_count": 11,
   "id": "06b3ff77",
   "metadata": {},
   "outputs": [
    {
     "data": {
      "text/plain": [
       "KNeighborsClassifier()"
      ]
     },
     "execution_count": 11,
     "metadata": {},
     "output_type": "execute_result"
    }
   ],
   "source": [
    "# 모델 학습\n",
    "knn = KNeighborsClassifier(n_neighbors=5)\n",
    "knn.fit(X,y)"
   ]
  },
  {
   "cell_type": "code",
   "execution_count": 13,
   "id": "960cdb34",
   "metadata": {},
   "outputs": [
    {
     "data": {
      "text/plain": [
       "array(['1타입', '2타입', '2타입', '3타입', '1타입', '3타입', '1타입', '2타입', '3타입',\n",
       "       '1타입', '3타입', '1타입', '2타입', '3타입'], dtype=object)"
      ]
     },
     "execution_count": 13,
     "metadata": {},
     "output_type": "execute_result"
    }
   ],
   "source": [
    "# 원래 데이터를 넣어서 예측\n",
    "y_pred = knn.predict(X)\n",
    "y_pred"
   ]
  },
  {
   "cell_type": "code",
   "execution_count": 14,
   "id": "aaeec60c",
   "metadata": {},
   "outputs": [
    {
     "data": {
      "text/plain": [
       "array(['1타입', '2타입', '2타입', '3타입', '1타입', '3타입', '1타입', '2타입', '3타입',\n",
       "       '1타입', '3타입', '1타입', '2타입', '3타입'], dtype=object)"
      ]
     },
     "execution_count": 14,
     "metadata": {},
     "output_type": "execute_result"
    }
   ],
   "source": [
    "y"
   ]
  },
  {
   "cell_type": "code",
   "execution_count": 16,
   "id": "adda4e6f",
   "metadata": {},
   "outputs": [
    {
     "name": "stdout",
     "output_type": "stream",
     "text": [
      " confusion matrix : \n",
      " [[5 0 0]\n",
      " [0 4 0]\n",
      " [0 0 5]] \n",
      "\n",
      " classification report : \n",
      "               precision    recall  f1-score   support\n",
      "\n",
      "         1타입       1.00      1.00      1.00         5\n",
      "         2타입       1.00      1.00      1.00         4\n",
      "         3타입       1.00      1.00      1.00         5\n",
      "\n",
      "    accuracy                           1.00        14\n",
      "   macro avg       1.00      1.00      1.00        14\n",
      "weighted avg       1.00      1.00      1.00        14\n",
      " \n",
      "\n"
     ]
    }
   ],
   "source": [
    "# 모델 평가\n",
    "print(f' confusion matrix : \\n {confusion_matrix(y,y_pred)} \\n')\n",
    "print(f' classification report : \\n {classification_report(y,y_pred)} \\n')"
   ]
  },
  {
   "cell_type": "markdown",
   "id": "779613c7",
   "metadata": {},
   "source": [
    "## 상품구매여부 데이터 활용"
   ]
  },
  {
   "cell_type": "code",
   "execution_count": 109,
   "id": "199d8d4b",
   "metadata": {},
   "outputs": [],
   "source": [
    "import pandas as pd\n",
    "import numpy as np\n",
    "import matplotlib.pyplot as plt\n",
    "from sklearn.preprocessing import StandardScaler\n",
    "from sklearn.neighbors import KNeighborsClassifier, KNeighborsRegressor\n",
    "from sklearn.metrics import classification_report, confusion_matrix"
   ]
  },
  {
   "cell_type": "code",
   "execution_count": 153,
   "id": "d52c6fba",
   "metadata": {},
   "outputs": [
    {
     "name": "stdout",
     "output_type": "stream",
     "text": [
      "<class 'pandas.core.frame.DataFrame'>\n",
      "RangeIndex: 20 entries, 0 to 19\n",
      "Data columns (total 3 columns):\n",
      " #   Column    Non-Null Count  Dtype \n",
      "---  ------    --------------  ----- \n",
      " 0   age       20 non-null     int64 \n",
      " 1   income    20 non-null     int64 \n",
      " 2   purchase  20 non-null     object\n",
      "dtypes: int64(2), object(1)\n",
      "memory usage: 608.0+ bytes\n"
     ]
    }
   ],
   "source": [
    "# 데이터 불러오기\n",
    "buy = pd.read_csv('e:/Git_private_dodo_Riley/laptop_desktop/Code_SJH/통계학머신러닝_양진욱/data/buy.csv')\n",
    "buy.columns = ['age','income','purchase']\n",
    "buy.info()"
   ]
  },
  {
   "cell_type": "code",
   "execution_count": 111,
   "id": "13a69a78",
   "metadata": {},
   "outputs": [
    {
     "data": {
      "text/html": [
       "<div>\n",
       "<style scoped>\n",
       "    .dataframe tbody tr th:only-of-type {\n",
       "        vertical-align: middle;\n",
       "    }\n",
       "\n",
       "    .dataframe tbody tr th {\n",
       "        vertical-align: top;\n",
       "    }\n",
       "\n",
       "    .dataframe thead th {\n",
       "        text-align: right;\n",
       "    }\n",
       "</style>\n",
       "<table border=\"1\" class=\"dataframe\">\n",
       "  <thead>\n",
       "    <tr style=\"text-align: right;\">\n",
       "      <th></th>\n",
       "      <th>age</th>\n",
       "      <th>income</th>\n",
       "      <th>purchase</th>\n",
       "    </tr>\n",
       "  </thead>\n",
       "  <tbody>\n",
       "    <tr>\n",
       "      <th>0</th>\n",
       "      <td>26</td>\n",
       "      <td>160</td>\n",
       "      <td>구매</td>\n",
       "    </tr>\n",
       "    <tr>\n",
       "      <th>1</th>\n",
       "      <td>35</td>\n",
       "      <td>210</td>\n",
       "      <td>비구매</td>\n",
       "    </tr>\n",
       "    <tr>\n",
       "      <th>2</th>\n",
       "      <td>26</td>\n",
       "      <td>220</td>\n",
       "      <td>비구매</td>\n",
       "    </tr>\n",
       "    <tr>\n",
       "      <th>3</th>\n",
       "      <td>29</td>\n",
       "      <td>260</td>\n",
       "      <td>구매</td>\n",
       "    </tr>\n",
       "    <tr>\n",
       "      <th>4</th>\n",
       "      <td>22</td>\n",
       "      <td>110</td>\n",
       "      <td>비구매</td>\n",
       "    </tr>\n",
       "  </tbody>\n",
       "</table>\n",
       "</div>"
      ],
      "text/plain": [
       "   age  income purchase\n",
       "0   26     160       구매\n",
       "1   35     210      비구매\n",
       "2   26     220     비구매 \n",
       "3   29     260       구매\n",
       "4   22     110      비구매"
      ]
     },
     "execution_count": 111,
     "metadata": {},
     "output_type": "execute_result"
    }
   ],
   "source": [
    "buy.head()"
   ]
  },
  {
   "cell_type": "code",
   "execution_count": 133,
   "id": "1bff2b4c",
   "metadata": {},
   "outputs": [
    {
     "data": {
      "text/plain": [
       "비구매    12\n",
       "구매      8\n",
       "Name: purchase, dtype: int64"
      ]
     },
     "execution_count": 133,
     "metadata": {},
     "output_type": "execute_result"
    }
   ],
   "source": [
    "buy.purchase.value_counts()"
   ]
  },
  {
   "cell_type": "markdown",
   "id": "3eb52283",
   "metadata": {},
   "source": [
    "# KNN classification"
   ]
  },
  {
   "cell_type": "code",
   "execution_count": 136,
   "id": "c2e9716a",
   "metadata": {},
   "outputs": [],
   "source": [
    "# 피쳐 및 라벨 지정\n",
    "X = buy.iloc[:,[0,1]]\n",
    "y = buy.iloc[:,2]"
   ]
  },
  {
   "cell_type": "code",
   "execution_count": 137,
   "id": "e8d498e0",
   "metadata": {},
   "outputs": [],
   "source": [
    "# 피쳐 value 정규화\n",
    "scaler = StandardScaler()\n",
    "X = scaler.fit(X).transform(X)"
   ]
  },
  {
   "cell_type": "code",
   "execution_count": 138,
   "id": "4cd4c518",
   "metadata": {},
   "outputs": [
    {
     "data": {
      "text/plain": [
       "KNeighborsClassifier(n_neighbors=2)"
      ]
     },
     "execution_count": 138,
     "metadata": {},
     "output_type": "execute_result"
    }
   ],
   "source": [
    "# 분류모델 학습 및 예측\n",
    "classifier = KNeighborsClassifier(n_neighbors = 2)\n",
    "classifier.fit(X, y)"
   ]
  },
  {
   "cell_type": "code",
   "execution_count": 139,
   "id": "40bb8f06",
   "metadata": {},
   "outputs": [
    {
     "data": {
      "text/plain": [
       "array(['구매', '비구매', '비구매', '구매', '비구매', '비구매', '구매', '비구매', '비구매', '구매',\n",
       "       '구매', '비구매', '구매', '구매', '구매', '구매', '비구매', '비구매', '구매', '구매'],\n",
       "      dtype=object)"
      ]
     },
     "execution_count": 139,
     "metadata": {},
     "output_type": "execute_result"
    }
   ],
   "source": [
    "# 실제 피쳐값으로 예측 라벨값 생성 \n",
    "y_pred = classifier.predict(X)\n",
    "y_pred "
   ]
  },
  {
   "cell_type": "code",
   "execution_count": 140,
   "id": "f62a2f35",
   "metadata": {},
   "outputs": [
    {
     "name": "stdout",
     "output_type": "stream",
     "text": [
      "[[8 0]\n",
      " [3 9]]\n",
      "              precision    recall  f1-score   support\n",
      "\n",
      "          구매       0.73      1.00      0.84         8\n",
      "         비구매       1.00      0.75      0.86        12\n",
      "\n",
      "    accuracy                           0.85        20\n",
      "   macro avg       0.86      0.88      0.85        20\n",
      "weighted avg       0.89      0.85      0.85        20\n",
      "\n"
     ]
    }
   ],
   "source": [
    "# 실제 라벨값과 예측 라벨값을 이용해 평가 지표 계산\n",
    "print(confusion_matrix(y, y_pred)) \n",
    "print(classification_report(y, y_pred))"
   ]
  },
  {
   "cell_type": "markdown",
   "id": "f1b970db",
   "metadata": {},
   "source": [
    "# KNN regression"
   ]
  },
  {
   "cell_type": "code",
   "execution_count": 154,
   "id": "aaa88756",
   "metadata": {},
   "outputs": [
    {
     "data": {
      "text/html": [
       "<div>\n",
       "<style scoped>\n",
       "    .dataframe tbody tr th:only-of-type {\n",
       "        vertical-align: middle;\n",
       "    }\n",
       "\n",
       "    .dataframe tbody tr th {\n",
       "        vertical-align: top;\n",
       "    }\n",
       "\n",
       "    .dataframe thead th {\n",
       "        text-align: right;\n",
       "    }\n",
       "</style>\n",
       "<table border=\"1\" class=\"dataframe\">\n",
       "  <thead>\n",
       "    <tr style=\"text-align: right;\">\n",
       "      <th></th>\n",
       "      <th>age</th>\n",
       "      <th>income</th>\n",
       "      <th>purchase</th>\n",
       "    </tr>\n",
       "  </thead>\n",
       "  <tbody>\n",
       "    <tr>\n",
       "      <th>0</th>\n",
       "      <td>26</td>\n",
       "      <td>160</td>\n",
       "      <td>1</td>\n",
       "    </tr>\n",
       "    <tr>\n",
       "      <th>1</th>\n",
       "      <td>35</td>\n",
       "      <td>210</td>\n",
       "      <td>0</td>\n",
       "    </tr>\n",
       "    <tr>\n",
       "      <th>2</th>\n",
       "      <td>26</td>\n",
       "      <td>220</td>\n",
       "      <td>0</td>\n",
       "    </tr>\n",
       "    <tr>\n",
       "      <th>3</th>\n",
       "      <td>29</td>\n",
       "      <td>260</td>\n",
       "      <td>1</td>\n",
       "    </tr>\n",
       "    <tr>\n",
       "      <th>4</th>\n",
       "      <td>22</td>\n",
       "      <td>110</td>\n",
       "      <td>0</td>\n",
       "    </tr>\n",
       "  </tbody>\n",
       "</table>\n",
       "</div>"
      ],
      "text/plain": [
       "   age  income  purchase\n",
       "0   26     160         1\n",
       "1   35     210         0\n",
       "2   26     220         0\n",
       "3   29     260         1\n",
       "4   22     110         0"
      ]
     },
     "execution_count": 154,
     "metadata": {},
     "output_type": "execute_result"
    }
   ],
   "source": [
    "# 정수 인코딩\n",
    "buy_int = np.array([0]*len(buy))\n",
    "buy_int[buy.purchase=='구매']=1\n",
    "buy_int[buy.purchase=='비구매']=0\n",
    "buy.purchase = buy_int\n",
    "buy.head()"
   ]
  },
  {
   "cell_type": "code",
   "execution_count": 144,
   "id": "4555cf04",
   "metadata": {},
   "outputs": [
    {
     "data": {
      "text/html": [
       "<div>\n",
       "<style scoped>\n",
       "    .dataframe tbody tr th:only-of-type {\n",
       "        vertical-align: middle;\n",
       "    }\n",
       "\n",
       "    .dataframe tbody tr th {\n",
       "        vertical-align: top;\n",
       "    }\n",
       "\n",
       "    .dataframe thead th {\n",
       "        text-align: right;\n",
       "    }\n",
       "</style>\n",
       "<table border=\"1\" class=\"dataframe\">\n",
       "  <thead>\n",
       "    <tr style=\"text-align: right;\">\n",
       "      <th></th>\n",
       "      <th>age</th>\n",
       "      <th>income</th>\n",
       "      <th>purchase</th>\n",
       "    </tr>\n",
       "  </thead>\n",
       "  <tbody>\n",
       "    <tr>\n",
       "      <th>0</th>\n",
       "      <td>26</td>\n",
       "      <td>160</td>\n",
       "      <td>1</td>\n",
       "    </tr>\n",
       "    <tr>\n",
       "      <th>1</th>\n",
       "      <td>35</td>\n",
       "      <td>210</td>\n",
       "      <td>0</td>\n",
       "    </tr>\n",
       "    <tr>\n",
       "      <th>2</th>\n",
       "      <td>26</td>\n",
       "      <td>220</td>\n",
       "      <td>0</td>\n",
       "    </tr>\n",
       "    <tr>\n",
       "      <th>3</th>\n",
       "      <td>29</td>\n",
       "      <td>260</td>\n",
       "      <td>1</td>\n",
       "    </tr>\n",
       "    <tr>\n",
       "      <th>4</th>\n",
       "      <td>22</td>\n",
       "      <td>110</td>\n",
       "      <td>0</td>\n",
       "    </tr>\n",
       "  </tbody>\n",
       "</table>\n",
       "</div>"
      ],
      "text/plain": [
       "   age  income  purchase\n",
       "0   26     160         1\n",
       "1   35     210         0\n",
       "2   26     220         0\n",
       "3   29     260         1\n",
       "4   22     110         0"
      ]
     },
     "execution_count": 144,
     "metadata": {},
     "output_type": "execute_result"
    }
   ],
   "source": [
    "buy_origin = buy\n",
    "buy_origin.head()"
   ]
  },
  {
   "cell_type": "code",
   "execution_count": 166,
   "id": "b777051b",
   "metadata": {},
   "outputs": [
    {
     "data": {
      "text/html": [
       "<div>\n",
       "<style scoped>\n",
       "    .dataframe tbody tr th:only-of-type {\n",
       "        vertical-align: middle;\n",
       "    }\n",
       "\n",
       "    .dataframe tbody tr th {\n",
       "        vertical-align: top;\n",
       "    }\n",
       "\n",
       "    .dataframe thead th {\n",
       "        text-align: right;\n",
       "    }\n",
       "</style>\n",
       "<table border=\"1\" class=\"dataframe\">\n",
       "  <thead>\n",
       "    <tr style=\"text-align: right;\">\n",
       "      <th></th>\n",
       "      <th>age</th>\n",
       "      <th>income</th>\n",
       "      <th>purchase</th>\n",
       "    </tr>\n",
       "  </thead>\n",
       "  <tbody>\n",
       "    <tr>\n",
       "      <th>0</th>\n",
       "      <td>-0.677439</td>\n",
       "      <td>-0.813024</td>\n",
       "      <td>1.224745</td>\n",
       "    </tr>\n",
       "    <tr>\n",
       "      <th>1</th>\n",
       "      <td>1.016158</td>\n",
       "      <td>-0.259946</td>\n",
       "      <td>-0.816497</td>\n",
       "    </tr>\n",
       "    <tr>\n",
       "      <th>2</th>\n",
       "      <td>-0.677439</td>\n",
       "      <td>-0.149331</td>\n",
       "      <td>-0.816497</td>\n",
       "    </tr>\n",
       "    <tr>\n",
       "      <th>3</th>\n",
       "      <td>-0.112906</td>\n",
       "      <td>0.293131</td>\n",
       "      <td>1.224745</td>\n",
       "    </tr>\n",
       "    <tr>\n",
       "      <th>4</th>\n",
       "      <td>-1.430149</td>\n",
       "      <td>-1.366101</td>\n",
       "      <td>-0.816497</td>\n",
       "    </tr>\n",
       "  </tbody>\n",
       "</table>\n",
       "</div>"
      ],
      "text/plain": [
       "        age    income  purchase\n",
       "0 -0.677439 -0.813024  1.224745\n",
       "1  1.016158 -0.259946 -0.816497\n",
       "2 -0.677439 -0.149331 -0.816497\n",
       "3 -0.112906  0.293131  1.224745\n",
       "4 -1.430149 -1.366101 -0.816497"
      ]
     },
     "execution_count": 166,
     "metadata": {},
     "output_type": "execute_result"
    }
   ],
   "source": [
    "# 정규화\n",
    "scaler = StandardScaler()\n",
    "buy = scaler.fit(buy).transform(buy)\n",
    "buy = pd.DataFrame(buy)\n",
    "buy.columns = ['age','income','purchase']\n",
    "buy.head()"
   ]
  },
  {
   "cell_type": "code",
   "execution_count": 167,
   "id": "de14e920",
   "metadata": {},
   "outputs": [
    {
     "data": {
      "text/plain": [
       "((16, 2), (4, 2), (16, 1), (4, 1))"
      ]
     },
     "execution_count": 167,
     "metadata": {},
     "output_type": "execute_result"
    }
   ],
   "source": [
    "# 피쳐 및 라벨 지정(피쳐=수입,구매여부 라벨=나이)\n",
    "# 즉 수입과 구매여부에 따라 나이를 알아보겠다는 뜻\n",
    "X = buy.iloc[:, [1,2]].values\n",
    "y = buy.iloc[:, [0]].values\n",
    "\n",
    "# train/test 데이터 분리\n",
    "X_train, X_test, y_train, y_test = train_test_split(X,y, test_size=0.2, random_state=42)\n",
    "X_train.shape, X_test.shape, y_train.shape, y_test.shape"
   ]
  },
  {
   "cell_type": "code",
   "execution_count": 168,
   "id": "82362666",
   "metadata": {},
   "outputs": [],
   "source": [
    "# 모델 학습\n",
    "model = KNeighborsRegressor() # 수치 예측\n",
    "model.fit(X_train, y_train)\n",
    "\n",
    "# 예측값 계산\n",
    "y_pred = model.predict(X_test)"
   ]
  },
  {
   "cell_type": "code",
   "execution_count": 169,
   "id": "d28daadd",
   "metadata": {},
   "outputs": [
    {
     "data": {
      "text/plain": [
       "-0.4933333333333336"
      ]
     },
     "execution_count": 169,
     "metadata": {},
     "output_type": "execute_result"
    }
   ],
   "source": [
    "# r2 score 계산\n",
    "model.score(X_test,y_test)"
   ]
  },
  {
   "cell_type": "code",
   "execution_count": 170,
   "id": "9c28a54e",
   "metadata": {},
   "outputs": [
    {
     "data": {
      "text/plain": [
       "-0.4933333333333336"
      ]
     },
     "execution_count": 170,
     "metadata": {},
     "output_type": "execute_result"
    }
   ],
   "source": [
    "from sklearn.metrics import r2_score\n",
    "r2_score(y_test,y_pred)\n",
    "# 애초에 데이터 자체가 모형에 맞지않으니...결과가 엉망\n",
    "# r2 score가 음수라는건 단순히 평균값으로 예측한거보다 결과가 안좋다는 뜻"
   ]
  }
 ],
 "metadata": {
  "kernelspec": {
   "display_name": "Python 3 (ipykernel)",
   "language": "python",
   "name": "python3"
  },
  "language_info": {
   "codemirror_mode": {
    "name": "ipython",
    "version": 3
   },
   "file_extension": ".py",
   "mimetype": "text/x-python",
   "name": "python",
   "nbconvert_exporter": "python",
   "pygments_lexer": "ipython3",
   "version": "3.9.7"
  }
 },
 "nbformat": 4,
 "nbformat_minor": 5
}
