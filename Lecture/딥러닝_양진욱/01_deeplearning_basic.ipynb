{
 "cells": [
  {
   "cell_type": "code",
   "execution_count": 41,
   "id": "c9635d46",
   "metadata": {},
   "outputs": [],
   "source": [
    "# 라이브러리 호출\n",
    "import pandas as pd\n",
    "import numpy as np\n",
    "import matplotlib.pyplot as plt\n",
    "import tensorflow as tf\n",
    "from mpl_toolkits import mplot3d\n",
    "\n",
    "from tensorflow.keras.models import Sequential\n",
    "from tensorflow.keras.layers import Dense"
   ]
  },
  {
   "cell_type": "markdown",
   "id": "477001ea",
   "metadata": {},
   "source": [
    "# 딥러닝 맛보기"
   ]
  },
  {
   "cell_type": "code",
   "execution_count": 6,
   "id": "8755cb38",
   "metadata": {},
   "outputs": [],
   "source": [
    "# 시드값 고정\n",
    "np.random.seed(42)\n",
    "tf.random.set_seed(42)"
   ]
  },
  {
   "cell_type": "code",
   "execution_count": 8,
   "id": "4d8a94f4",
   "metadata": {},
   "outputs": [
    {
     "data": {
      "text/html": [
       "<div>\n",
       "<style scoped>\n",
       "    .dataframe tbody tr th:only-of-type {\n",
       "        vertical-align: middle;\n",
       "    }\n",
       "\n",
       "    .dataframe tbody tr th {\n",
       "        vertical-align: top;\n",
       "    }\n",
       "\n",
       "    .dataframe thead th {\n",
       "        text-align: right;\n",
       "    }\n",
       "</style>\n",
       "<table border=\"1\" class=\"dataframe\">\n",
       "  <thead>\n",
       "    <tr style=\"text-align: right;\">\n",
       "      <th></th>\n",
       "      <th>0</th>\n",
       "      <th>1</th>\n",
       "      <th>2</th>\n",
       "      <th>3</th>\n",
       "      <th>4</th>\n",
       "      <th>5</th>\n",
       "      <th>6</th>\n",
       "      <th>7</th>\n",
       "      <th>8</th>\n",
       "      <th>9</th>\n",
       "      <th>10</th>\n",
       "      <th>11</th>\n",
       "      <th>12</th>\n",
       "      <th>13</th>\n",
       "      <th>14</th>\n",
       "      <th>15</th>\n",
       "      <th>16</th>\n",
       "      <th>17</th>\n",
       "    </tr>\n",
       "  </thead>\n",
       "  <tbody>\n",
       "    <tr>\n",
       "      <th>0</th>\n",
       "      <td>293</td>\n",
       "      <td>1</td>\n",
       "      <td>3.80</td>\n",
       "      <td>2.80</td>\n",
       "      <td>0</td>\n",
       "      <td>0</td>\n",
       "      <td>0</td>\n",
       "      <td>0</td>\n",
       "      <td>0</td>\n",
       "      <td>0</td>\n",
       "      <td>12</td>\n",
       "      <td>0</td>\n",
       "      <td>0</td>\n",
       "      <td>0</td>\n",
       "      <td>1</td>\n",
       "      <td>0</td>\n",
       "      <td>62</td>\n",
       "      <td>0</td>\n",
       "    </tr>\n",
       "    <tr>\n",
       "      <th>1</th>\n",
       "      <td>1</td>\n",
       "      <td>2</td>\n",
       "      <td>2.88</td>\n",
       "      <td>2.16</td>\n",
       "      <td>1</td>\n",
       "      <td>0</td>\n",
       "      <td>0</td>\n",
       "      <td>0</td>\n",
       "      <td>1</td>\n",
       "      <td>1</td>\n",
       "      <td>14</td>\n",
       "      <td>0</td>\n",
       "      <td>0</td>\n",
       "      <td>0</td>\n",
       "      <td>1</td>\n",
       "      <td>0</td>\n",
       "      <td>60</td>\n",
       "      <td>0</td>\n",
       "    </tr>\n",
       "    <tr>\n",
       "      <th>2</th>\n",
       "      <td>8</td>\n",
       "      <td>2</td>\n",
       "      <td>3.19</td>\n",
       "      <td>2.50</td>\n",
       "      <td>1</td>\n",
       "      <td>0</td>\n",
       "      <td>0</td>\n",
       "      <td>0</td>\n",
       "      <td>1</td>\n",
       "      <td>0</td>\n",
       "      <td>11</td>\n",
       "      <td>0</td>\n",
       "      <td>0</td>\n",
       "      <td>1</td>\n",
       "      <td>1</td>\n",
       "      <td>0</td>\n",
       "      <td>66</td>\n",
       "      <td>1</td>\n",
       "    </tr>\n",
       "    <tr>\n",
       "      <th>3</th>\n",
       "      <td>14</td>\n",
       "      <td>2</td>\n",
       "      <td>3.98</td>\n",
       "      <td>3.06</td>\n",
       "      <td>2</td>\n",
       "      <td>0</td>\n",
       "      <td>0</td>\n",
       "      <td>0</td>\n",
       "      <td>1</td>\n",
       "      <td>1</td>\n",
       "      <td>14</td>\n",
       "      <td>0</td>\n",
       "      <td>0</td>\n",
       "      <td>0</td>\n",
       "      <td>1</td>\n",
       "      <td>0</td>\n",
       "      <td>80</td>\n",
       "      <td>1</td>\n",
       "    </tr>\n",
       "    <tr>\n",
       "      <th>4</th>\n",
       "      <td>17</td>\n",
       "      <td>2</td>\n",
       "      <td>2.21</td>\n",
       "      <td>1.88</td>\n",
       "      <td>0</td>\n",
       "      <td>0</td>\n",
       "      <td>1</td>\n",
       "      <td>0</td>\n",
       "      <td>0</td>\n",
       "      <td>0</td>\n",
       "      <td>12</td>\n",
       "      <td>0</td>\n",
       "      <td>0</td>\n",
       "      <td>0</td>\n",
       "      <td>1</td>\n",
       "      <td>0</td>\n",
       "      <td>56</td>\n",
       "      <td>0</td>\n",
       "    </tr>\n",
       "  </tbody>\n",
       "</table>\n",
       "</div>"
      ],
      "text/plain": [
       "    0   1     2     3   4   5   6   7   8   9   10  11  12  13  14  15  16  17\n",
       "0  293   1  3.80  2.80   0   0   0   0   0   0  12   0   0   0   1   0  62   0\n",
       "1    1   2  2.88  2.16   1   0   0   0   1   1  14   0   0   0   1   0  60   0\n",
       "2    8   2  3.19  2.50   1   0   0   0   1   0  11   0   0   1   1   0  66   1\n",
       "3   14   2  3.98  3.06   2   0   0   0   1   1  14   0   0   0   1   0  80   1\n",
       "4   17   2  2.21  1.88   0   0   1   0   0   0  12   0   0   0   1   0  56   0"
      ]
     },
     "execution_count": 8,
     "metadata": {},
     "output_type": "execute_result"
    }
   ],
   "source": [
    "# 데이터 불러오기\n",
    "Data_set = pd.read_csv('e:/Git_private_dodo_Riley/laptop_desktop/Code_SJH/딥러닝_양진욱/dataset/ThoraricSurgery.csv', header=None)\n",
    "Data_set.head()"
   ]
  },
  {
   "cell_type": "code",
   "execution_count": 13,
   "id": "c8a5521c",
   "metadata": {},
   "outputs": [],
   "source": [
    "# target 분리\n",
    "X = Data_set.iloc[:,:-1]\n",
    "y = Data_set.iloc[:,-1]"
   ]
  },
  {
   "cell_type": "code",
   "execution_count": 14,
   "id": "ca17ea81",
   "metadata": {},
   "outputs": [],
   "source": [
    "# 층쌓기\n",
    "model = Sequential() # 객체 생성\n",
    "model.add(Dense(30, input_dim=17, activation='relu')) # 레이어 추가, 노드수=30, 입력차원=17, 활성화함수=렐루\n",
    "model.add(Dense(1, activation='sigmoid')) # 이진분류이므로 활성화함수=시그모이드, 노드 1개"
   ]
  },
  {
   "cell_type": "code",
   "execution_count": 15,
   "id": "d3597760",
   "metadata": {},
   "outputs": [
    {
     "name": "stdout",
     "output_type": "stream",
     "text": [
      "Epoch 1/100\n",
      "47/47 [==============================] - 0s 928us/step - loss: 53.2297 - accuracy: 0.1468\n",
      "Epoch 2/100\n",
      "47/47 [==============================] - 0s 921us/step - loss: 6.2724 - accuracy: 0.6213\n",
      "Epoch 3/100\n",
      "47/47 [==============================] - 0s 971us/step - loss: 1.6489 - accuracy: 0.8191\n",
      "Epoch 4/100\n",
      "47/47 [==============================] - 0s 916us/step - loss: 1.3594 - accuracy: 0.7915\n",
      "Epoch 5/100\n",
      "47/47 [==============================] - 0s 922us/step - loss: 1.1503 - accuracy: 0.7979\n",
      "Epoch 6/100\n",
      "47/47 [==============================] - 0s 943us/step - loss: 0.9985 - accuracy: 0.7787\n",
      "Epoch 7/100\n",
      "47/47 [==============================] - 0s 980us/step - loss: 0.8808 - accuracy: 0.7809\n",
      "Epoch 8/100\n",
      "47/47 [==============================] - 0s 1ms/step - loss: 0.7780 - accuracy: 0.7830\n",
      "Epoch 9/100\n",
      "47/47 [==============================] - 0s 1ms/step - loss: 0.6127 - accuracy: 0.7830\n",
      "Epoch 10/100\n",
      "47/47 [==============================] - 0s 2ms/step - loss: 0.5699 - accuracy: 0.7851\n",
      "Epoch 11/100\n",
      "47/47 [==============================] - 0s 1ms/step - loss: 0.5551 - accuracy: 0.7957\n",
      "Epoch 12/100\n",
      "47/47 [==============================] - 0s 2ms/step - loss: 0.5066 - accuracy: 0.8128\n",
      "Epoch 13/100\n",
      "47/47 [==============================] - 0s 1ms/step - loss: 0.4837 - accuracy: 0.8234\n",
      "Epoch 14/100\n",
      "47/47 [==============================] - 0s 826us/step - loss: 0.5058 - accuracy: 0.8191\n",
      "Epoch 15/100\n",
      "47/47 [==============================] - 0s 912us/step - loss: 0.4480 - accuracy: 0.8447\n",
      "Epoch 16/100\n",
      "47/47 [==============================] - 0s 826us/step - loss: 0.4886 - accuracy: 0.8468\n",
      "Epoch 17/100\n",
      "47/47 [==============================] - 0s 912us/step - loss: 0.4465 - accuracy: 0.8383\n",
      "Epoch 18/100\n",
      "47/47 [==============================] - 0s 847us/step - loss: 0.4458 - accuracy: 0.8447\n",
      "Epoch 19/100\n",
      "47/47 [==============================] - 0s 804us/step - loss: 0.4462 - accuracy: 0.8489\n",
      "Epoch 20/100\n",
      "47/47 [==============================] - 0s 891us/step - loss: 0.4619 - accuracy: 0.8447\n",
      "Epoch 21/100\n",
      "47/47 [==============================] - 0s 826us/step - loss: 0.4925 - accuracy: 0.8468\n",
      "Epoch 22/100\n",
      "47/47 [==============================] - 0s 912us/step - loss: 0.4503 - accuracy: 0.8383\n",
      "Epoch 23/100\n",
      "47/47 [==============================] - 0s 869us/step - loss: 0.4223 - accuracy: 0.8489\n",
      "Epoch 24/100\n",
      "47/47 [==============================] - 0s 956us/step - loss: 0.4404 - accuracy: 0.8426\n",
      "Epoch 25/100\n",
      "47/47 [==============================] - 0s 869us/step - loss: 0.4436 - accuracy: 0.8468\n",
      "Epoch 26/100\n",
      "47/47 [==============================] - 0s 869us/step - loss: 0.4401 - accuracy: 0.8489\n",
      "Epoch 27/100\n",
      "47/47 [==============================] - 0s 978us/step - loss: 0.4589 - accuracy: 0.8489\n",
      "Epoch 28/100\n",
      "47/47 [==============================] - 0s 978us/step - loss: 0.4404 - accuracy: 0.8468\n",
      "Epoch 29/100\n",
      "47/47 [==============================] - 0s 1ms/step - loss: 0.4353 - accuracy: 0.8468\n",
      "Epoch 30/100\n",
      "47/47 [==============================] - 0s 847us/step - loss: 0.4276 - accuracy: 0.8532\n",
      "Epoch 31/100\n",
      "47/47 [==============================] - 0s 869us/step - loss: 0.4238 - accuracy: 0.8511\n",
      "Epoch 32/100\n",
      "47/47 [==============================] - 0s 804us/step - loss: 0.4244 - accuracy: 0.8489\n",
      "Epoch 33/100\n",
      "47/47 [==============================] - 0s 804us/step - loss: 0.4153 - accuracy: 0.8489\n",
      "Epoch 34/100\n",
      "47/47 [==============================] - 0s 847us/step - loss: 0.4455 - accuracy: 0.8447\n",
      "Epoch 35/100\n",
      "47/47 [==============================] - 0s 804us/step - loss: 0.4160 - accuracy: 0.8511\n",
      "Epoch 36/100\n",
      "47/47 [==============================] - 0s 869us/step - loss: 0.4201 - accuracy: 0.8489\n",
      "Epoch 37/100\n",
      "47/47 [==============================] - 0s 804us/step - loss: 0.4357 - accuracy: 0.8489\n",
      "Epoch 38/100\n",
      "47/47 [==============================] - 0s 847us/step - loss: 0.4173 - accuracy: 0.8447\n",
      "Epoch 39/100\n",
      "47/47 [==============================] - 0s 826us/step - loss: 0.4392 - accuracy: 0.8468\n",
      "Epoch 40/100\n",
      "47/47 [==============================] - 0s 847us/step - loss: 0.4364 - accuracy: 0.8511\n",
      "Epoch 41/100\n",
      "47/47 [==============================] - 0s 826us/step - loss: 0.4527 - accuracy: 0.8255\n",
      "Epoch 42/100\n",
      "47/47 [==============================] - 0s 869us/step - loss: 0.4554 - accuracy: 0.8404\n",
      "Epoch 43/100\n",
      "47/47 [==============================] - 0s 804us/step - loss: 0.4034 - accuracy: 0.8532\n",
      "Epoch 44/100\n",
      "47/47 [==============================] - 0s 891us/step - loss: 0.4187 - accuracy: 0.8532\n",
      "Epoch 45/100\n",
      "47/47 [==============================] - 0s 869us/step - loss: 0.4113 - accuracy: 0.8468\n",
      "Epoch 46/100\n",
      "47/47 [==============================] - 0s 869us/step - loss: 0.4087 - accuracy: 0.8426\n",
      "Epoch 47/100\n",
      "47/47 [==============================] - 0s 869us/step - loss: 0.4226 - accuracy: 0.8468\n",
      "Epoch 48/100\n",
      "47/47 [==============================] - 0s 891us/step - loss: 0.4153 - accuracy: 0.8468\n",
      "Epoch 49/100\n",
      "47/47 [==============================] - 0s 869us/step - loss: 0.4114 - accuracy: 0.8489\n",
      "Epoch 50/100\n",
      "47/47 [==============================] - 0s 891us/step - loss: 0.4201 - accuracy: 0.8404\n",
      "Epoch 51/100\n",
      "47/47 [==============================] - 0s 999us/step - loss: 0.4392 - accuracy: 0.8277\n",
      "Epoch 52/100\n",
      "47/47 [==============================] - 0s 978us/step - loss: 0.4259 - accuracy: 0.8489\n",
      "Epoch 53/100\n",
      "47/47 [==============================] - 0s 999us/step - loss: 0.4094 - accuracy: 0.8468\n",
      "Epoch 54/100\n",
      "47/47 [==============================] - 0s 1ms/step - loss: 0.4016 - accuracy: 0.8447\n",
      "Epoch 55/100\n",
      "47/47 [==============================] - 0s 934us/step - loss: 0.4437 - accuracy: 0.8489\n",
      "Epoch 56/100\n",
      "47/47 [==============================] - 0s 847us/step - loss: 0.4819 - accuracy: 0.8340\n",
      "Epoch 57/100\n",
      "47/47 [==============================] - 0s 804us/step - loss: 0.4156 - accuracy: 0.8447\n",
      "Epoch 58/100\n",
      "47/47 [==============================] - 0s 891us/step - loss: 0.4882 - accuracy: 0.8298\n",
      "Epoch 59/100\n",
      "47/47 [==============================] - 0s 847us/step - loss: 0.3998 - accuracy: 0.8447\n",
      "Epoch 60/100\n",
      "47/47 [==============================] - 0s 804us/step - loss: 0.4129 - accuracy: 0.8447\n",
      "Epoch 61/100\n",
      "47/47 [==============================] - 0s 891us/step - loss: 0.4554 - accuracy: 0.8404\n",
      "Epoch 62/100\n",
      "47/47 [==============================] - 0s 804us/step - loss: 0.4469 - accuracy: 0.8277\n",
      "Epoch 63/100\n",
      "47/47 [==============================] - 0s 847us/step - loss: 0.4397 - accuracy: 0.8383\n",
      "Epoch 64/100\n",
      "47/47 [==============================] - 0s 804us/step - loss: 0.4005 - accuracy: 0.8404\n",
      "Epoch 65/100\n",
      "47/47 [==============================] - 0s 869us/step - loss: 0.4171 - accuracy: 0.8489\n",
      "Epoch 66/100\n",
      "47/47 [==============================] - 0s 826us/step - loss: 0.3981 - accuracy: 0.8511\n",
      "Epoch 67/100\n",
      "47/47 [==============================] - 0s 869us/step - loss: 0.3978 - accuracy: 0.8511\n",
      "Epoch 68/100\n",
      "47/47 [==============================] - 0s 847us/step - loss: 0.3965 - accuracy: 0.8574\n",
      "Epoch 69/100\n",
      "47/47 [==============================] - 0s 869us/step - loss: 0.4293 - accuracy: 0.8255\n",
      "Epoch 70/100\n",
      "47/47 [==============================] - 0s 826us/step - loss: 0.4053 - accuracy: 0.8511\n",
      "Epoch 71/100\n",
      "47/47 [==============================] - 0s 826us/step - loss: 0.3923 - accuracy: 0.8447\n",
      "Epoch 72/100\n",
      "47/47 [==============================] - 0s 847us/step - loss: 0.4351 - accuracy: 0.8468\n",
      "Epoch 73/100\n",
      "47/47 [==============================] - 0s 847us/step - loss: 0.4056 - accuracy: 0.8532\n",
      "Epoch 74/100\n",
      "47/47 [==============================] - 0s 869us/step - loss: 0.4291 - accuracy: 0.8404\n",
      "Epoch 75/100\n",
      "47/47 [==============================] - 0s 847us/step - loss: 0.4422 - accuracy: 0.8489\n",
      "Epoch 76/100\n",
      "47/47 [==============================] - 0s 912us/step - loss: 0.4120 - accuracy: 0.8468\n",
      "Epoch 77/100\n",
      "47/47 [==============================] - 0s 847us/step - loss: 0.4883 - accuracy: 0.8149\n",
      "Epoch 78/100\n",
      "47/47 [==============================] - 0s 847us/step - loss: 0.4344 - accuracy: 0.8149\n",
      "Epoch 79/100\n",
      "47/47 [==============================] - 0s 847us/step - loss: 0.4529 - accuracy: 0.8447\n",
      "Epoch 80/100\n",
      "47/47 [==============================] - 0s 847us/step - loss: 0.4125 - accuracy: 0.8511\n",
      "Epoch 81/100\n"
     ]
    },
    {
     "name": "stdout",
     "output_type": "stream",
     "text": [
      "47/47 [==============================] - 0s 804us/step - loss: 0.4123 - accuracy: 0.8468\n",
      "Epoch 82/100\n",
      "47/47 [==============================] - 0s 869us/step - loss: 0.3877 - accuracy: 0.8489\n",
      "Epoch 83/100\n",
      "47/47 [==============================] - 0s 934us/step - loss: 0.4040 - accuracy: 0.8532\n",
      "Epoch 84/100\n",
      "47/47 [==============================] - 0s 891us/step - loss: 0.4071 - accuracy: 0.8447\n",
      "Epoch 85/100\n",
      "47/47 [==============================] - 0s 869us/step - loss: 0.4012 - accuracy: 0.8468\n",
      "Epoch 86/100\n",
      "47/47 [==============================] - 0s 891us/step - loss: 0.4082 - accuracy: 0.8489\n",
      "Epoch 87/100\n",
      "47/47 [==============================] - 0s 869us/step - loss: 0.4288 - accuracy: 0.8383\n",
      "Epoch 88/100\n",
      "47/47 [==============================] - 0s 804us/step - loss: 0.4105 - accuracy: 0.8404\n",
      "Epoch 89/100\n",
      "47/47 [==============================] - 0s 847us/step - loss: 0.4025 - accuracy: 0.8468\n",
      "Epoch 90/100\n",
      "47/47 [==============================] - 0s 826us/step - loss: 0.4070 - accuracy: 0.8468\n",
      "Epoch 91/100\n",
      "47/47 [==============================] - 0s 891us/step - loss: 0.4246 - accuracy: 0.8426\n",
      "Epoch 92/100\n",
      "47/47 [==============================] - 0s 869us/step - loss: 0.4199 - accuracy: 0.8468\n",
      "Epoch 93/100\n",
      "47/47 [==============================] - 0s 912us/step - loss: 0.3931 - accuracy: 0.8383\n",
      "Epoch 94/100\n",
      "47/47 [==============================] - 0s 869us/step - loss: 0.4310 - accuracy: 0.8489\n",
      "Epoch 95/100\n",
      "47/47 [==============================] - 0s 847us/step - loss: 0.3987 - accuracy: 0.8447\n",
      "Epoch 96/100\n",
      "47/47 [==============================] - 0s 869us/step - loss: 0.4093 - accuracy: 0.8489\n",
      "Epoch 97/100\n",
      "47/47 [==============================] - 0s 826us/step - loss: 0.4269 - accuracy: 0.8489\n",
      "Epoch 98/100\n",
      "47/47 [==============================] - 0s 847us/step - loss: 0.4025 - accuracy: 0.8468\n",
      "Epoch 99/100\n",
      "47/47 [==============================] - 0s 934us/step - loss: 0.4179 - accuracy: 0.8426\n",
      "Epoch 100/100\n",
      "47/47 [==============================] - 0s 804us/step - loss: 0.4428 - accuracy: 0.8426\n"
     ]
    },
    {
     "data": {
      "text/plain": [
       "<keras.callbacks.History at 0x237d95c6e50>"
      ]
     },
     "execution_count": 15,
     "metadata": {},
     "output_type": "execute_result"
    }
   ],
   "source": [
    "# 모델 컴파일 및 학습\n",
    "model.compile(loss='binary_crossentropy', optimizer='adam', metrics=['accuracy'])\n",
    "model.fit(X, y, epochs=100, batch_size=10)"
   ]
  },
  {
   "cell_type": "markdown",
   "id": "7ad55905",
   "metadata": {},
   "source": [
    "# 회귀식 구하기"
   ]
  },
  {
   "cell_type": "code",
   "execution_count": 17,
   "id": "61454f75",
   "metadata": {},
   "outputs": [],
   "source": [
    "x = [2,4,6,8]\n",
    "y = [81,93,91,97]"
   ]
  },
  {
   "cell_type": "code",
   "execution_count": 19,
   "id": "d4e803d5",
   "metadata": {},
   "outputs": [
    {
     "name": "stdout",
     "output_type": "stream",
     "text": [
      "x의 평균 : 5.0, y의 평균 : 90.5\n"
     ]
    }
   ],
   "source": [
    "# x와 y의 평균 구하기\n",
    "mx = np.mean(x)\n",
    "my = np.mean(y)\n",
    "print(f'x의 평균 : {mx}, y의 평균 : {my}')"
   ]
  },
  {
   "cell_type": "code",
   "execution_count": 20,
   "id": "c75f6374",
   "metadata": {},
   "outputs": [
    {
     "name": "stdout",
     "output_type": "stream",
     "text": [
      "분자 : 46.0, 분모 : 20.0\n"
     ]
    }
   ],
   "source": [
    "# 회귀식 기울기의 분모와 분자 구하기\n",
    "\n",
    "# 분모\n",
    "divisor = sum([(mx-i)**2 for i in x])\n",
    "\n",
    "# 분자\n",
    "def top(x, mx, y, my):\n",
    "    d = 0\n",
    "    for i in range(len(x)):\n",
    "        d += (x[i]-mx)*(y[i]-my)\n",
    "    return d\n",
    "dividend = top(x, mx, y, my)\n",
    "\n",
    "print(f'분자 : {dividend}, 분모 : {divisor}')"
   ]
  },
  {
   "cell_type": "code",
   "execution_count": 21,
   "id": "e12fa5a4",
   "metadata": {},
   "outputs": [
    {
     "name": "stdout",
     "output_type": "stream",
     "text": [
      "기울기 : 2.3, y절편 : 79.0\n"
     ]
    }
   ],
   "source": [
    "# 기울기와 y 절편 구하기\n",
    "a = dividend/divisor\n",
    "b = my-(mx*a)\n",
    "\n",
    "print(f'기울기 : {a}, y절편 : {b}')"
   ]
  },
  {
   "cell_type": "markdown",
   "id": "0084aaa5",
   "metadata": {},
   "source": [
    "# 임의의 회귀식에 따른 MSE 계산"
   ]
  },
  {
   "cell_type": "code",
   "execution_count": 23,
   "id": "dfb570ba",
   "metadata": {},
   "outputs": [],
   "source": [
    "# 임의의 회귀식 기울기와 y 절편 지정\n",
    "fake_a_b = [3,76]\n",
    "\n",
    "# x 값과 y 값\n",
    "data = [[2,81],[4,93],[6,91],[8,97]]\n",
    "x = [i[0] for i in data]\n",
    "y = [i[1] for i in data]"
   ]
  },
  {
   "cell_type": "code",
   "execution_count": 24,
   "id": "cc7de42c",
   "metadata": {},
   "outputs": [],
   "source": [
    "# 임의의 회귀식에 따른 예측값을 출력하는 함수 정의\n",
    "def predict(x):\n",
    "    return fake_a_b[0]*x+fake_a_b[1]\n",
    "\n",
    "# 각 예측값에 대한 MSE를 구하는 함수 정의\n",
    "def mse(y,y_hat):\n",
    "    return ((y-y_hat)**2).mean()\n",
    "\n",
    "# 전체 MSE를 구하는 함수 정의\n",
    "def mse_val(predict_result, y):\n",
    "    return mse(np.array(predict_result), np.array(y))"
   ]
  },
  {
   "cell_type": "code",
   "execution_count": 31,
   "id": "118d5fb7",
   "metadata": {},
   "outputs": [
    {
     "name": "stdout",
     "output_type": "stream",
     "text": [
      "공부시간=2, 실제점수=81, 예측점수=82\n",
      "공부시간=4, 실제점수=93, 예측점수=88\n",
      "공부시간=6, 실제점수=91, 예측점수=94\n",
      "공부시간=8, 실제점수=97, 예측점수=100\n"
     ]
    }
   ],
   "source": [
    "# 예측값을 담은 리스트 생성\n",
    "predict_result = []\n",
    "\n",
    "for i in range(len(x)):\n",
    "    predict_result.append(predict(x[i]))\n",
    "    print('공부시간=%.f, 실제점수=%.f, 예측점수=%.f' % (x[i],y[i],predict(x[i])))"
   ]
  },
  {
   "cell_type": "code",
   "execution_count": 32,
   "id": "0afccffb",
   "metadata": {},
   "outputs": [
    {
     "name": "stdout",
     "output_type": "stream",
     "text": [
      "MSE : 11.0\n"
     ]
    }
   ],
   "source": [
    "# mse 결과\n",
    "print(f'MSE : {mse_val(predict_result,y)}')"
   ]
  },
  {
   "cell_type": "markdown",
   "id": "0bbeb3fb",
   "metadata": {},
   "source": [
    "# 경사하강법을 이용한 회귀식 추정"
   ]
  },
  {
   "cell_type": "code",
   "execution_count": 36,
   "id": "f28a8b55",
   "metadata": {},
   "outputs": [
    {
     "data": {
      "image/png": "[encoded data removed]",
      "text/plain": [
       "<Figure size 576x360 with 1 Axes>"
      ]
     },
     "metadata": {
      "needs_background": "light"
     },
     "output_type": "display_data"
    }
   ],
   "source": [
    "# 데이터 확인하기\n",
    "data = [[2, 81], [4, 93], [6, 91], [8, 97]]\n",
    "x = [i[0] for i in data]\n",
    "y = [i[1] for i in data]\n",
    "\n",
    "plt.figure(figsize=(8,5))\n",
    "plt.scatter(x, y)\n",
    "plt.show()"
   ]
  },
  {
   "cell_type": "code",
   "execution_count": 39,
   "id": "77e318b1",
   "metadata": {},
   "outputs": [
    {
     "name": "stdout",
     "output_type": "stream",
     "text": [
      "epoch=0, 기울기=27.8400, 절편=5.4300\n",
      "epoch=100, 기울기=7.0739, 절편=50.5117\n",
      "epoch=200, 기울기=4.0960, 절편=68.2822\n",
      "epoch=300, 기울기=2.9757, 절편=74.9678\n",
      "epoch=400, 기울기=2.5542, 절편=77.4830\n",
      "epoch=500, 기울기=2.3956, 절편=78.4293\n",
      "epoch=600, 기울기=2.3360, 절편=78.7853\n",
      "epoch=700, 기울기=2.3135, 절편=78.9192\n",
      "epoch=800, 기울기=2.3051, 절편=78.9696\n",
      "epoch=900, 기울기=2.3019, 절편=78.9886\n",
      "epoch=1000, 기울기=2.3007, 절편=78.9957\n",
      "epoch=1100, 기울기=2.3003, 절편=78.9984\n",
      "epoch=1200, 기울기=2.3001, 절편=78.9994\n",
      "epoch=1300, 기울기=2.3000, 절편=78.9998\n",
      "epoch=1400, 기울기=2.3000, 절편=78.9999\n",
      "epoch=1500, 기울기=2.3000, 절편=79.0000\n",
      "epoch=1600, 기울기=2.3000, 절편=79.0000\n",
      "epoch=1700, 기울기=2.3000, 절편=79.0000\n",
      "epoch=1800, 기울기=2.3000, 절편=79.0000\n",
      "epoch=1900, 기울기=2.3000, 절편=79.0000\n",
      "epoch=2000, 기울기=2.3000, 절편=79.0000\n"
     ]
    }
   ],
   "source": [
    "# x와 y를 np.array로 변환 : 리스트는 각 값에 대한 연산이 불가능함\n",
    "x_data = np.array(x)\n",
    "y_data = np.array(y)\n",
    "\n",
    "# 초기 기울기와 절편 지정\n",
    "a = 0\n",
    "b = 0\n",
    "\n",
    "# 학습률 설정\n",
    "lr = 0.03 \n",
    "\n",
    "# 반복횟수 설정\n",
    "epochs = 2001 \n",
    "\n",
    "# 경사 하강법을 통해 a와 b가 수렴하는 값 찾기\n",
    "for i in range(epochs):\n",
    "    y_hat = a * x_data + b  # 예측값을 구하는 식(회귀식)\n",
    "    error = y_data - y_hat  # 오차\n",
    "    a_diff = -(2/len(x_data)) * sum(x_data * (error)) # 오차함수를 a로 편미분, 오차함수는 오차의제곱합을 n으로 나눈것\n",
    "    b_diff = -(2/len(x_data)) * sum(error)  # 오차함수를 b로 편미분 \n",
    "    a = a - lr * a_diff  # 학습률을 곱해 기존의 a값을 업데이트\n",
    "    b = b - lr * b_diff  # 학습률을 곱해 기존의 b값을 업데이트\n",
    "    if i % 100 == 0:    # 100번 반복될 때마다 현재의 a값, b값을 출력\n",
    "        print('epoch=%.f, 기울기=%.04f, 절편=%.04f' % (i, a, b))"
   ]
  },
  {
   "cell_type": "code",
   "execution_count": 40,
   "id": "69845b76",
   "metadata": {},
   "outputs": [
    {
     "data": {
      "image/png": "[encoded data removed]",
      "text/plain": [
       "<Figure size 432x288 with 1 Axes>"
      ]
     },
     "metadata": {
      "needs_background": "light"
     },
     "output_type": "display_data"
    }
   ],
   "source": [
    "# 경사하강법으로 구한 회귀선 그리기\n",
    "y_pred = a * x_data + b\n",
    "plt.scatter(x, y)\n",
    "plt.plot([min(x_data), max(x_data)], [min(y_pred), max(y_pred)])\n",
    "plt.show()"
   ]
  },
  {
   "cell_type": "markdown",
   "id": "5a0715aa",
   "metadata": {},
   "source": [
    "# 경사하강법을 이용해 다중 회귀식 추정하기"
   ]
  },
  {
   "cell_type": "code",
   "execution_count": 44,
   "id": "a2ce0644",
   "metadata": {},
   "outputs": [
    {
     "data": {
      "image/png": "[encoded data removed]",
      "text/plain": [
       "<Figure size 432x288 with 1 Axes>"
      ]
     },
     "metadata": {
      "needs_background": "light"
     },
     "output_type": "display_data"
    }
   ],
   "source": [
    "# 데이터 확인\n",
    "data = [[2, 0, 81], [4, 4, 93], [6, 2, 91], [8, 3, 97]]\n",
    "x1 = [i[0] for i in data]\n",
    "x2 = [i[1] for i in data]\n",
    "y = [i[2] for i in data]\n",
    "\n",
    "ax = plt.axes(projection='3d')\n",
    "ax.set_xlabel('study_hours')\n",
    "ax.set_ylabel('private_class')\n",
    "ax.set_zlabel('Score')\n",
    "ax.dist = 11 \n",
    "ax.scatter(x1, x2, y)\n",
    "plt.show()"
   ]
  },
  {
   "cell_type": "code",
   "execution_count": 45,
   "id": "4f1ed5e2",
   "metadata": {},
   "outputs": [
    {
     "name": "stdout",
     "output_type": "stream",
     "text": [
      "epoch=0, 기울기1=23.2000, 기울기2=10.5625, 절편=4.5250\n",
      "epoch=100, 기울기1=6.4348, 기울기2=3.9893, 절편=43.9757\n",
      "epoch=200, 기울기1=3.7255, 기울기2=3.0541, 절편=62.5766\n",
      "epoch=300, 기울기1=2.5037, 기울기2=2.6323, 절편=70.9656\n",
      "epoch=400, 기울기1=1.9527, 기울기2=2.4420, 절편=74.7491\n",
      "epoch=500, 기울기1=1.7042, 기울기2=2.3562, 절편=76.4554\n",
      "epoch=600, 기울기1=1.5921, 기울기2=2.3175, 절편=77.2250\n",
      "epoch=700, 기울기1=1.5415, 기울기2=2.3001, 절편=77.5720\n",
      "epoch=800, 기울기1=1.5187, 기울기2=2.2922, 절편=77.7286\n",
      "epoch=900, 기울기1=1.5084, 기울기2=2.2886, 절편=77.7992\n",
      "epoch=1000, 기울기1=1.5038, 기울기2=2.2870, 절편=77.8310\n",
      "epoch=1100, 기울기1=1.5017, 기울기2=2.2863, 절편=77.8453\n",
      "epoch=1200, 기울기1=1.5008, 기울기2=2.2860, 절편=77.8518\n",
      "epoch=1300, 기울기1=1.5003, 기울기2=2.2858, 절편=77.8547\n",
      "epoch=1400, 기울기1=1.5002, 기울기2=2.2858, 절편=77.8561\n",
      "epoch=1500, 기울기1=1.5001, 기울기2=2.2857, 절편=77.8567\n",
      "epoch=1600, 기울기1=1.5000, 기울기2=2.2857, 절편=77.8569\n",
      "epoch=1700, 기울기1=1.5000, 기울기2=2.2857, 절편=77.8570\n",
      "epoch=1800, 기울기1=1.5000, 기울기2=2.2857, 절편=77.8571\n",
      "epoch=1900, 기울기1=1.5000, 기울기2=2.2857, 절편=77.8571\n",
      "epoch=2000, 기울기1=1.5000, 기울기2=2.2857, 절편=77.8571\n"
     ]
    }
   ],
   "source": [
    "# 단순회귀와 마찬가지의 순서로 다중회귀식 추정\n",
    "\n",
    "# 넘파이 배열로 변경\n",
    "x1_data = np.array(x1)\n",
    "x2_data = np.array(x2)\n",
    "y_data = np.array(y)\n",
    "\n",
    "# 기울기와 절편 초기값 지정\n",
    "a1 = 0\n",
    "a2 = 0\n",
    "b = 0\n",
    "\n",
    "# 학습률 지정\n",
    "lr = 0.05 \n",
    "\n",
    "# 반복횟수 지정\n",
    "epochs = 2001 \n",
    "\n",
    "# 경사 하강법 수행\n",
    "for i in range(epochs): \n",
    "    y_pred = a1 * x1_data + a2 * x2_data + b  \n",
    "    error = y_data - y_pred  \n",
    "    a1_diff = -(1/len(x1_data)) * sum(x1_data * (error)) \n",
    "    a2_diff = -(1/len(x2_data)) * sum(x2_data * (error))  \n",
    "    b_new = -(1/len(x1_data)) * sum(y_data - y_pred)  \n",
    "    a1 = a1 - lr * a1_diff\n",
    "    a2 = a2 - lr * a2_diff \n",
    "    b = b - lr * b_new  \n",
    "    if i % 100 == 0:   \n",
    "        print(\"epoch=%.f, 기울기1=%.04f, 기울기2=%.04f, 절편=%.04f\" % (i, a1, a2, b))"
   ]
  },
  {
   "cell_type": "code",
   "execution_count": 46,
   "id": "ddc18d5c",
   "metadata": {},
   "outputs": [
    {
     "data": {
      "image/png": "[encoded data removed]",
      "text/plain": [
       "<Figure size 432x288 with 1 Axes>"
      ]
     },
     "metadata": {
      "needs_background": "light"
     },
     "output_type": "display_data"
    }
   ],
   "source": [
    "#참고 자료, 다중 선형회귀 '예측 평면' 3D로 보기\n",
    "\n",
    "import statsmodels.api as statm\n",
    "import statsmodels.formula.api as statfa\n",
    "#from matplotlib.pyplot import figure\n",
    "\n",
    "X = [i[0:2] for i in data]\n",
    "y = [i[2] for i in data]\n",
    "\n",
    "X_1=statm.add_constant(X)\n",
    "results=statm.OLS(y,X_1).fit()\n",
    "\n",
    "hour_class=pd.DataFrame(X,columns=['study_hours','private_class'])\n",
    "hour_class['Score']=pd.Series(y)\n",
    "\n",
    "model = statfa.ols(formula='Score ~ study_hours + private_class', data=hour_class)\n",
    "\n",
    "results_formula = model.fit()\n",
    "\n",
    "a, b = np.meshgrid(np.linspace(hour_class.study_hours.min(),hour_class.study_hours.max(),100),\n",
    "                   np.linspace(hour_class.private_class.min(),hour_class.private_class.max(),100))\n",
    "\n",
    "X_ax = pd.DataFrame({'study_hours': a.ravel(), 'private_class': b.ravel()})\n",
    "fittedY=results_formula.predict(exog=X_ax)\n",
    "\n",
    "fig = plt.figure()\n",
    "graph = fig.add_subplot(111, projection='3d')\n",
    "\n",
    "graph.scatter(hour_class['study_hours'],hour_class['private_class'],hour_class['Score'],\n",
    "              c='blue',marker='o', alpha=1)\n",
    "graph.plot_surface(a,b,fittedY.values.reshape(a.shape),\n",
    "                   rstride=1, cstride=1, color='none', alpha=0.4)\n",
    "graph.set_xlabel('study hours')\n",
    "graph.set_ylabel('private class')\n",
    "graph.set_zlabel('Score')\n",
    "graph.dist = 11\n",
    "\n",
    "plt.show()"
   ]
  },
  {
   "cell_type": "markdown",
   "id": "380f0809",
   "metadata": {},
   "source": [
    "# 로지스틱 회귀"
   ]
  },
  {
   "cell_type": "code",
   "execution_count": 48,
   "id": "feb9035c",
   "metadata": {},
   "outputs": [
    {
     "data": {
      "text/plain": [
       "(-0.1, 1.1)"
      ]
     },
     "execution_count": 48,
     "metadata": {},
     "output_type": "execute_result"
    },
    {
     "data": {
      "image/png": "[encoded data removed]",
      "text/plain": [
       "<Figure size 432x288 with 1 Axes>"
      ]
     },
     "metadata": {
      "needs_background": "light"
     },
     "output_type": "display_data"
    }
   ],
   "source": [
    "# 데이터 확인\n",
    "\n",
    "data = [[2, 0], [4, 0], [6, 0], [8, 1], [10, 1], [12, 1], [14, 1]]\n",
    "\n",
    "x_data = [i[0] for i in data]\n",
    "y_data = [i[1] for i in data]\n",
    "\n",
    "plt.scatter(x_data, y_data)\n",
    "plt.xlim(0, 15)\n",
    "plt.ylim(-.1, 1.1)"
   ]
  },
  {
   "cell_type": "code",
   "execution_count": 49,
   "id": "978e21df",
   "metadata": {},
   "outputs": [
    {
     "name": "stdout",
     "output_type": "stream",
     "text": [
      "epoch=0, 기울기=-0.0500, 절편=-0.0250\n",
      "epoch=0, 기울기=-0.1388, 절편=-0.0472\n",
      "epoch=0, 기울기=-0.2268, 절편=-0.0619\n",
      "epoch=0, 기울기=0.1201, 절편=-0.0185\n",
      "epoch=0, 기울기=0.2374, 절편=-0.0068\n",
      "epoch=0, 기울기=0.2705, 절편=-0.0040\n",
      "epoch=0, 기울기=0.2860, 절편=-0.0029\n",
      "epoch=1000, 기울기=1.4978, 절편=-9.9401\n",
      "epoch=1000, 기울기=1.4940, 절편=-9.9411\n",
      "epoch=1000, 기울기=1.4120, 절편=-9.9547\n",
      "epoch=1000, 기울기=1.4949, 절편=-9.9444\n",
      "epoch=1000, 기울기=1.4982, 절편=-9.9440\n",
      "epoch=1000, 기울기=1.4984, 절편=-9.9440\n",
      "epoch=1000, 기울기=1.4985, 절편=-9.9440\n",
      "epoch=2000, 기울기=1.9065, 절편=-12.9489\n",
      "epoch=2000, 기울기=1.9055, 절편=-12.9491\n",
      "epoch=2000, 기울기=1.8515, 절편=-12.9581\n",
      "epoch=2000, 기울기=1.9057, 절편=-12.9514\n",
      "epoch=2000, 기울기=1.9068, 절편=-12.9513\n",
      "epoch=2000, 기울기=1.9068, 절편=-12.9513\n",
      "epoch=2000, 기울기=1.9068, 절편=-12.9513\n"
     ]
    }
   ],
   "source": [
    "# 로지스틱 회귀식의 a와 b 초기값 지정\n",
    "a = 0\n",
    "b = 0\n",
    "\n",
    "# 학습률 지정\n",
    "lr = 0.05 \n",
    "\n",
    "# 시그모이드 함수 정의\n",
    "def sigmoid(x):\n",
    "    return 1 / (1 + np.e ** (-x))\n",
    "\n",
    "# 경사 하강법 수행\n",
    "for i in range(2001):\n",
    "    for x_data, y_data in data:\n",
    "        a_diff = x_data*(sigmoid(a*x_data + b) - y_data) # 오차함수를 a에 대해 편미분, 로지스틱 회귀의 오차함수는 로그함수의 조합으로 나타남\n",
    "        b_diff = sigmoid(a*x_data + b) - y_data\n",
    "        a = a - lr * a_diff\n",
    "        b = b - lr * b_diff\n",
    "        if i % 1000 == 0:  \n",
    "            print(\"epoch=%.f, 기울기=%.04f, 절편=%.04f\" % (i, a, b))"
   ]
  },
  {
   "cell_type": "code",
   "execution_count": 50,
   "id": "1cfd8bfa",
   "metadata": {},
   "outputs": [
    {
     "data": {
      "image/png": "[encoded data removed]",
      "text/plain": [
       "<Figure size 432x288 with 1 Axes>"
      ]
     },
     "metadata": {
      "needs_background": "light"
     },
     "output_type": "display_data"
    }
   ],
   "source": [
    "# 구해진 식으로 그래프 그리기\n",
    "plt.scatter(x_data, y_data)\n",
    "plt.xlim(0, 15)\n",
    "plt.ylim(-.1, 1.1)\n",
    "x_range = (np.arange(0, 15, 0.1))\n",
    "plt.plot(np.arange(0, 15, 0.1), np.array([sigmoid(a*x + b) for x in x_range]))\n",
    "plt.show()"
   ]
  },
  {
   "cell_type": "markdown",
   "id": "f8fb7464",
   "metadata": {},
   "source": [
    "# 다중 퍼셉트론을 이용해 XOR 문제 해결하기"
   ]
  },
  {
   "cell_type": "code",
   "execution_count": 52,
   "id": "0bfa266a",
   "metadata": {},
   "outputs": [
    {
     "name": "stdout",
     "output_type": "stream",
     "text": [
      "입력 값: (0, 0) 출력 값: 0\n",
      "입력 값: (1, 0) 출력 값: 1\n",
      "입력 값: (0, 1) 출력 값: 1\n",
      "입력 값: (1, 1) 출력 값: 0\n"
     ]
    }
   ],
   "source": [
    "# 가중치 w와 바이어스 b 지정\n",
    "w11 = np.array([-2, -2])\n",
    "w12 = np.array([2, 2])\n",
    "w2 = np.array([1, 1])\n",
    "b1 = 3\n",
    "b2 = -1\n",
    "b3 = -1\n",
    "\n",
    "# 퍼셉트론\n",
    "def MLP(x, w, b):\n",
    "    y = np.sum(w * x) + b # 모든 입력값에 대해 각각의 가중치를 곱한 값을 더하고 마지막에 바이어스를 더해줌\n",
    "    if y <= 0:         # 시그모이드함수의 출력값과 비슷한 형태\n",
    "        return 0\n",
    "    else:\n",
    "        return 1\n",
    "\n",
    "# NAND 게이트\n",
    "def NAND(x1,x2):\n",
    "    return MLP(np.array([x1, x2]), w11, b1) # 은닉층의 첫번째 노드\n",
    "\n",
    "# OR 게이트\n",
    "def OR(x1,x2):\n",
    "    return MLP(np.array([x1, x2]), w12, b2) # 은닉층의 두번째 노드\n",
    "\n",
    "# AND 게이트\n",
    "def AND(x1,x2):\n",
    "    return MLP(np.array([x1, x2]), w2, b3) # 출력층\n",
    "\n",
    "# XOR 게이트\n",
    "def XOR(x1,x2):\n",
    "    return AND(NAND(x1, x2),OR(x1,x2))\n",
    "\n",
    "\n",
    "# x1, x2 값을 번갈아 대입해 가며 최종값 출력\n",
    "if __name__ == '__main__':\n",
    "    for x in [(0, 0), (1, 0), (0, 1), (1, 1)]:\n",
    "        y = XOR(x[0], x[1])\n",
    "        print(\"입력 값: \" + str(x) + \" 출력 값: \" + str(y))"
   ]
  }
 ],
 "metadata": {
  "kernelspec": {
   "display_name": "Python 3 (ipykernel)",
   "language": "python",
   "name": "python3"
  },
  "language_info": {
   "codemirror_mode": {
    "name": "ipython",
    "version": 3
   },
   "file_extension": ".py",
   "mimetype": "text/x-python",
   "name": "python",
   "nbconvert_exporter": "python",
   "pygments_lexer": "ipython3",
   "version": "3.9.7"
  }
 },
 "nbformat": 4,
 "nbformat_minor": 5
}
