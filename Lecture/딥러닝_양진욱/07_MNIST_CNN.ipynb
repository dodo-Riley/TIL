{
 "cells": [
  {
   "cell_type": "code",
   "execution_count": 36,
   "id": "3010522e",
   "metadata": {},
   "outputs": [],
   "source": [
    "# 라이브러리 및 모듈 호출\n",
    "from keras.datasets import mnist # 데이터셋\n",
    "from keras.utils import np_utils # 원핫인코딩\n",
    "from keras.models import Sequential\n",
    "from keras.layers import Dense, Dropout, Flatten, Conv2D, MaxPooling2D\n",
    "from keras.callbacks import ModelCheckpoint,EarlyStopping\n",
    "\n",
    "import pandas as pd\n",
    "import numpy as np\n",
    "import os\n",
    "import sys\n",
    "import tensorflow as tf\n",
    "import matplotlib.pyplot as plt"
   ]
  },
  {
   "cell_type": "markdown",
   "id": "1ec6883a",
   "metadata": {},
   "source": [
    "# 데이터 살펴보기"
   ]
  },
  {
   "cell_type": "code",
   "execution_count": 3,
   "id": "fa128b5d",
   "metadata": {},
   "outputs": [],
   "source": [
    "# 시드값 고정\n",
    "seed = 42\n",
    "np.random.seed(seed)\n",
    "tf.random.set_seed(seed)"
   ]
  },
  {
   "cell_type": "code",
   "execution_count": 4,
   "id": "b679ad83",
   "metadata": {},
   "outputs": [],
   "source": [
    "# 데이터 불러오기\n",
    "(X_train, Y_class_train),(X_test,Y_class_test) = mnist.load_data()"
   ]
  },
  {
   "cell_type": "code",
   "execution_count": 5,
   "id": "eb0be284",
   "metadata": {},
   "outputs": [
    {
     "name": "stdout",
     "output_type": "stream",
     "text": [
      "학습 데이터 이미지 개수 : 60000개\n",
      "테스트 데이터 이미지 개수 : 10000개\n"
     ]
    }
   ],
   "source": [
    "print(f'학습 데이터 이미지 개수 : {X_train.shape[0]}개')\n",
    "print(f'테스트 데이터 이미지 개수 : {X_test.shape[0]}개')"
   ]
  },
  {
   "cell_type": "code",
   "execution_count": 6,
   "id": "6e46e044",
   "metadata": {},
   "outputs": [
    {
     "data": {
      "text/plain": [
       "(60000, 28, 28)"
      ]
     },
     "execution_count": 6,
     "metadata": {},
     "output_type": "execute_result"
    }
   ],
   "source": [
    "X_train.shape # 층,행,열 > 이미지 개수, 세로픽셀수,가로픽셀수"
   ]
  },
  {
   "cell_type": "code",
   "execution_count": 8,
   "id": "a69cb37d",
   "metadata": {},
   "outputs": [
    {
     "data": {
      "image/png": "[encoded data removed]",
      "text/plain": [
       "<Figure size 432x288 with 1 Axes>"
      ]
     },
     "metadata": {
      "needs_background": "light"
     },
     "output_type": "display_data"
    }
   ],
   "source": [
    "# 이미지로 확인\n",
    "plt.imshow(X_train[0], cmap='Greys') # 흑백이미지 출력\n",
    "plt.show()"
   ]
  },
  {
   "cell_type": "code",
   "execution_count": 14,
   "id": "e46610d0",
   "metadata": {},
   "outputs": [
    {
     "name": "stdout",
     "output_type": "stream",
     "text": [
      "0   0   0   0   0   0   0   0   0   0   0   0   0   0   0   0   0   0   0   0   0   0   0   0   0   0   0   0   \n",
      "0   0   0   0   0   0   0   0   0   0   0   0   0   0   0   0   0   0   0   0   0   0   0   0   0   0   0   0   \n",
      "0   0   0   0   0   0   0   0   0   0   0   0   0   0   0   0   0   0   0   0   0   0   0   0   0   0   0   0   \n",
      "0   0   0   0   0   0   0   0   0   0   0   0   0   0   0   0   0   0   0   0   0   0   0   0   0   0   0   0   \n",
      "0   0   0   0   0   0   0   0   0   0   0   0   0   0   0   0   0   0   0   0   0   0   0   0   0   0   0   0   \n",
      "0   0   0   0   0   0   0   0   0   0   0   0   3   18   18   18   126   136   175   26   166   255   247   127   0   0   0   0   \n",
      "0   0   0   0   0   0   0   0   30   36   94   154   170   253   253   253   253   253   225   172   253   242   195   64   0   0   0   0   \n",
      "0   0   0   0   0   0   0   49   238   253   253   253   253   253   253   253   253   251   93   82   82   56   39   0   0   0   0   0   \n",
      "0   0   0   0   0   0   0   18   219   253   253   253   253   253   198   182   247   241   0   0   0   0   0   0   0   0   0   0   \n",
      "0   0   0   0   0   0   0   0   80   156   107   253   253   205   11   0   43   154   0   0   0   0   0   0   0   0   0   0   \n",
      "0   0   0   0   0   0   0   0   0   14   1   154   253   90   0   0   0   0   0   0   0   0   0   0   0   0   0   0   \n",
      "0   0   0   0   0   0   0   0   0   0   0   139   253   190   2   0   0   0   0   0   0   0   0   0   0   0   0   0   \n",
      "0   0   0   0   0   0   0   0   0   0   0   11   190   253   70   0   0   0   0   0   0   0   0   0   0   0   0   0   \n",
      "0   0   0   0   0   0   0   0   0   0   0   0   35   241   225   160   108   1   0   0   0   0   0   0   0   0   0   0   \n",
      "0   0   0   0   0   0   0   0   0   0   0   0   0   81   240   253   253   119   25   0   0   0   0   0   0   0   0   0   \n",
      "0   0   0   0   0   0   0   0   0   0   0   0   0   0   45   186   253   253   150   27   0   0   0   0   0   0   0   0   \n",
      "0   0   0   0   0   0   0   0   0   0   0   0   0   0   0   16   93   252   253   187   0   0   0   0   0   0   0   0   \n",
      "0   0   0   0   0   0   0   0   0   0   0   0   0   0   0   0   0   249   253   249   64   0   0   0   0   0   0   0   \n",
      "0   0   0   0   0   0   0   0   0   0   0   0   0   0   46   130   183   253   253   207   2   0   0   0   0   0   0   0   \n",
      "0   0   0   0   0   0   0   0   0   0   0   0   39   148   229   253   253   253   250   182   0   0   0   0   0   0   0   0   \n",
      "0   0   0   0   0   0   0   0   0   0   24   114   221   253   253   253   253   201   78   0   0   0   0   0   0   0   0   0   \n",
      "0   0   0   0   0   0   0   0   23   66   213   253   253   253   253   198   81   2   0   0   0   0   0   0   0   0   0   0   \n",
      "0   0   0   0   0   0   18   171   219   253   253   253   253   195   80   9   0   0   0   0   0   0   0   0   0   0   0   0   \n",
      "0   0   0   0   55   172   226   253   253   253   253   244   133   11   0   0   0   0   0   0   0   0   0   0   0   0   0   0   \n",
      "0   0   0   0   136   253   253   253   212   135   132   16   0   0   0   0   0   0   0   0   0   0   0   0   0   0   0   0   \n",
      "0   0   0   0   0   0   0   0   0   0   0   0   0   0   0   0   0   0   0   0   0   0   0   0   0   0   0   0   \n",
      "0   0   0   0   0   0   0   0   0   0   0   0   0   0   0   0   0   0   0   0   0   0   0   0   0   0   0   0   \n",
      "0   0   0   0   0   0   0   0   0   0   0   0   0   0   0   0   0   0   0   0   0   0   0   0   0   0   0   0   \n"
     ]
    }
   ],
   "source": [
    "# 데이터 값 자체로 확인\n",
    "for x in X_train[0]:\n",
    "    for i in x:\n",
    "        sys.stdout.write('%d   ' % i)\n",
    "    sys.stdout.write('\\n')"
   ]
  },
  {
   "cell_type": "code",
   "execution_count": 15,
   "id": "22973256",
   "metadata": {},
   "outputs": [],
   "source": [
    "# 데이터 변환\n",
    "X_train = X_train.reshape(X_train.shape[0],784) # 2차원 > 1차원으로 변환\n",
    "X_train = X_train.astype('float64') # normalize를 위해 실수형으로 자료타입 변경\n",
    "X_train = X_train/255 # 최대값인 255로 나누어줌 > normalize\n",
    "\n",
    "X_test = X_test.reshape(X_test.shape[0],784).astype('float64')/255 # 학습 데이터와 동일하게 적용"
   ]
  },
  {
   "cell_type": "code",
   "execution_count": 16,
   "id": "dbd63c7d",
   "metadata": {},
   "outputs": [
    {
     "name": "stdout",
     "output_type": "stream",
     "text": [
      "[0.         0.         0.         0.         0.         0.\n",
      " 0.         0.         0.         0.         0.         0.\n",
      " 0.         0.         0.         0.         0.         0.\n",
      " 0.         0.         0.         0.         0.         0.\n",
      " 0.         0.         0.         0.         0.         0.\n",
      " 0.         0.         0.         0.         0.         0.\n",
      " 0.         0.         0.         0.         0.         0.\n",
      " 0.         0.         0.         0.         0.         0.\n",
      " 0.         0.         0.         0.         0.         0.\n",
      " 0.         0.         0.         0.         0.         0.\n",
      " 0.         0.         0.         0.         0.         0.\n",
      " 0.         0.         0.         0.         0.         0.\n",
      " 0.         0.         0.         0.         0.         0.\n",
      " 0.         0.         0.         0.         0.         0.\n",
      " 0.         0.         0.         0.         0.         0.\n",
      " 0.         0.         0.         0.         0.         0.\n",
      " 0.         0.         0.         0.         0.         0.\n",
      " 0.         0.         0.         0.         0.         0.\n",
      " 0.         0.         0.         0.         0.         0.\n",
      " 0.         0.         0.         0.         0.         0.\n",
      " 0.         0.         0.         0.         0.         0.\n",
      " 0.         0.         0.         0.         0.         0.\n",
      " 0.         0.         0.         0.         0.         0.\n",
      " 0.         0.         0.         0.         0.         0.\n",
      " 0.         0.         0.         0.         0.         0.\n",
      " 0.         0.         0.01176471 0.07058824 0.07058824 0.07058824\n",
      " 0.49411765 0.53333333 0.68627451 0.10196078 0.65098039 1.\n",
      " 0.96862745 0.49803922 0.         0.         0.         0.\n",
      " 0.         0.         0.         0.         0.         0.\n",
      " 0.         0.         0.11764706 0.14117647 0.36862745 0.60392157\n",
      " 0.66666667 0.99215686 0.99215686 0.99215686 0.99215686 0.99215686\n",
      " 0.88235294 0.6745098  0.99215686 0.94901961 0.76470588 0.25098039\n",
      " 0.         0.         0.         0.         0.         0.\n",
      " 0.         0.         0.         0.         0.         0.19215686\n",
      " 0.93333333 0.99215686 0.99215686 0.99215686 0.99215686 0.99215686\n",
      " 0.99215686 0.99215686 0.99215686 0.98431373 0.36470588 0.32156863\n",
      " 0.32156863 0.21960784 0.15294118 0.         0.         0.\n",
      " 0.         0.         0.         0.         0.         0.\n",
      " 0.         0.         0.         0.07058824 0.85882353 0.99215686\n",
      " 0.99215686 0.99215686 0.99215686 0.99215686 0.77647059 0.71372549\n",
      " 0.96862745 0.94509804 0.         0.         0.         0.\n",
      " 0.         0.         0.         0.         0.         0.\n",
      " 0.         0.         0.         0.         0.         0.\n",
      " 0.         0.         0.31372549 0.61176471 0.41960784 0.99215686\n",
      " 0.99215686 0.80392157 0.04313725 0.         0.16862745 0.60392157\n",
      " 0.         0.         0.         0.         0.         0.\n",
      " 0.         0.         0.         0.         0.         0.\n",
      " 0.         0.         0.         0.         0.         0.\n",
      " 0.         0.05490196 0.00392157 0.60392157 0.99215686 0.35294118\n",
      " 0.         0.         0.         0.         0.         0.\n",
      " 0.         0.         0.         0.         0.         0.\n",
      " 0.         0.         0.         0.         0.         0.\n",
      " 0.         0.         0.         0.         0.         0.\n",
      " 0.         0.54509804 0.99215686 0.74509804 0.00784314 0.\n",
      " 0.         0.         0.         0.         0.         0.\n",
      " 0.         0.         0.         0.         0.         0.\n",
      " 0.         0.         0.         0.         0.         0.\n",
      " 0.         0.         0.         0.         0.         0.04313725\n",
      " 0.74509804 0.99215686 0.2745098  0.         0.         0.\n",
      " 0.         0.         0.         0.         0.         0.\n",
      " 0.         0.         0.         0.         0.         0.\n",
      " 0.         0.         0.         0.         0.         0.\n",
      " 0.         0.         0.         0.         0.1372549  0.94509804\n",
      " 0.88235294 0.62745098 0.42352941 0.00392157 0.         0.\n",
      " 0.         0.         0.         0.         0.         0.\n",
      " 0.         0.         0.         0.         0.         0.\n",
      " 0.         0.         0.         0.         0.         0.\n",
      " 0.         0.         0.         0.31764706 0.94117647 0.99215686\n",
      " 0.99215686 0.46666667 0.09803922 0.         0.         0.\n",
      " 0.         0.         0.         0.         0.         0.\n",
      " 0.         0.         0.         0.         0.         0.\n",
      " 0.         0.         0.         0.         0.         0.\n",
      " 0.         0.         0.17647059 0.72941176 0.99215686 0.99215686\n",
      " 0.58823529 0.10588235 0.         0.         0.         0.\n",
      " 0.         0.         0.         0.         0.         0.\n",
      " 0.         0.         0.         0.         0.         0.\n",
      " 0.         0.         0.         0.         0.         0.\n",
      " 0.         0.0627451  0.36470588 0.98823529 0.99215686 0.73333333\n",
      " 0.         0.         0.         0.         0.         0.\n",
      " 0.         0.         0.         0.         0.         0.\n",
      " 0.         0.         0.         0.         0.         0.\n",
      " 0.         0.         0.         0.         0.         0.\n",
      " 0.         0.97647059 0.99215686 0.97647059 0.25098039 0.\n",
      " 0.         0.         0.         0.         0.         0.\n",
      " 0.         0.         0.         0.         0.         0.\n",
      " 0.         0.         0.         0.         0.         0.\n",
      " 0.         0.         0.18039216 0.50980392 0.71764706 0.99215686\n",
      " 0.99215686 0.81176471 0.00784314 0.         0.         0.\n",
      " 0.         0.         0.         0.         0.         0.\n",
      " 0.         0.         0.         0.         0.         0.\n",
      " 0.         0.         0.         0.         0.15294118 0.58039216\n",
      " 0.89803922 0.99215686 0.99215686 0.99215686 0.98039216 0.71372549\n",
      " 0.         0.         0.         0.         0.         0.\n",
      " 0.         0.         0.         0.         0.         0.\n",
      " 0.         0.         0.         0.         0.         0.\n",
      " 0.09411765 0.44705882 0.86666667 0.99215686 0.99215686 0.99215686\n",
      " 0.99215686 0.78823529 0.30588235 0.         0.         0.\n",
      " 0.         0.         0.         0.         0.         0.\n",
      " 0.         0.         0.         0.         0.         0.\n",
      " 0.         0.         0.09019608 0.25882353 0.83529412 0.99215686\n",
      " 0.99215686 0.99215686 0.99215686 0.77647059 0.31764706 0.00784314\n",
      " 0.         0.         0.         0.         0.         0.\n",
      " 0.         0.         0.         0.         0.         0.\n",
      " 0.         0.         0.         0.         0.07058824 0.67058824\n",
      " 0.85882353 0.99215686 0.99215686 0.99215686 0.99215686 0.76470588\n",
      " 0.31372549 0.03529412 0.         0.         0.         0.\n",
      " 0.         0.         0.         0.         0.         0.\n",
      " 0.         0.         0.         0.         0.         0.\n",
      " 0.21568627 0.6745098  0.88627451 0.99215686 0.99215686 0.99215686\n",
      " 0.99215686 0.95686275 0.52156863 0.04313725 0.         0.\n",
      " 0.         0.         0.         0.         0.         0.\n",
      " 0.         0.         0.         0.         0.         0.\n",
      " 0.         0.         0.         0.         0.53333333 0.99215686\n",
      " 0.99215686 0.99215686 0.83137255 0.52941176 0.51764706 0.0627451\n",
      " 0.         0.         0.         0.         0.         0.\n",
      " 0.         0.         0.         0.         0.         0.\n",
      " 0.         0.         0.         0.         0.         0.\n",
      " 0.         0.         0.         0.         0.         0.\n",
      " 0.         0.         0.         0.         0.         0.\n",
      " 0.         0.         0.         0.         0.         0.\n",
      " 0.         0.         0.         0.         0.         0.\n",
      " 0.         0.         0.         0.         0.         0.\n",
      " 0.         0.         0.         0.         0.         0.\n",
      " 0.         0.         0.         0.         0.         0.\n",
      " 0.         0.         0.         0.         0.         0.\n",
      " 0.         0.         0.         0.         0.         0.\n",
      " 0.         0.         0.         0.         0.         0.\n",
      " 0.         0.         0.         0.         0.         0.\n",
      " 0.         0.         0.         0.         0.         0.\n",
      " 0.         0.         0.         0.         0.         0.\n",
      " 0.         0.         0.         0.        ]\n"
     ]
    }
   ],
   "source": [
    "print(X_train[0])"
   ]
  },
  {
   "cell_type": "code",
   "execution_count": 17,
   "id": "5687c70c",
   "metadata": {},
   "outputs": [
    {
     "name": "stdout",
     "output_type": "stream",
     "text": [
      "class : 5\n"
     ]
    }
   ],
   "source": [
    "# 클래스(어떤숫자인지) 값 확인\n",
    "print(f'class : {Y_class_train[0]}')"
   ]
  },
  {
   "cell_type": "code",
   "execution_count": 20,
   "id": "c285e3be",
   "metadata": {},
   "outputs": [
    {
     "name": "stdout",
     "output_type": "stream",
     "text": [
      "[0. 0. 0. 0. 0. 1. 0. 0. 0. 0.] [0. 0. 0. 0. 0. 0. 0. 1. 0. 0.]\n"
     ]
    }
   ],
   "source": [
    "# 클래스 데이터를 바이너리화(원핫인코딩)\n",
    "Y_train = np_utils.to_categorical(Y_class_train, 10)\n",
    "Y_test = np_utils.to_categorical(Y_class_test, 10)\n",
    "\n",
    "print(Y_train[0], Y_test[0])"
   ]
  },
  {
   "cell_type": "markdown",
   "id": "51f7f76e",
   "metadata": {},
   "source": [
    "# 간단한 모델로 수행"
   ]
  },
  {
   "cell_type": "code",
   "execution_count": 25,
   "id": "a3d96dd8",
   "metadata": {},
   "outputs": [],
   "source": [
    "# 시드값 고정 및 데이터 변환 (위와 동일한 과정)\n",
    "seed = 42\n",
    "np.random.seed(seed)\n",
    "tf.random.set_seed(seed)\n",
    "\n",
    "(X_train, Y_train), (X_test, Y_test) = mnist.load_data()\n",
    "\n",
    "X_train = X_train.reshape(X_train.shape[0], 784).astype('float32') / 255\n",
    "X_test = X_test.reshape(X_test.shape[0], 784).astype('float32') / 255\n",
    "\n",
    "Y_train = np_utils.to_categorical(Y_train, 10)\n",
    "Y_test = np_utils.to_categorical(Y_test, 10)"
   ]
  },
  {
   "cell_type": "code",
   "execution_count": 27,
   "id": "e6e6ea51",
   "metadata": {},
   "outputs": [],
   "source": [
    "# 모델 구성\n",
    "model = Sequential()\n",
    "model.add(Dense(512, input_dim=784, activation='relu')) # 입력데이터의 차원 = 784, 노드 수 = 512, 활성화함수 렐루\n",
    "model.add(Dense(10, activation='softmax')) # 출력은 0~9까지의 숫자 중 하나이므로 10개"
   ]
  },
  {
   "cell_type": "code",
   "execution_count": 28,
   "id": "f33c1451",
   "metadata": {},
   "outputs": [],
   "source": [
    "# 실행환경 설정\n",
    "model.compile(loss='categorical_crossentropy', optimizer='adam', metrics=['accuracy']) # 오차함수=범주형 교차엔트로피, 최적화함수=adam, 지표=정확도"
   ]
  },
  {
   "cell_type": "code",
   "execution_count": 29,
   "id": "c653f3a3",
   "metadata": {},
   "outputs": [],
   "source": [
    "# 모델 저장 디렉토리 설정\n",
    "Model_dir = './model/' # 저장할 경로\n",
    "if not os.path.exists(Model_dir): # 해당 경로가 없으면 생성\n",
    "    os.mkdir(Model_dir)\n",
    "    \n",
    "modelpath = './model/MNIST_{epoch:02d}_{val_loss:.4f}.hdf5' # 저장할 경로 및 파일명 지정\n",
    "\n",
    "# 콜백함수 지정\n",
    "checkpointer = ModelCheckpoint(filepath=modelpath, monitor='val_loss',verbose=1,save_best_only=True) # 성능이 개선될떄만 저장하도록\n",
    "earlystopping = EarlyStopping(monitor='val_loss', patience=10) # 10번동안 성능개선이 없으면 학습 조기종료"
   ]
  },
  {
   "cell_type": "code",
   "execution_count": 31,
   "id": "7adc7c4f",
   "metadata": {},
   "outputs": [
    {
     "name": "stdout",
     "output_type": "stream",
     "text": [
      "\n",
      "Epoch 1: val_loss improved from inf to 0.15254, saving model to ./model\\MNIST_01_0.1525.hdf5\n",
      "\n",
      "Epoch 2: val_loss improved from 0.15254 to 0.10251, saving model to ./model\\MNIST_02_0.1025.hdf5\n",
      "\n",
      "Epoch 3: val_loss improved from 0.10251 to 0.08273, saving model to ./model\\MNIST_03_0.0827.hdf5\n",
      "\n",
      "Epoch 4: val_loss improved from 0.08273 to 0.07121, saving model to ./model\\MNIST_04_0.0712.hdf5\n",
      "\n",
      "Epoch 5: val_loss improved from 0.07121 to 0.06951, saving model to ./model\\MNIST_05_0.0695.hdf5\n",
      "\n",
      "Epoch 6: val_loss improved from 0.06951 to 0.06454, saving model to ./model\\MNIST_06_0.0645.hdf5\n",
      "\n",
      "Epoch 7: val_loss improved from 0.06454 to 0.05859, saving model to ./model\\MNIST_07_0.0586.hdf5\n",
      "\n",
      "Epoch 8: val_loss did not improve from 0.05859\n",
      "\n",
      "Epoch 9: val_loss did not improve from 0.05859\n",
      "\n",
      "Epoch 10: val_loss did not improve from 0.05859\n",
      "\n",
      "Epoch 11: val_loss did not improve from 0.05859\n",
      "\n",
      "Epoch 12: val_loss did not improve from 0.05859\n",
      "\n",
      "Epoch 13: val_loss improved from 0.05859 to 0.05803, saving model to ./model\\MNIST_13_0.0580.hdf5\n",
      "\n",
      "Epoch 14: val_loss did not improve from 0.05803\n",
      "\n",
      "Epoch 15: val_loss did not improve from 0.05803\n",
      "\n",
      "Epoch 16: val_loss did not improve from 0.05803\n",
      "\n",
      "Epoch 17: val_loss did not improve from 0.05803\n",
      "\n",
      "Epoch 18: val_loss did not improve from 0.05803\n",
      "\n",
      "Epoch 19: val_loss did not improve from 0.05803\n",
      "\n",
      "Epoch 20: val_loss did not improve from 0.05803\n",
      "\n",
      "Epoch 21: val_loss did not improve from 0.05803\n",
      "\n",
      "Epoch 22: val_loss did not improve from 0.05803\n",
      "\n",
      "Epoch 23: val_loss did not improve from 0.05803\n"
     ]
    }
   ],
   "source": [
    "# 모델 실행\n",
    "history = model.fit(X_train, Y_train, # 학습용 데이터 \n",
    "                    validation_data=(X_test,Y_test), # 검증용 데이터\n",
    "                    epochs=30, # 반복횟수\n",
    "                    batch_size=200, # 한번에 사용할 샘플 개수\n",
    "                    verbose=0, # 진행상황 미출력\n",
    "                    callbacks=[checkpointer,earlystopping]) # 콜백함수"
   ]
  },
  {
   "cell_type": "code",
   "execution_count": 32,
   "id": "702a8569",
   "metadata": {},
   "outputs": [
    {
     "name": "stdout",
     "output_type": "stream",
     "text": [
      "313/313 [==============================] - 2s 4ms/step - loss: 0.0669 - accuracy: 0.9833\n",
      "Test Accuracy : 0.9833\n"
     ]
    }
   ],
   "source": [
    "# 결과 출력\n",
    "print(f'Test Accuracy : {model.evaluate(X_test,Y_test)[1]:.4f}')"
   ]
  },
  {
   "cell_type": "code",
   "execution_count": 33,
   "id": "1e4e294a",
   "metadata": {},
   "outputs": [
    {
     "data": {
      "image/png": "[encoded data removed]",
      "text/plain": [
       "<Figure size 432x288 with 1 Axes>"
      ]
     },
     "metadata": {
      "needs_background": "light"
     },
     "output_type": "display_data"
    }
   ],
   "source": [
    "# 오차를 그래프로 시각화\n",
    "y_vloss = history.history['val_loss'] # 테스트셋에 대한 검증 오차\n",
    "y_loss = history.history['loss'] # 학습셋에 대한 오차\n",
    "\n",
    "x_len = np.arange(len(y_loss)) # x축으로 사용할 데이터\n",
    "plt.plot(x_len, y_vloss, marker = '.', c='r', label='Testset_loss')\n",
    "plt.plot(x_len, y_loss, marker = '.', c='b', label='Trainset_loss')\n",
    "plt.legend(loc=0) # 범례 표시\n",
    "plt.grid() # 격자표시\n",
    "plt.xlabel('epoch')\n",
    "plt.ylabel('loss')\n",
    "plt.show()\n",
    "# 조기종료를 통해 오차가 다시 증가하는(과적합되는) 구간이 없음"
   ]
  },
  {
   "cell_type": "markdown",
   "id": "6d63fa73",
   "metadata": {},
   "source": [
    "# CNN 활용"
   ]
  },
  {
   "cell_type": "code",
   "execution_count": 38,
   "id": "3bc6ff28",
   "metadata": {},
   "outputs": [],
   "source": [
    "# 시드값 고정 및 데이터 변환 (위와 동일한 과정)\n",
    "seed = 42\n",
    "np.random.seed(seed)\n",
    "tf.random.set_seed(seed)\n",
    "\n",
    "(X_train, Y_train), (X_test, Y_test) = mnist.load_data()\n",
    "\n",
    "X_train = X_train.reshape(X_train.shape[0], 28,28,1).astype('float32') / 255\n",
    "X_test = X_test.reshape(X_test.shape[0], 28,28,1).astype('float32') / 255\n",
    "\n",
    "Y_train = np_utils.to_categorical(Y_train, 10)\n",
    "Y_test = np_utils.to_categorical(Y_test, 10)"
   ]
  },
  {
   "cell_type": "code",
   "execution_count": 41,
   "id": "f8d304db",
   "metadata": {},
   "outputs": [],
   "source": [
    "# 모델 구성\n",
    "model = Sequential()\n",
    "model.add(Conv2D(32, # 필터 개수 \n",
    "                 kernel_size=(3,3), # 필터 사이즈\n",
    "                 input_shape=(28,28,1), # 입력데이터 형태\n",
    "                 activation='relu')) # 활성화 함수\n",
    "model.add(Conv2D(64, (3,3), activation='relu'))\n",
    "model.add(MaxPooling2D(pool_size=2)) # 2*2사이즈로 맥스풀링\n",
    "model.add(Dropout(0.25)) # 전체 노드 중에서 드랍할 비율\n",
    "model.add(Flatten()) # 1차원으로 변경\n",
    "model.add(Dense(128, activation='relu'))\n",
    "model.add(Dense(10, activation='softmax'))\n",
    "\n",
    "model.compile(loss='categorical_crossentropy', optimizer='adam', metrics=['accuracy'])"
   ]
  },
  {
   "cell_type": "code",
   "execution_count": 42,
   "id": "092ffaa2",
   "metadata": {},
   "outputs": [],
   "source": [
    "# 모델 최적화 설정(이전과 동일)\n",
    "MODEL_DIR = './model/'\n",
    "if not os.path.exists(MODEL_DIR):\n",
    "    os.mkdir(MODEL_DIR)\n",
    "\n",
    "modelpath=\"./model/MNIST_CNN_{epoch:02d}-{val_loss:.4f}.hdf5\"\n",
    "checkpointer = ModelCheckpoint(filepath=modelpath, monitor='val_loss', verbose=1, save_best_only=True)\n",
    "early_stopping_callback = EarlyStopping(monitor='val_loss', patience=10)"
   ]
  },
  {
   "cell_type": "code",
   "execution_count": 43,
   "id": "f2442ac9",
   "metadata": {},
   "outputs": [
    {
     "name": "stdout",
     "output_type": "stream",
     "text": [
      "\n",
      "Epoch 1: val_loss improved from inf to 0.05231, saving model to ./model\\MNIST_CNN_01-0.0523.hdf5\n",
      "\n",
      "Epoch 2: val_loss improved from 0.05231 to 0.03955, saving model to ./model\\MNIST_CNN_02-0.0395.hdf5\n",
      "\n",
      "Epoch 3: val_loss improved from 0.03955 to 0.03139, saving model to ./model\\MNIST_CNN_03-0.0314.hdf5\n",
      "\n",
      "Epoch 4: val_loss improved from 0.03139 to 0.03126, saving model to ./model\\MNIST_CNN_04-0.0313.hdf5\n",
      "\n",
      "Epoch 5: val_loss did not improve from 0.03126\n",
      "\n",
      "Epoch 6: val_loss did not improve from 0.03126\n",
      "\n",
      "Epoch 7: val_loss did not improve from 0.03126\n",
      "\n",
      "Epoch 8: val_loss did not improve from 0.03126\n",
      "\n",
      "Epoch 9: val_loss did not improve from 0.03126\n",
      "\n",
      "Epoch 10: val_loss improved from 0.03126 to 0.02873, saving model to ./model\\MNIST_CNN_10-0.0287.hdf5\n",
      "\n",
      "Epoch 11: val_loss did not improve from 0.02873\n",
      "\n",
      "Epoch 12: val_loss did not improve from 0.02873\n",
      "\n",
      "Epoch 13: val_loss did not improve from 0.02873\n",
      "\n",
      "Epoch 14: val_loss did not improve from 0.02873\n",
      "\n",
      "Epoch 15: val_loss did not improve from 0.02873\n",
      "\n",
      "Epoch 16: val_loss did not improve from 0.02873\n",
      "\n",
      "Epoch 17: val_loss did not improve from 0.02873\n",
      "\n",
      "Epoch 18: val_loss did not improve from 0.02873\n",
      "\n",
      "Epoch 19: val_loss did not improve from 0.02873\n",
      "\n",
      "Epoch 20: val_loss did not improve from 0.02873\n",
      "313/313 [==============================] - 2s 5ms/step - loss: 0.0431 - accuracy: 0.9906\n",
      "Test Accuracy : 0.9906\n"
     ]
    }
   ],
   "source": [
    "# 모델 실행\n",
    "history = model.fit(X_train, Y_train, validation_data=(X_test, Y_test), epochs=30, batch_size=200, verbose=0, callbacks=[early_stopping_callback,checkpointer])\n",
    "\n",
    "# 결과 출력\n",
    "print(f'Test Accuracy : {model.evaluate(X_test,Y_test)[1]:.4f}')"
   ]
  },
  {
   "cell_type": "code",
   "execution_count": 47,
   "id": "ea729f12",
   "metadata": {},
   "outputs": [
    {
     "data": {
      "image/png": "[encoded data removed]",
      "text/plain": [
       "<Figure size 432x288 with 1 Axes>"
      ]
     },
     "metadata": {
      "needs_background": "light"
     },
     "output_type": "display_data"
    }
   ],
   "source": [
    "# 오차를 그래프로 시각화\n",
    "y_vloss = history.history['val_loss'] # 테스트셋에 대한 검증 오차\n",
    "y_loss = history.history['loss'] # 학습셋에 대한 오차\n",
    "\n",
    "x_len = np.arange(len(y_loss)) # x축으로 사용할 데이터\n",
    "plt.plot(x_len, y_vloss, marker = '.', c='r', label='Testset_loss')\n",
    "plt.plot(x_len, y_loss, marker = '.', c='b', label='Trainset_loss')\n",
    "plt.legend(loc=0) # 범례 표시\n",
    "plt.grid() # 격자표시\n",
    "plt.xlabel('epoch')\n",
    "plt.ylabel('loss')\n",
    "plt.show()"
   ]
  }
 ],
 "metadata": {
  "kernelspec": {
   "display_name": "Python 3 (ipykernel)",
   "language": "python",
   "name": "python3"
  },
  "language_info": {
   "codemirror_mode": {
    "name": "ipython",
    "version": 3
   },
   "file_extension": ".py",
   "mimetype": "text/x-python",
   "name": "python",
   "nbconvert_exporter": "python",
   "pygments_lexer": "ipython3",
   "version": "3.9.7"
  }
 },
 "nbformat": 4,
 "nbformat_minor": 5
}
