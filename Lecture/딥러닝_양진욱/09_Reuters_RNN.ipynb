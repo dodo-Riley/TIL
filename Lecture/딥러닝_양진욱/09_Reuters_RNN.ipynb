{
 "cells": [
  {
   "cell_type": "code",
   "execution_count": 2,
   "id": "a0e07159",
   "metadata": {},
   "outputs": [],
   "source": [
    "# 라이브러리 및 모듈 호출\n",
    "import numpy as np\n",
    "import tensorflow as tf\n",
    "import matplotlib.pyplot as plt\n",
    "from keras.datasets import reuters\n",
    "from keras.models import Sequential\n",
    "from keras.layers import Dense, LSTM, Embedding\n",
    "from keras.preprocessing import sequence\n",
    "from keras.utils import np_utils"
   ]
  },
  {
   "cell_type": "code",
   "execution_count": 29,
   "id": "a517ed86",
   "metadata": {},
   "outputs": [],
   "source": [
    "# 시드고정\n",
    "seed=42\n",
    "np.random.seed(seed)\n",
    "tf.random.set_seed(seed)"
   ]
  },
  {
   "cell_type": "code",
   "execution_count": 30,
   "id": "a988619b",
   "metadata": {},
   "outputs": [],
   "source": [
    "# 데이터 불러오기\n",
    "(X_train,Y_train),(X_test,Y_test) = reuters.load_data(num_words=1000, # 빈도수가 1~1000순위에 해당하는 단어만 가져옴\n",
    "                                                      test_split=0.2)"
   ]
  },
  {
   "cell_type": "code",
   "execution_count": 31,
   "id": "3ff06f19",
   "metadata": {},
   "outputs": [
    {
     "name": "stdout",
     "output_type": "stream",
     "text": [
      "46 카테고리\n",
      "8982 학습용 뉴스 기사\n",
      "2246 테스트용 뉴스 기사\n",
      "[1, 2, 2, 8, 43, 10, 447, 5, 25, 207, 270, 5, 2, 111, 16, 369, 186, 90, 67, 7, 89, 5, 19, 102, 6, 19, 124, 15, 90, 67, 84, 22, 482, 26, 7, 48, 4, 49, 8, 864, 39, 209, 154, 6, 151, 6, 83, 11, 15, 22, 155, 11, 15, 7, 48, 9, 2, 2, 504, 6, 258, 6, 272, 11, 15, 22, 134, 44, 11, 15, 16, 8, 197, 2, 90, 67, 52, 29, 209, 30, 32, 132, 6, 109, 15, 17, 12]\n"
     ]
    }
   ],
   "source": [
    "# 데이터 확인\n",
    "category = np.max(Y_train) + 1\n",
    "print(category, '카테고리')\n",
    "print(len(X_train), '학습용 뉴스 기사')\n",
    "print(len(X_test), '테스트용 뉴스 기사')\n",
    "print(X_train[0])"
   ]
  },
  {
   "cell_type": "code",
   "execution_count": 32,
   "id": "73dace3e",
   "metadata": {},
   "outputs": [],
   "source": [
    "# 데이터 전처리\n",
    "maxlen = 100\n",
    "X_train = sequence.pad_sequences(X_train, maxlen=maxlen) # 각 기사를 단어100개로 패딩\n",
    "X_test = sequence.pad_sequences(X_test, maxlen=maxlen)\n",
    "Y_train = np_utils.to_categorical(Y_train) # 각 카테고리를 원핫인코딩\n",
    "Y_test = np_utils.to_categorical(Y_test)"
   ]
  },
  {
   "cell_type": "code",
   "execution_count": 38,
   "id": "89a09a26",
   "metadata": {},
   "outputs": [
    {
     "name": "stdout",
     "output_type": "stream",
     "text": [
      "100\n"
     ]
    }
   ],
   "source": [
    "# 왜 패딩을 100개로 했는지 확인해봄\n",
    "b=0\n",
    "for i in range(len(X_train)):\n",
    "    if len(X_train[i]) > b :\n",
    "        b=len(X_train[i])\n",
    "print(b)    "
   ]
  },
  {
   "cell_type": "code",
   "execution_count": 33,
   "id": "6199758c",
   "metadata": {},
   "outputs": [],
   "source": [
    "# 모델 생성\n",
    "model = Sequential()\n",
    "model.add(Embedding(1000,maxlen)) # 처음 불러온 단어의 총 개수(빈도수 1000위까지 가져왔음), 패딩 결과의 수\n",
    "model.add(LSTM(maxlen, activation='tanh'))\n",
    "model.add(Dense(category, activation='softmax'))"
   ]
  },
  {
   "cell_type": "code",
   "execution_count": 34,
   "id": "5f15e692",
   "metadata": {},
   "outputs": [],
   "source": [
    "# 모델 컴파일\n",
    "model.compile(loss='categorical_crossentropy', optimizer='adam', metrics=['accuracy'])"
   ]
  },
  {
   "cell_type": "code",
   "execution_count": 35,
   "id": "22ea1aba",
   "metadata": {},
   "outputs": [
    {
     "name": "stdout",
     "output_type": "stream",
     "text": [
      "Epoch 1/20\n",
      "90/90 [==============================] - 4s 21ms/step - loss: 2.5334 - accuracy: 0.3889 - val_loss: 2.0804 - val_accuracy: 0.4987\n",
      "Epoch 2/20\n",
      "90/90 [==============================] - 1s 16ms/step - loss: 2.0365 - accuracy: 0.5018 - val_loss: 2.0251 - val_accuracy: 0.5013\n",
      "Epoch 3/20\n",
      "90/90 [==============================] - 1s 15ms/step - loss: 1.9959 - accuracy: 0.5037 - val_loss: 1.8346 - val_accuracy: 0.5316\n",
      "Epoch 4/20\n",
      "90/90 [==============================] - 1s 15ms/step - loss: 1.7334 - accuracy: 0.5571 - val_loss: 1.7003 - val_accuracy: 0.5739\n",
      "Epoch 5/20\n",
      "90/90 [==============================] - 1s 15ms/step - loss: 1.6388 - accuracy: 0.5799 - val_loss: 1.6300 - val_accuracy: 0.5993\n",
      "Epoch 6/20\n",
      "90/90 [==============================] - 1s 15ms/step - loss: 1.5330 - accuracy: 0.6088 - val_loss: 1.6309 - val_accuracy: 0.5922\n",
      "Epoch 7/20\n",
      "90/90 [==============================] - 1s 16ms/step - loss: 1.4526 - accuracy: 0.6332 - val_loss: 1.5194 - val_accuracy: 0.6167\n",
      "Epoch 8/20\n",
      "90/90 [==============================] - 1s 16ms/step - loss: 1.4044 - accuracy: 0.6457 - val_loss: 1.5002 - val_accuracy: 0.6336\n",
      "Epoch 9/20\n",
      "90/90 [==============================] - 1s 16ms/step - loss: 1.3238 - accuracy: 0.6639 - val_loss: 1.4181 - val_accuracy: 0.6380\n",
      "Epoch 10/20\n",
      "90/90 [==============================] - 1s 16ms/step - loss: 1.2412 - accuracy: 0.6866 - val_loss: 1.3892 - val_accuracy: 0.6536\n",
      "Epoch 11/20\n",
      "90/90 [==============================] - 1s 16ms/step - loss: 1.1730 - accuracy: 0.7017 - val_loss: 1.3289 - val_accuracy: 0.6603\n",
      "Epoch 12/20\n",
      "90/90 [==============================] - 1s 16ms/step - loss: 1.1025 - accuracy: 0.7223 - val_loss: 1.2820 - val_accuracy: 0.6817\n",
      "Epoch 13/20\n",
      "90/90 [==============================] - 1s 16ms/step - loss: 1.0550 - accuracy: 0.7328 - val_loss: 1.3026 - val_accuracy: 0.6812\n",
      "Epoch 14/20\n",
      "90/90 [==============================] - 1s 16ms/step - loss: 1.0195 - accuracy: 0.7375 - val_loss: 1.2484 - val_accuracy: 0.6915\n",
      "Epoch 15/20\n",
      "90/90 [==============================] - 1s 16ms/step - loss: 0.9681 - accuracy: 0.7507 - val_loss: 1.2245 - val_accuracy: 0.6946\n",
      "Epoch 16/20\n",
      "90/90 [==============================] - 1s 16ms/step - loss: 0.9280 - accuracy: 0.7586 - val_loss: 1.2422 - val_accuracy: 0.6968\n",
      "Epoch 17/20\n",
      "90/90 [==============================] - 1s 16ms/step - loss: 0.9017 - accuracy: 0.7676 - val_loss: 1.2458 - val_accuracy: 0.6950\n",
      "Epoch 18/20\n",
      "90/90 [==============================] - 1s 15ms/step - loss: 0.8651 - accuracy: 0.7781 - val_loss: 1.2416 - val_accuracy: 0.6986\n",
      "Epoch 19/20\n",
      "90/90 [==============================] - 1s 16ms/step - loss: 0.8265 - accuracy: 0.7871 - val_loss: 1.2531 - val_accuracy: 0.7035\n",
      "Epoch 20/20\n",
      "90/90 [==============================] - 1s 16ms/step - loss: 0.8014 - accuracy: 0.7943 - val_loss: 1.2428 - val_accuracy: 0.7039\n"
     ]
    }
   ],
   "source": [
    "# 모델 학습\n",
    "history = model.fit(X_train, Y_train, batch_size=100, epochs=20, validation_data=(X_test, Y_test))"
   ]
  },
  {
   "cell_type": "code",
   "execution_count": 36,
   "id": "517f30b7",
   "metadata": {},
   "outputs": [
    {
     "name": "stdout",
     "output_type": "stream",
     "text": [
      "71/71 [==============================] - 0s 6ms/step - loss: 1.2428 - accuracy: 0.7039\n",
      "Test Accuracy: 0.7039\n"
     ]
    }
   ],
   "source": [
    "# 결과 출력\n",
    "print(f'Test Accuracy: {model.evaluate(X_test, Y_test)[1]:.4f}')"
   ]
  },
  {
   "cell_type": "code",
   "execution_count": 37,
   "id": "57b73910",
   "metadata": {},
   "outputs": [
    {
     "data": {
      "image/png": "[encoded data removed]",
      "text/plain": [
       "<Figure size 432x288 with 1 Axes>"
      ]
     },
     "metadata": {
      "needs_background": "light"
     },
     "output_type": "display_data"
    }
   ],
   "source": [
    "# 시각화를 통해 loss 확인하기\n",
    "y_vloss = history.history['val_loss']\n",
    "y_loss = history.history['loss']\n",
    "\n",
    "x_len = np.arange(len(y_loss))\n",
    "plt.plot(x_len, y_vloss, marker='.', c=\"red\", label='Testset_loss')\n",
    "plt.plot(x_len, y_loss, marker='.', c=\"blue\", label='Trainset_loss')\n",
    "\n",
    "plt.legend(loc=0)\n",
    "plt.grid()\n",
    "plt.xlabel('epoch')\n",
    "plt.ylabel('loss')\n",
    "plt.show()"
   ]
  }
 ],
 "metadata": {
  "kernelspec": {
   "display_name": "Python 3 (ipykernel)",
   "language": "python",
   "name": "python3"
  },
  "language_info": {
   "codemirror_mode": {
    "name": "ipython",
    "version": 3
   },
   "file_extension": ".py",
   "mimetype": "text/x-python",
   "name": "python",
   "nbconvert_exporter": "python",
   "pygments_lexer": "ipython3",
   "version": "3.9.7"
  }
 },
 "nbformat": 4,
 "nbformat_minor": 5
}
