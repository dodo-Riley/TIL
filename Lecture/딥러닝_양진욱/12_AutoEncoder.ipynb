{
 "cells": [
  {
   "cell_type": "code",
   "execution_count": 1,
   "id": "4135192f",
   "metadata": {
    "ExecuteTime": {
     "end_time": "2022-03-14T07:02:52.997818Z",
     "start_time": "2022-03-14T07:02:42.641793Z"
    }
   },
   "outputs": [],
   "source": [
    "from tensorflow.keras.datasets import mnist\n",
    "from tensorflow.keras.models import Sequential, Model\n",
    "from tensorflow.keras.layers import Input, Dense, Conv2D, MaxPooling2D, UpSampling2D, Flatten, Reshape\n",
    "import matplotlib.pyplot as plt\n",
    "import numpy as np"
   ]
  },
  {
   "cell_type": "code",
   "execution_count": 6,
   "id": "8b6b091c",
   "metadata": {
    "ExecuteTime": {
     "end_time": "2022-03-14T07:06:30.170429Z",
     "start_time": "2022-03-14T07:06:29.722703Z"
    }
   },
   "outputs": [
    {
     "name": "stdout",
     "output_type": "stream",
     "text": [
      "(60000, 28, 28) (10000, 28, 28)\n",
      "(60000, 28, 28, 1) (10000, 28, 28, 1)\n"
     ]
    }
   ],
   "source": [
    "# 데이터 불러오기\n",
    "(X_train,_),(X_test,_) = mnist.load_data() # 라벨 데이터는 필요없음\n",
    "print(X_train.shape, X_test.shape)\n",
    "\n",
    "# 데이터 전처리\n",
    "X_train = X_train.reshape(X_train.shape[0], 28,28,1).astype('float32')/255\n",
    "X_test = X_test.reshape(X_test.shape[0], 28,28,1).astype('float32')/255\n",
    "print(X_train.shape, X_test.shape)"
   ]
  },
  {
   "cell_type": "code",
   "execution_count": 7,
   "id": "eace9de2",
   "metadata": {
    "ExecuteTime": {
     "end_time": "2022-03-14T07:07:05.311726Z",
     "start_time": "2022-03-14T07:07:04.331532Z"
    }
   },
   "outputs": [],
   "source": [
    "# 모델 구성\n",
    "autoencoder = Sequential()"
   ]
  },
  {
   "cell_type": "code",
   "execution_count": 8,
   "id": "459fae45",
   "metadata": {
    "ExecuteTime": {
     "end_time": "2022-03-14T07:08:04.097033Z",
     "start_time": "2022-03-14T07:08:04.018100Z"
    }
   },
   "outputs": [],
   "source": [
    "# 인코더\n",
    "autoencoder.add(Conv2D(16, kernel_size=3, padding='same', input_shape=(28,28,1), activation='relu'))\n",
    "autoencoder.add(MaxPooling2D(pool_size=2, padding='same'))\n",
    "autoencoder.add(Conv2D(8, kernel_size=3, activation='relu', padding='same'))\n",
    "autoencoder.add(MaxPooling2D(pool_size=2, padding='same'))\n",
    "autoencoder.add(Conv2D(8, kernel_size=3, strides=2, padding='same', activation='relu'))"
   ]
  },
  {
   "cell_type": "code",
   "execution_count": 9,
   "id": "1032c51a",
   "metadata": {
    "ExecuteTime": {
     "end_time": "2022-03-14T07:08:08.876048Z",
     "start_time": "2022-03-14T07:08:08.798095Z"
    }
   },
   "outputs": [],
   "source": [
    "# 디코더\n",
    "autoencoder.add(Conv2D(8, kernel_size=3, padding='same', activation='relu'))\n",
    "autoencoder.add(UpSampling2D())\n",
    "autoencoder.add(Conv2D(8, kernel_size=3, padding='same', activation='relu'))\n",
    "autoencoder.add(UpSampling2D())\n",
    "autoencoder.add(Conv2D(16, kernel_size=3, activation='relu'))\n",
    "autoencoder.add(UpSampling2D())\n",
    "autoencoder.add(Conv2D(1, kernel_size=3, padding='same', activation='sigmoid'))"
   ]
  },
  {
   "cell_type": "code",
   "execution_count": 10,
   "id": "13cb14e6",
   "metadata": {
    "ExecuteTime": {
     "end_time": "2022-03-14T07:08:46.575668Z",
     "start_time": "2022-03-14T07:08:46.548684Z"
    }
   },
   "outputs": [
    {
     "name": "stdout",
     "output_type": "stream",
     "text": [
      "Model: \"sequential\"\n",
      "_________________________________________________________________\n",
      " Layer (type)                Output Shape              Param #   \n",
      "=================================================================\n",
      " conv2d (Conv2D)             (None, 28, 28, 16)        160       \n",
      "                                                                 \n",
      " max_pooling2d (MaxPooling2D  (None, 14, 14, 16)       0         \n",
      " )                                                               \n",
      "                                                                 \n",
      " conv2d_1 (Conv2D)           (None, 14, 14, 8)         1160      \n",
      "                                                                 \n",
      " max_pooling2d_1 (MaxPooling  (None, 7, 7, 8)          0         \n",
      " 2D)                                                             \n",
      "                                                                 \n",
      " conv2d_2 (Conv2D)           (None, 4, 4, 8)           584       \n",
      "                                                                 \n",
      " conv2d_3 (Conv2D)           (None, 4, 4, 8)           584       \n",
      "                                                                 \n",
      " up_sampling2d (UpSampling2D  (None, 8, 8, 8)          0         \n",
      " )                                                               \n",
      "                                                                 \n",
      " conv2d_4 (Conv2D)           (None, 8, 8, 8)           584       \n",
      "                                                                 \n",
      " up_sampling2d_1 (UpSampling  (None, 16, 16, 8)        0         \n",
      " 2D)                                                             \n",
      "                                                                 \n",
      " conv2d_5 (Conv2D)           (None, 14, 14, 16)        1168      \n",
      "                                                                 \n",
      " up_sampling2d_2 (UpSampling  (None, 28, 28, 16)       0         \n",
      " 2D)                                                             \n",
      "                                                                 \n",
      " conv2d_6 (Conv2D)           (None, 28, 28, 1)         145       \n",
      "                                                                 \n",
      "=================================================================\n",
      "Total params: 4,385\n",
      "Trainable params: 4,385\n",
      "Non-trainable params: 0\n",
      "_________________________________________________________________\n"
     ]
    }
   ],
   "source": [
    "# 모델 구성 확인\n",
    "autoencoder.summary()"
   ]
  },
  {
   "cell_type": "code",
   "execution_count": 11,
   "id": "2174963d",
   "metadata": {
    "ExecuteTime": {
     "end_time": "2022-03-14T07:21:09.351942Z",
     "start_time": "2022-03-14T07:16:12.833142Z"
    }
   },
   "outputs": [
    {
     "name": "stdout",
     "output_type": "stream",
     "text": [
      "Epoch 1/50\n",
      "469/469 [==============================] - 9s 13ms/step - loss: 0.2122 - val_loss: 0.1335\n",
      "Epoch 2/50\n",
      "469/469 [==============================] - 6s 12ms/step - loss: 0.1235 - val_loss: 0.1138\n",
      "Epoch 3/50\n",
      "469/469 [==============================] - 6s 12ms/step - loss: 0.1105 - val_loss: 0.1055\n",
      "Epoch 4/50\n",
      "469/469 [==============================] - 6s 12ms/step - loss: 0.1042 - val_loss: 0.1006\n",
      "Epoch 5/50\n",
      "469/469 [==============================] - 6s 12ms/step - loss: 0.1006 - val_loss: 0.0980\n",
      "Epoch 6/50\n",
      "469/469 [==============================] - 6s 12ms/step - loss: 0.0982 - val_loss: 0.0959\n",
      "Epoch 7/50\n",
      "469/469 [==============================] - 6s 12ms/step - loss: 0.0965 - val_loss: 0.0944\n",
      "Epoch 8/50\n",
      "469/469 [==============================] - 6s 12ms/step - loss: 0.0953 - val_loss: 0.0933\n",
      "Epoch 9/50\n",
      "469/469 [==============================] - 6s 12ms/step - loss: 0.0942 - val_loss: 0.0927\n",
      "Epoch 10/50\n",
      "469/469 [==============================] - 6s 12ms/step - loss: 0.0932 - val_loss: 0.0914\n",
      "Epoch 11/50\n",
      "469/469 [==============================] - 6s 12ms/step - loss: 0.0924 - val_loss: 0.0907\n",
      "Epoch 12/50\n",
      "469/469 [==============================] - 6s 13ms/step - loss: 0.0917 - val_loss: 0.0903\n",
      "Epoch 13/50\n",
      "469/469 [==============================] - 6s 13ms/step - loss: 0.0911 - val_loss: 0.0897\n",
      "Epoch 14/50\n",
      "469/469 [==============================] - 5s 11ms/step - loss: 0.0906 - val_loss: 0.0896\n",
      "Epoch 15/50\n",
      "469/469 [==============================] - 5s 12ms/step - loss: 0.0900 - val_loss: 0.0886\n",
      "Epoch 16/50\n",
      "469/469 [==============================] - 5s 12ms/step - loss: 0.0896 - val_loss: 0.0882\n",
      "Epoch 17/50\n",
      "469/469 [==============================] - 6s 12ms/step - loss: 0.0892 - val_loss: 0.0882\n",
      "Epoch 18/50\n",
      "469/469 [==============================] - 6s 13ms/step - loss: 0.0887 - val_loss: 0.0872\n",
      "Epoch 19/50\n",
      "469/469 [==============================] - 6s 13ms/step - loss: 0.0883 - val_loss: 0.0869\n",
      "Epoch 20/50\n",
      "469/469 [==============================] - 6s 13ms/step - loss: 0.0879 - val_loss: 0.0870\n",
      "Epoch 21/50\n",
      "469/469 [==============================] - 6s 13ms/step - loss: 0.0875 - val_loss: 0.0862\n",
      "Epoch 22/50\n",
      "469/469 [==============================] - 6s 13ms/step - loss: 0.0871 - val_loss: 0.0860\n",
      "Epoch 23/50\n",
      "469/469 [==============================] - 6s 12ms/step - loss: 0.0867 - val_loss: 0.0858\n",
      "Epoch 24/50\n",
      "469/469 [==============================] - 6s 12ms/step - loss: 0.0864 - val_loss: 0.0851\n",
      "Epoch 25/50\n",
      "469/469 [==============================] - 6s 13ms/step - loss: 0.0861 - val_loss: 0.0849\n",
      "Epoch 26/50\n",
      "469/469 [==============================] - 6s 12ms/step - loss: 0.0858 - val_loss: 0.0845\n",
      "Epoch 27/50\n",
      "469/469 [==============================] - 6s 13ms/step - loss: 0.0855 - val_loss: 0.0843\n",
      "Epoch 28/50\n",
      "469/469 [==============================] - 6s 12ms/step - loss: 0.0853 - val_loss: 0.0840\n",
      "Epoch 29/50\n",
      "469/469 [==============================] - 6s 13ms/step - loss: 0.0850 - val_loss: 0.0838\n",
      "Epoch 30/50\n",
      "469/469 [==============================] - 6s 14ms/step - loss: 0.0848 - val_loss: 0.0836\n",
      "Epoch 31/50\n",
      "469/469 [==============================] - 6s 13ms/step - loss: 0.0846 - val_loss: 0.0838\n",
      "Epoch 32/50\n",
      "469/469 [==============================] - 6s 13ms/step - loss: 0.0844 - val_loss: 0.0832\n",
      "Epoch 33/50\n",
      "469/469 [==============================] - 6s 13ms/step - loss: 0.0842 - val_loss: 0.0831\n",
      "Epoch 34/50\n",
      "469/469 [==============================] - 6s 13ms/step - loss: 0.0840 - val_loss: 0.0835\n",
      "Epoch 35/50\n",
      "469/469 [==============================] - 6s 12ms/step - loss: 0.0839 - val_loss: 0.0830\n",
      "Epoch 36/50\n",
      "469/469 [==============================] - 6s 13ms/step - loss: 0.0837 - val_loss: 0.0825\n",
      "Epoch 37/50\n",
      "469/469 [==============================] - 6s 12ms/step - loss: 0.0835 - val_loss: 0.0824\n",
      "Epoch 38/50\n",
      "469/469 [==============================] - 6s 12ms/step - loss: 0.0834 - val_loss: 0.0824\n",
      "Epoch 39/50\n",
      "469/469 [==============================] - 6s 13ms/step - loss: 0.0832 - val_loss: 0.0823\n",
      "Epoch 40/50\n",
      "469/469 [==============================] - 6s 13ms/step - loss: 0.0831 - val_loss: 0.0822\n",
      "Epoch 41/50\n",
      "469/469 [==============================] - 6s 13ms/step - loss: 0.0830 - val_loss: 0.0820\n",
      "Epoch 42/50\n",
      "469/469 [==============================] - 6s 13ms/step - loss: 0.0828 - val_loss: 0.0819\n",
      "Epoch 43/50\n",
      "469/469 [==============================] - 6s 13ms/step - loss: 0.0827 - val_loss: 0.0817\n",
      "Epoch 44/50\n",
      "469/469 [==============================] - 6s 13ms/step - loss: 0.0826 - val_loss: 0.0817\n",
      "Epoch 45/50\n",
      "469/469 [==============================] - 6s 13ms/step - loss: 0.0825 - val_loss: 0.0817\n",
      "Epoch 46/50\n",
      "469/469 [==============================] - 6s 13ms/step - loss: 0.0824 - val_loss: 0.0813\n",
      "Epoch 47/50\n",
      "469/469 [==============================] - 6s 13ms/step - loss: 0.0823 - val_loss: 0.0813\n",
      "Epoch 48/50\n",
      "469/469 [==============================] - 6s 13ms/step - loss: 0.0822 - val_loss: 0.0813\n",
      "Epoch 49/50\n",
      "469/469 [==============================] - 6s 13ms/step - loss: 0.0821 - val_loss: 0.0811\n",
      "Epoch 50/50\n",
      "469/469 [==============================] - 6s 13ms/step - loss: 0.0820 - val_loss: 0.0811\n"
     ]
    },
    {
     "data": {
      "text/plain": [
       "<keras.callbacks.History at 0x2053f3e8fd0>"
      ]
     },
     "execution_count": 11,
     "metadata": {},
     "output_type": "execute_result"
    }
   ],
   "source": [
    "# 모델 컴파일 및 학습\n",
    "autoencoder.compile(loss='binary_crossentropy', optimizer='adam')\n",
    "autoencoder.fit(X_train,X_train,epochs=50, batch_size=128, validation_data=(X_test, X_test))"
   ]
  },
  {
   "cell_type": "code",
   "execution_count": 12,
   "id": "1a521bd2",
   "metadata": {
    "ExecuteTime": {
     "end_time": "2022-03-14T07:21:11.407162Z",
     "start_time": "2022-03-14T07:21:09.430893Z"
    }
   },
   "outputs": [
    {
     "data": {
      "image/png": "[encoded data removed]",
      "text/plain": [
       "<Figure size 504x144 with 10 Axes>"
      ]
     },
     "metadata": {
      "needs_background": "light"
     },
     "output_type": "display_data"
    }
   ],
   "source": [
    "# 결과 출력\n",
    "random_test = np.random.randint(X_test.shape[0], size=5)  #테스트할 이미지\n",
    "ae_imgs = autoencoder.predict(X_test) \n",
    "\n",
    "plt.figure(figsize=(7, 2))  \n",
    "\n",
    "for i, image_idx in enumerate(random_test):  \n",
    "   ax = plt.subplot(2, 7, i + 1) \n",
    "   plt.imshow(X_test[image_idx].reshape(28, 28))  # 원본 테스트 이미지\n",
    "   ax.axis('off')\n",
    "   ax = plt.subplot(2, 7, 7 + i +1)\n",
    "   plt.imshow(ae_imgs[image_idx].reshape(28, 28))  # 오토인코딩 결과\n",
    "   ax.axis('off')\n",
    "plt.show()"
   ]
  }
 ],
 "metadata": {
  "kernelspec": {
   "display_name": "Python 3 (ipykernel)",
   "language": "python",
   "name": "python3"
  },
  "language_info": {
   "codemirror_mode": {
    "name": "ipython",
    "version": 3
   },
   "file_extension": ".py",
   "mimetype": "text/x-python",
   "name": "python",
   "nbconvert_exporter": "python",
   "pygments_lexer": "ipython3",
   "version": "3.9.7"
  },
  "latex_envs": {
   "LaTeX_envs_menu_present": true,
   "autoclose": false,
   "autocomplete": true,
   "bibliofile": "biblio.bib",
   "cite_by": "apalike",
   "current_citInitial": 1,
   "eqLabelWithNumbers": true,
   "eqNumInitial": 1,
   "hotkeys": {
    "equation": "Ctrl-E",
    "itemize": "Ctrl-I"
   },
   "labels_anchors": false,
   "latex_user_defs": false,
   "report_style_numbering": false,
   "user_envs_cfg": false
  },
  "toc": {
   "base_numbering": 1,
   "nav_menu": {},
   "number_sections": true,
   "sideBar": true,
   "skip_h1_title": false,
   "title_cell": "Table of Contents",
   "title_sidebar": "Contents",
   "toc_cell": false,
   "toc_position": {},
   "toc_section_display": true,
   "toc_window_display": false
  },
  "varInspector": {
   "cols": {
    "lenName": 16,
    "lenType": 16,
    "lenVar": 40
   },
   "kernels_config": {
    "python": {
     "delete_cmd_postfix": "",
     "delete_cmd_prefix": "del ",
     "library": "var_list.py",
     "varRefreshCmd": "print(var_dic_list())"
    },
    "r": {
     "delete_cmd_postfix": ") ",
     "delete_cmd_prefix": "rm(",
     "library": "var_list.r",
     "varRefreshCmd": "cat(var_dic_list()) "
    }
   },
   "position": {
    "height": "717.844px",
    "left": "1502px",
    "right": "20px",
    "top": "159px",
    "width": "367px"
   },
   "types_to_exclude": [
    "module",
    "function",
    "builtin_function_or_method",
    "instance",
    "_Feature"
   ],
   "window_display": true
  }
 },
 "nbformat": 4,
 "nbformat_minor": 5
}
