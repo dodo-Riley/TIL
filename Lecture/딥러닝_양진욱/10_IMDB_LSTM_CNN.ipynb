{
 "cells": [
  {
   "cell_type": "code",
   "execution_count": 1,
   "id": "32559d5b",
   "metadata": {
    "ExecuteTime": {
     "end_time": "2022-03-14T01:26:36.838204Z",
     "start_time": "2022-03-14T01:26:18.760476Z"
    }
   },
   "outputs": [],
   "source": [
    "# 모듈 호출\n",
    "from keras.preprocessing import sequence\n",
    "from keras.models import Sequential\n",
    "from keras.layers import Dense, Dropout, Activation\n",
    "from keras.layers import Embedding\n",
    "from keras.layers import LSTM\n",
    "from keras.layers import Conv1D, MaxPooling1D\n",
    "from keras.datasets import imdb\n",
    "\n",
    "import numpy as np\n",
    "import tensorflow as tf\n",
    "import matplotlib.pyplot as plt"
   ]
  },
  {
   "cell_type": "code",
   "execution_count": 2,
   "id": "eb078804",
   "metadata": {
    "ExecuteTime": {
     "end_time": "2022-03-14T01:26:50.279848Z",
     "start_time": "2022-03-14T01:26:50.266855Z"
    }
   },
   "outputs": [],
   "source": [
    "# 시드값 고정\n",
    "seed=42\n",
    "np.random.seed(seed)\n",
    "tf.random.set_seed(seed)"
   ]
  },
  {
   "cell_type": "code",
   "execution_count": 5,
   "id": "59786887",
   "metadata": {
    "ExecuteTime": {
     "end_time": "2022-03-14T01:30:30.871744Z",
     "start_time": "2022-03-14T01:30:26.288718Z"
    }
   },
   "outputs": [],
   "source": [
    "# 데이터 불러오기\n",
    "(x_train,y_train),(x_test,y_test) = imdb.load_data(num_words=5000)"
   ]
  },
  {
   "cell_type": "code",
   "execution_count": 6,
   "id": "2b2b1038",
   "metadata": {
    "ExecuteTime": {
     "end_time": "2022-03-14T01:30:31.589555Z",
     "start_time": "2022-03-14T01:30:30.887733Z"
    }
   },
   "outputs": [],
   "source": [
    "# 전처리\n",
    "x_train = sequence.pad_sequences(x_train, maxlen=100)\n",
    "x_test = sequence.pad_sequences(x_test, maxlen=100)\n",
    "\n",
    "# 라벨 범주화는 필요없음(이미 1/0, 긍정/부정)"
   ]
  },
  {
   "cell_type": "code",
   "execution_count": 7,
   "id": "7a21971a",
   "metadata": {
    "ExecuteTime": {
     "end_time": "2022-03-14T01:32:25.919792Z",
     "start_time": "2022-03-14T01:32:20.640107Z"
    }
   },
   "outputs": [
    {
     "name": "stdout",
     "output_type": "stream",
     "text": [
      "Model: \"sequential\"\n",
      "_________________________________________________________________\n",
      " Layer (type)                Output Shape              Param #   \n",
      "=================================================================\n",
      " embedding (Embedding)       (None, None, 100)         500000    \n",
      "                                                                 \n",
      " dropout (Dropout)           (None, None, 100)         0         \n",
      "                                                                 \n",
      " conv1d (Conv1D)             (None, None, 64)          32064     \n",
      "                                                                 \n",
      " max_pooling1d (MaxPooling1D  (None, None, 64)         0         \n",
      " )                                                               \n",
      "                                                                 \n",
      " lstm (LSTM)                 (None, 55)                26400     \n",
      "                                                                 \n",
      " dense (Dense)               (None, 1)                 56        \n",
      "                                                                 \n",
      " activation (Activation)     (None, 1)                 0         \n",
      "                                                                 \n",
      "=================================================================\n",
      "Total params: 558,520\n",
      "Trainable params: 558,520\n",
      "Non-trainable params: 0\n",
      "_________________________________________________________________\n"
     ]
    }
   ],
   "source": [
    "# 모델 구성\n",
    "model = Sequential()\n",
    "model.add(Embedding(5000,100))\n",
    "model.add(Dropout(0.5))\n",
    "model.add(Conv1D(64,5,padding='valid',strides=1,activation='relu'))\n",
    "model.add(MaxPooling1D(pool_size=4))\n",
    "model.add(LSTM(55))\n",
    "model.add(Dense(1))\n",
    "model.add(Activation('sigmoid'))\n",
    "model.summary()"
   ]
  },
  {
   "cell_type": "code",
   "execution_count": 8,
   "id": "8679e739",
   "metadata": {
    "ExecuteTime": {
     "end_time": "2022-03-14T01:34:36.845103Z",
     "start_time": "2022-03-14T01:34:36.519298Z"
    }
   },
   "outputs": [
    {
     "name": "stdout",
     "output_type": "stream",
     "text": [
      "Model: \"sequential_1\"\n",
      "_________________________________________________________________\n",
      " Layer (type)                Output Shape              Param #   \n",
      "=================================================================\n",
      " embedding_1 (Embedding)     (None, None, 100)         500000    \n",
      "                                                                 \n",
      " dropout_1 (Dropout)         (None, None, 100)         0         \n",
      "                                                                 \n",
      " conv1d_1 (Conv1D)           (None, None, 64)          32064     \n",
      "                                                                 \n",
      " max_pooling1d_1 (MaxPooling  (None, None, 64)         0         \n",
      " 1D)                                                             \n",
      "                                                                 \n",
      " lstm_1 (LSTM)               (None, 55)                26400     \n",
      "                                                                 \n",
      " dense_1 (Dense)             (None, 1)                 56        \n",
      "                                                                 \n",
      "=================================================================\n",
      "Total params: 558,520\n",
      "Trainable params: 558,520\n",
      "Non-trainable params: 0\n",
      "_________________________________________________________________\n"
     ]
    }
   ],
   "source": [
    "# 모델 구성 (2) - 마지막층에 활성화함수를 따로 둔 이유가 있나? 확인\n",
    "model_2 = Sequential()\n",
    "model_2.add(Embedding(5000,100))\n",
    "model_2.add(Dropout(0.5))\n",
    "model_2.add(Conv1D(64,5,padding='valid',strides=1,activation='relu'))\n",
    "model_2.add(MaxPooling1D(pool_size=4))\n",
    "model_2.add(LSTM(55))\n",
    "model_2.add(Dense(1, activation='sigmoid'))\n",
    "model_2.summary()"
   ]
  },
  {
   "cell_type": "code",
   "execution_count": 9,
   "id": "9f780aa7",
   "metadata": {
    "ExecuteTime": {
     "end_time": "2022-03-14T01:35:35.137280Z",
     "start_time": "2022-03-14T01:35:35.110297Z"
    }
   },
   "outputs": [],
   "source": [
    "# 모델 컴파일\n",
    "model.compile(loss='binary_crossentropy', optimizer='adam', metrics=['acc'])\n",
    "model_2.compile(loss='binary_crossentropy', optimizer='adam', metrics=['acc'])"
   ]
  },
  {
   "cell_type": "code",
   "execution_count": 10,
   "id": "ed1d0acd",
   "metadata": {
    "ExecuteTime": {
     "end_time": "2022-03-14T01:37:48.406200Z",
     "start_time": "2022-03-14T01:36:57.005057Z"
    }
   },
   "outputs": [
    {
     "name": "stdout",
     "output_type": "stream",
     "text": [
      "Epoch 1/5\n",
      "250/250 [==============================] - 13s 18ms/step - loss: 0.4588 - acc: 0.7613 - val_loss: 0.3303 - val_acc: 0.8546\n",
      "Epoch 2/5\n",
      "250/250 [==============================] - 4s 16ms/step - loss: 0.2893 - acc: 0.8792 - val_loss: 0.3345 - val_acc: 0.8502\n",
      "Epoch 3/5\n",
      "250/250 [==============================] - 4s 16ms/step - loss: 0.2441 - acc: 0.9006 - val_loss: 0.3361 - val_acc: 0.8578\n",
      "Epoch 4/5\n",
      "250/250 [==============================] - 4s 16ms/step - loss: 0.2092 - acc: 0.9200 - val_loss: 0.3498 - val_acc: 0.8554\n",
      "Epoch 5/5\n",
      "250/250 [==============================] - 4s 16ms/step - loss: 0.1753 - acc: 0.9327 - val_loss: 0.3688 - val_acc: 0.8542\n",
      "Epoch 1/5\n",
      "250/250 [==============================] - 6s 18ms/step - loss: 0.4566 - acc: 0.7637 - val_loss: 0.3288 - val_acc: 0.8554\n",
      "Epoch 2/5\n",
      "250/250 [==============================] - 4s 16ms/step - loss: 0.2890 - acc: 0.8768 - val_loss: 0.3300 - val_acc: 0.8523\n",
      "Epoch 3/5\n",
      "250/250 [==============================] - 4s 16ms/step - loss: 0.2445 - acc: 0.9007 - val_loss: 0.3363 - val_acc: 0.8561\n",
      "Epoch 4/5\n",
      "250/250 [==============================] - 4s 16ms/step - loss: 0.2086 - acc: 0.9199 - val_loss: 0.3606 - val_acc: 0.8531\n",
      "Epoch 5/5\n",
      "250/250 [==============================] - 4s 16ms/step - loss: 0.1769 - acc: 0.9340 - val_loss: 0.3937 - val_acc: 0.8501\n"
     ]
    }
   ],
   "source": [
    "# 모델 학습\n",
    "history = model.fit(x_train, y_train, epochs=5, batch_size=100, validation_data=(x_test,y_test))\n",
    "history_2 = model_2.fit(x_train, y_train, epochs=5, batch_size=100, validation_data=(x_test,y_test))"
   ]
  },
  {
   "cell_type": "code",
   "execution_count": 11,
   "id": "72166e73",
   "metadata": {
    "ExecuteTime": {
     "end_time": "2022-03-14T01:39:57.515746Z",
     "start_time": "2022-03-14T01:39:46.835834Z"
    }
   },
   "outputs": [
    {
     "name": "stdout",
     "output_type": "stream",
     "text": [
      "782/782 [==============================] - 6s 6ms/step - loss: 0.3688 - acc: 0.8542\n",
      "model's test loss/acc : [0.36876600980758667, 0.854200005531311]\n",
      "782/782 [==============================] - 5s 6ms/step - loss: 0.3937 - acc: 0.8501\n",
      "model_2's test loss/acc : [0.3937450647354126, 0.8501200079917908]\n"
     ]
    }
   ],
   "source": [
    "# 결과 비교\n",
    "print(f\"model's test loss/acc : {model.evaluate(x_test,y_test)}\")\n",
    "print(f\"model_2's test loss/acc : {model_2.evaluate(x_test,y_test)}\")\n",
    "\n",
    "# 큰 차이가 없긴한데... 그래도 따로 활성화함수 층을 둔 경우가 조금이나마 나은 지표를 보임"
   ]
  },
  {
   "cell_type": "code",
   "execution_count": 20,
   "id": "a3713084",
   "metadata": {
    "ExecuteTime": {
     "end_time": "2022-03-14T01:49:46.870639Z",
     "start_time": "2022-03-14T01:49:46.457009Z"
    }
   },
   "outputs": [
    {
     "data": {
      "image/png": "[encoded data removed]",
      "text/plain": [
       "<Figure size 1080x504 with 2 Axes>"
      ]
     },
     "metadata": {
      "needs_background": "light"
     },
     "output_type": "display_data"
    }
   ],
   "source": [
    "# 지표 시각화\n",
    "\n",
    "y_vloss = history.history['val_loss']\n",
    "y_loss = history.history['loss']\n",
    "y_vloss_2 = history_2.history['val_loss']\n",
    "y_loss_2 = history_2.history['loss']\n",
    "\n",
    "x_len = np.arange(len(y_loss))\n",
    "fig = plt.figure(figsize=(15,7))\n",
    "ax_1 = plt.subplot(1,2,1)\n",
    "ax_1.plot(x_len, y_vloss, marker='.', c=\"r\", label='test_loss')\n",
    "ax_1.plot(x_len, y_loss, marker='.', c=\"b\", label='train_loss')\n",
    "ax_1.legend(loc=0)\n",
    "ax_1.grid()\n",
    "ax_1.set_xlabel('epoch')\n",
    "ax_1.set_ylabel('loss')\n",
    "ax_1.set_title('model')\n",
    "\n",
    "ax_2 = plt.subplot(1,2,2)\n",
    "ax_2.plot(x_len, y_vloss_2, marker='.', c=\"r\", label='test_loss')\n",
    "ax_2.plot(x_len, y_loss_2, marker='.', c=\"b\", label='train_loss')\n",
    "ax_2.legend(loc=0)\n",
    "ax_2.grid()\n",
    "ax_2.set_xlabel('epoch')\n",
    "ax_2.set_ylabel('loss')\n",
    "ax_2.set_title('model_2')\n",
    "\n",
    "plt.show()\n",
    "\n",
    "# 따로 안빼면 뒤에서 테스트 오차가 확오르긴함"
   ]
  }
 ],
 "metadata": {
  "kernelspec": {
   "display_name": "Python 3 (ipykernel)",
   "language": "python",
   "name": "python3"
  },
  "language_info": {
   "codemirror_mode": {
    "name": "ipython",
    "version": 3
   },
   "file_extension": ".py",
   "mimetype": "text/x-python",
   "name": "python",
   "nbconvert_exporter": "python",
   "pygments_lexer": "ipython3",
   "version": "3.9.7"
  },
  "latex_envs": {
   "LaTeX_envs_menu_present": true,
   "autoclose": false,
   "autocomplete": true,
   "bibliofile": "biblio.bib",
   "cite_by": "apalike",
   "current_citInitial": 1,
   "eqLabelWithNumbers": true,
   "eqNumInitial": 1,
   "hotkeys": {
    "equation": "Ctrl-E",
    "itemize": "Ctrl-I"
   },
   "labels_anchors": false,
   "latex_user_defs": false,
   "report_style_numbering": false,
   "user_envs_cfg": false
  },
  "toc": {
   "base_numbering": 1,
   "nav_menu": {},
   "number_sections": true,
   "sideBar": true,
   "skip_h1_title": false,
   "title_cell": "Table of Contents",
   "title_sidebar": "Contents",
   "toc_cell": false,
   "toc_position": {},
   "toc_section_display": true,
   "toc_window_display": false
  },
  "varInspector": {
   "cols": {
    "lenName": 16,
    "lenType": 16,
    "lenVar": 40
   },
   "kernels_config": {
    "python": {
     "delete_cmd_postfix": "",
     "delete_cmd_prefix": "del ",
     "library": "var_list.py",
     "varRefreshCmd": "print(var_dic_list())"
    },
    "r": {
     "delete_cmd_postfix": ") ",
     "delete_cmd_prefix": "rm(",
     "library": "var_list.r",
     "varRefreshCmd": "cat(var_dic_list()) "
    }
   },
   "types_to_exclude": [
    "module",
    "function",
    "builtin_function_or_method",
    "instance",
    "_Feature"
   ],
   "window_display": false
  }
 },
 "nbformat": 4,
 "nbformat_minor": 5
}
