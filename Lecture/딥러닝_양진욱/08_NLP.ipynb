{
 "cells": [
  {
   "cell_type": "markdown",
   "id": "ab6085d4",
   "metadata": {},
   "source": [
    "# 주어진 문장을 단어로 토큰화"
   ]
  },
  {
   "cell_type": "code",
   "execution_count": 21,
   "id": "a485c15c",
   "metadata": {},
   "outputs": [
    {
     "name": "stdout",
     "output_type": "stream",
     "text": [
      "원문 : 해보지 않으면 해낼 수 없다 \n",
      "토큰화된 문장 : ['해보지', '않으면', '해낼', '수', '없다']\n"
     ]
    }
   ],
   "source": [
    "from tensorflow.keras.preprocessing.text import text_to_word_sequence\n",
    "\n",
    "text = '해보지 않으면 해낼 수 없다' # 토큰화할 문장\n",
    "\n",
    "result = text_to_word_sequence(text) # 문장 토큰화\n",
    "print(f'원문 : {text} \\n토큰화된 문장 : {result}') # 결과 출력"
   ]
  },
  {
   "cell_type": "code",
   "execution_count": 22,
   "id": "d10b868e",
   "metadata": {},
   "outputs": [
    {
     "name": "stdout",
     "output_type": "stream",
     "text": [
      "단어 카운트 : {'먼저': 1, '텍스트의': 2, '각': 1, '단어를': 1, '나누어': 1, '토큰화': 3, '합니다': 1, '단어로': 1, '해야': 1, '딥러닝에서': 2, '인식됩니다': 1, '한': 1, '결과는': 1, '사용할': 1, '수': 1, '있습니다': 1},<class 'collections.OrderedDict'>\n",
      "\n",
      "문장 카운트 : 3\n",
      "\n",
      "각 단어가 몇 개의 문장에 포함되어 있는가 : {'단어를': 1, '먼저': 1, '합니다': 1, '각': 1, '텍스트의': 2, '나누어': 1, '토큰화': 3, '해야': 1, '딥러닝에서': 2, '인식됩니다': 1, '단어로': 1, '결과는': 1, '사용할': 1, '있습니다': 1, '수': 1, '한': 1},<class 'collections.defaultdict'>\n",
      "\n",
      "각 단어에 매겨진 인덱스 값 : {'토큰화': 1, '텍스트의': 2, '딥러닝에서': 3, '먼저': 4, '각': 5, '단어를': 6, '나누어': 7, '합니다': 8, '단어로': 9, '해야': 10, '인식됩니다': 11, '한': 12, '결과는': 13, '사용할': 14, '수': 15, '있습니다': 16},<class 'dict'>\n"
     ]
    }
   ],
   "source": [
    "from keras.preprocessing.text import Tokenizer\n",
    "\n",
    "docs = ['먼저 텍스트의 각 단어를 나누어 토큰화 합니다.',\n",
    "        '텍스트의 단어로 토큰화 해야 딥러닝에서 인식됩니다.',\n",
    "        '토큰화 한 결과는 딥러닝에서 사용할 수 있습니다.']  # 토큰화할 문장\n",
    "\n",
    "token = Tokenizer() # 토큰화 객체 생성\n",
    "token.fit_on_texts(docs) # 문장 토큰화\n",
    "\n",
    "print(f'단어 카운트 : {dict(token.word_counts)},{type(token.word_counts)}\\n') # 전체 문서에서 각 단어의 등장 횟수\n",
    "print(f'문장 카운트 : {token.document_count}\\n') # 문서 내 문장의 개수\n",
    "print(f'각 단어가 몇 개의 문장에 포함되어 있는가 : {dict(token.word_docs)},{type(token.word_docs)}\\n') # 각 단어마다 몇 개의 문장에서 등장하는지\n",
    "print(f'각 단어에 매겨진 인덱스 값 : {dict(token.word_index)},{type(token.word_index)}') # 단어마다 부여된 인덱스 번호"
   ]
  },
  {
   "cell_type": "markdown",
   "id": "8104e715",
   "metadata": {},
   "source": [
    "# 단어의 원핫인코딩"
   ]
  },
  {
   "cell_type": "code",
   "execution_count": 24,
   "id": "88d97e76",
   "metadata": {},
   "outputs": [
    {
     "name": "stdout",
     "output_type": "stream",
     "text": [
      "{'오랫동안': 1, '꿈꾸는': 2, '이는': 3, '그': 4, '꿈을': 5, '닮아간다': 6}\n"
     ]
    }
   ],
   "source": [
    "text = ['오랫동안 꿈꾸는 이는 그 꿈을 닮아간다']\n",
    "\n",
    "token = Tokenizer()\n",
    "token.fit_on_texts(text)\n",
    "\n",
    "print(token.word_index)"
   ]
  },
  {
   "cell_type": "code",
   "execution_count": 26,
   "id": "b2abb708",
   "metadata": {},
   "outputs": [
    {
     "name": "stdout",
     "output_type": "stream",
     "text": [
      "[[1, 2, 3, 4, 5, 6]]\n"
     ]
    }
   ],
   "source": [
    "x = token.texts_to_sequences(text) # 각 토큰의 인덱스\n",
    "print(x)"
   ]
  },
  {
   "cell_type": "code",
   "execution_count": 28,
   "id": "0d0a8b5e",
   "metadata": {},
   "outputs": [
    {
     "name": "stdout",
     "output_type": "stream",
     "text": [
      "[[[0. 1. 0. 0. 0. 0. 0.]\n",
      "  [0. 0. 1. 0. 0. 0. 0.]\n",
      "  [0. 0. 0. 1. 0. 0. 0.]\n",
      "  [0. 0. 0. 0. 1. 0. 0.]\n",
      "  [0. 0. 0. 0. 0. 1. 0.]\n",
      "  [0. 0. 0. 0. 0. 0. 1.]]]\n"
     ]
    }
   ],
   "source": [
    "from tensorflow.keras.utils import to_categorical\n",
    "\n",
    "word_size = len(token.word_index)+1 # 각 배열 가장 앞에 0이 추가되므로 +1(파이썬의 인덱스는 0부터 시작하지만, 현재 토큰은 1부터 시작이기 때문)\n",
    "x = to_categorical(x, # 원핫인코딩을 진행할 데이터 \n",
    "                   num_classes=word_size) # 클래스의 개수\n",
    "\n",
    "print(x)"
   ]
  },
  {
   "cell_type": "markdown",
   "id": "e7030f4d",
   "metadata": {},
   "source": [
    "# 영화 리뷰의 긍정/부정 예측"
   ]
  },
  {
   "cell_type": "code",
   "execution_count": 31,
   "id": "7df79f2a",
   "metadata": {},
   "outputs": [],
   "source": [
    "import numpy as np\n",
    "import tensorflow as tf\n",
    "from tensorflow.keras.preprocessing.text import Tokenizer\n",
    "from tensorflow.keras.preprocessing.sequence import pad_sequences\n",
    "from tensorflow.keras.models import Sequential\n",
    "from tensorflow.keras.layers import Dense,Flatten,Embedding"
   ]
  },
  {
   "cell_type": "code",
   "execution_count": 33,
   "id": "4b8add61",
   "metadata": {},
   "outputs": [
    {
     "name": "stdout",
     "output_type": "stream",
     "text": [
      "각 단어에 매겨진 인덱스 값 : \n",
      "{'너무': 1, '재밌네요': 2, '최고예요': 3, '참': 4, '잘': 5, '만든': 6, '영화예요': 7, '추천하고': 8, '싶은': 9, '영화입니다': 10, '한번': 11, '더': 12, '보고싶네요': 13, '글쎄요': 14, '별로예요': 15, '생각보다': 16, '지루하네요': 17, '연기가': 18, '어색해요': 19, '재미없어요': 20}\n"
     ]
    }
   ],
   "source": [
    "docs = [\"너무 재밌네요\",\"최고예요\",\"참 잘 만든 영화예요\",\"추천하고 싶은 영화입니다\",\"한번 더 보고싶네요\",\n",
    "        \"글쎄요\",\"별로예요\",\"생각보다 지루하네요\",\"연기가 어색해요\",\"재미없어요\"]\n",
    "\n",
    "classes = np.array([1,1,1,1,1,0,0,0,0,0]) # 긍정=1, 부정=0 클래스 지정\n",
    "\n",
    "token = Tokenizer()\n",
    "token.fit_on_texts(docs)\n",
    "\n",
    "print(f'각 단어에 매겨진 인덱스 값 : \\n{token.word_index}')"
   ]
  },
  {
   "cell_type": "code",
   "execution_count": 34,
   "id": "1dcf0a79",
   "metadata": {},
   "outputs": [
    {
     "name": "stdout",
     "output_type": "stream",
     "text": [
      "토큰화 결과:\n",
      " [[1, 2], [3], [4, 5, 6, 7], [8, 9, 10], [11, 12, 13], [14], [15], [16, 17], [18, 19], [20]]\n"
     ]
    }
   ],
   "source": [
    "x = token.texts_to_sequences(docs)\n",
    "print('토큰화 결과:\\n',  x)"
   ]
  },
  {
   "cell_type": "code",
   "execution_count": 35,
   "id": "1f522faa",
   "metadata": {},
   "outputs": [
    {
     "name": "stdout",
     "output_type": "stream",
     "text": [
      "패딩 결과:\n",
      " [[ 0  0  1  2]\n",
      " [ 0  0  0  3]\n",
      " [ 4  5  6  7]\n",
      " [ 0  8  9 10]\n",
      " [ 0 11 12 13]\n",
      " [ 0  0  0 14]\n",
      " [ 0  0  0 15]\n",
      " [ 0  0 16 17]\n",
      " [ 0  0 18 19]\n",
      " [ 0  0  0 20]]\n"
     ]
    }
   ],
   "source": [
    "# 모델이 입력할 데이터로 사용하기 위해 패딩(데이터의 길이를 동일하게 맞춤)\n",
    "padded_x = pad_sequences(x, # 사용할 데이터\n",
    "                         4) # 맞춰줄 길이\n",
    "print('패딩 결과:\\n', padded_x)"
   ]
  },
  {
   "cell_type": "code",
   "execution_count": 40,
   "id": "9a25e699",
   "metadata": {},
   "outputs": [],
   "source": [
    "# 임베딩\n",
    "# 단순한 원핫 인코딩은 결과가 sparse한 형태가 됨\n",
    "# 이를 해결하기 위해 단어의 의미를 고려하여 좀 더 조밀한 차원에 단어를 벡터로 표현하는 것\n",
    "\n",
    "# 임베딩에 입력될 단어 수 지정\n",
    "word_size = len(token.word_index) +1 # 파이썬의 인덱스는 0부터 시작"
   ]
  },
  {
   "cell_type": "code",
   "execution_count": 37,
   "id": "7a6fc4bd",
   "metadata": {},
   "outputs": [],
   "source": [
    "# 임베딩을 포함하는 모델 생성\n",
    "\n",
    "model = Sequential()\n",
    "model.add(Embedding(word_size, # 입력되는 단어 개수(단어 집합의 단어 개수)\n",
    "                    8, # 출력값의 개수\n",
    "                    input_length=4)) # 입력되는 단어 길이, 패딩을 통해 4로 맞추어 주었으므로 4로 지정\n",
    "model.add(Flatten()) # 1차원으로 변환\n",
    "model.add(Dense(1, activation='sigmoid')) # 긍정/부정 이진 분류이므로 출력 1개, 활성화함수 시그모이드"
   ]
  },
  {
   "cell_type": "code",
   "execution_count": 38,
   "id": "ff1fc9f5",
   "metadata": {},
   "outputs": [
    {
     "name": "stdout",
     "output_type": "stream",
     "text": [
      "Epoch 1/20\n",
      "1/1 [==============================] - 2s 2s/step - loss: 0.6880 - accuracy: 0.5000\n",
      "Epoch 2/20\n",
      "1/1 [==============================] - 0s 17ms/step - loss: 0.6856 - accuracy: 0.6000\n",
      "Epoch 3/20\n",
      "1/1 [==============================] - 0s 21ms/step - loss: 0.6832 - accuracy: 0.7000\n",
      "Epoch 4/20\n",
      "1/1 [==============================] - 0s 13ms/step - loss: 0.6808 - accuracy: 0.7000\n",
      "Epoch 5/20\n",
      "1/1 [==============================] - 0s 12ms/step - loss: 0.6784 - accuracy: 0.8000\n",
      "Epoch 6/20\n",
      "1/1 [==============================] - 0s 9ms/step - loss: 0.6761 - accuracy: 0.8000\n",
      "Epoch 7/20\n",
      "1/1 [==============================] - 0s 10ms/step - loss: 0.6737 - accuracy: 0.9000\n",
      "Epoch 8/20\n",
      "1/1 [==============================] - 0s 11ms/step - loss: 0.6713 - accuracy: 0.9000\n",
      "Epoch 9/20\n",
      "1/1 [==============================] - 0s 11ms/step - loss: 0.6689 - accuracy: 0.9000\n",
      "Epoch 10/20\n",
      "1/1 [==============================] - 0s 9ms/step - loss: 0.6666 - accuracy: 0.9000\n",
      "Epoch 11/20\n",
      "1/1 [==============================] - 0s 10ms/step - loss: 0.6642 - accuracy: 0.9000\n",
      "Epoch 12/20\n",
      "1/1 [==============================] - 0s 12ms/step - loss: 0.6618 - accuracy: 0.9000\n",
      "Epoch 13/20\n",
      "1/1 [==============================] - 0s 12ms/step - loss: 0.6594 - accuracy: 0.9000\n",
      "Epoch 14/20\n",
      "1/1 [==============================] - 0s 15ms/step - loss: 0.6570 - accuracy: 0.9000\n",
      "Epoch 15/20\n",
      "1/1 [==============================] - 0s 11ms/step - loss: 0.6546 - accuracy: 0.9000\n",
      "Epoch 16/20\n",
      "1/1 [==============================] - 0s 11ms/step - loss: 0.6522 - accuracy: 0.9000\n",
      "Epoch 17/20\n",
      "1/1 [==============================] - 0s 10ms/step - loss: 0.6498 - accuracy: 0.9000\n",
      "Epoch 18/20\n",
      "1/1 [==============================] - 0s 9ms/step - loss: 0.6474 - accuracy: 0.9000\n",
      "Epoch 19/20\n",
      "1/1 [==============================] - 0s 9ms/step - loss: 0.6449 - accuracy: 0.9000\n",
      "Epoch 20/20\n",
      "1/1 [==============================] - 0s 8ms/step - loss: 0.6425 - accuracy: 0.9000\n"
     ]
    },
    {
     "data": {
      "text/plain": [
       "<keras.callbacks.History at 0x1eacac6ee50>"
      ]
     },
     "execution_count": 38,
     "metadata": {},
     "output_type": "execute_result"
    }
   ],
   "source": [
    "# 모델 컴파일 및 학습\n",
    "model.compile(loss = 'binary_crossentropy', # 이진분류이므로 오차함수는 이진교차엔트로피\n",
    "              optimizer = 'adam', # 최적화함수는 adam\n",
    "              metrics=['accuracy']) # 평가지표는 정확도\n",
    "\n",
    "model.fit(padded_x, classes, epochs=20) # 패딩된 데이터와 미리 지정한 클래스로 학습, 반복횟수는 20"
   ]
  },
  {
   "cell_type": "code",
   "execution_count": 39,
   "id": "e56cf7ec",
   "metadata": {
    "scrolled": true
   },
   "outputs": [
    {
     "name": "stdout",
     "output_type": "stream",
     "text": [
      "1/1 [==============================] - 0s 173ms/step - loss: 0.6400 - accuracy: 0.9000\n",
      "1/1 [==============================] - 0s 23ms/step - loss: 0.6400 - accuracy: 0.9000\n",
      "loss : 0.6400\n",
      "Accuracy : 0.9000\n"
     ]
    }
   ],
   "source": [
    "# 결과 출력\n",
    "print(f'loss : {model.evaluate(padded_x, classes)[0]:.4f}\\nAccuracy : {model.evaluate(padded_x, classes)[1]:.4f}')"
   ]
  }
 ],
 "metadata": {
  "kernelspec": {
   "display_name": "Python 3 (ipykernel)",
   "language": "python",
   "name": "python3"
  },
  "language_info": {
   "codemirror_mode": {
    "name": "ipython",
    "version": 3
   },
   "file_extension": ".py",
   "mimetype": "text/x-python",
   "name": "python",
   "nbconvert_exporter": "python",
   "pygments_lexer": "ipython3",
   "version": "3.9.7"
  }
 },
 "nbformat": 4,
 "nbformat_minor": 5
}
