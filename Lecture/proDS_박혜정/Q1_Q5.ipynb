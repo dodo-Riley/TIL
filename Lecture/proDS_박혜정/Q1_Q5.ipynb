{
 "cells": [
  {
   "cell_type": "markdown",
   "id": "d2cdb10c",
   "metadata": {
    "ExecuteTime": {
     "end_time": "2022-03-15T10:58:07.699633Z",
     "start_time": "2022-03-15T10:58:07.686642Z"
    }
   },
   "source": [
    "# Q1"
   ]
  },
  {
   "cell_type": "code",
   "execution_count": 2,
   "id": "b1e15d58",
   "metadata": {
    "ExecuteTime": {
     "end_time": "2022-03-15T10:59:32.303198Z",
     "start_time": "2022-03-15T10:59:32.299201Z"
    }
   },
   "outputs": [],
   "source": [
    "# 구분자 : comma(“,”), 4,572 Rows, 5 Columns, UTF-8 인코딩(DataSet_01.csv 이용)\n",
    "\n",
    "# 글로벌 전자제품 제조회사에서 효과적인 마케팅 방법을 찾기\n",
    "# 위해서 채널별 마케팅 예산과 매출금액과의 관계를 분석하고자\n",
    "# 한다.\n",
    "# 컬 럼 / 정 의  /   Type\n",
    "# TV   /     TV 마케팅 예산 (억원)  /   Double\n",
    "# Radio / 라디오 마케팅 예산 (억원)  /   Double\n",
    "# Social_Media / 소셜미디어 마케팅 예산 (억원)  / Double\n",
    "# Influencer / 인플루언서 마케팅 (인플루언서의 영향력 크기에 따라 Mega / Macro / Micro / Nano) / String\n",
    "# SALES / 매출액 / Double"
   ]
  },
  {
   "cell_type": "code",
   "execution_count": 7,
   "id": "a5f7c7cb",
   "metadata": {
    "ExecuteTime": {
     "end_time": "2022-03-15T11:02:10.030205Z",
     "start_time": "2022-03-15T11:02:08.608059Z"
    }
   },
   "outputs": [
    {
     "name": "stdout",
     "output_type": "stream",
     "text": [
      "<class 'pandas.core.frame.DataFrame'>\n",
      "RangeIndex: 4572 entries, 0 to 4571\n",
      "Data columns (total 5 columns):\n",
      " #   Column        Non-Null Count  Dtype  \n",
      "---  ------        --------------  -----  \n",
      " 0   TV            4562 non-null   float64\n",
      " 1   Radio         4568 non-null   float64\n",
      " 2   Social_Media  4566 non-null   float64\n",
      " 3   Influencer    4572 non-null   object \n",
      " 4   Sales         4566 non-null   float64\n",
      "dtypes: float64(4), object(1)\n",
      "memory usage: 178.7+ KB\n"
     ]
    }
   ],
   "source": [
    "import pandas as pd\n",
    "import numpy as np\n",
    "data = pd.read_csv('e:/Git_private_dodo_Riley/laptop_desktop/Code_SJH/proDS_특강/data/Dataset_01.csv')\n",
    "data.info()"
   ]
  },
  {
   "cell_type": "markdown",
   "id": "830076fc",
   "metadata": {
    "ExecuteTime": {
     "end_time": "2022-03-15T10:59:54.225192Z",
     "start_time": "2022-03-15T10:59:54.217197Z"
    }
   },
   "source": [
    "## Q1-1"
   ]
  },
  {
   "cell_type": "code",
   "execution_count": 6,
   "id": "998a5411",
   "metadata": {
    "ExecuteTime": {
     "end_time": "2022-03-15T11:00:22.502524Z",
     "start_time": "2022-03-15T11:00:22.497528Z"
    }
   },
   "outputs": [],
   "source": [
    "# 1. 데이터 세트 내에 총 결측값의 개수는 몇 개인가? (답안 예시) 23"
   ]
  },
  {
   "cell_type": "code",
   "execution_count": 10,
   "id": "ad7e9b82",
   "metadata": {
    "ExecuteTime": {
     "end_time": "2022-03-15T11:02:46.554067Z",
     "start_time": "2022-03-15T11:02:46.536077Z"
    }
   },
   "outputs": [
    {
     "data": {
      "text/plain": [
       "26"
      ]
     },
     "execution_count": 10,
     "metadata": {},
     "output_type": "execute_result"
    }
   ],
   "source": [
    "data.isnull().sum().sum()"
   ]
  },
  {
   "cell_type": "code",
   "execution_count": 17,
   "id": "1c2ec581",
   "metadata": {
    "ExecuteTime": {
     "end_time": "2022-03-15T11:05:24.157589Z",
     "start_time": "2022-03-15T11:05:24.142598Z"
    }
   },
   "outputs": [
    {
     "data": {
      "text/plain": [
       "26"
      ]
     },
     "execution_count": 17,
     "metadata": {},
     "output_type": "execute_result"
    }
   ],
   "source": [
    "# 결측값이 하나라도 있는 행은 몇개인가?\n",
    "len(data)-len(data.dropna(how='any'))\n",
    "data.isna().any(axis=1).sum()"
   ]
  },
  {
   "cell_type": "markdown",
   "id": "918d0012",
   "metadata": {
    "ExecuteTime": {
     "end_time": "2022-03-15T11:14:41.740730Z",
     "start_time": "2022-03-15T11:14:41.729737Z"
    }
   },
   "source": [
    "## Q1-2"
   ]
  },
  {
   "cell_type": "code",
   "execution_count": 5,
   "id": "b24911ea",
   "metadata": {
    "ExecuteTime": {
     "end_time": "2022-03-15T11:00:11.795122Z",
     "start_time": "2022-03-15T11:00:11.777133Z"
    }
   },
   "outputs": [],
   "source": [
    "# 2. TV, Radio, Social Media 등 세 가지 다른 마케팅 채널의 예산과 매출액과의 상관분석을\n",
    "# 통하여 각 채널이 매출에 어느 정도 연관이 있는지 알아보고자 한다. \n",
    "# - 매출액과 가장 강한 상관관계를 가지고 있는 채널의 상관계수를 소수점 5번째\n",
    "# 자리에서 반올림하여 소수점 넷째 자리까지 기술하시오. (답안 예시) 0.1234"
   ]
  },
  {
   "cell_type": "code",
   "execution_count": 18,
   "id": "a461bdbe",
   "metadata": {
    "ExecuteTime": {
     "end_time": "2022-03-15T11:07:00.767115Z",
     "start_time": "2022-03-15T11:07:00.742130Z"
    }
   },
   "outputs": [
    {
     "data": {
      "text/html": [
       "<div>\n",
       "<style scoped>\n",
       "    .dataframe tbody tr th:only-of-type {\n",
       "        vertical-align: middle;\n",
       "    }\n",
       "\n",
       "    .dataframe tbody tr th {\n",
       "        vertical-align: top;\n",
       "    }\n",
       "\n",
       "    .dataframe thead th {\n",
       "        text-align: right;\n",
       "    }\n",
       "</style>\n",
       "<table border=\"1\" class=\"dataframe\">\n",
       "  <thead>\n",
       "    <tr style=\"text-align: right;\">\n",
       "      <th></th>\n",
       "      <th>TV</th>\n",
       "      <th>Radio</th>\n",
       "      <th>Social_Media</th>\n",
       "      <th>Sales</th>\n",
       "    </tr>\n",
       "  </thead>\n",
       "  <tbody>\n",
       "    <tr>\n",
       "      <th>TV</th>\n",
       "      <td>1.000000</td>\n",
       "      <td>0.869460</td>\n",
       "      <td>0.528168</td>\n",
       "      <td>0.999497</td>\n",
       "    </tr>\n",
       "    <tr>\n",
       "      <th>Radio</th>\n",
       "      <td>0.869460</td>\n",
       "      <td>1.000000</td>\n",
       "      <td>0.607452</td>\n",
       "      <td>0.869105</td>\n",
       "    </tr>\n",
       "    <tr>\n",
       "      <th>Social_Media</th>\n",
       "      <td>0.528168</td>\n",
       "      <td>0.607452</td>\n",
       "      <td>1.000000</td>\n",
       "      <td>0.528906</td>\n",
       "    </tr>\n",
       "    <tr>\n",
       "      <th>Sales</th>\n",
       "      <td>0.999497</td>\n",
       "      <td>0.869105</td>\n",
       "      <td>0.528906</td>\n",
       "      <td>1.000000</td>\n",
       "    </tr>\n",
       "  </tbody>\n",
       "</table>\n",
       "</div>"
      ],
      "text/plain": [
       "                    TV     Radio  Social_Media     Sales\n",
       "TV            1.000000  0.869460      0.528168  0.999497\n",
       "Radio         0.869460  1.000000      0.607452  0.869105\n",
       "Social_Media  0.528168  0.607452      1.000000  0.528906\n",
       "Sales         0.999497  0.869105      0.528906  1.000000"
      ]
     },
     "execution_count": 18,
     "metadata": {},
     "output_type": "execute_result"
    }
   ],
   "source": [
    "q2 = data.drop('Influencer', axis=1)\n",
    "q2.corr()"
   ]
  },
  {
   "cell_type": "markdown",
   "id": "ebf9b60d",
   "metadata": {
    "ExecuteTime": {
     "end_time": "2022-03-15T11:14:51.232558Z",
     "start_time": "2022-03-15T11:14:51.226561Z"
    }
   },
   "source": [
    "## Q1-3"
   ]
  },
  {
   "cell_type": "code",
   "execution_count": null,
   "id": "7ff569a2",
   "metadata": {},
   "outputs": [],
   "source": [
    "# 3. 매출액을 종속변수, TV, Radio, Social Media의 예산을 독립변수로 하여 회귀분석을\n",
    "# 수행하였을 때, 세 개의 독립변수의 회귀계수를 큰 것에서부터 작은 것 순으로\n",
    "# 기술하시오. \n",
    "# - 분석 시 결측치가 포함된 행은 제거한 후 진행하며, 회귀계수는 소수점 넷째 자리\n",
    "# 이하는 버리고 소수점 셋째 자리까지 기술하시오. (답안 예시) 0.123"
   ]
  },
  {
   "cell_type": "code",
   "execution_count": 20,
   "id": "94dffda6",
   "metadata": {
    "ExecuteTime": {
     "end_time": "2022-03-15T11:11:38.801904Z",
     "start_time": "2022-03-15T11:11:38.531734Z"
    }
   },
   "outputs": [
    {
     "data": {
      "text/plain": [
       "array([ 3.56256963, -0.00397039,  0.00496402])"
      ]
     },
     "execution_count": 20,
     "metadata": {},
     "output_type": "execute_result"
    }
   ],
   "source": [
    "from sklearn.linear_model import LinearRegression\n",
    "q3 = data.dropna()\n",
    "lr = LinearRegression()\n",
    "lr.fit(q3[['TV','Radio','Social_Media']], q3['Sales'])\n",
    "lr.coef_"
   ]
  },
  {
   "cell_type": "markdown",
   "id": "0d4ec619",
   "metadata": {
    "ExecuteTime": {
     "end_time": "2022-03-15T11:14:24.874899Z",
     "start_time": "2022-03-15T11:14:24.856910Z"
    }
   },
   "source": [
    "# Q2"
   ]
  },
  {
   "cell_type": "code",
   "execution_count": 25,
   "id": "2defcdd2",
   "metadata": {
    "ExecuteTime": {
     "end_time": "2022-03-15T11:15:08.170810Z",
     "start_time": "2022-03-15T11:15:08.153820Z"
    }
   },
   "outputs": [],
   "source": [
    "# # 문제 02 유형(DataSet_02.csv 이용)\n",
    "# 구분자 : comma(“,”), 200 Rows, 6 Columns, UTF-8 인코딩\n",
    "\n",
    "# 환자의 상태와 그에 따라 처방된 약에 대한 정보를 분석하고자한다\n",
    "# \n",
    "# 컬 럼 / 정 의  / Type\n",
    "# Age  / 연령 / Integer\n",
    "# Sex / 성별 / String\n",
    "# BP / 혈압 레벨 / String\n",
    "# Cholesterol / 콜레스테롤 레벨 /  String\n",
    "# Na_to_k / 혈액 내 칼륨에 대비한 나트륨 비율 / Double\n",
    "# Drug / Drug Type / String"
   ]
  },
  {
   "cell_type": "code",
   "execution_count": 53,
   "id": "200679c8",
   "metadata": {
    "ExecuteTime": {
     "end_time": "2022-03-15T11:42:04.488313Z",
     "start_time": "2022-03-15T11:42:04.467326Z"
    }
   },
   "outputs": [
    {
     "name": "stdout",
     "output_type": "stream",
     "text": [
      "<class 'pandas.core.frame.DataFrame'>\n",
      "RangeIndex: 200 entries, 0 to 199\n",
      "Data columns (total 6 columns):\n",
      " #   Column       Non-Null Count  Dtype  \n",
      "---  ------       --------------  -----  \n",
      " 0   Age          200 non-null    int64  \n",
      " 1   Sex          200 non-null    object \n",
      " 2   BP           200 non-null    object \n",
      " 3   Cholesterol  200 non-null    object \n",
      " 4   Na_to_K      200 non-null    float64\n",
      " 5   Drug         200 non-null    object \n",
      "dtypes: float64(1), int64(1), object(4)\n",
      "memory usage: 9.5+ KB\n"
     ]
    }
   ],
   "source": [
    "import pandas as pd\n",
    "import numpy as np\n",
    "data = pd.read_csv('e:/Git_private_dodo_Riley/laptop_desktop/Code_SJH/proDS_특강/data/Dataset_02.csv')\n",
    "data.info()"
   ]
  },
  {
   "cell_type": "markdown",
   "id": "55b931e7",
   "metadata": {
    "ExecuteTime": {
     "end_time": "2022-03-15T11:15:40.530190Z",
     "start_time": "2022-03-15T11:15:40.520197Z"
    }
   },
   "source": [
    "## Q2-1"
   ]
  },
  {
   "cell_type": "code",
   "execution_count": 28,
   "id": "95af72bc",
   "metadata": {
    "ExecuteTime": {
     "end_time": "2022-03-15T11:16:38.760074Z",
     "start_time": "2022-03-15T11:16:38.745084Z"
    }
   },
   "outputs": [
    {
     "data": {
      "text/html": [
       "<div>\n",
       "<style scoped>\n",
       "    .dataframe tbody tr th:only-of-type {\n",
       "        vertical-align: middle;\n",
       "    }\n",
       "\n",
       "    .dataframe tbody tr th {\n",
       "        vertical-align: top;\n",
       "    }\n",
       "\n",
       "    .dataframe thead th {\n",
       "        text-align: right;\n",
       "    }\n",
       "</style>\n",
       "<table border=\"1\" class=\"dataframe\">\n",
       "  <thead>\n",
       "    <tr style=\"text-align: right;\">\n",
       "      <th></th>\n",
       "      <th>Age</th>\n",
       "      <th>Sex</th>\n",
       "      <th>BP</th>\n",
       "      <th>Cholesterol</th>\n",
       "      <th>Na_to_K</th>\n",
       "      <th>Drug</th>\n",
       "    </tr>\n",
       "  </thead>\n",
       "  <tbody>\n",
       "    <tr>\n",
       "      <th>0</th>\n",
       "      <td>23</td>\n",
       "      <td>F</td>\n",
       "      <td>HIGH</td>\n",
       "      <td>HIGH</td>\n",
       "      <td>25.355</td>\n",
       "      <td>DrugY</td>\n",
       "    </tr>\n",
       "    <tr>\n",
       "      <th>1</th>\n",
       "      <td>47</td>\n",
       "      <td>M</td>\n",
       "      <td>LOW</td>\n",
       "      <td>HIGH</td>\n",
       "      <td>13.093</td>\n",
       "      <td>drugC</td>\n",
       "    </tr>\n",
       "    <tr>\n",
       "      <th>2</th>\n",
       "      <td>47</td>\n",
       "      <td>M</td>\n",
       "      <td>LOW</td>\n",
       "      <td>HIGH</td>\n",
       "      <td>10.114</td>\n",
       "      <td>drugC</td>\n",
       "    </tr>\n",
       "    <tr>\n",
       "      <th>3</th>\n",
       "      <td>28</td>\n",
       "      <td>F</td>\n",
       "      <td>NORMAL</td>\n",
       "      <td>HIGH</td>\n",
       "      <td>7.798</td>\n",
       "      <td>drugX</td>\n",
       "    </tr>\n",
       "    <tr>\n",
       "      <th>4</th>\n",
       "      <td>61</td>\n",
       "      <td>F</td>\n",
       "      <td>LOW</td>\n",
       "      <td>HIGH</td>\n",
       "      <td>18.043</td>\n",
       "      <td>DrugY</td>\n",
       "    </tr>\n",
       "  </tbody>\n",
       "</table>\n",
       "</div>"
      ],
      "text/plain": [
       "   Age Sex      BP Cholesterol  Na_to_K   Drug\n",
       "0   23   F    HIGH        HIGH   25.355  DrugY\n",
       "1   47   M     LOW        HIGH   13.093  drugC\n",
       "2   47   M     LOW        HIGH   10.114  drugC\n",
       "3   28   F  NORMAL        HIGH    7.798  drugX\n",
       "4   61   F     LOW        HIGH   18.043  DrugY"
      ]
     },
     "execution_count": 28,
     "metadata": {},
     "output_type": "execute_result"
    }
   ],
   "source": [
    "# 1.해당 데이터에 대한 EDA를 수행하고, 여성으로 혈압이 High, Cholesterol이 Normal인\n",
    "# 환자의 전체에 대비한 비율이 얼마인지 소수점 네 번째 자리에서 반올림하여 소수점 셋째\n",
    "# 자리까지 기술하시오. (답안 예시) 0.123\n",
    "data.head()"
   ]
  },
  {
   "cell_type": "code",
   "execution_count": 40,
   "id": "a737f71b",
   "metadata": {
    "ExecuteTime": {
     "end_time": "2022-03-15T11:22:40.199006Z",
     "start_time": "2022-03-15T11:22:40.182018Z"
    }
   },
   "outputs": [
    {
     "data": {
      "text/plain": [
       "array(['HIGH', 'NORMAL'], dtype=object)"
      ]
     },
     "execution_count": 40,
     "metadata": {},
     "output_type": "execute_result"
    }
   ],
   "source": [
    "data.Cholesterol.unique()"
   ]
  },
  {
   "cell_type": "code",
   "execution_count": 43,
   "id": "b0e526ae",
   "metadata": {
    "ExecuteTime": {
     "end_time": "2022-03-15T11:23:08.819752Z",
     "start_time": "2022-03-15T11:23:08.805761Z"
    }
   },
   "outputs": [
    {
     "data": {
      "text/plain": [
       "0.105"
      ]
     },
     "execution_count": 43,
     "metadata": {},
     "output_type": "execute_result"
    }
   ],
   "source": [
    "a1 = len(data[(data['Sex']=='F')&(data['Cholesterol']=='NORMAL')&(data['BP']=='HIGH')])\n",
    "a2 = len(data)\n",
    "round(a1/a2,4)"
   ]
  },
  {
   "cell_type": "markdown",
   "id": "33a75659",
   "metadata": {
    "ExecuteTime": {
     "end_time": "2022-03-15T11:51:13.850435Z",
     "start_time": "2022-03-15T11:51:13.839443Z"
    }
   },
   "source": [
    "## Q2-2"
   ]
  },
  {
   "cell_type": "code",
   "execution_count": null,
   "id": "781dd0a1",
   "metadata": {},
   "outputs": [],
   "source": [
    "# 2. Age, Sex, BP, Cholesterol 및 Na_to_k 값이 Drug 타입에 영향을 미치는지 확인하기\n",
    "# 위하여 아래와 같이 데이터를 변환하고 분석을 수행하시오. \n",
    "# - Age_gr 컬럼을 만들고, Age가 20 미만은 ‘10’, 20부터 30 미만은 ‘20’, 30부터 40 미만은\n",
    "# ‘30’, 40부터 50 미만은 ‘40’, 50부터 60 미만은 ‘50’, 60이상은 ‘60’으로 변환하시오. \n",
    "# - Na_K_gr 컬럼을 만들고 Na_to_k 값이 10이하는 ‘Lv1’, 20이하는 ‘Lv2’, 30이하는 ‘Lv3’, 30 \n",
    "# 초과는 ‘Lv4’로 변환하시오.\n",
    "# - Sex, BP, Cholesterol, Age_gr, Na_K_gr이 Drug 변수와 영향이 있는지 독립성 검정을\n",
    "# 수행하시오.\n",
    "# - 검정 수행 결과, Drug 타입과 연관성이 있는 변수는 몇 개인가? 연관성이 있는 변수\n",
    "# 가운데 가장 큰 p-value를 찾아 소수점 여섯 번째 자리 이하는 버리고 소수점 다섯\n",
    "# 번째 자리까지 기술하시오.\n",
    "# (답안 예시) 3, 1.23456"
   ]
  },
  {
   "cell_type": "code",
   "execution_count": 49,
   "id": "f1fd72c6",
   "metadata": {
    "ExecuteTime": {
     "end_time": "2022-03-15T11:37:53.231429Z",
     "start_time": "2022-03-15T11:37:53.150815Z"
    }
   },
   "outputs": [
    {
     "data": {
      "text/plain": [
       "[['Sex', 2.119248418109203, 0.7138369773987128],\n",
       " ['BP', 143.2328718496999, 5.0417334144665895e-27],\n",
       " ['Cholesterol', 19.609657681313475, 0.0005962588389856497],\n",
       " ['Age_gr', 46.440652324723914, 0.0007010113024729462],\n",
       " ['Na_K_gr', 93.31006327437028, 1.1254641594413981e-14]]"
      ]
     },
     "execution_count": 49,
     "metadata": {},
     "output_type": "execute_result"
    }
   ],
   "source": [
    "q2 = data.copy()\n",
    "q2['Age_gr']=np.where(q2.Age < 20, 10, \n",
    "                np.where(q2.Age < 30, 20,\n",
    "                   np.where(q2.Age < 40, 30,\n",
    "                      np.where(q2.Age < 50, 40, \n",
    "                         np.where(q2.Age < 60, 50, 60)))))\n",
    "\n",
    "q2['Na_K_gr']=np.where(q2.Na_to_K <= 10, 'Lv1',\n",
    "                 np.where(q2.Na_to_K <= 20, 'Lv2',\n",
    "                    np.where(q2.Na_to_K <= 30, 'Lv3', 'Lv4')))  \n",
    "\n",
    "# 독립성 검정 > 카이제곱 검정 > 교차표 필요\n",
    "from scipy.stats import chi2_contingency\n",
    "var_list=['Sex', 'BP', 'Cholesterol', 'Age_gr', 'Na_K_gr']\n",
    "result = []\n",
    "for i in var_list:\n",
    "    temp = pd.crosstab(index=data[i], columns=data['Drug'])\n",
    "    out = chi2_contingency(temp)\n",
    "    chi2, pvalue = out[0], out[1]\n",
    "    result.append([i,chi2,pvalue])\n",
    "    \n",
    "result"
   ]
  },
  {
   "cell_type": "markdown",
   "id": "d03c007e",
   "metadata": {
    "ExecuteTime": {
     "end_time": "2022-03-15T11:51:33.133699Z",
     "start_time": "2022-03-15T11:51:33.126703Z"
    }
   },
   "source": [
    "## Q2-3"
   ]
  },
  {
   "cell_type": "code",
   "execution_count": 51,
   "id": "6ea86dc2",
   "metadata": {
    "ExecuteTime": {
     "end_time": "2022-03-15T11:39:06.559862Z",
     "start_time": "2022-03-15T11:39:06.551867Z"
    }
   },
   "outputs": [],
   "source": [
    "# 3.Sex, BP, Cholesterol 등 세 개의 변수를 다음과 같이 변환하고 의사결정나무를 이용한\n",
    "# 분석을 수행하시오.\n",
    "# - Sex는 M을 0, F를 1로 변환하여 Sex_cd 변수 생성\n",
    "# - BP는 LOW는 0, NORMAL은 1 그리고 HIGH는 2로 변환하여 BP_cd 변수 생성\n",
    "# - Cholesterol은 NORMAL은 0, HIGH는 1로 변환하여 Ch_cd 생성\n",
    "# - Age, Na_to_k, Sex_cd, BP_cd, Ch_cd를 Feature로, Drug을 Label로 하여 의사결정나무를\n",
    "# 수행하고 Root Node의 split feature와 split value를 기술하시오. \n",
    "# 이 때 split value는 소수점 셋째 자리까지 반올림하여 기술하시오. (답안 예시) Age, \n",
    "# 12.345"
   ]
  },
  {
   "cell_type": "code",
   "execution_count": 63,
   "id": "15c623fa",
   "metadata": {
    "ExecuteTime": {
     "end_time": "2022-03-15T11:50:47.702523Z",
     "start_time": "2022-03-15T11:50:46.934985Z"
    }
   },
   "outputs": [
    {
     "data": {
      "text/plain": [
       "[Text(223.20000000000002, 195.696, 'X[1] <= 14.8285\\ngini = 0.69405\\nsamples = 200\\nvalue = [91, 23, 16, 16, 54]'),\n",
       " Text(186.0, 152.208, 'X[3] <= 1.5\\ngini = 0.66695\\nsamples = 109\\nvalue = [0, 23, 16, 16, 54]'),\n",
       " Text(111.60000000000001, 108.72, 'X[3] <= 0.5\\ngini = 0.35265\\nsamples = 70\\nvalue = [0, 0, 0, 16, 54]'),\n",
       " Text(74.4, 65.232, 'X[4] <= 0.5\\ngini = 0.49827\\nsamples = 34\\nvalue = [0, 0, 0, 16, 18]'),\n",
       " Text(37.2, 21.744, 'gini = 0.0\\nsamples = 18\\nvalue = [0, 0, 0, 0, 18]'),\n",
       " Text(111.60000000000001, 21.744, 'gini = 0.0\\nsamples = 16\\nvalue = [0, 0, 0, 16, 0]'),\n",
       " Text(148.8, 65.232, 'gini = 0.0\\nsamples = 36\\nvalue = [0, 0, 0, 0, 36]'),\n",
       " Text(260.40000000000003, 108.72, 'X[0] <= 50.5\\ngini = 0.48389\\nsamples = 39\\nvalue = [0, 23, 16, 0, 0]'),\n",
       " Text(223.20000000000002, 65.232, 'gini = 0.0\\nsamples = 23\\nvalue = [0, 23, 0, 0, 0]'),\n",
       " Text(297.6, 65.232, 'gini = 0.0\\nsamples = 16\\nvalue = [0, 0, 16, 0, 0]'),\n",
       " Text(260.40000000000003, 152.208, 'gini = 0.0\\nsamples = 91\\nvalue = [91, 0, 0, 0, 0]')]"
      ]
     },
     "execution_count": 63,
     "metadata": {},
     "output_type": "execute_result"
    },
    {
     "data": {
      "image/png": "[encoded data removed]",
      "text/plain": [
       "<Figure size 432x288 with 1 Axes>"
      ]
     },
     "metadata": {
      "needs_background": "light"
     },
     "output_type": "display_data"
    }
   ],
   "source": [
    "from sklearn.tree import DecisionTreeClassifier, plot_tree\n",
    "\n",
    "q3 = data.copy()\n",
    "q3['Sex_cd']=np.where(q3.Sex=='M',0,1)\n",
    "q3['BP_cd']=np.where(q3.BP=='LOW',0,\n",
    "                    np.where(q3.BP=='NORMAL',1,2))\n",
    "q3['Ch_cd']=np.where(q3.Cholesterol=='NORMAL',0,1)\n",
    "\n",
    "X = q3[['Age', 'Na_to_K', 'Sex_cd', 'BP_cd', 'Ch_cd']]\n",
    "y = q3.Drug\n",
    "\n",
    "model = DecisionTreeClassifier()\n",
    "dt = model.fit(X,y)\n",
    "plot_tree(dt,precision=5)"
   ]
  }
 ],
 "metadata": {
  "kernelspec": {
   "display_name": "Python 3 (ipykernel)",
   "language": "python",
   "name": "python3"
  },
  "language_info": {
   "codemirror_mode": {
    "name": "ipython",
    "version": 3
   },
   "file_extension": ".py",
   "mimetype": "text/x-python",
   "name": "python",
   "nbconvert_exporter": "python",
   "pygments_lexer": "ipython3",
   "version": "3.9.7"
  },
  "latex_envs": {
   "LaTeX_envs_menu_present": true,
   "autoclose": false,
   "autocomplete": true,
   "bibliofile": "biblio.bib",
   "cite_by": "apalike",
   "current_citInitial": 1,
   "eqLabelWithNumbers": true,
   "eqNumInitial": 1,
   "hotkeys": {
    "equation": "Ctrl-E",
    "itemize": "Ctrl-I"
   },
   "labels_anchors": false,
   "latex_user_defs": false,
   "report_style_numbering": false,
   "user_envs_cfg": false
  },
  "toc": {
   "base_numbering": 1,
   "nav_menu": {},
   "number_sections": true,
   "sideBar": true,
   "skip_h1_title": false,
   "title_cell": "Table of Contents",
   "title_sidebar": "Contents",
   "toc_cell": false,
   "toc_position": {},
   "toc_section_display": true,
   "toc_window_display": true
  },
  "varInspector": {
   "cols": {
    "lenName": 16,
    "lenType": 16,
    "lenVar": 40
   },
   "kernels_config": {
    "python": {
     "delete_cmd_postfix": "",
     "delete_cmd_prefix": "del ",
     "library": "var_list.py",
     "varRefreshCmd": "print(var_dic_list())"
    },
    "r": {
     "delete_cmd_postfix": ") ",
     "delete_cmd_prefix": "rm(",
     "library": "var_list.r",
     "varRefreshCmd": "cat(var_dic_list()) "
    }
   },
   "types_to_exclude": [
    "module",
    "function",
    "builtin_function_or_method",
    "instance",
    "_Feature"
   ],
   "window_display": false
  }
 },
 "nbformat": 4,
 "nbformat_minor": 5
}
